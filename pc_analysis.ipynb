{
  "nbformat": 4,
  "nbformat_minor": 0,
  "metadata": {
    "colab": {
      "provenance": [],
      "authorship_tag": "ABX9TyNZQSxXf6y73TucdVTpjKJK",
      "include_colab_link": true
    },
    "kernelspec": {
      "name": "python3",
      "display_name": "Python 3"
    },
    "language_info": {
      "name": "python"
    },
    "gpuClass": "premium"
  },
  "cells": [
    {
      "cell_type": "markdown",
      "metadata": {
        "id": "view-in-github",
        "colab_type": "text"
      },
      "source": [
        "<a href=\"https://colab.research.google.com/github/bvanitsthian/photocircle_nlp/blob/main/pc_analysis.ipynb\" target=\"_parent\"><img src=\"https://colab.research.google.com/assets/colab-badge.svg\" alt=\"Open In Colab\"/></a>"
      ]
    },
    {
      "cell_type": "markdown",
      "source": [
        "#**Import libraries and connect to Google Drive**"
      ],
      "metadata": {
        "id": "_KyQ3fk6Ff0M"
      }
    },
    {
      "cell_type": "code",
      "execution_count": null,
      "metadata": {
        "id": "5pC7Y4tbGksA"
      },
      "outputs": [],
      "source": [
        "import pandas as pd"
      ]
    },
    {
      "cell_type": "code",
      "source": [
        "from google.colab import drive\n",
        "drive.mount('/content/drive')"
      ],
      "metadata": {
        "colab": {
          "base_uri": "https://localhost:8080/"
        },
        "id": "ZI9qVEidGr8D",
        "outputId": "7f40aed9-817c-4e57-8adc-18dd08168520"
      },
      "execution_count": null,
      "outputs": [
        {
          "output_type": "stream",
          "name": "stdout",
          "text": [
            "Mounted at /content/drive\n"
          ]
        }
      ]
    },
    {
      "cell_type": "markdown",
      "source": [
        "#**Read in merged dataset with tags**"
      ],
      "metadata": {
        "id": "BHn8rKBhFnNw"
      }
    },
    {
      "cell_type": "code",
      "source": [
        "data = pd.read_csv('/content/drive/MyDrive/data.csv')"
      ],
      "metadata": {
        "id": "n8kx-706G5Ql"
      },
      "execution_count": null,
      "outputs": []
    },
    {
      "cell_type": "code",
      "source": [
        "data.head()"
      ],
      "metadata": {
        "colab": {
          "base_uri": "https://localhost:8080/",
          "height": 552
        },
        "id": "fFPDkWgMIWvu",
        "outputId": "6d5e336b-89c2-4696-b9d7-e68adf2b4deb"
      },
      "execution_count": null,
      "outputs": [
        {
          "output_type": "execute_result",
          "data": {
            "text/plain": [
              "                            circle_uuid                             user_uuid  \\\n",
              "0  00005962-836d-d551-c07b-5c2040500002  00000000-575c-c42a-d551-c018b1942652   \n",
              "1  00005bfc-e475-d551-c026-3d658eab0002  4d4f4f68-feff-4490-bd45-ae90ba4acdbf   \n",
              "2  55a82813-15c0-4faf-897d-d04803036af0  c31e9b29-bf13-4493-a017-54d531d51d7b   \n",
              "3  0000594a-f3f4-d551-c011-88e3b4ad0002  00000000-594a-f5ce-d551-c01188e3c8cb   \n",
              "4  fc66e54c-8e12-4387-9579-be35b6f3d8ab  eebe45c6-66fb-4e86-9f39-c55f55d98c95   \n",
              "\n",
              "   media_added_count_x                  title  media_count has_greek_words  \\\n",
              "0                   96  Georgia Jean Williams        160.0           False   \n",
              "1                    6              Tri Delta      12235.0            True   \n",
              "2                   31             Vegas 2022         31.0           False   \n",
              "3                    8                   WALK        587.0           False   \n",
              "4                   72        ❤ Eric Hazen  ❤        466.0           False   \n",
              "\n",
              "  real_estate_keywords is_real_estate solar_keywords is_solar  ...  \\\n",
              "0                   []          False             []    False  ...   \n",
              "1                   []          False             []    False  ...   \n",
              "2                   []          False             []    False  ...   \n",
              "3                   []          False             []    False  ...   \n",
              "4                   []          False             []    False  ...   \n",
              "\n",
              "  is_location     display_name              email_domain  \\\n",
              "0       False  Darwin Williams              stthomas.edu   \n",
              "1       False    tara ghimenti                 gmail.com   \n",
              "2       False     Brenda Yorks  privaterelay.appleid.com   \n",
              "3       False  Rebekah Farnham                 gmail.com   \n",
              "4       False            Cindy                  live.com   \n",
              "\n",
              "  active_count_in_last_30_days media_added_count_y first_name num_female  \\\n",
              "0                          6.0                15.0     Darwin       83.0   \n",
              "1                          0.0                 0.0       tara        0.0   \n",
              "2                          0.0                 0.0     Brenda   607096.0   \n",
              "3                          0.0                 0.0    Rebekah    73511.0   \n",
              "4                          0.0                 0.0      Cindy   256399.0   \n",
              "\n",
              "  num_male female_pct is_student  \n",
              "0  24680.0       0.34       True  \n",
              "1      0.0      50.00      False  \n",
              "2   2121.0      99.65      False  \n",
              "3    119.0      99.84      False  \n",
              "4    770.0      99.70      False  \n",
              "\n",
              "[5 rows x 29 columns]"
            ],
            "text/html": [
              "\n",
              "  <div id=\"df-75b5a20a-ac98-417d-8541-704076a92862\">\n",
              "    <div class=\"colab-df-container\">\n",
              "      <div>\n",
              "<style scoped>\n",
              "    .dataframe tbody tr th:only-of-type {\n",
              "        vertical-align: middle;\n",
              "    }\n",
              "\n",
              "    .dataframe tbody tr th {\n",
              "        vertical-align: top;\n",
              "    }\n",
              "\n",
              "    .dataframe thead th {\n",
              "        text-align: right;\n",
              "    }\n",
              "</style>\n",
              "<table border=\"1\" class=\"dataframe\">\n",
              "  <thead>\n",
              "    <tr style=\"text-align: right;\">\n",
              "      <th></th>\n",
              "      <th>circle_uuid</th>\n",
              "      <th>user_uuid</th>\n",
              "      <th>media_added_count_x</th>\n",
              "      <th>title</th>\n",
              "      <th>media_count</th>\n",
              "      <th>has_greek_words</th>\n",
              "      <th>real_estate_keywords</th>\n",
              "      <th>is_real_estate</th>\n",
              "      <th>solar_keywords</th>\n",
              "      <th>is_solar</th>\n",
              "      <th>...</th>\n",
              "      <th>is_location</th>\n",
              "      <th>display_name</th>\n",
              "      <th>email_domain</th>\n",
              "      <th>active_count_in_last_30_days</th>\n",
              "      <th>media_added_count_y</th>\n",
              "      <th>first_name</th>\n",
              "      <th>num_female</th>\n",
              "      <th>num_male</th>\n",
              "      <th>female_pct</th>\n",
              "      <th>is_student</th>\n",
              "    </tr>\n",
              "  </thead>\n",
              "  <tbody>\n",
              "    <tr>\n",
              "      <th>0</th>\n",
              "      <td>00005962-836d-d551-c07b-5c2040500002</td>\n",
              "      <td>00000000-575c-c42a-d551-c018b1942652</td>\n",
              "      <td>96</td>\n",
              "      <td>Georgia Jean Williams</td>\n",
              "      <td>160.0</td>\n",
              "      <td>False</td>\n",
              "      <td>[]</td>\n",
              "      <td>False</td>\n",
              "      <td>[]</td>\n",
              "      <td>False</td>\n",
              "      <td>...</td>\n",
              "      <td>False</td>\n",
              "      <td>Darwin Williams</td>\n",
              "      <td>stthomas.edu</td>\n",
              "      <td>6.0</td>\n",
              "      <td>15.0</td>\n",
              "      <td>Darwin</td>\n",
              "      <td>83.0</td>\n",
              "      <td>24680.0</td>\n",
              "      <td>0.34</td>\n",
              "      <td>True</td>\n",
              "    </tr>\n",
              "    <tr>\n",
              "      <th>1</th>\n",
              "      <td>00005bfc-e475-d551-c026-3d658eab0002</td>\n",
              "      <td>4d4f4f68-feff-4490-bd45-ae90ba4acdbf</td>\n",
              "      <td>6</td>\n",
              "      <td>Tri Delta</td>\n",
              "      <td>12235.0</td>\n",
              "      <td>True</td>\n",
              "      <td>[]</td>\n",
              "      <td>False</td>\n",
              "      <td>[]</td>\n",
              "      <td>False</td>\n",
              "      <td>...</td>\n",
              "      <td>False</td>\n",
              "      <td>tara ghimenti</td>\n",
              "      <td>gmail.com</td>\n",
              "      <td>0.0</td>\n",
              "      <td>0.0</td>\n",
              "      <td>tara</td>\n",
              "      <td>0.0</td>\n",
              "      <td>0.0</td>\n",
              "      <td>50.00</td>\n",
              "      <td>False</td>\n",
              "    </tr>\n",
              "    <tr>\n",
              "      <th>2</th>\n",
              "      <td>55a82813-15c0-4faf-897d-d04803036af0</td>\n",
              "      <td>c31e9b29-bf13-4493-a017-54d531d51d7b</td>\n",
              "      <td>31</td>\n",
              "      <td>Vegas 2022</td>\n",
              "      <td>31.0</td>\n",
              "      <td>False</td>\n",
              "      <td>[]</td>\n",
              "      <td>False</td>\n",
              "      <td>[]</td>\n",
              "      <td>False</td>\n",
              "      <td>...</td>\n",
              "      <td>False</td>\n",
              "      <td>Brenda Yorks</td>\n",
              "      <td>privaterelay.appleid.com</td>\n",
              "      <td>0.0</td>\n",
              "      <td>0.0</td>\n",
              "      <td>Brenda</td>\n",
              "      <td>607096.0</td>\n",
              "      <td>2121.0</td>\n",
              "      <td>99.65</td>\n",
              "      <td>False</td>\n",
              "    </tr>\n",
              "    <tr>\n",
              "      <th>3</th>\n",
              "      <td>0000594a-f3f4-d551-c011-88e3b4ad0002</td>\n",
              "      <td>00000000-594a-f5ce-d551-c01188e3c8cb</td>\n",
              "      <td>8</td>\n",
              "      <td>WALK</td>\n",
              "      <td>587.0</td>\n",
              "      <td>False</td>\n",
              "      <td>[]</td>\n",
              "      <td>False</td>\n",
              "      <td>[]</td>\n",
              "      <td>False</td>\n",
              "      <td>...</td>\n",
              "      <td>False</td>\n",
              "      <td>Rebekah Farnham</td>\n",
              "      <td>gmail.com</td>\n",
              "      <td>0.0</td>\n",
              "      <td>0.0</td>\n",
              "      <td>Rebekah</td>\n",
              "      <td>73511.0</td>\n",
              "      <td>119.0</td>\n",
              "      <td>99.84</td>\n",
              "      <td>False</td>\n",
              "    </tr>\n",
              "    <tr>\n",
              "      <th>4</th>\n",
              "      <td>fc66e54c-8e12-4387-9579-be35b6f3d8ab</td>\n",
              "      <td>eebe45c6-66fb-4e86-9f39-c55f55d98c95</td>\n",
              "      <td>72</td>\n",
              "      <td>❤ Eric Hazen  ❤</td>\n",
              "      <td>466.0</td>\n",
              "      <td>False</td>\n",
              "      <td>[]</td>\n",
              "      <td>False</td>\n",
              "      <td>[]</td>\n",
              "      <td>False</td>\n",
              "      <td>...</td>\n",
              "      <td>False</td>\n",
              "      <td>Cindy</td>\n",
              "      <td>live.com</td>\n",
              "      <td>0.0</td>\n",
              "      <td>0.0</td>\n",
              "      <td>Cindy</td>\n",
              "      <td>256399.0</td>\n",
              "      <td>770.0</td>\n",
              "      <td>99.70</td>\n",
              "      <td>False</td>\n",
              "    </tr>\n",
              "  </tbody>\n",
              "</table>\n",
              "<p>5 rows × 29 columns</p>\n",
              "</div>\n",
              "      <button class=\"colab-df-convert\" onclick=\"convertToInteractive('df-75b5a20a-ac98-417d-8541-704076a92862')\"\n",
              "              title=\"Convert this dataframe to an interactive table.\"\n",
              "              style=\"display:none;\">\n",
              "        \n",
              "  <svg xmlns=\"http://www.w3.org/2000/svg\" height=\"24px\"viewBox=\"0 0 24 24\"\n",
              "       width=\"24px\">\n",
              "    <path d=\"M0 0h24v24H0V0z\" fill=\"none\"/>\n",
              "    <path d=\"M18.56 5.44l.94 2.06.94-2.06 2.06-.94-2.06-.94-.94-2.06-.94 2.06-2.06.94zm-11 1L8.5 8.5l.94-2.06 2.06-.94-2.06-.94L8.5 2.5l-.94 2.06-2.06.94zm10 10l.94 2.06.94-2.06 2.06-.94-2.06-.94-.94-2.06-.94 2.06-2.06.94z\"/><path d=\"M17.41 7.96l-1.37-1.37c-.4-.4-.92-.59-1.43-.59-.52 0-1.04.2-1.43.59L10.3 9.45l-7.72 7.72c-.78.78-.78 2.05 0 2.83L4 21.41c.39.39.9.59 1.41.59.51 0 1.02-.2 1.41-.59l7.78-7.78 2.81-2.81c.8-.78.8-2.07 0-2.86zM5.41 20L4 18.59l7.72-7.72 1.47 1.35L5.41 20z\"/>\n",
              "  </svg>\n",
              "      </button>\n",
              "      \n",
              "  <style>\n",
              "    .colab-df-container {\n",
              "      display:flex;\n",
              "      flex-wrap:wrap;\n",
              "      gap: 12px;\n",
              "    }\n",
              "\n",
              "    .colab-df-convert {\n",
              "      background-color: #E8F0FE;\n",
              "      border: none;\n",
              "      border-radius: 50%;\n",
              "      cursor: pointer;\n",
              "      display: none;\n",
              "      fill: #1967D2;\n",
              "      height: 32px;\n",
              "      padding: 0 0 0 0;\n",
              "      width: 32px;\n",
              "    }\n",
              "\n",
              "    .colab-df-convert:hover {\n",
              "      background-color: #E2EBFA;\n",
              "      box-shadow: 0px 1px 2px rgba(60, 64, 67, 0.3), 0px 1px 3px 1px rgba(60, 64, 67, 0.15);\n",
              "      fill: #174EA6;\n",
              "    }\n",
              "\n",
              "    [theme=dark] .colab-df-convert {\n",
              "      background-color: #3B4455;\n",
              "      fill: #D2E3FC;\n",
              "    }\n",
              "\n",
              "    [theme=dark] .colab-df-convert:hover {\n",
              "      background-color: #434B5C;\n",
              "      box-shadow: 0px 1px 3px 1px rgba(0, 0, 0, 0.15);\n",
              "      filter: drop-shadow(0px 1px 2px rgba(0, 0, 0, 0.3));\n",
              "      fill: #FFFFFF;\n",
              "    }\n",
              "  </style>\n",
              "\n",
              "      <script>\n",
              "        const buttonEl =\n",
              "          document.querySelector('#df-75b5a20a-ac98-417d-8541-704076a92862 button.colab-df-convert');\n",
              "        buttonEl.style.display =\n",
              "          google.colab.kernel.accessAllowed ? 'block' : 'none';\n",
              "\n",
              "        async function convertToInteractive(key) {\n",
              "          const element = document.querySelector('#df-75b5a20a-ac98-417d-8541-704076a92862');\n",
              "          const dataTable =\n",
              "            await google.colab.kernel.invokeFunction('convertToInteractive',\n",
              "                                                     [key], {});\n",
              "          if (!dataTable) return;\n",
              "\n",
              "          const docLinkHtml = 'Like what you see? Visit the ' +\n",
              "            '<a target=\"_blank\" href=https://colab.research.google.com/notebooks/data_table.ipynb>data table notebook</a>'\n",
              "            + ' to learn more about interactive tables.';\n",
              "          element.innerHTML = '';\n",
              "          dataTable['output_type'] = 'display_data';\n",
              "          await google.colab.output.renderOutput(dataTable, element);\n",
              "          const docLink = document.createElement('div');\n",
              "          docLink.innerHTML = docLinkHtml;\n",
              "          element.appendChild(docLink);\n",
              "        }\n",
              "      </script>\n",
              "    </div>\n",
              "  </div>\n",
              "  "
            ]
          },
          "metadata": {},
          "execution_count": 4
        }
      ]
    },
    {
      "cell_type": "code",
      "source": [
        "# replace NaN values in tag columns with False\n",
        "data.fillna({'has_greek_words': False, 'is_real_estate': False, \\\n",
        "                    'is_solar': False, 'is_event': False, \\\n",
        "                    'is_occupation': False, 'is_animal': False, \\\n",
        "                    'is_travel': False, 'is_location': False}, inplace=True)"
      ],
      "metadata": {
        "id": "-kJN8eZRiN7x"
      },
      "execution_count": null,
      "outputs": []
    },
    {
      "cell_type": "code",
      "source": [
        "data.head(3)"
      ],
      "metadata": {
        "colab": {
          "base_uri": "https://localhost:8080/",
          "height": 388
        },
        "id": "HLEyGyc0iOHa",
        "outputId": "712b3ae7-f36a-4b6e-ed3c-d5afd17cc0d9"
      },
      "execution_count": null,
      "outputs": [
        {
          "output_type": "execute_result",
          "data": {
            "text/plain": [
              "                            circle_uuid                             user_uuid  \\\n",
              "0  00005962-836d-d551-c07b-5c2040500002  00000000-575c-c42a-d551-c018b1942652   \n",
              "1  00005bfc-e475-d551-c026-3d658eab0002  4d4f4f68-feff-4490-bd45-ae90ba4acdbf   \n",
              "2  55a82813-15c0-4faf-897d-d04803036af0  c31e9b29-bf13-4493-a017-54d531d51d7b   \n",
              "\n",
              "   media_added_count_x                  title  media_count  has_greek_words  \\\n",
              "0                   96  Georgia Jean Williams        160.0            False   \n",
              "1                    6              Tri Delta      12235.0             True   \n",
              "2                   31             Vegas 2022         31.0            False   \n",
              "\n",
              "  real_estate_keywords  is_real_estate solar_keywords  is_solar  ...  \\\n",
              "0                   []           False             []     False  ...   \n",
              "1                   []           False             []     False  ...   \n",
              "2                   []           False             []     False  ...   \n",
              "\n",
              "  is_location     display_name              email_domain  \\\n",
              "0       False  Darwin Williams              stthomas.edu   \n",
              "1       False    tara ghimenti                 gmail.com   \n",
              "2       False     Brenda Yorks  privaterelay.appleid.com   \n",
              "\n",
              "   active_count_in_last_30_days media_added_count_y  first_name num_female  \\\n",
              "0                           6.0                15.0      Darwin       83.0   \n",
              "1                           0.0                 0.0        tara        0.0   \n",
              "2                           0.0                 0.0      Brenda   607096.0   \n",
              "\n",
              "   num_male female_pct  is_student  \n",
              "0   24680.0       0.34        True  \n",
              "1       0.0      50.00       False  \n",
              "2    2121.0      99.65       False  \n",
              "\n",
              "[3 rows x 29 columns]"
            ],
            "text/html": [
              "\n",
              "  <div id=\"df-a42856b9-8dae-4cfd-8d17-09ce3dd10433\">\n",
              "    <div class=\"colab-df-container\">\n",
              "      <div>\n",
              "<style scoped>\n",
              "    .dataframe tbody tr th:only-of-type {\n",
              "        vertical-align: middle;\n",
              "    }\n",
              "\n",
              "    .dataframe tbody tr th {\n",
              "        vertical-align: top;\n",
              "    }\n",
              "\n",
              "    .dataframe thead th {\n",
              "        text-align: right;\n",
              "    }\n",
              "</style>\n",
              "<table border=\"1\" class=\"dataframe\">\n",
              "  <thead>\n",
              "    <tr style=\"text-align: right;\">\n",
              "      <th></th>\n",
              "      <th>circle_uuid</th>\n",
              "      <th>user_uuid</th>\n",
              "      <th>media_added_count_x</th>\n",
              "      <th>title</th>\n",
              "      <th>media_count</th>\n",
              "      <th>has_greek_words</th>\n",
              "      <th>real_estate_keywords</th>\n",
              "      <th>is_real_estate</th>\n",
              "      <th>solar_keywords</th>\n",
              "      <th>is_solar</th>\n",
              "      <th>...</th>\n",
              "      <th>is_location</th>\n",
              "      <th>display_name</th>\n",
              "      <th>email_domain</th>\n",
              "      <th>active_count_in_last_30_days</th>\n",
              "      <th>media_added_count_y</th>\n",
              "      <th>first_name</th>\n",
              "      <th>num_female</th>\n",
              "      <th>num_male</th>\n",
              "      <th>female_pct</th>\n",
              "      <th>is_student</th>\n",
              "    </tr>\n",
              "  </thead>\n",
              "  <tbody>\n",
              "    <tr>\n",
              "      <th>0</th>\n",
              "      <td>00005962-836d-d551-c07b-5c2040500002</td>\n",
              "      <td>00000000-575c-c42a-d551-c018b1942652</td>\n",
              "      <td>96</td>\n",
              "      <td>Georgia Jean Williams</td>\n",
              "      <td>160.0</td>\n",
              "      <td>False</td>\n",
              "      <td>[]</td>\n",
              "      <td>False</td>\n",
              "      <td>[]</td>\n",
              "      <td>False</td>\n",
              "      <td>...</td>\n",
              "      <td>False</td>\n",
              "      <td>Darwin Williams</td>\n",
              "      <td>stthomas.edu</td>\n",
              "      <td>6.0</td>\n",
              "      <td>15.0</td>\n",
              "      <td>Darwin</td>\n",
              "      <td>83.0</td>\n",
              "      <td>24680.0</td>\n",
              "      <td>0.34</td>\n",
              "      <td>True</td>\n",
              "    </tr>\n",
              "    <tr>\n",
              "      <th>1</th>\n",
              "      <td>00005bfc-e475-d551-c026-3d658eab0002</td>\n",
              "      <td>4d4f4f68-feff-4490-bd45-ae90ba4acdbf</td>\n",
              "      <td>6</td>\n",
              "      <td>Tri Delta</td>\n",
              "      <td>12235.0</td>\n",
              "      <td>True</td>\n",
              "      <td>[]</td>\n",
              "      <td>False</td>\n",
              "      <td>[]</td>\n",
              "      <td>False</td>\n",
              "      <td>...</td>\n",
              "      <td>False</td>\n",
              "      <td>tara ghimenti</td>\n",
              "      <td>gmail.com</td>\n",
              "      <td>0.0</td>\n",
              "      <td>0.0</td>\n",
              "      <td>tara</td>\n",
              "      <td>0.0</td>\n",
              "      <td>0.0</td>\n",
              "      <td>50.00</td>\n",
              "      <td>False</td>\n",
              "    </tr>\n",
              "    <tr>\n",
              "      <th>2</th>\n",
              "      <td>55a82813-15c0-4faf-897d-d04803036af0</td>\n",
              "      <td>c31e9b29-bf13-4493-a017-54d531d51d7b</td>\n",
              "      <td>31</td>\n",
              "      <td>Vegas 2022</td>\n",
              "      <td>31.0</td>\n",
              "      <td>False</td>\n",
              "      <td>[]</td>\n",
              "      <td>False</td>\n",
              "      <td>[]</td>\n",
              "      <td>False</td>\n",
              "      <td>...</td>\n",
              "      <td>False</td>\n",
              "      <td>Brenda Yorks</td>\n",
              "      <td>privaterelay.appleid.com</td>\n",
              "      <td>0.0</td>\n",
              "      <td>0.0</td>\n",
              "      <td>Brenda</td>\n",
              "      <td>607096.0</td>\n",
              "      <td>2121.0</td>\n",
              "      <td>99.65</td>\n",
              "      <td>False</td>\n",
              "    </tr>\n",
              "  </tbody>\n",
              "</table>\n",
              "<p>3 rows × 29 columns</p>\n",
              "</div>\n",
              "      <button class=\"colab-df-convert\" onclick=\"convertToInteractive('df-a42856b9-8dae-4cfd-8d17-09ce3dd10433')\"\n",
              "              title=\"Convert this dataframe to an interactive table.\"\n",
              "              style=\"display:none;\">\n",
              "        \n",
              "  <svg xmlns=\"http://www.w3.org/2000/svg\" height=\"24px\"viewBox=\"0 0 24 24\"\n",
              "       width=\"24px\">\n",
              "    <path d=\"M0 0h24v24H0V0z\" fill=\"none\"/>\n",
              "    <path d=\"M18.56 5.44l.94 2.06.94-2.06 2.06-.94-2.06-.94-.94-2.06-.94 2.06-2.06.94zm-11 1L8.5 8.5l.94-2.06 2.06-.94-2.06-.94L8.5 2.5l-.94 2.06-2.06.94zm10 10l.94 2.06.94-2.06 2.06-.94-2.06-.94-.94-2.06-.94 2.06-2.06.94z\"/><path d=\"M17.41 7.96l-1.37-1.37c-.4-.4-.92-.59-1.43-.59-.52 0-1.04.2-1.43.59L10.3 9.45l-7.72 7.72c-.78.78-.78 2.05 0 2.83L4 21.41c.39.39.9.59 1.41.59.51 0 1.02-.2 1.41-.59l7.78-7.78 2.81-2.81c.8-.78.8-2.07 0-2.86zM5.41 20L4 18.59l7.72-7.72 1.47 1.35L5.41 20z\"/>\n",
              "  </svg>\n",
              "      </button>\n",
              "      \n",
              "  <style>\n",
              "    .colab-df-container {\n",
              "      display:flex;\n",
              "      flex-wrap:wrap;\n",
              "      gap: 12px;\n",
              "    }\n",
              "\n",
              "    .colab-df-convert {\n",
              "      background-color: #E8F0FE;\n",
              "      border: none;\n",
              "      border-radius: 50%;\n",
              "      cursor: pointer;\n",
              "      display: none;\n",
              "      fill: #1967D2;\n",
              "      height: 32px;\n",
              "      padding: 0 0 0 0;\n",
              "      width: 32px;\n",
              "    }\n",
              "\n",
              "    .colab-df-convert:hover {\n",
              "      background-color: #E2EBFA;\n",
              "      box-shadow: 0px 1px 2px rgba(60, 64, 67, 0.3), 0px 1px 3px 1px rgba(60, 64, 67, 0.15);\n",
              "      fill: #174EA6;\n",
              "    }\n",
              "\n",
              "    [theme=dark] .colab-df-convert {\n",
              "      background-color: #3B4455;\n",
              "      fill: #D2E3FC;\n",
              "    }\n",
              "\n",
              "    [theme=dark] .colab-df-convert:hover {\n",
              "      background-color: #434B5C;\n",
              "      box-shadow: 0px 1px 3px 1px rgba(0, 0, 0, 0.15);\n",
              "      filter: drop-shadow(0px 1px 2px rgba(0, 0, 0, 0.3));\n",
              "      fill: #FFFFFF;\n",
              "    }\n",
              "  </style>\n",
              "\n",
              "      <script>\n",
              "        const buttonEl =\n",
              "          document.querySelector('#df-a42856b9-8dae-4cfd-8d17-09ce3dd10433 button.colab-df-convert');\n",
              "        buttonEl.style.display =\n",
              "          google.colab.kernel.accessAllowed ? 'block' : 'none';\n",
              "\n",
              "        async function convertToInteractive(key) {\n",
              "          const element = document.querySelector('#df-a42856b9-8dae-4cfd-8d17-09ce3dd10433');\n",
              "          const dataTable =\n",
              "            await google.colab.kernel.invokeFunction('convertToInteractive',\n",
              "                                                     [key], {});\n",
              "          if (!dataTable) return;\n",
              "\n",
              "          const docLinkHtml = 'Like what you see? Visit the ' +\n",
              "            '<a target=\"_blank\" href=https://colab.research.google.com/notebooks/data_table.ipynb>data table notebook</a>'\n",
              "            + ' to learn more about interactive tables.';\n",
              "          element.innerHTML = '';\n",
              "          dataTable['output_type'] = 'display_data';\n",
              "          await google.colab.output.renderOutput(dataTable, element);\n",
              "          const docLink = document.createElement('div');\n",
              "          docLink.innerHTML = docLinkHtml;\n",
              "          element.appendChild(docLink);\n",
              "        }\n",
              "      </script>\n",
              "    </div>\n",
              "  </div>\n",
              "  "
            ]
          },
          "metadata": {},
          "execution_count": 6
        }
      ]
    },
    {
      "cell_type": "markdown",
      "source": [
        "#**App Users Activity in the last 30 days**"
      ],
      "metadata": {
        "id": "R_PsGZqH1irE"
      }
    },
    {
      "cell_type": "code",
      "source": [
        "len(data.loc[data['active_count_in_last_30_days'] < 10 ]['user_uuid'].unique())"
      ],
      "metadata": {
        "colab": {
          "base_uri": "https://localhost:8080/"
        },
        "id": "PHa3fXJs1r0Q",
        "outputId": "526813b6-925e-4fbe-f94a-30197eea58eb"
      },
      "execution_count": null,
      "outputs": [
        {
          "output_type": "execute_result",
          "data": {
            "text/plain": [
              "3665363"
            ]
          },
          "metadata": {},
          "execution_count": 7
        }
      ]
    },
    {
      "cell_type": "code",
      "source": [
        "len(data.loc[data['active_count_in_last_30_days'].between(10,19)]['user_uuid'].unique())"
      ],
      "metadata": {
        "colab": {
          "base_uri": "https://localhost:8080/"
        },
        "id": "bJXUhBVN1r5v",
        "outputId": "70419c7f-1a1e-4678-d98b-fa7b24929f37"
      },
      "execution_count": null,
      "outputs": [
        {
          "output_type": "execute_result",
          "data": {
            "text/plain": [
              "72383"
            ]
          },
          "metadata": {},
          "execution_count": 8
        }
      ]
    },
    {
      "cell_type": "code",
      "source": [
        "len(data.loc[data['active_count_in_last_30_days'].between(20,29)]['user_uuid'].unique())"
      ],
      "metadata": {
        "colab": {
          "base_uri": "https://localhost:8080/"
        },
        "id": "KFPcvoae1sAZ",
        "outputId": "9c46143d-53fb-47d3-ac65-e15ce56fd7f7"
      },
      "execution_count": null,
      "outputs": [
        {
          "output_type": "execute_result",
          "data": {
            "text/plain": [
              "21683"
            ]
          },
          "metadata": {},
          "execution_count": 9
        }
      ]
    },
    {
      "cell_type": "code",
      "source": [
        "len(data.loc[data['active_count_in_last_30_days']==30]['user_uuid'].unique())"
      ],
      "metadata": {
        "colab": {
          "base_uri": "https://localhost:8080/"
        },
        "id": "CcP2UtzI1sFn",
        "outputId": "0f3f0087-87f0-463a-b709-ebcec47e2a38"
      },
      "execution_count": null,
      "outputs": [
        {
          "output_type": "execute_result",
          "data": {
            "text/plain": [
              "3061"
            ]
          },
          "metadata": {},
          "execution_count": 10
        }
      ]
    },
    {
      "cell_type": "code",
      "source": [
        "len(data['user_uuid'].unique())"
      ],
      "metadata": {
        "colab": {
          "base_uri": "https://localhost:8080/"
        },
        "id": "t14G68jK1sKL",
        "outputId": "ee39eb0b-cb5a-465e-af89-ecc305232af7"
      },
      "execution_count": null,
      "outputs": [
        {
          "output_type": "execute_result",
          "data": {
            "text/plain": [
              "3762492"
            ]
          },
          "metadata": {},
          "execution_count": 11
        }
      ]
    },
    {
      "cell_type": "code",
      "source": [
        "len(data.loc[data['active_count_in_last_30_days'].between(15,30)]['user_uuid'].unique())"
      ],
      "metadata": {
        "colab": {
          "base_uri": "https://localhost:8080/"
        },
        "id": "rugC6Z1u1sPl",
        "outputId": "cb4561bb-e6be-4300-f3f5-2672b487c0d4"
      },
      "execution_count": null,
      "outputs": [
        {
          "output_type": "execute_result",
          "data": {
            "text/plain": [
              "48604"
            ]
          },
          "metadata": {},
          "execution_count": 12
        }
      ]
    },
    {
      "cell_type": "markdown",
      "source": [
        "#**Who is most active** "
      ],
      "metadata": {
        "id": "x1rHYtIoVecC"
      }
    },
    {
      "cell_type": "code",
      "source": [
        "# total unique users\n",
        "len(data['user_uuid'].unique()) "
      ],
      "metadata": {
        "colab": {
          "base_uri": "https://localhost:8080/"
        },
        "id": "i5vqieBwUd81",
        "outputId": "affb33ab-526b-4aff-d4f8-baf047c036d6"
      },
      "execution_count": null,
      "outputs": [
        {
          "output_type": "execute_result",
          "data": {
            "text/plain": [
              "3762492"
            ]
          },
          "metadata": {},
          "execution_count": 13
        }
      ]
    },
    {
      "cell_type": "code",
      "source": [
        "# total users who are women\n",
        "len(data[data['num_female'] > 50]['user_uuid'].unique()) "
      ],
      "metadata": {
        "colab": {
          "base_uri": "https://localhost:8080/"
        },
        "id": "CSsJSa69Uy5t",
        "outputId": "39c582cc-3daf-4f6e-83b5-b529d48ef7a0"
      },
      "execution_count": null,
      "outputs": [
        {
          "output_type": "execute_result",
          "data": {
            "text/plain": [
              "3076311"
            ]
          },
          "metadata": {},
          "execution_count": 14
        }
      ]
    },
    {
      "cell_type": "code",
      "source": [
        "# total users who are men\n",
        "len(data[data['num_female'] < 50]['user_uuid'].unique()) "
      ],
      "metadata": {
        "colab": {
          "base_uri": "https://localhost:8080/"
        },
        "id": "Os8WgrbKUeBG",
        "outputId": "f7b9d143-4883-4d0f-8d7a-83f69eacbc6f"
      },
      "execution_count": null,
      "outputs": [
        {
          "output_type": "execute_result",
          "data": {
            "text/plain": [
              "685607"
            ]
          },
          "metadata": {},
          "execution_count": 15
        }
      ]
    },
    {
      "cell_type": "code",
      "source": [
        "# total users with unknown display name or 'other'\n",
        "len(data[data['num_female'] == 50]['user_uuid'].unique()) "
      ],
      "metadata": {
        "colab": {
          "base_uri": "https://localhost:8080/"
        },
        "id": "V8axeL44UeH1",
        "outputId": "2c73e57a-a871-4e65-ffae-739f9851b6e1"
      },
      "execution_count": null,
      "outputs": [
        {
          "output_type": "execute_result",
          "data": {
            "text/plain": [
              "574"
            ]
          },
          "metadata": {},
          "execution_count": 16
        }
      ]
    },
    {
      "cell_type": "code",
      "source": [
        "# total users who are active between 20-30 days in the last 30 days\n",
        "len(data.loc[data['active_count_in_last_30_days'] \\\n",
        "                    .between(20,30)]['user_uuid'].unique()) "
      ],
      "metadata": {
        "colab": {
          "base_uri": "https://localhost:8080/"
        },
        "id": "ScbTNI1FVdXm",
        "outputId": "11eaf40b-acaf-4e01-c90d-b930d8d70ff0"
      },
      "execution_count": null,
      "outputs": [
        {
          "output_type": "execute_result",
          "data": {
            "text/plain": [
              "24744"
            ]
          },
          "metadata": {},
          "execution_count": 17
        }
      ]
    },
    {
      "cell_type": "code",
      "source": [
        "# total female users who are active between 20-30 days in the last 30 days\n",
        "len(data.loc[(data['active_count_in_last_30_days'].between(20,30)) & \\\n",
        "                (data['female_pct'] > 50)]['user_uuid'].unique()) "
      ],
      "metadata": {
        "colab": {
          "base_uri": "https://localhost:8080/"
        },
        "id": "MAgU_vlsVdes",
        "outputId": "77186a24-d151-4644-e701-92138ed9309c"
      },
      "execution_count": null,
      "outputs": [
        {
          "output_type": "execute_result",
          "data": {
            "text/plain": [
              "15893"
            ]
          },
          "metadata": {},
          "execution_count": 18
        }
      ]
    },
    {
      "cell_type": "code",
      "source": [
        "# Active female % total\n",
        "round(15893/24744*100,2)"
      ],
      "metadata": {
        "colab": {
          "base_uri": "https://localhost:8080/"
        },
        "id": "4QBC4YR-X0PR",
        "outputId": "fc8a49e7-ae89-4507-ae33-648a1b4cf0a4"
      },
      "execution_count": null,
      "outputs": [
        {
          "output_type": "execute_result",
          "data": {
            "text/plain": [
              "64.23"
            ]
          },
          "metadata": {},
          "execution_count": 19
        }
      ]
    },
    {
      "cell_type": "code",
      "source": [
        "# total male users who are active between 20-30 days in the last 30 days\n",
        "len(data.loc[(data['active_count_in_last_30_days'].between(20,30)) & \\\n",
        "                (data['female_pct'] < 50)]['user_uuid'].unique()) "
      ],
      "metadata": {
        "colab": {
          "base_uri": "https://localhost:8080/"
        },
        "id": "xZP627aVVdib",
        "outputId": "6dd79c0e-936c-41cc-e1b1-a70c4edc1115"
      },
      "execution_count": null,
      "outputs": [
        {
          "output_type": "execute_result",
          "data": {
            "text/plain": [
              "5217"
            ]
          },
          "metadata": {},
          "execution_count": 20
        }
      ]
    },
    {
      "cell_type": "code",
      "source": [
        "# Active male % total\n",
        "round(5217/24744*100,2)"
      ],
      "metadata": {
        "colab": {
          "base_uri": "https://localhost:8080/"
        },
        "id": "_NHxX3ODVdn3",
        "outputId": "8a4f9c75-3368-47b2-f25c-dad710a1511a"
      },
      "execution_count": null,
      "outputs": [
        {
          "output_type": "execute_result",
          "data": {
            "text/plain": [
              "21.08"
            ]
          },
          "metadata": {},
          "execution_count": 21
        }
      ]
    },
    {
      "cell_type": "code",
      "source": [
        "# total unknown gender users who are active between 20-30 days in the last 30 days\n",
        "len(data.loc[(data['active_count_in_last_30_days'].between(20,30)) & \\\n",
        "                (data['female_pct'] == 50)]['user_uuid'].unique()) "
      ],
      "metadata": {
        "colab": {
          "base_uri": "https://localhost:8080/"
        },
        "id": "vv89oJ5aVdrg",
        "outputId": "8e02ea4a-dd50-4bdc-f235-3d009ced45d6"
      },
      "execution_count": null,
      "outputs": [
        {
          "output_type": "execute_result",
          "data": {
            "text/plain": [
              "3634"
            ]
          },
          "metadata": {},
          "execution_count": 22
        }
      ]
    },
    {
      "cell_type": "code",
      "source": [
        "# Active 'other' % total\n",
        "round(3634/24744*100,2)"
      ],
      "metadata": {
        "colab": {
          "base_uri": "https://localhost:8080/"
        },
        "id": "F9eVqV9tVdxl",
        "outputId": "63124545-4200-4350-954a-cc02ff6c00d5"
      },
      "execution_count": null,
      "outputs": [
        {
          "output_type": "execute_result",
          "data": {
            "text/plain": [
              "14.69"
            ]
          },
          "metadata": {},
          "execution_count": 23
        }
      ]
    },
    {
      "cell_type": "markdown",
      "source": [
        "\n",
        "\n",
        "> **Active Female Users Analysis**\n",
        "\n"
      ],
      "metadata": {
        "id": "wztDJRGfu2G2"
      }
    },
    {
      "cell_type": "code",
      "source": [
        "# subset total female users who are active between 20-30 days in the last 30 days\n",
        "active_female = data[(data['active_count_in_last_30_days'].between(20,30)) & \\\n",
        "                (data['female_pct'] > 50)]"
      ],
      "metadata": {
        "id": "eU-VRIB2Vd0x"
      },
      "execution_count": null,
      "outputs": []
    },
    {
      "cell_type": "code",
      "source": [
        "data[(data['active_count_in_last_30_days'].between(20,30)) & \\\n",
        "                (data['female_pct'] > 50)].shape"
      ],
      "metadata": {
        "colab": {
          "base_uri": "https://localhost:8080/"
        },
        "id": "OkJTuEb3vCgx",
        "outputId": "38e0e5f7-b707-4a22-d5b6-46a0cd912aaa"
      },
      "execution_count": null,
      "outputs": [
        {
          "output_type": "execute_result",
          "data": {
            "text/plain": [
              "(180176, 29)"
            ]
          },
          "metadata": {},
          "execution_count": 25
        }
      ]
    },
    {
      "cell_type": "markdown",
      "source": [
        "\n",
        "> **Rank frequency of each word in active_female**\n",
        "\n",
        "\n"
      ],
      "metadata": {
        "id": "nyZn5F17xbQz"
      }
    },
    {
      "cell_type": "code",
      "source": [
        "pd.set_option('display.max_rows', 200)"
      ],
      "metadata": {
        "id": "jzswnodKw_KB"
      },
      "execution_count": null,
      "outputs": []
    },
    {
      "cell_type": "code",
      "source": [
        "# Combine all titles into a single string\n",
        "title_str = ' '.join(active_female['title'].astype(str).tolist())\n",
        "\n",
        "# Split the string into individual words\n",
        "words = title_str.lower().split()\n",
        "\n",
        "# Count the frequency of each word and create a DataFrame with the results\n",
        "word_counts = pd.DataFrame(words, columns=['word']).value_counts().reset_index(name='count')\n",
        "\n",
        "# Add a rank column to the DataFrame\n",
        "word_counts['rank'] = word_counts['count'].rank(ascending=False)"
      ],
      "metadata": {
        "id": "Rf70xSv4w_H8"
      },
      "execution_count": null,
      "outputs": []
    },
    {
      "cell_type": "code",
      "source": [
        "word_counts.head(20)"
      ],
      "metadata": {
        "colab": {
          "base_uri": "https://localhost:8080/",
          "height": 669
        },
        "id": "DJawWHL3vCso",
        "outputId": "94530843-2d32-4676-ab28-bc7dd7ec301f"
      },
      "execution_count": null,
      "outputs": [
        {
          "output_type": "execute_result",
          "data": {
            "text/plain": [
              "         word  count  rank\n",
              "0        2022   9556   1.0\n",
              "1           &   8828   2.0\n",
              "2         and   6061   3.0\n",
              "3        2021   5881   4.0\n",
              "4         the   5015   5.0\n",
              "5        2023   5000   6.0\n",
              "6      family   4703   7.0\n",
              "7        2019   4068   8.0\n",
              "8           -   3485   9.0\n",
              "9        2020   3416  10.0\n",
              "10    wedding   3105  11.0\n",
              "11       2018   2895  12.0\n",
              "12  christmas   2832  13.0\n",
              "13       trip   2742  14.0\n",
              "14   birthday   2609  15.0\n",
              "15     spring   2581  16.0\n",
              "16        day   2528  17.0\n",
              "17         of   2521  18.0\n",
              "18       baby   2499  19.0\n",
              "19       fall   2187  20.0"
            ],
            "text/html": [
              "\n",
              "  <div id=\"df-401f039f-48aa-4eb1-93cb-2fbc93d12a75\">\n",
              "    <div class=\"colab-df-container\">\n",
              "      <div>\n",
              "<style scoped>\n",
              "    .dataframe tbody tr th:only-of-type {\n",
              "        vertical-align: middle;\n",
              "    }\n",
              "\n",
              "    .dataframe tbody tr th {\n",
              "        vertical-align: top;\n",
              "    }\n",
              "\n",
              "    .dataframe thead th {\n",
              "        text-align: right;\n",
              "    }\n",
              "</style>\n",
              "<table border=\"1\" class=\"dataframe\">\n",
              "  <thead>\n",
              "    <tr style=\"text-align: right;\">\n",
              "      <th></th>\n",
              "      <th>word</th>\n",
              "      <th>count</th>\n",
              "      <th>rank</th>\n",
              "    </tr>\n",
              "  </thead>\n",
              "  <tbody>\n",
              "    <tr>\n",
              "      <th>0</th>\n",
              "      <td>2022</td>\n",
              "      <td>9556</td>\n",
              "      <td>1.0</td>\n",
              "    </tr>\n",
              "    <tr>\n",
              "      <th>1</th>\n",
              "      <td>&amp;</td>\n",
              "      <td>8828</td>\n",
              "      <td>2.0</td>\n",
              "    </tr>\n",
              "    <tr>\n",
              "      <th>2</th>\n",
              "      <td>and</td>\n",
              "      <td>6061</td>\n",
              "      <td>3.0</td>\n",
              "    </tr>\n",
              "    <tr>\n",
              "      <th>3</th>\n",
              "      <td>2021</td>\n",
              "      <td>5881</td>\n",
              "      <td>4.0</td>\n",
              "    </tr>\n",
              "    <tr>\n",
              "      <th>4</th>\n",
              "      <td>the</td>\n",
              "      <td>5015</td>\n",
              "      <td>5.0</td>\n",
              "    </tr>\n",
              "    <tr>\n",
              "      <th>5</th>\n",
              "      <td>2023</td>\n",
              "      <td>5000</td>\n",
              "      <td>6.0</td>\n",
              "    </tr>\n",
              "    <tr>\n",
              "      <th>6</th>\n",
              "      <td>family</td>\n",
              "      <td>4703</td>\n",
              "      <td>7.0</td>\n",
              "    </tr>\n",
              "    <tr>\n",
              "      <th>7</th>\n",
              "      <td>2019</td>\n",
              "      <td>4068</td>\n",
              "      <td>8.0</td>\n",
              "    </tr>\n",
              "    <tr>\n",
              "      <th>8</th>\n",
              "      <td>-</td>\n",
              "      <td>3485</td>\n",
              "      <td>9.0</td>\n",
              "    </tr>\n",
              "    <tr>\n",
              "      <th>9</th>\n",
              "      <td>2020</td>\n",
              "      <td>3416</td>\n",
              "      <td>10.0</td>\n",
              "    </tr>\n",
              "    <tr>\n",
              "      <th>10</th>\n",
              "      <td>wedding</td>\n",
              "      <td>3105</td>\n",
              "      <td>11.0</td>\n",
              "    </tr>\n",
              "    <tr>\n",
              "      <th>11</th>\n",
              "      <td>2018</td>\n",
              "      <td>2895</td>\n",
              "      <td>12.0</td>\n",
              "    </tr>\n",
              "    <tr>\n",
              "      <th>12</th>\n",
              "      <td>christmas</td>\n",
              "      <td>2832</td>\n",
              "      <td>13.0</td>\n",
              "    </tr>\n",
              "    <tr>\n",
              "      <th>13</th>\n",
              "      <td>trip</td>\n",
              "      <td>2742</td>\n",
              "      <td>14.0</td>\n",
              "    </tr>\n",
              "    <tr>\n",
              "      <th>14</th>\n",
              "      <td>birthday</td>\n",
              "      <td>2609</td>\n",
              "      <td>15.0</td>\n",
              "    </tr>\n",
              "    <tr>\n",
              "      <th>15</th>\n",
              "      <td>spring</td>\n",
              "      <td>2581</td>\n",
              "      <td>16.0</td>\n",
              "    </tr>\n",
              "    <tr>\n",
              "      <th>16</th>\n",
              "      <td>day</td>\n",
              "      <td>2528</td>\n",
              "      <td>17.0</td>\n",
              "    </tr>\n",
              "    <tr>\n",
              "      <th>17</th>\n",
              "      <td>of</td>\n",
              "      <td>2521</td>\n",
              "      <td>18.0</td>\n",
              "    </tr>\n",
              "    <tr>\n",
              "      <th>18</th>\n",
              "      <td>baby</td>\n",
              "      <td>2499</td>\n",
              "      <td>19.0</td>\n",
              "    </tr>\n",
              "    <tr>\n",
              "      <th>19</th>\n",
              "      <td>fall</td>\n",
              "      <td>2187</td>\n",
              "      <td>20.0</td>\n",
              "    </tr>\n",
              "  </tbody>\n",
              "</table>\n",
              "</div>\n",
              "      <button class=\"colab-df-convert\" onclick=\"convertToInteractive('df-401f039f-48aa-4eb1-93cb-2fbc93d12a75')\"\n",
              "              title=\"Convert this dataframe to an interactive table.\"\n",
              "              style=\"display:none;\">\n",
              "        \n",
              "  <svg xmlns=\"http://www.w3.org/2000/svg\" height=\"24px\"viewBox=\"0 0 24 24\"\n",
              "       width=\"24px\">\n",
              "    <path d=\"M0 0h24v24H0V0z\" fill=\"none\"/>\n",
              "    <path d=\"M18.56 5.44l.94 2.06.94-2.06 2.06-.94-2.06-.94-.94-2.06-.94 2.06-2.06.94zm-11 1L8.5 8.5l.94-2.06 2.06-.94-2.06-.94L8.5 2.5l-.94 2.06-2.06.94zm10 10l.94 2.06.94-2.06 2.06-.94-2.06-.94-.94-2.06-.94 2.06-2.06.94z\"/><path d=\"M17.41 7.96l-1.37-1.37c-.4-.4-.92-.59-1.43-.59-.52 0-1.04.2-1.43.59L10.3 9.45l-7.72 7.72c-.78.78-.78 2.05 0 2.83L4 21.41c.39.39.9.59 1.41.59.51 0 1.02-.2 1.41-.59l7.78-7.78 2.81-2.81c.8-.78.8-2.07 0-2.86zM5.41 20L4 18.59l7.72-7.72 1.47 1.35L5.41 20z\"/>\n",
              "  </svg>\n",
              "      </button>\n",
              "      \n",
              "  <style>\n",
              "    .colab-df-container {\n",
              "      display:flex;\n",
              "      flex-wrap:wrap;\n",
              "      gap: 12px;\n",
              "    }\n",
              "\n",
              "    .colab-df-convert {\n",
              "      background-color: #E8F0FE;\n",
              "      border: none;\n",
              "      border-radius: 50%;\n",
              "      cursor: pointer;\n",
              "      display: none;\n",
              "      fill: #1967D2;\n",
              "      height: 32px;\n",
              "      padding: 0 0 0 0;\n",
              "      width: 32px;\n",
              "    }\n",
              "\n",
              "    .colab-df-convert:hover {\n",
              "      background-color: #E2EBFA;\n",
              "      box-shadow: 0px 1px 2px rgba(60, 64, 67, 0.3), 0px 1px 3px 1px rgba(60, 64, 67, 0.15);\n",
              "      fill: #174EA6;\n",
              "    }\n",
              "\n",
              "    [theme=dark] .colab-df-convert {\n",
              "      background-color: #3B4455;\n",
              "      fill: #D2E3FC;\n",
              "    }\n",
              "\n",
              "    [theme=dark] .colab-df-convert:hover {\n",
              "      background-color: #434B5C;\n",
              "      box-shadow: 0px 1px 3px 1px rgba(0, 0, 0, 0.15);\n",
              "      filter: drop-shadow(0px 1px 2px rgba(0, 0, 0, 0.3));\n",
              "      fill: #FFFFFF;\n",
              "    }\n",
              "  </style>\n",
              "\n",
              "      <script>\n",
              "        const buttonEl =\n",
              "          document.querySelector('#df-401f039f-48aa-4eb1-93cb-2fbc93d12a75 button.colab-df-convert');\n",
              "        buttonEl.style.display =\n",
              "          google.colab.kernel.accessAllowed ? 'block' : 'none';\n",
              "\n",
              "        async function convertToInteractive(key) {\n",
              "          const element = document.querySelector('#df-401f039f-48aa-4eb1-93cb-2fbc93d12a75');\n",
              "          const dataTable =\n",
              "            await google.colab.kernel.invokeFunction('convertToInteractive',\n",
              "                                                     [key], {});\n",
              "          if (!dataTable) return;\n",
              "\n",
              "          const docLinkHtml = 'Like what you see? Visit the ' +\n",
              "            '<a target=\"_blank\" href=https://colab.research.google.com/notebooks/data_table.ipynb>data table notebook</a>'\n",
              "            + ' to learn more about interactive tables.';\n",
              "          element.innerHTML = '';\n",
              "          dataTable['output_type'] = 'display_data';\n",
              "          await google.colab.output.renderOutput(dataTable, element);\n",
              "          const docLink = document.createElement('div');\n",
              "          docLink.innerHTML = docLinkHtml;\n",
              "          element.appendChild(docLink);\n",
              "        }\n",
              "      </script>\n",
              "    </div>\n",
              "  </div>\n",
              "  "
            ]
          },
          "metadata": {},
          "execution_count": 28
        }
      ]
    },
    {
      "cell_type": "markdown",
      "source": [
        "\n",
        "\n",
        "> **Active Male Users Analysis**\n",
        "\n"
      ],
      "metadata": {
        "id": "w6KkdHpV7MIh"
      }
    },
    {
      "cell_type": "code",
      "source": [
        "# subset total female users who are active between 20-30 days in the last 30 days\n",
        "active_male = data[(data['active_count_in_last_30_days'].between(20,30)) & \\\n",
        "                (data['female_pct'] < 50)]"
      ],
      "metadata": {
        "id": "lG86OsFj7MIo"
      },
      "execution_count": null,
      "outputs": []
    },
    {
      "cell_type": "code",
      "source": [
        "data[(data['active_count_in_last_30_days'].between(20,30)) & \\\n",
        "                (data['female_pct'] < 50)].shape"
      ],
      "metadata": {
        "colab": {
          "base_uri": "https://localhost:8080/"
        },
        "outputId": "d474cb92-89aa-4ee3-9c33-7e9e087f4d2f",
        "id": "7OHsPBUP7MIp"
      },
      "execution_count": null,
      "outputs": [
        {
          "output_type": "execute_result",
          "data": {
            "text/plain": [
              "(142861, 29)"
            ]
          },
          "metadata": {},
          "execution_count": 30
        }
      ]
    },
    {
      "cell_type": "markdown",
      "source": [
        "\n",
        "> **Rank frequency of each word in active_male**\n",
        "\n",
        "\n"
      ],
      "metadata": {
        "id": "_D7DdCMj6qpI"
      }
    },
    {
      "cell_type": "code",
      "source": [
        "# Combine all titles into a single string\n",
        "title_str = ' '.join(active_male['title'].astype(str).tolist())\n",
        "\n",
        "# Split the string into individual words\n",
        "words1 = title_str.lower().split()\n",
        "\n",
        "# Count the frequency of each word and create a DataFrame with the results\n",
        "word_counts1 = pd.DataFrame(words1, columns=['word']).value_counts().reset_index(name='count')\n",
        "\n",
        "# Add a rank column to the DataFrame\n",
        "word_counts1['rank'] = word_counts1['count'].rank(ascending=False)"
      ],
      "metadata": {
        "id": "NPCgFtLi6uxI"
      },
      "execution_count": null,
      "outputs": []
    },
    {
      "cell_type": "code",
      "source": [
        "word_counts1.head(20)"
      ],
      "metadata": {
        "colab": {
          "base_uri": "https://localhost:8080/",
          "height": 669
        },
        "outputId": "9f45754c-64c1-4bad-dbbc-d0d0aaa40aab",
        "id": "D1L3zvCW6uxP"
      },
      "execution_count": null,
      "outputs": [
        {
          "output_type": "execute_result",
          "data": {
            "text/plain": [
              "       word  count  rank\n",
              "0         -   6163   1.0\n",
              "1      2022   3175   2.0\n",
              "2         &   3081   3.0\n",
              "3   install   3026   4.0\n",
              "4       and   2358   5.0\n",
              "5      2021   2142   6.0\n",
              "6       the   2032   7.0\n",
              "7       o&m   1905   8.0\n",
              "8    family   1683   9.0\n",
              "9        sr   1579  10.0\n",
              "10     2019   1484  11.0\n",
              "11     2023   1425  12.0\n",
              "12       ct   1399  13.0\n",
              "13     2020   1253  14.0\n",
              "14       ca   1247  15.5\n",
              "15  michael   1247  15.5\n",
              "16    david   1195  17.0\n",
              "17      job   1112  18.0\n",
              "18       st   1078  19.0\n",
              "19     john   1042  20.0"
            ],
            "text/html": [
              "\n",
              "  <div id=\"df-e2360b54-195c-44d9-9527-eee21da9a21e\">\n",
              "    <div class=\"colab-df-container\">\n",
              "      <div>\n",
              "<style scoped>\n",
              "    .dataframe tbody tr th:only-of-type {\n",
              "        vertical-align: middle;\n",
              "    }\n",
              "\n",
              "    .dataframe tbody tr th {\n",
              "        vertical-align: top;\n",
              "    }\n",
              "\n",
              "    .dataframe thead th {\n",
              "        text-align: right;\n",
              "    }\n",
              "</style>\n",
              "<table border=\"1\" class=\"dataframe\">\n",
              "  <thead>\n",
              "    <tr style=\"text-align: right;\">\n",
              "      <th></th>\n",
              "      <th>word</th>\n",
              "      <th>count</th>\n",
              "      <th>rank</th>\n",
              "    </tr>\n",
              "  </thead>\n",
              "  <tbody>\n",
              "    <tr>\n",
              "      <th>0</th>\n",
              "      <td>-</td>\n",
              "      <td>6163</td>\n",
              "      <td>1.0</td>\n",
              "    </tr>\n",
              "    <tr>\n",
              "      <th>1</th>\n",
              "      <td>2022</td>\n",
              "      <td>3175</td>\n",
              "      <td>2.0</td>\n",
              "    </tr>\n",
              "    <tr>\n",
              "      <th>2</th>\n",
              "      <td>&amp;</td>\n",
              "      <td>3081</td>\n",
              "      <td>3.0</td>\n",
              "    </tr>\n",
              "    <tr>\n",
              "      <th>3</th>\n",
              "      <td>install</td>\n",
              "      <td>3026</td>\n",
              "      <td>4.0</td>\n",
              "    </tr>\n",
              "    <tr>\n",
              "      <th>4</th>\n",
              "      <td>and</td>\n",
              "      <td>2358</td>\n",
              "      <td>5.0</td>\n",
              "    </tr>\n",
              "    <tr>\n",
              "      <th>5</th>\n",
              "      <td>2021</td>\n",
              "      <td>2142</td>\n",
              "      <td>6.0</td>\n",
              "    </tr>\n",
              "    <tr>\n",
              "      <th>6</th>\n",
              "      <td>the</td>\n",
              "      <td>2032</td>\n",
              "      <td>7.0</td>\n",
              "    </tr>\n",
              "    <tr>\n",
              "      <th>7</th>\n",
              "      <td>o&amp;m</td>\n",
              "      <td>1905</td>\n",
              "      <td>8.0</td>\n",
              "    </tr>\n",
              "    <tr>\n",
              "      <th>8</th>\n",
              "      <td>family</td>\n",
              "      <td>1683</td>\n",
              "      <td>9.0</td>\n",
              "    </tr>\n",
              "    <tr>\n",
              "      <th>9</th>\n",
              "      <td>sr</td>\n",
              "      <td>1579</td>\n",
              "      <td>10.0</td>\n",
              "    </tr>\n",
              "    <tr>\n",
              "      <th>10</th>\n",
              "      <td>2019</td>\n",
              "      <td>1484</td>\n",
              "      <td>11.0</td>\n",
              "    </tr>\n",
              "    <tr>\n",
              "      <th>11</th>\n",
              "      <td>2023</td>\n",
              "      <td>1425</td>\n",
              "      <td>12.0</td>\n",
              "    </tr>\n",
              "    <tr>\n",
              "      <th>12</th>\n",
              "      <td>ct</td>\n",
              "      <td>1399</td>\n",
              "      <td>13.0</td>\n",
              "    </tr>\n",
              "    <tr>\n",
              "      <th>13</th>\n",
              "      <td>2020</td>\n",
              "      <td>1253</td>\n",
              "      <td>14.0</td>\n",
              "    </tr>\n",
              "    <tr>\n",
              "      <th>14</th>\n",
              "      <td>ca</td>\n",
              "      <td>1247</td>\n",
              "      <td>15.5</td>\n",
              "    </tr>\n",
              "    <tr>\n",
              "      <th>15</th>\n",
              "      <td>michael</td>\n",
              "      <td>1247</td>\n",
              "      <td>15.5</td>\n",
              "    </tr>\n",
              "    <tr>\n",
              "      <th>16</th>\n",
              "      <td>david</td>\n",
              "      <td>1195</td>\n",
              "      <td>17.0</td>\n",
              "    </tr>\n",
              "    <tr>\n",
              "      <th>17</th>\n",
              "      <td>job</td>\n",
              "      <td>1112</td>\n",
              "      <td>18.0</td>\n",
              "    </tr>\n",
              "    <tr>\n",
              "      <th>18</th>\n",
              "      <td>st</td>\n",
              "      <td>1078</td>\n",
              "      <td>19.0</td>\n",
              "    </tr>\n",
              "    <tr>\n",
              "      <th>19</th>\n",
              "      <td>john</td>\n",
              "      <td>1042</td>\n",
              "      <td>20.0</td>\n",
              "    </tr>\n",
              "  </tbody>\n",
              "</table>\n",
              "</div>\n",
              "      <button class=\"colab-df-convert\" onclick=\"convertToInteractive('df-e2360b54-195c-44d9-9527-eee21da9a21e')\"\n",
              "              title=\"Convert this dataframe to an interactive table.\"\n",
              "              style=\"display:none;\">\n",
              "        \n",
              "  <svg xmlns=\"http://www.w3.org/2000/svg\" height=\"24px\"viewBox=\"0 0 24 24\"\n",
              "       width=\"24px\">\n",
              "    <path d=\"M0 0h24v24H0V0z\" fill=\"none\"/>\n",
              "    <path d=\"M18.56 5.44l.94 2.06.94-2.06 2.06-.94-2.06-.94-.94-2.06-.94 2.06-2.06.94zm-11 1L8.5 8.5l.94-2.06 2.06-.94-2.06-.94L8.5 2.5l-.94 2.06-2.06.94zm10 10l.94 2.06.94-2.06 2.06-.94-2.06-.94-.94-2.06-.94 2.06-2.06.94z\"/><path d=\"M17.41 7.96l-1.37-1.37c-.4-.4-.92-.59-1.43-.59-.52 0-1.04.2-1.43.59L10.3 9.45l-7.72 7.72c-.78.78-.78 2.05 0 2.83L4 21.41c.39.39.9.59 1.41.59.51 0 1.02-.2 1.41-.59l7.78-7.78 2.81-2.81c.8-.78.8-2.07 0-2.86zM5.41 20L4 18.59l7.72-7.72 1.47 1.35L5.41 20z\"/>\n",
              "  </svg>\n",
              "      </button>\n",
              "      \n",
              "  <style>\n",
              "    .colab-df-container {\n",
              "      display:flex;\n",
              "      flex-wrap:wrap;\n",
              "      gap: 12px;\n",
              "    }\n",
              "\n",
              "    .colab-df-convert {\n",
              "      background-color: #E8F0FE;\n",
              "      border: none;\n",
              "      border-radius: 50%;\n",
              "      cursor: pointer;\n",
              "      display: none;\n",
              "      fill: #1967D2;\n",
              "      height: 32px;\n",
              "      padding: 0 0 0 0;\n",
              "      width: 32px;\n",
              "    }\n",
              "\n",
              "    .colab-df-convert:hover {\n",
              "      background-color: #E2EBFA;\n",
              "      box-shadow: 0px 1px 2px rgba(60, 64, 67, 0.3), 0px 1px 3px 1px rgba(60, 64, 67, 0.15);\n",
              "      fill: #174EA6;\n",
              "    }\n",
              "\n",
              "    [theme=dark] .colab-df-convert {\n",
              "      background-color: #3B4455;\n",
              "      fill: #D2E3FC;\n",
              "    }\n",
              "\n",
              "    [theme=dark] .colab-df-convert:hover {\n",
              "      background-color: #434B5C;\n",
              "      box-shadow: 0px 1px 3px 1px rgba(0, 0, 0, 0.15);\n",
              "      filter: drop-shadow(0px 1px 2px rgba(0, 0, 0, 0.3));\n",
              "      fill: #FFFFFF;\n",
              "    }\n",
              "  </style>\n",
              "\n",
              "      <script>\n",
              "        const buttonEl =\n",
              "          document.querySelector('#df-e2360b54-195c-44d9-9527-eee21da9a21e button.colab-df-convert');\n",
              "        buttonEl.style.display =\n",
              "          google.colab.kernel.accessAllowed ? 'block' : 'none';\n",
              "\n",
              "        async function convertToInteractive(key) {\n",
              "          const element = document.querySelector('#df-e2360b54-195c-44d9-9527-eee21da9a21e');\n",
              "          const dataTable =\n",
              "            await google.colab.kernel.invokeFunction('convertToInteractive',\n",
              "                                                     [key], {});\n",
              "          if (!dataTable) return;\n",
              "\n",
              "          const docLinkHtml = 'Like what you see? Visit the ' +\n",
              "            '<a target=\"_blank\" href=https://colab.research.google.com/notebooks/data_table.ipynb>data table notebook</a>'\n",
              "            + ' to learn more about interactive tables.';\n",
              "          element.innerHTML = '';\n",
              "          dataTable['output_type'] = 'display_data';\n",
              "          await google.colab.output.renderOutput(dataTable, element);\n",
              "          const docLink = document.createElement('div');\n",
              "          docLink.innerHTML = docLinkHtml;\n",
              "          element.appendChild(docLink);\n",
              "        }\n",
              "      </script>\n",
              "    </div>\n",
              "  </div>\n",
              "  "
            ]
          },
          "metadata": {},
          "execution_count": 32
        }
      ]
    },
    {
      "cell_type": "markdown",
      "source": [
        "#**Greek words analysis**"
      ],
      "metadata": {
        "id": "0fz6BaK7FywJ"
      }
    },
    {
      "cell_type": "code",
      "source": [
        "len(data[ (data['has_greek_words']) & (data['female_pct']>50)]['user_uuid'].unique()) # female Greek members"
      ],
      "metadata": {
        "colab": {
          "base_uri": "https://localhost:8080/"
        },
        "id": "fkj9vY5xib-n",
        "outputId": "9c3a4cb5-7640-42d0-9bb0-c8d7b05fc189"
      },
      "execution_count": null,
      "outputs": [
        {
          "output_type": "execute_result",
          "data": {
            "text/plain": [
              "240233"
            ]
          },
          "metadata": {},
          "execution_count": 33
        }
      ]
    },
    {
      "cell_type": "code",
      "source": [
        "len(data[data['has_greek_words']]['circle_uuid'].unique()) # total unique Greek circles"
      ],
      "metadata": {
        "colab": {
          "base_uri": "https://localhost:8080/"
        },
        "id": "HPXoBaWCjWN7",
        "outputId": "b1dd03f1-79e5-4349-b3e5-e78676ba9ec5"
      },
      "execution_count": null,
      "outputs": [
        {
          "output_type": "execute_result",
          "data": {
            "text/plain": [
              "9439"
            ]
          },
          "metadata": {},
          "execution_count": 34
        }
      ]
    },
    {
      "cell_type": "code",
      "source": [
        "len(data[data['has_greek_words']]['user_uuid'].unique()) # total unique Greek members"
      ],
      "metadata": {
        "colab": {
          "base_uri": "https://localhost:8080/"
        },
        "id": "9D4JEc1SgmFv",
        "outputId": "cfb5ddd1-0019-4ab9-8261-47fba81a6396"
      },
      "execution_count": null,
      "outputs": [
        {
          "output_type": "execute_result",
          "data": {
            "text/plain": [
              "309184"
            ]
          },
          "metadata": {},
          "execution_count": 35
        }
      ]
    },
    {
      "cell_type": "code",
      "source": [
        "len(data['user_uuid'].unique()) # total unique users"
      ],
      "metadata": {
        "colab": {
          "base_uri": "https://localhost:8080/"
        },
        "id": "XXbe4E89E8-L",
        "outputId": "92f15c84-3854-4278-8fe1-63673e9e9b3f"
      },
      "execution_count": null,
      "outputs": [
        {
          "output_type": "execute_result",
          "data": {
            "text/plain": [
              "3762492"
            ]
          },
          "metadata": {},
          "execution_count": 36
        }
      ]
    },
    {
      "cell_type": "code",
      "source": [
        "3762492-309184 # total non Greek members"
      ],
      "metadata": {
        "colab": {
          "base_uri": "https://localhost:8080/"
        },
        "id": "NpasNbi2FPe_",
        "outputId": "edc9d8b9-35f6-42bc-dd71-a50ad7e66655"
      },
      "execution_count": null,
      "outputs": [
        {
          "output_type": "execute_result",
          "data": {
            "text/plain": [
              "3453308"
            ]
          },
          "metadata": {},
          "execution_count": 37
        }
      ]
    },
    {
      "cell_type": "code",
      "source": [
        "round(240233/309184*100,2) # % female sorority users"
      ],
      "metadata": {
        "colab": {
          "base_uri": "https://localhost:8080/"
        },
        "id": "uF9RVgtDjQVd",
        "outputId": "05f524a6-2508-4ad3-ebce-44b4702f6410"
      },
      "execution_count": null,
      "outputs": [
        {
          "output_type": "execute_result",
          "data": {
            "text/plain": [
              "77.7"
            ]
          },
          "metadata": {},
          "execution_count": 38
        }
      ]
    },
    {
      "cell_type": "code",
      "source": [
        "len(data[data['has_greek_words']]['user_uuid'].unique())/len(data['user_uuid'].unique())*100 # % Greek users"
      ],
      "metadata": {
        "colab": {
          "base_uri": "https://localhost:8080/"
        },
        "id": "2kQaJZAaFjUV",
        "outputId": "2843df95-d44b-4a24-d3b0-e57081d58df4"
      },
      "execution_count": null,
      "outputs": [
        {
          "output_type": "execute_result",
          "data": {
            "text/plain": [
              "8.217532422660302"
            ]
          },
          "metadata": {},
          "execution_count": 39
        }
      ]
    },
    {
      "cell_type": "code",
      "source": [
        "len(data[data['has_greek_words']]['circle_uuid'].unique())/len(data['circle_uuid'].unique())*100 # % Greek circles"
      ],
      "metadata": {
        "colab": {
          "base_uri": "https://localhost:8080/"
        },
        "id": "DxvfCMoFJrZ6",
        "outputId": "b009bc0f-ace8-45cb-cc2e-61053df3498c"
      },
      "execution_count": null,
      "outputs": [
        {
          "output_type": "execute_result",
          "data": {
            "text/plain": [
              "0.46211005944912015"
            ]
          },
          "metadata": {},
          "execution_count": 40
        }
      ]
    },
    {
      "cell_type": "code",
      "source": [
        "data[data['has_greek_words']]['media_added_count_x'].sum() #Total Greek circles media contributions"
      ],
      "metadata": {
        "colab": {
          "base_uri": "https://localhost:8080/"
        },
        "id": "NXMpSRQmGiqm",
        "outputId": "94af85a9-7bb2-4541-fc89-3ebf145ee9b9"
      },
      "execution_count": null,
      "outputs": [
        {
          "output_type": "execute_result",
          "data": {
            "text/plain": [
              "12240969"
            ]
          },
          "metadata": {},
          "execution_count": 41
        }
      ]
    },
    {
      "cell_type": "code",
      "source": [
        "data['media_added_count_x'].sum()"
      ],
      "metadata": {
        "colab": {
          "base_uri": "https://localhost:8080/"
        },
        "id": "tEw6ShYKGi2O",
        "outputId": "f6e71bcf-47bd-4962-d44f-32d49aa2a523"
      },
      "execution_count": null,
      "outputs": [
        {
          "output_type": "execute_result",
          "data": {
            "text/plain": [
              "341813280"
            ]
          },
          "metadata": {},
          "execution_count": 42
        }
      ]
    },
    {
      "cell_type": "code",
      "source": [
        "pd.set_option('display.max_columns', None)"
      ],
      "metadata": {
        "id": "pz05U_2rHj4N"
      },
      "execution_count": null,
      "outputs": []
    },
    {
      "cell_type": "code",
      "source": [
        "data.head(2)"
      ],
      "metadata": {
        "colab": {
          "base_uri": "https://localhost:8080/",
          "height": 277
        },
        "id": "lN8Mxs9HHUS5",
        "outputId": "001ea001-ad08-4cea-c711-f5a9ef3178b4"
      },
      "execution_count": null,
      "outputs": [
        {
          "output_type": "execute_result",
          "data": {
            "text/plain": [
              "                            circle_uuid                             user_uuid  \\\n",
              "0  00005962-836d-d551-c07b-5c2040500002  00000000-575c-c42a-d551-c018b1942652   \n",
              "1  00005bfc-e475-d551-c026-3d658eab0002  4d4f4f68-feff-4490-bd45-ae90ba4acdbf   \n",
              "\n",
              "   media_added_count_x                  title  media_count  has_greek_words  \\\n",
              "0                   96  Georgia Jean Williams        160.0            False   \n",
              "1                    6              Tri Delta      12235.0             True   \n",
              "\n",
              "  real_estate_keywords  is_real_estate solar_keywords  is_solar  \\\n",
              "0                   []           False             []     False   \n",
              "1                   []           False             []     False   \n",
              "\n",
              "  event_keywords  is_event occupation_keywords  is_occupation animal_keywords  \\\n",
              "0             []     False                  []          False              []   \n",
              "1             []     False                  []          False              []   \n",
              "\n",
              "   is_animal      destination_names  is_travel         location_names  \\\n",
              "0      False  Georgia Jean Williams      False  Georgia Jean Williams   \n",
              "1      False              Tri Delta      False              Tri Delta   \n",
              "\n",
              "   is_location     display_name  email_domain  active_count_in_last_30_days  \\\n",
              "0        False  Darwin Williams  stthomas.edu                           6.0   \n",
              "1        False    tara ghimenti     gmail.com                           0.0   \n",
              "\n",
              "   media_added_count_y first_name  num_female  num_male  female_pct  \\\n",
              "0                 15.0     Darwin        83.0   24680.0        0.34   \n",
              "1                  0.0       tara         0.0       0.0       50.00   \n",
              "\n",
              "   is_student  \n",
              "0        True  \n",
              "1       False  "
            ],
            "text/html": [
              "\n",
              "  <div id=\"df-c008c4af-bd4e-4eb1-a07c-a45906e1e880\">\n",
              "    <div class=\"colab-df-container\">\n",
              "      <div>\n",
              "<style scoped>\n",
              "    .dataframe tbody tr th:only-of-type {\n",
              "        vertical-align: middle;\n",
              "    }\n",
              "\n",
              "    .dataframe tbody tr th {\n",
              "        vertical-align: top;\n",
              "    }\n",
              "\n",
              "    .dataframe thead th {\n",
              "        text-align: right;\n",
              "    }\n",
              "</style>\n",
              "<table border=\"1\" class=\"dataframe\">\n",
              "  <thead>\n",
              "    <tr style=\"text-align: right;\">\n",
              "      <th></th>\n",
              "      <th>circle_uuid</th>\n",
              "      <th>user_uuid</th>\n",
              "      <th>media_added_count_x</th>\n",
              "      <th>title</th>\n",
              "      <th>media_count</th>\n",
              "      <th>has_greek_words</th>\n",
              "      <th>real_estate_keywords</th>\n",
              "      <th>is_real_estate</th>\n",
              "      <th>solar_keywords</th>\n",
              "      <th>is_solar</th>\n",
              "      <th>event_keywords</th>\n",
              "      <th>is_event</th>\n",
              "      <th>occupation_keywords</th>\n",
              "      <th>is_occupation</th>\n",
              "      <th>animal_keywords</th>\n",
              "      <th>is_animal</th>\n",
              "      <th>destination_names</th>\n",
              "      <th>is_travel</th>\n",
              "      <th>location_names</th>\n",
              "      <th>is_location</th>\n",
              "      <th>display_name</th>\n",
              "      <th>email_domain</th>\n",
              "      <th>active_count_in_last_30_days</th>\n",
              "      <th>media_added_count_y</th>\n",
              "      <th>first_name</th>\n",
              "      <th>num_female</th>\n",
              "      <th>num_male</th>\n",
              "      <th>female_pct</th>\n",
              "      <th>is_student</th>\n",
              "    </tr>\n",
              "  </thead>\n",
              "  <tbody>\n",
              "    <tr>\n",
              "      <th>0</th>\n",
              "      <td>00005962-836d-d551-c07b-5c2040500002</td>\n",
              "      <td>00000000-575c-c42a-d551-c018b1942652</td>\n",
              "      <td>96</td>\n",
              "      <td>Georgia Jean Williams</td>\n",
              "      <td>160.0</td>\n",
              "      <td>False</td>\n",
              "      <td>[]</td>\n",
              "      <td>False</td>\n",
              "      <td>[]</td>\n",
              "      <td>False</td>\n",
              "      <td>[]</td>\n",
              "      <td>False</td>\n",
              "      <td>[]</td>\n",
              "      <td>False</td>\n",
              "      <td>[]</td>\n",
              "      <td>False</td>\n",
              "      <td>Georgia Jean Williams</td>\n",
              "      <td>False</td>\n",
              "      <td>Georgia Jean Williams</td>\n",
              "      <td>False</td>\n",
              "      <td>Darwin Williams</td>\n",
              "      <td>stthomas.edu</td>\n",
              "      <td>6.0</td>\n",
              "      <td>15.0</td>\n",
              "      <td>Darwin</td>\n",
              "      <td>83.0</td>\n",
              "      <td>24680.0</td>\n",
              "      <td>0.34</td>\n",
              "      <td>True</td>\n",
              "    </tr>\n",
              "    <tr>\n",
              "      <th>1</th>\n",
              "      <td>00005bfc-e475-d551-c026-3d658eab0002</td>\n",
              "      <td>4d4f4f68-feff-4490-bd45-ae90ba4acdbf</td>\n",
              "      <td>6</td>\n",
              "      <td>Tri Delta</td>\n",
              "      <td>12235.0</td>\n",
              "      <td>True</td>\n",
              "      <td>[]</td>\n",
              "      <td>False</td>\n",
              "      <td>[]</td>\n",
              "      <td>False</td>\n",
              "      <td>[]</td>\n",
              "      <td>False</td>\n",
              "      <td>[]</td>\n",
              "      <td>False</td>\n",
              "      <td>[]</td>\n",
              "      <td>False</td>\n",
              "      <td>Tri Delta</td>\n",
              "      <td>False</td>\n",
              "      <td>Tri Delta</td>\n",
              "      <td>False</td>\n",
              "      <td>tara ghimenti</td>\n",
              "      <td>gmail.com</td>\n",
              "      <td>0.0</td>\n",
              "      <td>0.0</td>\n",
              "      <td>tara</td>\n",
              "      <td>0.0</td>\n",
              "      <td>0.0</td>\n",
              "      <td>50.00</td>\n",
              "      <td>False</td>\n",
              "    </tr>\n",
              "  </tbody>\n",
              "</table>\n",
              "</div>\n",
              "      <button class=\"colab-df-convert\" onclick=\"convertToInteractive('df-c008c4af-bd4e-4eb1-a07c-a45906e1e880')\"\n",
              "              title=\"Convert this dataframe to an interactive table.\"\n",
              "              style=\"display:none;\">\n",
              "        \n",
              "  <svg xmlns=\"http://www.w3.org/2000/svg\" height=\"24px\"viewBox=\"0 0 24 24\"\n",
              "       width=\"24px\">\n",
              "    <path d=\"M0 0h24v24H0V0z\" fill=\"none\"/>\n",
              "    <path d=\"M18.56 5.44l.94 2.06.94-2.06 2.06-.94-2.06-.94-.94-2.06-.94 2.06-2.06.94zm-11 1L8.5 8.5l.94-2.06 2.06-.94-2.06-.94L8.5 2.5l-.94 2.06-2.06.94zm10 10l.94 2.06.94-2.06 2.06-.94-2.06-.94-.94-2.06-.94 2.06-2.06.94z\"/><path d=\"M17.41 7.96l-1.37-1.37c-.4-.4-.92-.59-1.43-.59-.52 0-1.04.2-1.43.59L10.3 9.45l-7.72 7.72c-.78.78-.78 2.05 0 2.83L4 21.41c.39.39.9.59 1.41.59.51 0 1.02-.2 1.41-.59l7.78-7.78 2.81-2.81c.8-.78.8-2.07 0-2.86zM5.41 20L4 18.59l7.72-7.72 1.47 1.35L5.41 20z\"/>\n",
              "  </svg>\n",
              "      </button>\n",
              "      \n",
              "  <style>\n",
              "    .colab-df-container {\n",
              "      display:flex;\n",
              "      flex-wrap:wrap;\n",
              "      gap: 12px;\n",
              "    }\n",
              "\n",
              "    .colab-df-convert {\n",
              "      background-color: #E8F0FE;\n",
              "      border: none;\n",
              "      border-radius: 50%;\n",
              "      cursor: pointer;\n",
              "      display: none;\n",
              "      fill: #1967D2;\n",
              "      height: 32px;\n",
              "      padding: 0 0 0 0;\n",
              "      width: 32px;\n",
              "    }\n",
              "\n",
              "    .colab-df-convert:hover {\n",
              "      background-color: #E2EBFA;\n",
              "      box-shadow: 0px 1px 2px rgba(60, 64, 67, 0.3), 0px 1px 3px 1px rgba(60, 64, 67, 0.15);\n",
              "      fill: #174EA6;\n",
              "    }\n",
              "\n",
              "    [theme=dark] .colab-df-convert {\n",
              "      background-color: #3B4455;\n",
              "      fill: #D2E3FC;\n",
              "    }\n",
              "\n",
              "    [theme=dark] .colab-df-convert:hover {\n",
              "      background-color: #434B5C;\n",
              "      box-shadow: 0px 1px 3px 1px rgba(0, 0, 0, 0.15);\n",
              "      filter: drop-shadow(0px 1px 2px rgba(0, 0, 0, 0.3));\n",
              "      fill: #FFFFFF;\n",
              "    }\n",
              "  </style>\n",
              "\n",
              "      <script>\n",
              "        const buttonEl =\n",
              "          document.querySelector('#df-c008c4af-bd4e-4eb1-a07c-a45906e1e880 button.colab-df-convert');\n",
              "        buttonEl.style.display =\n",
              "          google.colab.kernel.accessAllowed ? 'block' : 'none';\n",
              "\n",
              "        async function convertToInteractive(key) {\n",
              "          const element = document.querySelector('#df-c008c4af-bd4e-4eb1-a07c-a45906e1e880');\n",
              "          const dataTable =\n",
              "            await google.colab.kernel.invokeFunction('convertToInteractive',\n",
              "                                                     [key], {});\n",
              "          if (!dataTable) return;\n",
              "\n",
              "          const docLinkHtml = 'Like what you see? Visit the ' +\n",
              "            '<a target=\"_blank\" href=https://colab.research.google.com/notebooks/data_table.ipynb>data table notebook</a>'\n",
              "            + ' to learn more about interactive tables.';\n",
              "          element.innerHTML = '';\n",
              "          dataTable['output_type'] = 'display_data';\n",
              "          await google.colab.output.renderOutput(dataTable, element);\n",
              "          const docLink = document.createElement('div');\n",
              "          docLink.innerHTML = docLinkHtml;\n",
              "          element.appendChild(docLink);\n",
              "        }\n",
              "      </script>\n",
              "    </div>\n",
              "  </div>\n",
              "  "
            ]
          },
          "metadata": {},
          "execution_count": 44
        }
      ]
    },
    {
      "cell_type": "code",
      "source": [
        "len(data.loc[data['has_greek_words']].sort_values(['active_count_in_last_30_days','media_added_count_y'], ascending=False))"
      ],
      "metadata": {
        "colab": {
          "base_uri": "https://localhost:8080/"
        },
        "id": "5rofGfsQ47Ev",
        "outputId": "31bdf177-fe41-4fa4-9fee-62efaf81c117"
      },
      "execution_count": null,
      "outputs": [
        {
          "output_type": "execute_result",
          "data": {
            "text/plain": [
              "414329"
            ]
          },
          "metadata": {},
          "execution_count": 45
        }
      ]
    },
    {
      "cell_type": "code",
      "source": [
        "len(data.loc[(data['has_greek_words']) & (data['active_count_in_last_30_days'] < 10)] \\\n",
        "    ['user_uuid'].unique())"
      ],
      "metadata": {
        "colab": {
          "base_uri": "https://localhost:8080/"
        },
        "id": "7BCrq_u46A7l",
        "outputId": "31e43c79-1e40-4c91-c67f-7eb2d0c5b8d1"
      },
      "execution_count": null,
      "outputs": [
        {
          "output_type": "execute_result",
          "data": {
            "text/plain": [
              "286527"
            ]
          },
          "metadata": {},
          "execution_count": 46
        }
      ]
    },
    {
      "cell_type": "code",
      "source": [
        "len(data.loc[(data['has_greek_words']) & (data['active_count_in_last_30_days'].between(10,19))] \\\n",
        "    ['user_uuid'].unique())"
      ],
      "metadata": {
        "colab": {
          "base_uri": "https://localhost:8080/"
        },
        "id": "yOepDXD9809H",
        "outputId": "9b5c1188-962b-4210-8d98-32447b25f013"
      },
      "execution_count": null,
      "outputs": [
        {
          "output_type": "execute_result",
          "data": {
            "text/plain": [
              "18276"
            ]
          },
          "metadata": {},
          "execution_count": 47
        }
      ]
    },
    {
      "cell_type": "code",
      "source": [
        "len(data.loc[(data['has_greek_words']) & (data['active_count_in_last_30_days'].between(20,29))] \\\n",
        "    ['user_uuid'].unique())"
      ],
      "metadata": {
        "colab": {
          "base_uri": "https://localhost:8080/"
        },
        "id": "DyUn-2suJkVw",
        "outputId": "443fc2df-fe05-4de1-96ce-f60ea9f23251"
      },
      "execution_count": null,
      "outputs": [
        {
          "output_type": "execute_result",
          "data": {
            "text/plain": [
              "4208"
            ]
          },
          "metadata": {},
          "execution_count": 48
        }
      ]
    },
    {
      "cell_type": "code",
      "source": [
        "len(data.loc[(data['has_greek_words']) & (data['active_count_in_last_30_days']==30)] \\\n",
        "    ['user_uuid'].unique())"
      ],
      "metadata": {
        "colab": {
          "base_uri": "https://localhost:8080/"
        },
        "id": "waW4KKA_Jka2",
        "outputId": "0694b4df-c836-49fd-a5f7-880c43d92862"
      },
      "execution_count": null,
      "outputs": [
        {
          "output_type": "execute_result",
          "data": {
            "text/plain": [
              "173"
            ]
          },
          "metadata": {},
          "execution_count": 49
        }
      ]
    },
    {
      "cell_type": "code",
      "source": [
        "data.loc[data['has_greek_words']].sort_values('media_added_count_x', ascending=False).head(20)"
      ],
      "metadata": {
        "colab": {
          "base_uri": "https://localhost:8080/",
          "height": 1000
        },
        "id": "kNyHbyXLJhvj",
        "outputId": "9c2861d6-af26-40c3-9ec0-6094e45454d7"
      },
      "execution_count": null,
      "outputs": [
        {
          "output_type": "execute_result",
          "data": {
            "text/plain": [
              "                                  circle_uuid  \\\n",
              "632733   00005c38-e12b-d551-c026-3d6e67ca0002   \n",
              "4543803  dfcbd933-3564-47e7-abb9-c9d4fa925dab   \n",
              "3172562  1f3954fb-6694-430c-8168-228c7a92bb81   \n",
              "4220424  00005c01-58f2-d551-c026-3d90a87a0002   \n",
              "1349946  00005c29-28fb-d551-c026-3dab0de00002   \n",
              "5198008  d37c67f1-aee5-4463-a29e-76d95ba79c78   \n",
              "466193   000056ac-1bfc-8cff-961b-e32764590002   \n",
              "6517959  5ec7bf0a-e3b2-42d7-ba6e-58c9b9069bca   \n",
              "4979916  657a4da7-e7d9-455c-ae4b-7a23c584a836   \n",
              "5682632  00005c14-2c98-d551-c026-3d86f0c70002   \n",
              "2365692  00005c29-28fb-d551-c026-3dab0de00002   \n",
              "7310649  00005c01-58f2-d551-c026-3d90a87a0002   \n",
              "435037   12f15317-94a8-4768-8cbc-04c70d3ae702   \n",
              "247098   9dc9b44e-4e43-4b9a-9805-915200a40ef9   \n",
              "4387741  25d386d0-1219-4e09-ad7a-39cad78ae3da   \n",
              "3280183  00005c14-2c98-d551-c026-3d86f0c70002   \n",
              "3328160  fc3d7981-7832-40a7-8238-6e77a0827179   \n",
              "1059807  00005e3d-9625-78bb-8958-02f727020002   \n",
              "4889912  00005e3d-9625-78bb-8958-02f727020002   \n",
              "3882210  b89c0ab9-feb1-4bbb-948f-a62fe1a1235f   \n",
              "\n",
              "                                    user_uuid  media_added_count_x  \\\n",
              "632733   066dbb00-f7d1-4724-804c-9e920c465f99                13442   \n",
              "4543803  9b881f11-62c0-444a-b41d-506a7fe3e327                 8444   \n",
              "3172562  18dd4f5c-3683-4c53-9903-70c8c856d51a                 7923   \n",
              "4220424  e9534310-b748-414f-ae4a-e247fa3f87da                 6802   \n",
              "1349946  00000000-5c29-46b7-d551-c0263dad646d                 6730   \n",
              "5198008  68c8934f-bab4-4667-a8e7-2a86da38ad85                 6676   \n",
              "466193   00000000-53c3-f3d4-3dab-0506e1225c45                 6093   \n",
              "6517959  02f3e9f9-ab92-43ff-91cb-fcf7b4e764f9                 6062   \n",
              "4979916  d0e59b65-d26c-4018-9748-130492d87ef5                 5278   \n",
              "5682632  00000000-5c3c-fa01-d551-c0263da8b003                 5233   \n",
              "2365692  00000000-5d89-208c-f8d1-c149e2c4b701                 5108   \n",
              "7310649  c7b385b0-32c4-47ea-8d0f-655377ff16ae                 5081   \n",
              "435037   ed47df2b-6c38-4a66-8934-c439bbf0fb42                 5075   \n",
              "247098   5ec76f61-3e72-4805-b417-917e1a294b54                 4385   \n",
              "4387741  aaea4bed-f9cb-469c-91b6-a8a137d538c8                 4359   \n",
              "3280183  00000000-5ca4-d0ba-d551-c01e578770d2                 4281   \n",
              "3328160  290606dc-2360-4eee-9b01-79c33a085516                 4277   \n",
              "1059807  e3f9879a-55ec-48ae-85cd-a4f27b87837b                 4171   \n",
              "4889912  b7048864-020f-43d5-9c9c-8c1416bf4ef0                 4157   \n",
              "3882210  f9dae5e1-6b4d-41fe-99f9-16078dc0f159                 3985   \n",
              "\n",
              "                                  title  media_count  has_greek_words  \\\n",
              "632733                        Alpha Gam      30146.0             True   \n",
              "4543803         Kappa Delta Zeta Alpha       15731.0             True   \n",
              "3172562                Kappa Delta 2022      10924.0             True   \n",
              "4220424                ZTA Nu 2018-2019      33652.0             True   \n",
              "1349946                       TRI DELTA      40821.0             True   \n",
              "5198008  Phi Delta Theta (no Memes Plz)       7418.0             True   \n",
              "466193      Anh Khue & Chi Duong's Kids       8064.0             True   \n",
              "6517959                          Pi Kap       6077.0             True   \n",
              "4979916                KD Theta Pi 2022      14491.0             True   \n",
              "5682632                       CHI OMEGA      35904.0             True   \n",
              "2365692                       TRI DELTA      40821.0             True   \n",
              "7310649                ZTA Nu 2018-2019      33652.0             True   \n",
              "435037               BETA XI tri delta       10323.0             True   \n",
              "247098                     AST Beta Eta      11540.0             True   \n",
              "4387741                  Chi O Millsaps      10027.0             True   \n",
              "3280183                       CHI OMEGA      35904.0             True   \n",
              "3328160                          Theta       18353.0             True   \n",
              "1059807                     Pi Beta Phi      21871.0             True   \n",
              "4889912                     Pi Beta Phi      21871.0             True   \n",
              "3882210                  Phi mu bitches       9681.0             True   \n",
              "\n",
              "        real_estate_keywords  is_real_estate solar_keywords  is_solar  \\\n",
              "632733                    []           False             []     False   \n",
              "4543803                   []           False             []     False   \n",
              "3172562                   []           False             []     False   \n",
              "4220424                   []           False             []     False   \n",
              "1349946                   []           False             []     False   \n",
              "5198008                   []           False             []     False   \n",
              "466193                    []           False             []     False   \n",
              "6517959                   []           False             []     False   \n",
              "4979916                   []           False             []     False   \n",
              "5682632                   []           False             []     False   \n",
              "2365692                   []           False             []     False   \n",
              "7310649                   []           False             []     False   \n",
              "435037                    []           False             []     False   \n",
              "247098                    []           False             []     False   \n",
              "4387741                   []           False             []     False   \n",
              "3280183                   []           False             []     False   \n",
              "3328160                   []           False             []     False   \n",
              "1059807                   []           False             []     False   \n",
              "4889912                   []           False             []     False   \n",
              "3882210                   []           False             []     False   \n",
              "\n",
              "        event_keywords  is_event occupation_keywords  is_occupation  \\\n",
              "632733              []     False                  []          False   \n",
              "4543803             []     False                  []          False   \n",
              "3172562             []     False                  []          False   \n",
              "4220424             []     False                  []          False   \n",
              "1349946             []     False                  []          False   \n",
              "5198008             []     False                  []          False   \n",
              "466193              []     False                  []          False   \n",
              "6517959             []     False                  []          False   \n",
              "4979916             []     False                  []          False   \n",
              "5682632             []     False                  []          False   \n",
              "2365692             []     False                  []          False   \n",
              "7310649             []     False                  []          False   \n",
              "435037              []     False                  []          False   \n",
              "247098              []     False                  []          False   \n",
              "4387741             []     False                  []          False   \n",
              "3280183             []     False                  []          False   \n",
              "3328160             []     False                  []          False   \n",
              "1059807             []     False                  []          False   \n",
              "4889912             []     False                  []          False   \n",
              "3882210             []     False                  []          False   \n",
              "\n",
              "        animal_keywords  is_animal       destination_names  is_travel  \\\n",
              "632733               []      False               Alpha Gam      False   \n",
              "4543803              []      False  Kappa Delta Zeta Alpha      False   \n",
              "3172562              []      False             Kappa Delta      False   \n",
              "4220424              []      False                      Nu      False   \n",
              "1349946              []      False                     NaN      False   \n",
              "5198008              []      False         Phi Delta Theta      False   \n",
              "466193               []      False                Anh Khue      False   \n",
              "6517959              []      False                  Pi Kap      False   \n",
              "4979916              []      False                Theta Pi      False   \n",
              "5682632              []      False                     NaN      False   \n",
              "2365692              []      False                     NaN      False   \n",
              "7310649              []      False                      Nu      False   \n",
              "435037               []      False                     tri      False   \n",
              "247098               []      False                Beta Eta      False   \n",
              "4387741              []      False                     Chi      False   \n",
              "3280183              []      False                     NaN      False   \n",
              "3328160              []      False                   Theta      False   \n",
              "1059807              []      False             Pi Beta Phi      False   \n",
              "4889912              []      False             Pi Beta Phi      False   \n",
              "3882210              []      False                     Phi      False   \n",
              "\n",
              "                 location_names  is_location       display_name  \\\n",
              "632733                Alpha Gam        False         Abby Milam   \n",
              "4543803  Kappa Delta Zeta Alpha        False        Kappa Delta   \n",
              "3172562             Kappa Delta        False         Emma Short   \n",
              "4220424                      Nu        False     Carly Richards   \n",
              "1349946                     NaN        False        Julia Clark   \n",
              "5198008         Phi Delta Theta        False     Themba Nsubuga   \n",
              "466193                 Anh Khue        False             Mai Vu   \n",
              "6517959                  Pi Kap        False        Antonio Jak   \n",
              "4979916                Theta Pi        False            Niky Li   \n",
              "5682632                     NaN        False  Darcey Drullinger   \n",
              "2365692                     NaN        False     Caroline Bacon   \n",
              "7310649                      Nu        False       Grace Calton   \n",
              "435037                      tri        False     Paige Williams   \n",
              "247098                 Beta Eta        False     Madeline James   \n",
              "4387741                     Chi        False     Chi O Millsaps   \n",
              "3280183                     NaN        False   Macey Drullinger   \n",
              "3328160                   Theta        False    Sophia Garofalo   \n",
              "1059807             Pi Beta Phi        False       Anna Philpot   \n",
              "4889912             Pi Beta Phi        False     Payton Dedeaux   \n",
              "3882210                     Phi        False    Catherine Jones   \n",
              "\n",
              "                     email_domain  active_count_in_last_30_days  \\\n",
              "632733                  gmail.com                          21.0   \n",
              "4543803                 gmail.com                           1.0   \n",
              "3172562                 gmail.com                          26.0   \n",
              "4220424            crimson.ua.edu                           0.0   \n",
              "1349946               comcast.net                           0.0   \n",
              "5198008  privaterelay.appleid.com                          10.0   \n",
              "466193                hotmail.com                           0.0   \n",
              "6517959               hotmail.com                           0.0   \n",
              "4979916                 gmail.com                          20.0   \n",
              "5682632                 gmail.com                           0.0   \n",
              "2365692                 gmail.com                           3.0   \n",
              "7310649            crimson.ua.edu                           0.0   \n",
              "435037   privaterelay.appleid.com                           0.0   \n",
              "247098                   siue.edu                           6.0   \n",
              "4387741                 gmail.com                          22.0   \n",
              "3280183                 gmail.com                           0.0   \n",
              "3328160                 gmail.com                          20.0   \n",
              "1059807               comcast.net                          11.0   \n",
              "4889912             bellsouth.net                           2.0   \n",
              "3882210                 gmail.com                           9.0   \n",
              "\n",
              "         media_added_count_y first_name  num_female  num_male  female_pct  \\\n",
              "632733                2737.0       Abby     58236.0     181.0       99.69   \n",
              "4543803                  0.0      Kappa         0.0       0.0       50.00   \n",
              "3172562               3110.0       Emma    672893.0    1626.0       99.76   \n",
              "4220424                  0.0      Carly     63699.0     160.0       99.75   \n",
              "1349946                  0.0      Julia    459021.0    1737.0       99.62   \n",
              "5198008               1751.0     Themba         0.0       5.0        0.00   \n",
              "466193                   0.0        Mai      5308.0      20.0       99.62   \n",
              "6517959                  0.0    Antonio      1975.0  247925.0        0.79   \n",
              "4979916               1040.0       Niky         0.0       0.0       50.00   \n",
              "5682632                  0.0     Darcey      1982.0      94.0       95.47   \n",
              "2365692                  0.0   Caroline    228558.0     308.0       99.87   \n",
              "7310649                  0.0      Grace    497009.0    1341.0       99.73   \n",
              "435037                   0.0      Paige    139506.0    1335.0       99.05   \n",
              "247098                   0.0   Madeline    187472.0     245.0       99.87   \n",
              "4387741                369.0        Chi       614.0     476.0       56.33   \n",
              "3280183                  0.0      Macey     10566.0      51.0       99.52   \n",
              "3328160               1301.0     Sophia    350103.0     440.0       99.87   \n",
              "1059807                940.0       Anna    892785.0    2746.0       99.69   \n",
              "4889912                100.0     Payton     52437.0   23719.0       68.85   \n",
              "3882210                468.0  Catherine    660366.0    1823.0       99.72   \n",
              "\n",
              "         is_student  \n",
              "632733        False  \n",
              "4543803       False  \n",
              "3172562       False  \n",
              "4220424        True  \n",
              "1349946       False  \n",
              "5198008       False  \n",
              "466193        False  \n",
              "6517959       False  \n",
              "4979916       False  \n",
              "5682632       False  \n",
              "2365692       False  \n",
              "7310649        True  \n",
              "435037        False  \n",
              "247098         True  \n",
              "4387741       False  \n",
              "3280183       False  \n",
              "3328160       False  \n",
              "1059807       False  \n",
              "4889912       False  \n",
              "3882210       False  "
            ],
            "text/html": [
              "\n",
              "  <div id=\"df-6bfd7894-030b-4651-9b07-2f5784c28b56\">\n",
              "    <div class=\"colab-df-container\">\n",
              "      <div>\n",
              "<style scoped>\n",
              "    .dataframe tbody tr th:only-of-type {\n",
              "        vertical-align: middle;\n",
              "    }\n",
              "\n",
              "    .dataframe tbody tr th {\n",
              "        vertical-align: top;\n",
              "    }\n",
              "\n",
              "    .dataframe thead th {\n",
              "        text-align: right;\n",
              "    }\n",
              "</style>\n",
              "<table border=\"1\" class=\"dataframe\">\n",
              "  <thead>\n",
              "    <tr style=\"text-align: right;\">\n",
              "      <th></th>\n",
              "      <th>circle_uuid</th>\n",
              "      <th>user_uuid</th>\n",
              "      <th>media_added_count_x</th>\n",
              "      <th>title</th>\n",
              "      <th>media_count</th>\n",
              "      <th>has_greek_words</th>\n",
              "      <th>real_estate_keywords</th>\n",
              "      <th>is_real_estate</th>\n",
              "      <th>solar_keywords</th>\n",
              "      <th>is_solar</th>\n",
              "      <th>event_keywords</th>\n",
              "      <th>is_event</th>\n",
              "      <th>occupation_keywords</th>\n",
              "      <th>is_occupation</th>\n",
              "      <th>animal_keywords</th>\n",
              "      <th>is_animal</th>\n",
              "      <th>destination_names</th>\n",
              "      <th>is_travel</th>\n",
              "      <th>location_names</th>\n",
              "      <th>is_location</th>\n",
              "      <th>display_name</th>\n",
              "      <th>email_domain</th>\n",
              "      <th>active_count_in_last_30_days</th>\n",
              "      <th>media_added_count_y</th>\n",
              "      <th>first_name</th>\n",
              "      <th>num_female</th>\n",
              "      <th>num_male</th>\n",
              "      <th>female_pct</th>\n",
              "      <th>is_student</th>\n",
              "    </tr>\n",
              "  </thead>\n",
              "  <tbody>\n",
              "    <tr>\n",
              "      <th>632733</th>\n",
              "      <td>00005c38-e12b-d551-c026-3d6e67ca0002</td>\n",
              "      <td>066dbb00-f7d1-4724-804c-9e920c465f99</td>\n",
              "      <td>13442</td>\n",
              "      <td>Alpha Gam</td>\n",
              "      <td>30146.0</td>\n",
              "      <td>True</td>\n",
              "      <td>[]</td>\n",
              "      <td>False</td>\n",
              "      <td>[]</td>\n",
              "      <td>False</td>\n",
              "      <td>[]</td>\n",
              "      <td>False</td>\n",
              "      <td>[]</td>\n",
              "      <td>False</td>\n",
              "      <td>[]</td>\n",
              "      <td>False</td>\n",
              "      <td>Alpha Gam</td>\n",
              "      <td>False</td>\n",
              "      <td>Alpha Gam</td>\n",
              "      <td>False</td>\n",
              "      <td>Abby Milam</td>\n",
              "      <td>gmail.com</td>\n",
              "      <td>21.0</td>\n",
              "      <td>2737.0</td>\n",
              "      <td>Abby</td>\n",
              "      <td>58236.0</td>\n",
              "      <td>181.0</td>\n",
              "      <td>99.69</td>\n",
              "      <td>False</td>\n",
              "    </tr>\n",
              "    <tr>\n",
              "      <th>4543803</th>\n",
              "      <td>dfcbd933-3564-47e7-abb9-c9d4fa925dab</td>\n",
              "      <td>9b881f11-62c0-444a-b41d-506a7fe3e327</td>\n",
              "      <td>8444</td>\n",
              "      <td>Kappa Delta Zeta Alpha</td>\n",
              "      <td>15731.0</td>\n",
              "      <td>True</td>\n",
              "      <td>[]</td>\n",
              "      <td>False</td>\n",
              "      <td>[]</td>\n",
              "      <td>False</td>\n",
              "      <td>[]</td>\n",
              "      <td>False</td>\n",
              "      <td>[]</td>\n",
              "      <td>False</td>\n",
              "      <td>[]</td>\n",
              "      <td>False</td>\n",
              "      <td>Kappa Delta Zeta Alpha</td>\n",
              "      <td>False</td>\n",
              "      <td>Kappa Delta Zeta Alpha</td>\n",
              "      <td>False</td>\n",
              "      <td>Kappa Delta</td>\n",
              "      <td>gmail.com</td>\n",
              "      <td>1.0</td>\n",
              "      <td>0.0</td>\n",
              "      <td>Kappa</td>\n",
              "      <td>0.0</td>\n",
              "      <td>0.0</td>\n",
              "      <td>50.00</td>\n",
              "      <td>False</td>\n",
              "    </tr>\n",
              "    <tr>\n",
              "      <th>3172562</th>\n",
              "      <td>1f3954fb-6694-430c-8168-228c7a92bb81</td>\n",
              "      <td>18dd4f5c-3683-4c53-9903-70c8c856d51a</td>\n",
              "      <td>7923</td>\n",
              "      <td>Kappa Delta 2022</td>\n",
              "      <td>10924.0</td>\n",
              "      <td>True</td>\n",
              "      <td>[]</td>\n",
              "      <td>False</td>\n",
              "      <td>[]</td>\n",
              "      <td>False</td>\n",
              "      <td>[]</td>\n",
              "      <td>False</td>\n",
              "      <td>[]</td>\n",
              "      <td>False</td>\n",
              "      <td>[]</td>\n",
              "      <td>False</td>\n",
              "      <td>Kappa Delta</td>\n",
              "      <td>False</td>\n",
              "      <td>Kappa Delta</td>\n",
              "      <td>False</td>\n",
              "      <td>Emma Short</td>\n",
              "      <td>gmail.com</td>\n",
              "      <td>26.0</td>\n",
              "      <td>3110.0</td>\n",
              "      <td>Emma</td>\n",
              "      <td>672893.0</td>\n",
              "      <td>1626.0</td>\n",
              "      <td>99.76</td>\n",
              "      <td>False</td>\n",
              "    </tr>\n",
              "    <tr>\n",
              "      <th>4220424</th>\n",
              "      <td>00005c01-58f2-d551-c026-3d90a87a0002</td>\n",
              "      <td>e9534310-b748-414f-ae4a-e247fa3f87da</td>\n",
              "      <td>6802</td>\n",
              "      <td>ZTA Nu 2018-2019</td>\n",
              "      <td>33652.0</td>\n",
              "      <td>True</td>\n",
              "      <td>[]</td>\n",
              "      <td>False</td>\n",
              "      <td>[]</td>\n",
              "      <td>False</td>\n",
              "      <td>[]</td>\n",
              "      <td>False</td>\n",
              "      <td>[]</td>\n",
              "      <td>False</td>\n",
              "      <td>[]</td>\n",
              "      <td>False</td>\n",
              "      <td>Nu</td>\n",
              "      <td>False</td>\n",
              "      <td>Nu</td>\n",
              "      <td>False</td>\n",
              "      <td>Carly Richards</td>\n",
              "      <td>crimson.ua.edu</td>\n",
              "      <td>0.0</td>\n",
              "      <td>0.0</td>\n",
              "      <td>Carly</td>\n",
              "      <td>63699.0</td>\n",
              "      <td>160.0</td>\n",
              "      <td>99.75</td>\n",
              "      <td>True</td>\n",
              "    </tr>\n",
              "    <tr>\n",
              "      <th>1349946</th>\n",
              "      <td>00005c29-28fb-d551-c026-3dab0de00002</td>\n",
              "      <td>00000000-5c29-46b7-d551-c0263dad646d</td>\n",
              "      <td>6730</td>\n",
              "      <td>TRI DELTA</td>\n",
              "      <td>40821.0</td>\n",
              "      <td>True</td>\n",
              "      <td>[]</td>\n",
              "      <td>False</td>\n",
              "      <td>[]</td>\n",
              "      <td>False</td>\n",
              "      <td>[]</td>\n",
              "      <td>False</td>\n",
              "      <td>[]</td>\n",
              "      <td>False</td>\n",
              "      <td>[]</td>\n",
              "      <td>False</td>\n",
              "      <td>NaN</td>\n",
              "      <td>False</td>\n",
              "      <td>NaN</td>\n",
              "      <td>False</td>\n",
              "      <td>Julia Clark</td>\n",
              "      <td>comcast.net</td>\n",
              "      <td>0.0</td>\n",
              "      <td>0.0</td>\n",
              "      <td>Julia</td>\n",
              "      <td>459021.0</td>\n",
              "      <td>1737.0</td>\n",
              "      <td>99.62</td>\n",
              "      <td>False</td>\n",
              "    </tr>\n",
              "    <tr>\n",
              "      <th>5198008</th>\n",
              "      <td>d37c67f1-aee5-4463-a29e-76d95ba79c78</td>\n",
              "      <td>68c8934f-bab4-4667-a8e7-2a86da38ad85</td>\n",
              "      <td>6676</td>\n",
              "      <td>Phi Delta Theta (no Memes Plz)</td>\n",
              "      <td>7418.0</td>\n",
              "      <td>True</td>\n",
              "      <td>[]</td>\n",
              "      <td>False</td>\n",
              "      <td>[]</td>\n",
              "      <td>False</td>\n",
              "      <td>[]</td>\n",
              "      <td>False</td>\n",
              "      <td>[]</td>\n",
              "      <td>False</td>\n",
              "      <td>[]</td>\n",
              "      <td>False</td>\n",
              "      <td>Phi Delta Theta</td>\n",
              "      <td>False</td>\n",
              "      <td>Phi Delta Theta</td>\n",
              "      <td>False</td>\n",
              "      <td>Themba Nsubuga</td>\n",
              "      <td>privaterelay.appleid.com</td>\n",
              "      <td>10.0</td>\n",
              "      <td>1751.0</td>\n",
              "      <td>Themba</td>\n",
              "      <td>0.0</td>\n",
              "      <td>5.0</td>\n",
              "      <td>0.00</td>\n",
              "      <td>False</td>\n",
              "    </tr>\n",
              "    <tr>\n",
              "      <th>466193</th>\n",
              "      <td>000056ac-1bfc-8cff-961b-e32764590002</td>\n",
              "      <td>00000000-53c3-f3d4-3dab-0506e1225c45</td>\n",
              "      <td>6093</td>\n",
              "      <td>Anh Khue &amp; Chi Duong's Kids</td>\n",
              "      <td>8064.0</td>\n",
              "      <td>True</td>\n",
              "      <td>[]</td>\n",
              "      <td>False</td>\n",
              "      <td>[]</td>\n",
              "      <td>False</td>\n",
              "      <td>[]</td>\n",
              "      <td>False</td>\n",
              "      <td>[]</td>\n",
              "      <td>False</td>\n",
              "      <td>[]</td>\n",
              "      <td>False</td>\n",
              "      <td>Anh Khue</td>\n",
              "      <td>False</td>\n",
              "      <td>Anh Khue</td>\n",
              "      <td>False</td>\n",
              "      <td>Mai Vu</td>\n",
              "      <td>hotmail.com</td>\n",
              "      <td>0.0</td>\n",
              "      <td>0.0</td>\n",
              "      <td>Mai</td>\n",
              "      <td>5308.0</td>\n",
              "      <td>20.0</td>\n",
              "      <td>99.62</td>\n",
              "      <td>False</td>\n",
              "    </tr>\n",
              "    <tr>\n",
              "      <th>6517959</th>\n",
              "      <td>5ec7bf0a-e3b2-42d7-ba6e-58c9b9069bca</td>\n",
              "      <td>02f3e9f9-ab92-43ff-91cb-fcf7b4e764f9</td>\n",
              "      <td>6062</td>\n",
              "      <td>Pi Kap</td>\n",
              "      <td>6077.0</td>\n",
              "      <td>True</td>\n",
              "      <td>[]</td>\n",
              "      <td>False</td>\n",
              "      <td>[]</td>\n",
              "      <td>False</td>\n",
              "      <td>[]</td>\n",
              "      <td>False</td>\n",
              "      <td>[]</td>\n",
              "      <td>False</td>\n",
              "      <td>[]</td>\n",
              "      <td>False</td>\n",
              "      <td>Pi Kap</td>\n",
              "      <td>False</td>\n",
              "      <td>Pi Kap</td>\n",
              "      <td>False</td>\n",
              "      <td>Antonio Jak</td>\n",
              "      <td>hotmail.com</td>\n",
              "      <td>0.0</td>\n",
              "      <td>0.0</td>\n",
              "      <td>Antonio</td>\n",
              "      <td>1975.0</td>\n",
              "      <td>247925.0</td>\n",
              "      <td>0.79</td>\n",
              "      <td>False</td>\n",
              "    </tr>\n",
              "    <tr>\n",
              "      <th>4979916</th>\n",
              "      <td>657a4da7-e7d9-455c-ae4b-7a23c584a836</td>\n",
              "      <td>d0e59b65-d26c-4018-9748-130492d87ef5</td>\n",
              "      <td>5278</td>\n",
              "      <td>KD Theta Pi 2022</td>\n",
              "      <td>14491.0</td>\n",
              "      <td>True</td>\n",
              "      <td>[]</td>\n",
              "      <td>False</td>\n",
              "      <td>[]</td>\n",
              "      <td>False</td>\n",
              "      <td>[]</td>\n",
              "      <td>False</td>\n",
              "      <td>[]</td>\n",
              "      <td>False</td>\n",
              "      <td>[]</td>\n",
              "      <td>False</td>\n",
              "      <td>Theta Pi</td>\n",
              "      <td>False</td>\n",
              "      <td>Theta Pi</td>\n",
              "      <td>False</td>\n",
              "      <td>Niky Li</td>\n",
              "      <td>gmail.com</td>\n",
              "      <td>20.0</td>\n",
              "      <td>1040.0</td>\n",
              "      <td>Niky</td>\n",
              "      <td>0.0</td>\n",
              "      <td>0.0</td>\n",
              "      <td>50.00</td>\n",
              "      <td>False</td>\n",
              "    </tr>\n",
              "    <tr>\n",
              "      <th>5682632</th>\n",
              "      <td>00005c14-2c98-d551-c026-3d86f0c70002</td>\n",
              "      <td>00000000-5c3c-fa01-d551-c0263da8b003</td>\n",
              "      <td>5233</td>\n",
              "      <td>CHI OMEGA</td>\n",
              "      <td>35904.0</td>\n",
              "      <td>True</td>\n",
              "      <td>[]</td>\n",
              "      <td>False</td>\n",
              "      <td>[]</td>\n",
              "      <td>False</td>\n",
              "      <td>[]</td>\n",
              "      <td>False</td>\n",
              "      <td>[]</td>\n",
              "      <td>False</td>\n",
              "      <td>[]</td>\n",
              "      <td>False</td>\n",
              "      <td>NaN</td>\n",
              "      <td>False</td>\n",
              "      <td>NaN</td>\n",
              "      <td>False</td>\n",
              "      <td>Darcey Drullinger</td>\n",
              "      <td>gmail.com</td>\n",
              "      <td>0.0</td>\n",
              "      <td>0.0</td>\n",
              "      <td>Darcey</td>\n",
              "      <td>1982.0</td>\n",
              "      <td>94.0</td>\n",
              "      <td>95.47</td>\n",
              "      <td>False</td>\n",
              "    </tr>\n",
              "    <tr>\n",
              "      <th>2365692</th>\n",
              "      <td>00005c29-28fb-d551-c026-3dab0de00002</td>\n",
              "      <td>00000000-5d89-208c-f8d1-c149e2c4b701</td>\n",
              "      <td>5108</td>\n",
              "      <td>TRI DELTA</td>\n",
              "      <td>40821.0</td>\n",
              "      <td>True</td>\n",
              "      <td>[]</td>\n",
              "      <td>False</td>\n",
              "      <td>[]</td>\n",
              "      <td>False</td>\n",
              "      <td>[]</td>\n",
              "      <td>False</td>\n",
              "      <td>[]</td>\n",
              "      <td>False</td>\n",
              "      <td>[]</td>\n",
              "      <td>False</td>\n",
              "      <td>NaN</td>\n",
              "      <td>False</td>\n",
              "      <td>NaN</td>\n",
              "      <td>False</td>\n",
              "      <td>Caroline Bacon</td>\n",
              "      <td>gmail.com</td>\n",
              "      <td>3.0</td>\n",
              "      <td>0.0</td>\n",
              "      <td>Caroline</td>\n",
              "      <td>228558.0</td>\n",
              "      <td>308.0</td>\n",
              "      <td>99.87</td>\n",
              "      <td>False</td>\n",
              "    </tr>\n",
              "    <tr>\n",
              "      <th>7310649</th>\n",
              "      <td>00005c01-58f2-d551-c026-3d90a87a0002</td>\n",
              "      <td>c7b385b0-32c4-47ea-8d0f-655377ff16ae</td>\n",
              "      <td>5081</td>\n",
              "      <td>ZTA Nu 2018-2019</td>\n",
              "      <td>33652.0</td>\n",
              "      <td>True</td>\n",
              "      <td>[]</td>\n",
              "      <td>False</td>\n",
              "      <td>[]</td>\n",
              "      <td>False</td>\n",
              "      <td>[]</td>\n",
              "      <td>False</td>\n",
              "      <td>[]</td>\n",
              "      <td>False</td>\n",
              "      <td>[]</td>\n",
              "      <td>False</td>\n",
              "      <td>Nu</td>\n",
              "      <td>False</td>\n",
              "      <td>Nu</td>\n",
              "      <td>False</td>\n",
              "      <td>Grace Calton</td>\n",
              "      <td>crimson.ua.edu</td>\n",
              "      <td>0.0</td>\n",
              "      <td>0.0</td>\n",
              "      <td>Grace</td>\n",
              "      <td>497009.0</td>\n",
              "      <td>1341.0</td>\n",
              "      <td>99.73</td>\n",
              "      <td>True</td>\n",
              "    </tr>\n",
              "    <tr>\n",
              "      <th>435037</th>\n",
              "      <td>12f15317-94a8-4768-8cbc-04c70d3ae702</td>\n",
              "      <td>ed47df2b-6c38-4a66-8934-c439bbf0fb42</td>\n",
              "      <td>5075</td>\n",
              "      <td>BETA XI tri delta</td>\n",
              "      <td>10323.0</td>\n",
              "      <td>True</td>\n",
              "      <td>[]</td>\n",
              "      <td>False</td>\n",
              "      <td>[]</td>\n",
              "      <td>False</td>\n",
              "      <td>[]</td>\n",
              "      <td>False</td>\n",
              "      <td>[]</td>\n",
              "      <td>False</td>\n",
              "      <td>[]</td>\n",
              "      <td>False</td>\n",
              "      <td>tri</td>\n",
              "      <td>False</td>\n",
              "      <td>tri</td>\n",
              "      <td>False</td>\n",
              "      <td>Paige Williams</td>\n",
              "      <td>privaterelay.appleid.com</td>\n",
              "      <td>0.0</td>\n",
              "      <td>0.0</td>\n",
              "      <td>Paige</td>\n",
              "      <td>139506.0</td>\n",
              "      <td>1335.0</td>\n",
              "      <td>99.05</td>\n",
              "      <td>False</td>\n",
              "    </tr>\n",
              "    <tr>\n",
              "      <th>247098</th>\n",
              "      <td>9dc9b44e-4e43-4b9a-9805-915200a40ef9</td>\n",
              "      <td>5ec76f61-3e72-4805-b417-917e1a294b54</td>\n",
              "      <td>4385</td>\n",
              "      <td>AST Beta Eta</td>\n",
              "      <td>11540.0</td>\n",
              "      <td>True</td>\n",
              "      <td>[]</td>\n",
              "      <td>False</td>\n",
              "      <td>[]</td>\n",
              "      <td>False</td>\n",
              "      <td>[]</td>\n",
              "      <td>False</td>\n",
              "      <td>[]</td>\n",
              "      <td>False</td>\n",
              "      <td>[]</td>\n",
              "      <td>False</td>\n",
              "      <td>Beta Eta</td>\n",
              "      <td>False</td>\n",
              "      <td>Beta Eta</td>\n",
              "      <td>False</td>\n",
              "      <td>Madeline James</td>\n",
              "      <td>siue.edu</td>\n",
              "      <td>6.0</td>\n",
              "      <td>0.0</td>\n",
              "      <td>Madeline</td>\n",
              "      <td>187472.0</td>\n",
              "      <td>245.0</td>\n",
              "      <td>99.87</td>\n",
              "      <td>True</td>\n",
              "    </tr>\n",
              "    <tr>\n",
              "      <th>4387741</th>\n",
              "      <td>25d386d0-1219-4e09-ad7a-39cad78ae3da</td>\n",
              "      <td>aaea4bed-f9cb-469c-91b6-a8a137d538c8</td>\n",
              "      <td>4359</td>\n",
              "      <td>Chi O Millsaps</td>\n",
              "      <td>10027.0</td>\n",
              "      <td>True</td>\n",
              "      <td>[]</td>\n",
              "      <td>False</td>\n",
              "      <td>[]</td>\n",
              "      <td>False</td>\n",
              "      <td>[]</td>\n",
              "      <td>False</td>\n",
              "      <td>[]</td>\n",
              "      <td>False</td>\n",
              "      <td>[]</td>\n",
              "      <td>False</td>\n",
              "      <td>Chi</td>\n",
              "      <td>False</td>\n",
              "      <td>Chi</td>\n",
              "      <td>False</td>\n",
              "      <td>Chi O Millsaps</td>\n",
              "      <td>gmail.com</td>\n",
              "      <td>22.0</td>\n",
              "      <td>369.0</td>\n",
              "      <td>Chi</td>\n",
              "      <td>614.0</td>\n",
              "      <td>476.0</td>\n",
              "      <td>56.33</td>\n",
              "      <td>False</td>\n",
              "    </tr>\n",
              "    <tr>\n",
              "      <th>3280183</th>\n",
              "      <td>00005c14-2c98-d551-c026-3d86f0c70002</td>\n",
              "      <td>00000000-5ca4-d0ba-d551-c01e578770d2</td>\n",
              "      <td>4281</td>\n",
              "      <td>CHI OMEGA</td>\n",
              "      <td>35904.0</td>\n",
              "      <td>True</td>\n",
              "      <td>[]</td>\n",
              "      <td>False</td>\n",
              "      <td>[]</td>\n",
              "      <td>False</td>\n",
              "      <td>[]</td>\n",
              "      <td>False</td>\n",
              "      <td>[]</td>\n",
              "      <td>False</td>\n",
              "      <td>[]</td>\n",
              "      <td>False</td>\n",
              "      <td>NaN</td>\n",
              "      <td>False</td>\n",
              "      <td>NaN</td>\n",
              "      <td>False</td>\n",
              "      <td>Macey Drullinger</td>\n",
              "      <td>gmail.com</td>\n",
              "      <td>0.0</td>\n",
              "      <td>0.0</td>\n",
              "      <td>Macey</td>\n",
              "      <td>10566.0</td>\n",
              "      <td>51.0</td>\n",
              "      <td>99.52</td>\n",
              "      <td>False</td>\n",
              "    </tr>\n",
              "    <tr>\n",
              "      <th>3328160</th>\n",
              "      <td>fc3d7981-7832-40a7-8238-6e77a0827179</td>\n",
              "      <td>290606dc-2360-4eee-9b01-79c33a085516</td>\n",
              "      <td>4277</td>\n",
              "      <td>Theta</td>\n",
              "      <td>18353.0</td>\n",
              "      <td>True</td>\n",
              "      <td>[]</td>\n",
              "      <td>False</td>\n",
              "      <td>[]</td>\n",
              "      <td>False</td>\n",
              "      <td>[]</td>\n",
              "      <td>False</td>\n",
              "      <td>[]</td>\n",
              "      <td>False</td>\n",
              "      <td>[]</td>\n",
              "      <td>False</td>\n",
              "      <td>Theta</td>\n",
              "      <td>False</td>\n",
              "      <td>Theta</td>\n",
              "      <td>False</td>\n",
              "      <td>Sophia Garofalo</td>\n",
              "      <td>gmail.com</td>\n",
              "      <td>20.0</td>\n",
              "      <td>1301.0</td>\n",
              "      <td>Sophia</td>\n",
              "      <td>350103.0</td>\n",
              "      <td>440.0</td>\n",
              "      <td>99.87</td>\n",
              "      <td>False</td>\n",
              "    </tr>\n",
              "    <tr>\n",
              "      <th>1059807</th>\n",
              "      <td>00005e3d-9625-78bb-8958-02f727020002</td>\n",
              "      <td>e3f9879a-55ec-48ae-85cd-a4f27b87837b</td>\n",
              "      <td>4171</td>\n",
              "      <td>Pi Beta Phi</td>\n",
              "      <td>21871.0</td>\n",
              "      <td>True</td>\n",
              "      <td>[]</td>\n",
              "      <td>False</td>\n",
              "      <td>[]</td>\n",
              "      <td>False</td>\n",
              "      <td>[]</td>\n",
              "      <td>False</td>\n",
              "      <td>[]</td>\n",
              "      <td>False</td>\n",
              "      <td>[]</td>\n",
              "      <td>False</td>\n",
              "      <td>Pi Beta Phi</td>\n",
              "      <td>False</td>\n",
              "      <td>Pi Beta Phi</td>\n",
              "      <td>False</td>\n",
              "      <td>Anna Philpot</td>\n",
              "      <td>comcast.net</td>\n",
              "      <td>11.0</td>\n",
              "      <td>940.0</td>\n",
              "      <td>Anna</td>\n",
              "      <td>892785.0</td>\n",
              "      <td>2746.0</td>\n",
              "      <td>99.69</td>\n",
              "      <td>False</td>\n",
              "    </tr>\n",
              "    <tr>\n",
              "      <th>4889912</th>\n",
              "      <td>00005e3d-9625-78bb-8958-02f727020002</td>\n",
              "      <td>b7048864-020f-43d5-9c9c-8c1416bf4ef0</td>\n",
              "      <td>4157</td>\n",
              "      <td>Pi Beta Phi</td>\n",
              "      <td>21871.0</td>\n",
              "      <td>True</td>\n",
              "      <td>[]</td>\n",
              "      <td>False</td>\n",
              "      <td>[]</td>\n",
              "      <td>False</td>\n",
              "      <td>[]</td>\n",
              "      <td>False</td>\n",
              "      <td>[]</td>\n",
              "      <td>False</td>\n",
              "      <td>[]</td>\n",
              "      <td>False</td>\n",
              "      <td>Pi Beta Phi</td>\n",
              "      <td>False</td>\n",
              "      <td>Pi Beta Phi</td>\n",
              "      <td>False</td>\n",
              "      <td>Payton Dedeaux</td>\n",
              "      <td>bellsouth.net</td>\n",
              "      <td>2.0</td>\n",
              "      <td>100.0</td>\n",
              "      <td>Payton</td>\n",
              "      <td>52437.0</td>\n",
              "      <td>23719.0</td>\n",
              "      <td>68.85</td>\n",
              "      <td>False</td>\n",
              "    </tr>\n",
              "    <tr>\n",
              "      <th>3882210</th>\n",
              "      <td>b89c0ab9-feb1-4bbb-948f-a62fe1a1235f</td>\n",
              "      <td>f9dae5e1-6b4d-41fe-99f9-16078dc0f159</td>\n",
              "      <td>3985</td>\n",
              "      <td>Phi mu bitches</td>\n",
              "      <td>9681.0</td>\n",
              "      <td>True</td>\n",
              "      <td>[]</td>\n",
              "      <td>False</td>\n",
              "      <td>[]</td>\n",
              "      <td>False</td>\n",
              "      <td>[]</td>\n",
              "      <td>False</td>\n",
              "      <td>[]</td>\n",
              "      <td>False</td>\n",
              "      <td>[]</td>\n",
              "      <td>False</td>\n",
              "      <td>Phi</td>\n",
              "      <td>False</td>\n",
              "      <td>Phi</td>\n",
              "      <td>False</td>\n",
              "      <td>Catherine Jones</td>\n",
              "      <td>gmail.com</td>\n",
              "      <td>9.0</td>\n",
              "      <td>468.0</td>\n",
              "      <td>Catherine</td>\n",
              "      <td>660366.0</td>\n",
              "      <td>1823.0</td>\n",
              "      <td>99.72</td>\n",
              "      <td>False</td>\n",
              "    </tr>\n",
              "  </tbody>\n",
              "</table>\n",
              "</div>\n",
              "      <button class=\"colab-df-convert\" onclick=\"convertToInteractive('df-6bfd7894-030b-4651-9b07-2f5784c28b56')\"\n",
              "              title=\"Convert this dataframe to an interactive table.\"\n",
              "              style=\"display:none;\">\n",
              "        \n",
              "  <svg xmlns=\"http://www.w3.org/2000/svg\" height=\"24px\"viewBox=\"0 0 24 24\"\n",
              "       width=\"24px\">\n",
              "    <path d=\"M0 0h24v24H0V0z\" fill=\"none\"/>\n",
              "    <path d=\"M18.56 5.44l.94 2.06.94-2.06 2.06-.94-2.06-.94-.94-2.06-.94 2.06-2.06.94zm-11 1L8.5 8.5l.94-2.06 2.06-.94-2.06-.94L8.5 2.5l-.94 2.06-2.06.94zm10 10l.94 2.06.94-2.06 2.06-.94-2.06-.94-.94-2.06-.94 2.06-2.06.94z\"/><path d=\"M17.41 7.96l-1.37-1.37c-.4-.4-.92-.59-1.43-.59-.52 0-1.04.2-1.43.59L10.3 9.45l-7.72 7.72c-.78.78-.78 2.05 0 2.83L4 21.41c.39.39.9.59 1.41.59.51 0 1.02-.2 1.41-.59l7.78-7.78 2.81-2.81c.8-.78.8-2.07 0-2.86zM5.41 20L4 18.59l7.72-7.72 1.47 1.35L5.41 20z\"/>\n",
              "  </svg>\n",
              "      </button>\n",
              "      \n",
              "  <style>\n",
              "    .colab-df-container {\n",
              "      display:flex;\n",
              "      flex-wrap:wrap;\n",
              "      gap: 12px;\n",
              "    }\n",
              "\n",
              "    .colab-df-convert {\n",
              "      background-color: #E8F0FE;\n",
              "      border: none;\n",
              "      border-radius: 50%;\n",
              "      cursor: pointer;\n",
              "      display: none;\n",
              "      fill: #1967D2;\n",
              "      height: 32px;\n",
              "      padding: 0 0 0 0;\n",
              "      width: 32px;\n",
              "    }\n",
              "\n",
              "    .colab-df-convert:hover {\n",
              "      background-color: #E2EBFA;\n",
              "      box-shadow: 0px 1px 2px rgba(60, 64, 67, 0.3), 0px 1px 3px 1px rgba(60, 64, 67, 0.15);\n",
              "      fill: #174EA6;\n",
              "    }\n",
              "\n",
              "    [theme=dark] .colab-df-convert {\n",
              "      background-color: #3B4455;\n",
              "      fill: #D2E3FC;\n",
              "    }\n",
              "\n",
              "    [theme=dark] .colab-df-convert:hover {\n",
              "      background-color: #434B5C;\n",
              "      box-shadow: 0px 1px 3px 1px rgba(0, 0, 0, 0.15);\n",
              "      filter: drop-shadow(0px 1px 2px rgba(0, 0, 0, 0.3));\n",
              "      fill: #FFFFFF;\n",
              "    }\n",
              "  </style>\n",
              "\n",
              "      <script>\n",
              "        const buttonEl =\n",
              "          document.querySelector('#df-6bfd7894-030b-4651-9b07-2f5784c28b56 button.colab-df-convert');\n",
              "        buttonEl.style.display =\n",
              "          google.colab.kernel.accessAllowed ? 'block' : 'none';\n",
              "\n",
              "        async function convertToInteractive(key) {\n",
              "          const element = document.querySelector('#df-6bfd7894-030b-4651-9b07-2f5784c28b56');\n",
              "          const dataTable =\n",
              "            await google.colab.kernel.invokeFunction('convertToInteractive',\n",
              "                                                     [key], {});\n",
              "          if (!dataTable) return;\n",
              "\n",
              "          const docLinkHtml = 'Like what you see? Visit the ' +\n",
              "            '<a target=\"_blank\" href=https://colab.research.google.com/notebooks/data_table.ipynb>data table notebook</a>'\n",
              "            + ' to learn more about interactive tables.';\n",
              "          element.innerHTML = '';\n",
              "          dataTable['output_type'] = 'display_data';\n",
              "          await google.colab.output.renderOutput(dataTable, element);\n",
              "          const docLink = document.createElement('div');\n",
              "          docLink.innerHTML = docLinkHtml;\n",
              "          element.appendChild(docLink);\n",
              "        }\n",
              "      </script>\n",
              "    </div>\n",
              "  </div>\n",
              "  "
            ]
          },
          "metadata": {},
          "execution_count": 50
        }
      ]
    },
    {
      "cell_type": "code",
      "source": [
        "data.loc[data['has_greek_words'].notnull() & data['has_greek_words']] \\\n",
        "  [['first_name','media_added_count_x']] \\\n",
        "  .sort_values(by = 'media_added_count_x', ascending=False) \\\n",
        "  .head(10)"
      ],
      "metadata": {
        "colab": {
          "base_uri": "https://localhost:8080/",
          "height": 359
        },
        "id": "jeYKRUu1ur50",
        "outputId": "fd1f1409-1b8e-445e-be95-4f94affc1017"
      },
      "execution_count": null,
      "outputs": [
        {
          "output_type": "execute_result",
          "data": {
            "text/plain": [
              "        first_name  media_added_count_x\n",
              "632733        Abby                13442\n",
              "4543803      Kappa                 8444\n",
              "3172562       Emma                 7923\n",
              "4220424      Carly                 6802\n",
              "1349946      Julia                 6730\n",
              "5198008     Themba                 6676\n",
              "466193         Mai                 6093\n",
              "6517959    Antonio                 6062\n",
              "4979916       Niky                 5278\n",
              "5682632     Darcey                 5233"
            ],
            "text/html": [
              "\n",
              "  <div id=\"df-5797424a-ddb9-4c36-bd83-ad285155c14c\">\n",
              "    <div class=\"colab-df-container\">\n",
              "      <div>\n",
              "<style scoped>\n",
              "    .dataframe tbody tr th:only-of-type {\n",
              "        vertical-align: middle;\n",
              "    }\n",
              "\n",
              "    .dataframe tbody tr th {\n",
              "        vertical-align: top;\n",
              "    }\n",
              "\n",
              "    .dataframe thead th {\n",
              "        text-align: right;\n",
              "    }\n",
              "</style>\n",
              "<table border=\"1\" class=\"dataframe\">\n",
              "  <thead>\n",
              "    <tr style=\"text-align: right;\">\n",
              "      <th></th>\n",
              "      <th>first_name</th>\n",
              "      <th>media_added_count_x</th>\n",
              "    </tr>\n",
              "  </thead>\n",
              "  <tbody>\n",
              "    <tr>\n",
              "      <th>632733</th>\n",
              "      <td>Abby</td>\n",
              "      <td>13442</td>\n",
              "    </tr>\n",
              "    <tr>\n",
              "      <th>4543803</th>\n",
              "      <td>Kappa</td>\n",
              "      <td>8444</td>\n",
              "    </tr>\n",
              "    <tr>\n",
              "      <th>3172562</th>\n",
              "      <td>Emma</td>\n",
              "      <td>7923</td>\n",
              "    </tr>\n",
              "    <tr>\n",
              "      <th>4220424</th>\n",
              "      <td>Carly</td>\n",
              "      <td>6802</td>\n",
              "    </tr>\n",
              "    <tr>\n",
              "      <th>1349946</th>\n",
              "      <td>Julia</td>\n",
              "      <td>6730</td>\n",
              "    </tr>\n",
              "    <tr>\n",
              "      <th>5198008</th>\n",
              "      <td>Themba</td>\n",
              "      <td>6676</td>\n",
              "    </tr>\n",
              "    <tr>\n",
              "      <th>466193</th>\n",
              "      <td>Mai</td>\n",
              "      <td>6093</td>\n",
              "    </tr>\n",
              "    <tr>\n",
              "      <th>6517959</th>\n",
              "      <td>Antonio</td>\n",
              "      <td>6062</td>\n",
              "    </tr>\n",
              "    <tr>\n",
              "      <th>4979916</th>\n",
              "      <td>Niky</td>\n",
              "      <td>5278</td>\n",
              "    </tr>\n",
              "    <tr>\n",
              "      <th>5682632</th>\n",
              "      <td>Darcey</td>\n",
              "      <td>5233</td>\n",
              "    </tr>\n",
              "  </tbody>\n",
              "</table>\n",
              "</div>\n",
              "      <button class=\"colab-df-convert\" onclick=\"convertToInteractive('df-5797424a-ddb9-4c36-bd83-ad285155c14c')\"\n",
              "              title=\"Convert this dataframe to an interactive table.\"\n",
              "              style=\"display:none;\">\n",
              "        \n",
              "  <svg xmlns=\"http://www.w3.org/2000/svg\" height=\"24px\"viewBox=\"0 0 24 24\"\n",
              "       width=\"24px\">\n",
              "    <path d=\"M0 0h24v24H0V0z\" fill=\"none\"/>\n",
              "    <path d=\"M18.56 5.44l.94 2.06.94-2.06 2.06-.94-2.06-.94-.94-2.06-.94 2.06-2.06.94zm-11 1L8.5 8.5l.94-2.06 2.06-.94-2.06-.94L8.5 2.5l-.94 2.06-2.06.94zm10 10l.94 2.06.94-2.06 2.06-.94-2.06-.94-.94-2.06-.94 2.06-2.06.94z\"/><path d=\"M17.41 7.96l-1.37-1.37c-.4-.4-.92-.59-1.43-.59-.52 0-1.04.2-1.43.59L10.3 9.45l-7.72 7.72c-.78.78-.78 2.05 0 2.83L4 21.41c.39.39.9.59 1.41.59.51 0 1.02-.2 1.41-.59l7.78-7.78 2.81-2.81c.8-.78.8-2.07 0-2.86zM5.41 20L4 18.59l7.72-7.72 1.47 1.35L5.41 20z\"/>\n",
              "  </svg>\n",
              "      </button>\n",
              "      \n",
              "  <style>\n",
              "    .colab-df-container {\n",
              "      display:flex;\n",
              "      flex-wrap:wrap;\n",
              "      gap: 12px;\n",
              "    }\n",
              "\n",
              "    .colab-df-convert {\n",
              "      background-color: #E8F0FE;\n",
              "      border: none;\n",
              "      border-radius: 50%;\n",
              "      cursor: pointer;\n",
              "      display: none;\n",
              "      fill: #1967D2;\n",
              "      height: 32px;\n",
              "      padding: 0 0 0 0;\n",
              "      width: 32px;\n",
              "    }\n",
              "\n",
              "    .colab-df-convert:hover {\n",
              "      background-color: #E2EBFA;\n",
              "      box-shadow: 0px 1px 2px rgba(60, 64, 67, 0.3), 0px 1px 3px 1px rgba(60, 64, 67, 0.15);\n",
              "      fill: #174EA6;\n",
              "    }\n",
              "\n",
              "    [theme=dark] .colab-df-convert {\n",
              "      background-color: #3B4455;\n",
              "      fill: #D2E3FC;\n",
              "    }\n",
              "\n",
              "    [theme=dark] .colab-df-convert:hover {\n",
              "      background-color: #434B5C;\n",
              "      box-shadow: 0px 1px 3px 1px rgba(0, 0, 0, 0.15);\n",
              "      filter: drop-shadow(0px 1px 2px rgba(0, 0, 0, 0.3));\n",
              "      fill: #FFFFFF;\n",
              "    }\n",
              "  </style>\n",
              "\n",
              "      <script>\n",
              "        const buttonEl =\n",
              "          document.querySelector('#df-5797424a-ddb9-4c36-bd83-ad285155c14c button.colab-df-convert');\n",
              "        buttonEl.style.display =\n",
              "          google.colab.kernel.accessAllowed ? 'block' : 'none';\n",
              "\n",
              "        async function convertToInteractive(key) {\n",
              "          const element = document.querySelector('#df-5797424a-ddb9-4c36-bd83-ad285155c14c');\n",
              "          const dataTable =\n",
              "            await google.colab.kernel.invokeFunction('convertToInteractive',\n",
              "                                                     [key], {});\n",
              "          if (!dataTable) return;\n",
              "\n",
              "          const docLinkHtml = 'Like what you see? Visit the ' +\n",
              "            '<a target=\"_blank\" href=https://colab.research.google.com/notebooks/data_table.ipynb>data table notebook</a>'\n",
              "            + ' to learn more about interactive tables.';\n",
              "          element.innerHTML = '';\n",
              "          dataTable['output_type'] = 'display_data';\n",
              "          await google.colab.output.renderOutput(dataTable, element);\n",
              "          const docLink = document.createElement('div');\n",
              "          docLink.innerHTML = docLinkHtml;\n",
              "          element.appendChild(docLink);\n",
              "        }\n",
              "      </script>\n",
              "    </div>\n",
              "  </div>\n",
              "  "
            ]
          },
          "metadata": {},
          "execution_count": 51
        }
      ]
    },
    {
      "cell_type": "code",
      "source": [
        "data.loc[data['has_greek_words'].notnull() & data['has_greek_words']] \\\n",
        "  .groupby('title')['media_added_count_x'] \\\n",
        "  .agg('sum') \\\n",
        "  .sort_values(ascending=False) \\\n",
        "  .head(10)"
      ],
      "metadata": {
        "colab": {
          "base_uri": "https://localhost:8080/"
        },
        "id": "AtXJcnFUr9wI",
        "outputId": "936efbea-f6de-4df7-d246-8335bd7ef5ba"
      },
      "execution_count": null,
      "outputs": [
        {
          "output_type": "execute_result",
          "data": {
            "text/plain": [
              "title\n",
              "Alpha Phi            207110\n",
              "Kappa Delta          165351\n",
              "Alpha Chi Omega      108826\n",
              "Gamma Phi Beta       108436\n",
              "Alpha Delta Pi        99205\n",
              "Pi Beta Phi           97134\n",
              "Alpha Gamma Delta     84750\n",
              "Tri Delta             83768\n",
              "Chi Omega             77808\n",
              "Delta Gamma           76715\n",
              "Name: media_added_count_x, dtype: int64"
            ]
          },
          "metadata": {},
          "execution_count": 52
        }
      ]
    },
    {
      "cell_type": "code",
      "source": [
        "# data.to_csv('/content/drive/MyDrive/data.csv', index=False)"
      ],
      "metadata": {
        "id": "reTGKTpCJh4T"
      },
      "execution_count": null,
      "outputs": []
    },
    {
      "cell_type": "markdown",
      "source": [
        "#**Real Estate words analysis**"
      ],
      "metadata": {
        "id": "NuMx9b6xdGAU"
      }
    },
    {
      "cell_type": "code",
      "source": [
        "len(data[ (data['is_real_estate']) & (data['female_pct']>50)]['user_uuid'].unique()) # female real estate members"
      ],
      "metadata": {
        "colab": {
          "base_uri": "https://localhost:8080/"
        },
        "outputId": "8cdf0812-7128-4b0d-c9d9-5fcbe5183808",
        "id": "L13Uxd9Jb5ug"
      },
      "execution_count": null,
      "outputs": [
        {
          "output_type": "execute_result",
          "data": {
            "text/plain": [
              "3374"
            ]
          },
          "metadata": {},
          "execution_count": 54
        }
      ]
    },
    {
      "cell_type": "code",
      "source": [
        "len(data[data['is_real_estate']]['circle_uuid'].unique()) # total unique real estate circles"
      ],
      "metadata": {
        "colab": {
          "base_uri": "https://localhost:8080/"
        },
        "outputId": "b116a4f1-8bc8-4642-d3f4-8c31c78057ad",
        "id": "lX-A9ZNVb5uq"
      },
      "execution_count": null,
      "outputs": [
        {
          "output_type": "execute_result",
          "data": {
            "text/plain": [
              "1103"
            ]
          },
          "metadata": {},
          "execution_count": 55
        }
      ]
    },
    {
      "cell_type": "code",
      "source": [
        "len(data[data['is_real_estate']]['user_uuid'].unique()) # total unique real estate members"
      ],
      "metadata": {
        "colab": {
          "base_uri": "https://localhost:8080/"
        },
        "outputId": "a2d00698-e6ff-400e-ea55-1e68171213b7",
        "id": "UkrVdcRIb5ur"
      },
      "execution_count": null,
      "outputs": [
        {
          "output_type": "execute_result",
          "data": {
            "text/plain": [
              "5075"
            ]
          },
          "metadata": {},
          "execution_count": 56
        }
      ]
    },
    {
      "cell_type": "code",
      "source": [
        "len(data['user_uuid'].unique()) # total unique users"
      ],
      "metadata": {
        "colab": {
          "base_uri": "https://localhost:8080/"
        },
        "outputId": "2ca0eea2-22b3-4cd6-c00c-4764a67cac04",
        "id": "jkhzpaNub5us"
      },
      "execution_count": null,
      "outputs": [
        {
          "output_type": "execute_result",
          "data": {
            "text/plain": [
              "3762492"
            ]
          },
          "metadata": {},
          "execution_count": 57
        }
      ]
    },
    {
      "cell_type": "code",
      "source": [
        "3762492-5075 # total non real estate members"
      ],
      "metadata": {
        "colab": {
          "base_uri": "https://localhost:8080/"
        },
        "outputId": "35431f16-50a5-4004-ac3b-8fe6741d2d0c",
        "id": "ySG0O-Fdb5us"
      },
      "execution_count": null,
      "outputs": [
        {
          "output_type": "execute_result",
          "data": {
            "text/plain": [
              "3757417"
            ]
          },
          "metadata": {},
          "execution_count": 59
        }
      ]
    },
    {
      "cell_type": "code",
      "source": [
        "round(3374/5075*100,2) # % female real estate users"
      ],
      "metadata": {
        "colab": {
          "base_uri": "https://localhost:8080/"
        },
        "outputId": "fa1af5f3-b800-4097-e8de-aec302f9aacd",
        "id": "Vx5AJ_mmb5us"
      },
      "execution_count": null,
      "outputs": [
        {
          "output_type": "execute_result",
          "data": {
            "text/plain": [
              "66.48"
            ]
          },
          "metadata": {},
          "execution_count": 61
        }
      ]
    },
    {
      "cell_type": "code",
      "source": [
        "len(data[data['is_real_estate']]['user_uuid'].unique())/len(data['user_uuid'].unique())*100 # % real estate users"
      ],
      "metadata": {
        "colab": {
          "base_uri": "https://localhost:8080/"
        },
        "outputId": "31829faa-2212-45f8-be64-b1d8441e1ea4",
        "id": "NoVLsJyab5ut"
      },
      "execution_count": null,
      "outputs": [
        {
          "output_type": "execute_result",
          "data": {
            "text/plain": [
              "0.13488400772679385"
            ]
          },
          "metadata": {},
          "execution_count": 62
        }
      ]
    },
    {
      "cell_type": "code",
      "source": [
        "len(data[data['is_real_estate']]['circle_uuid'].unique())/len(data['circle_uuid'].unique())*100 # % real estate circles"
      ],
      "metadata": {
        "colab": {
          "base_uri": "https://localhost:8080/"
        },
        "outputId": "71e79e9d-bb95-49dc-b3a4-5d4d024dc985",
        "id": "jcJDtJiFb5ut"
      },
      "execution_count": null,
      "outputs": [
        {
          "output_type": "execute_result",
          "data": {
            "text/plain": [
              "0.05400014785171941"
            ]
          },
          "metadata": {},
          "execution_count": 63
        }
      ]
    },
    {
      "cell_type": "code",
      "source": [
        "data[data['is_real_estate']]['media_added_count_x'].sum() # Total real estate circles media contributions"
      ],
      "metadata": {
        "colab": {
          "base_uri": "https://localhost:8080/"
        },
        "outputId": "91507213-1297-442a-e2e6-271215397a4d",
        "id": "EpY8kTfRb5uu"
      },
      "execution_count": null,
      "outputs": [
        {
          "output_type": "execute_result",
          "data": {
            "text/plain": [
              "141542"
            ]
          },
          "metadata": {},
          "execution_count": 66
        }
      ]
    },
    {
      "cell_type": "code",
      "source": [
        "data['media_added_count_x'].sum() # Total media contributions"
      ],
      "metadata": {
        "colab": {
          "base_uri": "https://localhost:8080/"
        },
        "outputId": "a6739008-f173-4a0e-dacc-3f110e0c05e2",
        "id": "wFs7y-x4b5uu"
      },
      "execution_count": null,
      "outputs": [
        {
          "output_type": "execute_result",
          "data": {
            "text/plain": [
              "341813280"
            ]
          },
          "metadata": {},
          "execution_count": 67
        }
      ]
    },
    {
      "cell_type": "code",
      "source": [
        "341813280-141542 # Total non real estate media contributions"
      ],
      "metadata": {
        "colab": {
          "base_uri": "https://localhost:8080/"
        },
        "id": "Miy_DeKhevpB",
        "outputId": "7c17ea32-0ec9-4c30-98fb-fa3d96b01857"
      },
      "execution_count": null,
      "outputs": [
        {
          "output_type": "execute_result",
          "data": {
            "text/plain": [
              "341671738"
            ]
          },
          "metadata": {},
          "execution_count": 76
        }
      ]
    },
    {
      "cell_type": "code",
      "source": [
        "round(141542/341813280*100,2) # % total real estate circles media contributions"
      ],
      "metadata": {
        "colab": {
          "base_uri": "https://localhost:8080/"
        },
        "id": "Zx5mBrP8bwMw",
        "outputId": "6944b711-8331-481d-abd0-af025e1f5959"
      },
      "execution_count": null,
      "outputs": [
        {
          "output_type": "execute_result",
          "data": {
            "text/plain": [
              "0.04"
            ]
          },
          "metadata": {},
          "execution_count": 68
        }
      ]
    },
    {
      "cell_type": "code",
      "source": [
        "len(data.loc[data['is_real_estate']].sort_values(['active_count_in_last_30_days','media_added_count_y'], ascending=False))"
      ],
      "metadata": {
        "colab": {
          "base_uri": "https://localhost:8080/"
        },
        "outputId": "1e02c26c-7dce-4ed6-d41c-8ad702424bb0",
        "id": "qz86ihdedVvy"
      },
      "execution_count": null,
      "outputs": [
        {
          "output_type": "execute_result",
          "data": {
            "text/plain": [
              "5463"
            ]
          },
          "metadata": {},
          "execution_count": 69
        }
      ]
    },
    {
      "cell_type": "code",
      "source": [
        "len(data.loc[(data['is_real_estate']) & (data['active_count_in_last_30_days'] < 10)] \\\n",
        "    ['user_uuid'].unique())"
      ],
      "metadata": {
        "colab": {
          "base_uri": "https://localhost:8080/"
        },
        "outputId": "b02e1783-8159-4948-b157-61e8c8478090",
        "id": "-XmYYcTsdVv8"
      },
      "execution_count": null,
      "outputs": [
        {
          "output_type": "execute_result",
          "data": {
            "text/plain": [
              "4516"
            ]
          },
          "metadata": {},
          "execution_count": 70
        }
      ]
    },
    {
      "cell_type": "code",
      "source": [
        "len(data.loc[(data['is_real_estate']) & (data['active_count_in_last_30_days'].between(10,19))] \\\n",
        "    ['user_uuid'].unique())"
      ],
      "metadata": {
        "colab": {
          "base_uri": "https://localhost:8080/"
        },
        "outputId": "98f0238c-e17b-4820-8b50-fa11244a3c65",
        "id": "Q_9TnsB2dVv9"
      },
      "execution_count": null,
      "outputs": [
        {
          "output_type": "execute_result",
          "data": {
            "text/plain": [
              "388"
            ]
          },
          "metadata": {},
          "execution_count": 71
        }
      ]
    },
    {
      "cell_type": "code",
      "source": [
        "len(data.loc[(data['is_real_estate']) & (data['active_count_in_last_30_days'].between(20,29))] \\\n",
        "    ['user_uuid'].unique())"
      ],
      "metadata": {
        "colab": {
          "base_uri": "https://localhost:8080/"
        },
        "outputId": "caf1441b-de74-46a6-e9ed-4215e75b7162",
        "id": "CFSkHM42dVv-"
      },
      "execution_count": null,
      "outputs": [
        {
          "output_type": "execute_result",
          "data": {
            "text/plain": [
              "155"
            ]
          },
          "metadata": {},
          "execution_count": 72
        }
      ]
    },
    {
      "cell_type": "code",
      "source": [
        "len(data.loc[(data['is_real_estate']) & (data['active_count_in_last_30_days']==30)] \\\n",
        "    ['user_uuid'].unique())"
      ],
      "metadata": {
        "colab": {
          "base_uri": "https://localhost:8080/"
        },
        "outputId": "b88e0741-1a31-4d02-9b5e-b32536837374",
        "id": "x8tUApPLdVv-"
      },
      "execution_count": null,
      "outputs": [
        {
          "output_type": "execute_result",
          "data": {
            "text/plain": [
              "16"
            ]
          },
          "metadata": {},
          "execution_count": 73
        }
      ]
    },
    {
      "cell_type": "code",
      "source": [
        "data.loc[data['is_real_estate']].sort_values('media_added_count_x', ascending=False).head(5)"
      ],
      "metadata": {
        "colab": {
          "base_uri": "https://localhost:8080/",
          "height": 523
        },
        "outputId": "7ff4b90e-2386-4348-85f7-6837f0977e4d",
        "id": "DY9ltHJidVv_"
      },
      "execution_count": null,
      "outputs": [
        {
          "output_type": "execute_result",
          "data": {
            "text/plain": [
              "                                  circle_uuid  \\\n",
              "6023734  000059ad-df3e-d551-c013-42bb81a00002   \n",
              "1261788  00005d3c-f912-f8d1-c143-ea749de40002   \n",
              "7659363  2435b5d0-7982-4822-976b-18d12357b338   \n",
              "3823601  00005aad-52cc-d551-c00b-260d2f820002   \n",
              "1903750  5da0ed9d-5a66-4cd7-aa36-c726bb0bf65a   \n",
              "\n",
              "                                    user_uuid  media_added_count_x  \\\n",
              "6023734  00000000-53b5-cdaa-3dab-0506e1e959c0                 1326   \n",
              "1261788  00000000-558f-42d5-9577-9c042429d326                 1214   \n",
              "7659363  a0cb5dda-80d8-4659-8f81-24cce6582e2b                 1134   \n",
              "3823601  00000000-59f4-9285-d551-c060463c81e5                 1112   \n",
              "1903750  897596fb-2cbb-4350-b8af-115f1be0fef6                 1091   \n",
              "\n",
              "                                     title  media_count  has_greek_words  \\\n",
              "6023734                 six floor hunnies        1940.0            False   \n",
              "1261788                         Boat build       1219.0            False   \n",
              "7659363                        In da house       1246.0            False   \n",
              "3823601                      packing house       1112.0            False   \n",
              "1903750  Ireland’s ATA In-house Tournament       1120.0            False   \n",
              "\n",
              "        real_estate_keywords  is_real_estate solar_keywords  is_solar  \\\n",
              "6023734            ['floor']            True             []     False   \n",
              "1261788            ['build']            True             []     False   \n",
              "7659363            ['house']            True             []     False   \n",
              "3823601            ['house']            True             []     False   \n",
              "1903750            ['house']            True             []     False   \n",
              "\n",
              "        event_keywords  is_event occupation_keywords  is_occupation  \\\n",
              "6023734             []     False                  []          False   \n",
              "1261788             []     False                  []          False   \n",
              "7659363             []     False                  []          False   \n",
              "3823601             []     False                  []          False   \n",
              "1903750             []     False                  []          False   \n",
              "\n",
              "        animal_keywords  is_animal destination_names  is_travel  \\\n",
              "6023734              []      False               six      False   \n",
              "1261788              []      False              Boat      False   \n",
              "7659363              []      False                In      False   \n",
              "3823601              []      False           packing      False   \n",
              "1903750              []      False           Ireland      False   \n",
              "\n",
              "        location_names  is_location       display_name   email_domain  \\\n",
              "6023734            six        False   Alexandra Martin      gmail.com   \n",
              "1261788           Boat        False  Frank  Rodriguez   bellsouth.net   \n",
              "7659363             In        False    KayBob MomPants      gmail.com   \n",
              "3823601        packing        False       Jackie Zhang      yahoo.com   \n",
              "1903750        Ireland        False         Kim Schwab      gmail.com   \n",
              "\n",
              "         active_count_in_last_30_days  media_added_count_y first_name  \\\n",
              "6023734                          10.0                228.0  Alexandra   \n",
              "1261788                          29.0                260.0      Frank   \n",
              "7659363                           0.0                  0.0     KayBob   \n",
              "3823601                           1.0                  0.0     Jackie   \n",
              "1903750                           7.0                124.0        Kim   \n",
              "\n",
              "         num_female  num_male  female_pct  is_student  \n",
              "6023734    233781.0     859.0       99.63       False  \n",
              "1261788      4611.0  911169.0        0.50       False  \n",
              "7659363         0.0       0.0       50.00       False  \n",
              "3823601     90705.0   78494.0       53.61       False  \n",
              "1903750    179526.0   34879.0       83.73       False  "
            ],
            "text/html": [
              "\n",
              "  <div id=\"df-0b199b2c-8156-43ad-b97b-ea6684fdbdb5\">\n",
              "    <div class=\"colab-df-container\">\n",
              "      <div>\n",
              "<style scoped>\n",
              "    .dataframe tbody tr th:only-of-type {\n",
              "        vertical-align: middle;\n",
              "    }\n",
              "\n",
              "    .dataframe tbody tr th {\n",
              "        vertical-align: top;\n",
              "    }\n",
              "\n",
              "    .dataframe thead th {\n",
              "        text-align: right;\n",
              "    }\n",
              "</style>\n",
              "<table border=\"1\" class=\"dataframe\">\n",
              "  <thead>\n",
              "    <tr style=\"text-align: right;\">\n",
              "      <th></th>\n",
              "      <th>circle_uuid</th>\n",
              "      <th>user_uuid</th>\n",
              "      <th>media_added_count_x</th>\n",
              "      <th>title</th>\n",
              "      <th>media_count</th>\n",
              "      <th>has_greek_words</th>\n",
              "      <th>real_estate_keywords</th>\n",
              "      <th>is_real_estate</th>\n",
              "      <th>solar_keywords</th>\n",
              "      <th>is_solar</th>\n",
              "      <th>event_keywords</th>\n",
              "      <th>is_event</th>\n",
              "      <th>occupation_keywords</th>\n",
              "      <th>is_occupation</th>\n",
              "      <th>animal_keywords</th>\n",
              "      <th>is_animal</th>\n",
              "      <th>destination_names</th>\n",
              "      <th>is_travel</th>\n",
              "      <th>location_names</th>\n",
              "      <th>is_location</th>\n",
              "      <th>display_name</th>\n",
              "      <th>email_domain</th>\n",
              "      <th>active_count_in_last_30_days</th>\n",
              "      <th>media_added_count_y</th>\n",
              "      <th>first_name</th>\n",
              "      <th>num_female</th>\n",
              "      <th>num_male</th>\n",
              "      <th>female_pct</th>\n",
              "      <th>is_student</th>\n",
              "    </tr>\n",
              "  </thead>\n",
              "  <tbody>\n",
              "    <tr>\n",
              "      <th>6023734</th>\n",
              "      <td>000059ad-df3e-d551-c013-42bb81a00002</td>\n",
              "      <td>00000000-53b5-cdaa-3dab-0506e1e959c0</td>\n",
              "      <td>1326</td>\n",
              "      <td>six floor hunnies</td>\n",
              "      <td>1940.0</td>\n",
              "      <td>False</td>\n",
              "      <td>['floor']</td>\n",
              "      <td>True</td>\n",
              "      <td>[]</td>\n",
              "      <td>False</td>\n",
              "      <td>[]</td>\n",
              "      <td>False</td>\n",
              "      <td>[]</td>\n",
              "      <td>False</td>\n",
              "      <td>[]</td>\n",
              "      <td>False</td>\n",
              "      <td>six</td>\n",
              "      <td>False</td>\n",
              "      <td>six</td>\n",
              "      <td>False</td>\n",
              "      <td>Alexandra Martin</td>\n",
              "      <td>gmail.com</td>\n",
              "      <td>10.0</td>\n",
              "      <td>228.0</td>\n",
              "      <td>Alexandra</td>\n",
              "      <td>233781.0</td>\n",
              "      <td>859.0</td>\n",
              "      <td>99.63</td>\n",
              "      <td>False</td>\n",
              "    </tr>\n",
              "    <tr>\n",
              "      <th>1261788</th>\n",
              "      <td>00005d3c-f912-f8d1-c143-ea749de40002</td>\n",
              "      <td>00000000-558f-42d5-9577-9c042429d326</td>\n",
              "      <td>1214</td>\n",
              "      <td>Boat build</td>\n",
              "      <td>1219.0</td>\n",
              "      <td>False</td>\n",
              "      <td>['build']</td>\n",
              "      <td>True</td>\n",
              "      <td>[]</td>\n",
              "      <td>False</td>\n",
              "      <td>[]</td>\n",
              "      <td>False</td>\n",
              "      <td>[]</td>\n",
              "      <td>False</td>\n",
              "      <td>[]</td>\n",
              "      <td>False</td>\n",
              "      <td>Boat</td>\n",
              "      <td>False</td>\n",
              "      <td>Boat</td>\n",
              "      <td>False</td>\n",
              "      <td>Frank  Rodriguez</td>\n",
              "      <td>bellsouth.net</td>\n",
              "      <td>29.0</td>\n",
              "      <td>260.0</td>\n",
              "      <td>Frank</td>\n",
              "      <td>4611.0</td>\n",
              "      <td>911169.0</td>\n",
              "      <td>0.50</td>\n",
              "      <td>False</td>\n",
              "    </tr>\n",
              "    <tr>\n",
              "      <th>7659363</th>\n",
              "      <td>2435b5d0-7982-4822-976b-18d12357b338</td>\n",
              "      <td>a0cb5dda-80d8-4659-8f81-24cce6582e2b</td>\n",
              "      <td>1134</td>\n",
              "      <td>In da house</td>\n",
              "      <td>1246.0</td>\n",
              "      <td>False</td>\n",
              "      <td>['house']</td>\n",
              "      <td>True</td>\n",
              "      <td>[]</td>\n",
              "      <td>False</td>\n",
              "      <td>[]</td>\n",
              "      <td>False</td>\n",
              "      <td>[]</td>\n",
              "      <td>False</td>\n",
              "      <td>[]</td>\n",
              "      <td>False</td>\n",
              "      <td>In</td>\n",
              "      <td>False</td>\n",
              "      <td>In</td>\n",
              "      <td>False</td>\n",
              "      <td>KayBob MomPants</td>\n",
              "      <td>gmail.com</td>\n",
              "      <td>0.0</td>\n",
              "      <td>0.0</td>\n",
              "      <td>KayBob</td>\n",
              "      <td>0.0</td>\n",
              "      <td>0.0</td>\n",
              "      <td>50.00</td>\n",
              "      <td>False</td>\n",
              "    </tr>\n",
              "    <tr>\n",
              "      <th>3823601</th>\n",
              "      <td>00005aad-52cc-d551-c00b-260d2f820002</td>\n",
              "      <td>00000000-59f4-9285-d551-c060463c81e5</td>\n",
              "      <td>1112</td>\n",
              "      <td>packing house</td>\n",
              "      <td>1112.0</td>\n",
              "      <td>False</td>\n",
              "      <td>['house']</td>\n",
              "      <td>True</td>\n",
              "      <td>[]</td>\n",
              "      <td>False</td>\n",
              "      <td>[]</td>\n",
              "      <td>False</td>\n",
              "      <td>[]</td>\n",
              "      <td>False</td>\n",
              "      <td>[]</td>\n",
              "      <td>False</td>\n",
              "      <td>packing</td>\n",
              "      <td>False</td>\n",
              "      <td>packing</td>\n",
              "      <td>False</td>\n",
              "      <td>Jackie Zhang</td>\n",
              "      <td>yahoo.com</td>\n",
              "      <td>1.0</td>\n",
              "      <td>0.0</td>\n",
              "      <td>Jackie</td>\n",
              "      <td>90705.0</td>\n",
              "      <td>78494.0</td>\n",
              "      <td>53.61</td>\n",
              "      <td>False</td>\n",
              "    </tr>\n",
              "    <tr>\n",
              "      <th>1903750</th>\n",
              "      <td>5da0ed9d-5a66-4cd7-aa36-c726bb0bf65a</td>\n",
              "      <td>897596fb-2cbb-4350-b8af-115f1be0fef6</td>\n",
              "      <td>1091</td>\n",
              "      <td>Ireland’s ATA In-house Tournament</td>\n",
              "      <td>1120.0</td>\n",
              "      <td>False</td>\n",
              "      <td>['house']</td>\n",
              "      <td>True</td>\n",
              "      <td>[]</td>\n",
              "      <td>False</td>\n",
              "      <td>[]</td>\n",
              "      <td>False</td>\n",
              "      <td>[]</td>\n",
              "      <td>False</td>\n",
              "      <td>[]</td>\n",
              "      <td>False</td>\n",
              "      <td>Ireland</td>\n",
              "      <td>False</td>\n",
              "      <td>Ireland</td>\n",
              "      <td>False</td>\n",
              "      <td>Kim Schwab</td>\n",
              "      <td>gmail.com</td>\n",
              "      <td>7.0</td>\n",
              "      <td>124.0</td>\n",
              "      <td>Kim</td>\n",
              "      <td>179526.0</td>\n",
              "      <td>34879.0</td>\n",
              "      <td>83.73</td>\n",
              "      <td>False</td>\n",
              "    </tr>\n",
              "  </tbody>\n",
              "</table>\n",
              "</div>\n",
              "      <button class=\"colab-df-convert\" onclick=\"convertToInteractive('df-0b199b2c-8156-43ad-b97b-ea6684fdbdb5')\"\n",
              "              title=\"Convert this dataframe to an interactive table.\"\n",
              "              style=\"display:none;\">\n",
              "        \n",
              "  <svg xmlns=\"http://www.w3.org/2000/svg\" height=\"24px\"viewBox=\"0 0 24 24\"\n",
              "       width=\"24px\">\n",
              "    <path d=\"M0 0h24v24H0V0z\" fill=\"none\"/>\n",
              "    <path d=\"M18.56 5.44l.94 2.06.94-2.06 2.06-.94-2.06-.94-.94-2.06-.94 2.06-2.06.94zm-11 1L8.5 8.5l.94-2.06 2.06-.94-2.06-.94L8.5 2.5l-.94 2.06-2.06.94zm10 10l.94 2.06.94-2.06 2.06-.94-2.06-.94-.94-2.06-.94 2.06-2.06.94z\"/><path d=\"M17.41 7.96l-1.37-1.37c-.4-.4-.92-.59-1.43-.59-.52 0-1.04.2-1.43.59L10.3 9.45l-7.72 7.72c-.78.78-.78 2.05 0 2.83L4 21.41c.39.39.9.59 1.41.59.51 0 1.02-.2 1.41-.59l7.78-7.78 2.81-2.81c.8-.78.8-2.07 0-2.86zM5.41 20L4 18.59l7.72-7.72 1.47 1.35L5.41 20z\"/>\n",
              "  </svg>\n",
              "      </button>\n",
              "      \n",
              "  <style>\n",
              "    .colab-df-container {\n",
              "      display:flex;\n",
              "      flex-wrap:wrap;\n",
              "      gap: 12px;\n",
              "    }\n",
              "\n",
              "    .colab-df-convert {\n",
              "      background-color: #E8F0FE;\n",
              "      border: none;\n",
              "      border-radius: 50%;\n",
              "      cursor: pointer;\n",
              "      display: none;\n",
              "      fill: #1967D2;\n",
              "      height: 32px;\n",
              "      padding: 0 0 0 0;\n",
              "      width: 32px;\n",
              "    }\n",
              "\n",
              "    .colab-df-convert:hover {\n",
              "      background-color: #E2EBFA;\n",
              "      box-shadow: 0px 1px 2px rgba(60, 64, 67, 0.3), 0px 1px 3px 1px rgba(60, 64, 67, 0.15);\n",
              "      fill: #174EA6;\n",
              "    }\n",
              "\n",
              "    [theme=dark] .colab-df-convert {\n",
              "      background-color: #3B4455;\n",
              "      fill: #D2E3FC;\n",
              "    }\n",
              "\n",
              "    [theme=dark] .colab-df-convert:hover {\n",
              "      background-color: #434B5C;\n",
              "      box-shadow: 0px 1px 3px 1px rgba(0, 0, 0, 0.15);\n",
              "      filter: drop-shadow(0px 1px 2px rgba(0, 0, 0, 0.3));\n",
              "      fill: #FFFFFF;\n",
              "    }\n",
              "  </style>\n",
              "\n",
              "      <script>\n",
              "        const buttonEl =\n",
              "          document.querySelector('#df-0b199b2c-8156-43ad-b97b-ea6684fdbdb5 button.colab-df-convert');\n",
              "        buttonEl.style.display =\n",
              "          google.colab.kernel.accessAllowed ? 'block' : 'none';\n",
              "\n",
              "        async function convertToInteractive(key) {\n",
              "          const element = document.querySelector('#df-0b199b2c-8156-43ad-b97b-ea6684fdbdb5');\n",
              "          const dataTable =\n",
              "            await google.colab.kernel.invokeFunction('convertToInteractive',\n",
              "                                                     [key], {});\n",
              "          if (!dataTable) return;\n",
              "\n",
              "          const docLinkHtml = 'Like what you see? Visit the ' +\n",
              "            '<a target=\"_blank\" href=https://colab.research.google.com/notebooks/data_table.ipynb>data table notebook</a>'\n",
              "            + ' to learn more about interactive tables.';\n",
              "          element.innerHTML = '';\n",
              "          dataTable['output_type'] = 'display_data';\n",
              "          await google.colab.output.renderOutput(dataTable, element);\n",
              "          const docLink = document.createElement('div');\n",
              "          docLink.innerHTML = docLinkHtml;\n",
              "          element.appendChild(docLink);\n",
              "        }\n",
              "      </script>\n",
              "    </div>\n",
              "  </div>\n",
              "  "
            ]
          },
          "metadata": {},
          "execution_count": 75
        }
      ]
    },
    {
      "cell_type": "markdown",
      "source": [
        "#**Solar words analysis**"
      ],
      "metadata": {
        "id": "AC87aLSyluor"
      }
    },
    {
      "cell_type": "code",
      "source": [
        "len(data[ (data['is_solar']) & (data['female_pct']>50)]['user_uuid'].unique()) # female solar users"
      ],
      "metadata": {
        "colab": {
          "base_uri": "https://localhost:8080/"
        },
        "outputId": "fdaadf96-88db-4edc-9d24-da3b9c297dff",
        "id": "D12_iVlBfwmx"
      },
      "execution_count": null,
      "outputs": [
        {
          "output_type": "execute_result",
          "data": {
            "text/plain": [
              "180"
            ]
          },
          "metadata": {},
          "execution_count": 77
        }
      ]
    },
    {
      "cell_type": "code",
      "source": [
        "len(data[data['is_solar']]['circle_uuid'].unique()) # total unique solar circles"
      ],
      "metadata": {
        "colab": {
          "base_uri": "https://localhost:8080/"
        },
        "outputId": "8a8570a4-991e-4328-97c8-56cbd5bfa243",
        "id": "0-N6tqP3fwmz"
      },
      "execution_count": null,
      "outputs": [
        {
          "output_type": "execute_result",
          "data": {
            "text/plain": [
              "114"
            ]
          },
          "metadata": {},
          "execution_count": 78
        }
      ]
    },
    {
      "cell_type": "code",
      "source": [
        "len(data[data['is_solar']]['user_uuid'].unique()) # total unique solar users"
      ],
      "metadata": {
        "colab": {
          "base_uri": "https://localhost:8080/"
        },
        "outputId": "d8bda413-27dc-42e7-a34d-003cc7bc9d22",
        "id": "nOI4_zSffwmz"
      },
      "execution_count": null,
      "outputs": [
        {
          "output_type": "execute_result",
          "data": {
            "text/plain": [
              "355"
            ]
          },
          "metadata": {},
          "execution_count": 79
        }
      ]
    },
    {
      "cell_type": "code",
      "source": [
        "len(data['user_uuid'].unique()) # total unique users"
      ],
      "metadata": {
        "colab": {
          "base_uri": "https://localhost:8080/"
        },
        "outputId": "48bbc193-cf3f-4f53-fbfd-9f3cb48b1984",
        "id": "mP9KqHBSfwm0"
      },
      "execution_count": null,
      "outputs": [
        {
          "output_type": "execute_result",
          "data": {
            "text/plain": [
              "3762492"
            ]
          },
          "metadata": {},
          "execution_count": 80
        }
      ]
    },
    {
      "cell_type": "code",
      "source": [
        "3762492-355 # total non solar users"
      ],
      "metadata": {
        "colab": {
          "base_uri": "https://localhost:8080/"
        },
        "outputId": "48c5991d-587e-4e28-a7be-97be5b3439d3",
        "id": "JTgInxY8fwm0"
      },
      "execution_count": null,
      "outputs": [
        {
          "output_type": "execute_result",
          "data": {
            "text/plain": [
              "3762137"
            ]
          },
          "metadata": {},
          "execution_count": 83
        }
      ]
    },
    {
      "cell_type": "code",
      "source": [
        "round(180/355*100,2) # % female solar users"
      ],
      "metadata": {
        "colab": {
          "base_uri": "https://localhost:8080/"
        },
        "outputId": "3910f21f-f5fb-4249-dc04-35941af77f5a",
        "id": "broGOctnfwm0"
      },
      "execution_count": null,
      "outputs": [
        {
          "output_type": "execute_result",
          "data": {
            "text/plain": [
              "50.7"
            ]
          },
          "metadata": {},
          "execution_count": 84
        }
      ]
    },
    {
      "cell_type": "code",
      "source": [
        "len(data[data['is_solar']]['user_uuid'].unique())/len(data['user_uuid'].unique())*100 # % solar users"
      ],
      "metadata": {
        "colab": {
          "base_uri": "https://localhost:8080/"
        },
        "outputId": "f0e1dd9c-8125-457e-f799-f840751e2f35",
        "id": "G4qtM99afwm1"
      },
      "execution_count": null,
      "outputs": [
        {
          "output_type": "execute_result",
          "data": {
            "text/plain": [
              "0.009435236008475234"
            ]
          },
          "metadata": {},
          "execution_count": 85
        }
      ]
    },
    {
      "cell_type": "code",
      "source": [
        "len(data[data['is_solar']]['circle_uuid'].unique())/len(data['circle_uuid'].unique())*100 # % solar circles"
      ],
      "metadata": {
        "colab": {
          "base_uri": "https://localhost:8080/"
        },
        "outputId": "96a1fc75-c287-4e7e-d11f-d083f4b88176",
        "id": "_9xbRl2Zfwm1"
      },
      "execution_count": null,
      "outputs": [
        {
          "output_type": "execute_result",
          "data": {
            "text/plain": [
              "0.005581157620213974"
            ]
          },
          "metadata": {},
          "execution_count": 86
        }
      ]
    },
    {
      "cell_type": "code",
      "source": [
        "data[data['is_solar']]['media_added_count_x'].sum() # Total solar circles media contributions"
      ],
      "metadata": {
        "colab": {
          "base_uri": "https://localhost:8080/"
        },
        "outputId": "16748014-04c2-4d6e-81da-b1707fed0938",
        "id": "bO8j7_snfwm1"
      },
      "execution_count": null,
      "outputs": [
        {
          "output_type": "execute_result",
          "data": {
            "text/plain": [
              "9462"
            ]
          },
          "metadata": {},
          "execution_count": 87
        }
      ]
    },
    {
      "cell_type": "code",
      "source": [
        "data['media_added_count_x'].sum() # Total media contributions"
      ],
      "metadata": {
        "colab": {
          "base_uri": "https://localhost:8080/"
        },
        "outputId": "74bbaa27-05da-44a5-c2f1-e7048bc98fa4",
        "id": "SoxN9qgvfwm1"
      },
      "execution_count": null,
      "outputs": [
        {
          "output_type": "execute_result",
          "data": {
            "text/plain": [
              "341813280"
            ]
          },
          "metadata": {},
          "execution_count": 88
        }
      ]
    },
    {
      "cell_type": "code",
      "source": [
        "341813280-9462 # Total non solar media contributions"
      ],
      "metadata": {
        "colab": {
          "base_uri": "https://localhost:8080/"
        },
        "outputId": "6d849b89-e070-483a-db07-183e5f439999",
        "id": "7NAdQ-TPfwm2"
      },
      "execution_count": null,
      "outputs": [
        {
          "output_type": "execute_result",
          "data": {
            "text/plain": [
              "341803818"
            ]
          },
          "metadata": {},
          "execution_count": 91
        }
      ]
    },
    {
      "cell_type": "code",
      "source": [
        "round(9462/341813280*100,2) # % total solar circles media contributions"
      ],
      "metadata": {
        "colab": {
          "base_uri": "https://localhost:8080/"
        },
        "outputId": "a0a10cd8-b555-464d-c226-b9f90210dfb5",
        "id": "kwXclR_mfwm2"
      },
      "execution_count": null,
      "outputs": [
        {
          "output_type": "execute_result",
          "data": {
            "text/plain": [
              "0.0"
            ]
          },
          "metadata": {},
          "execution_count": 90
        }
      ]
    },
    {
      "cell_type": "code",
      "source": [
        "len(data.loc[data['is_solar']].sort_values(['active_count_in_last_30_days','media_added_count_y'], ascending=False))"
      ],
      "metadata": {
        "colab": {
          "base_uri": "https://localhost:8080/"
        },
        "outputId": "5a95243d-02cf-44f9-b500-fb36d4cf6667",
        "id": "-KY-W6Jbfwm2"
      },
      "execution_count": null,
      "outputs": [
        {
          "output_type": "execute_result",
          "data": {
            "text/plain": [
              "382"
            ]
          },
          "metadata": {},
          "execution_count": 92
        }
      ]
    },
    {
      "cell_type": "code",
      "source": [
        "len(data.loc[(data['is_solar']) & (data['active_count_in_last_30_days'] < 10)] \\\n",
        "    ['user_uuid'].unique())"
      ],
      "metadata": {
        "colab": {
          "base_uri": "https://localhost:8080/"
        },
        "outputId": "d61ea1cc-1a9f-4b5a-dca2-82f8d71c96ab",
        "id": "Jg3OKIyTfwm2"
      },
      "execution_count": null,
      "outputs": [
        {
          "output_type": "execute_result",
          "data": {
            "text/plain": [
              "309"
            ]
          },
          "metadata": {},
          "execution_count": 96
        }
      ]
    },
    {
      "cell_type": "code",
      "source": [
        "len(data.loc[(data['is_solar']) & (data['active_count_in_last_30_days'].between(10,19))] \\\n",
        "    ['user_uuid'].unique())"
      ],
      "metadata": {
        "colab": {
          "base_uri": "https://localhost:8080/"
        },
        "outputId": "89cc2252-a525-4eb8-9ad8-8ed632fa3db2",
        "id": "hT_SzX3Hfwm3"
      },
      "execution_count": null,
      "outputs": [
        {
          "output_type": "execute_result",
          "data": {
            "text/plain": [
              "27"
            ]
          },
          "metadata": {},
          "execution_count": 97
        }
      ]
    },
    {
      "cell_type": "code",
      "source": [
        "len(data.loc[(data['is_solar']) & (data['active_count_in_last_30_days'].between(20,29))] \\\n",
        "    ['user_uuid'].unique())"
      ],
      "metadata": {
        "colab": {
          "base_uri": "https://localhost:8080/"
        },
        "outputId": "522ba914-8cba-4d02-dc20-589ecb0b20bd",
        "id": "JF2Dfgysfwm3"
      },
      "execution_count": null,
      "outputs": [
        {
          "output_type": "execute_result",
          "data": {
            "text/plain": [
              "18"
            ]
          },
          "metadata": {},
          "execution_count": 98
        }
      ]
    },
    {
      "cell_type": "code",
      "source": [
        "len(data.loc[(data['is_solar']) & (data['active_count_in_last_30_days']==30)] \\\n",
        "    ['user_uuid'].unique())"
      ],
      "metadata": {
        "colab": {
          "base_uri": "https://localhost:8080/"
        },
        "outputId": "f9498683-9618-48ca-ee80-5b7a93661230",
        "id": "nO_g6qNGfwm3"
      },
      "execution_count": null,
      "outputs": [
        {
          "output_type": "execute_result",
          "data": {
            "text/plain": [
              "1"
            ]
          },
          "metadata": {},
          "execution_count": 99
        }
      ]
    },
    {
      "cell_type": "code",
      "source": [
        "data.loc[data['is_solar']].sort_values('media_added_count_x', ascending=False).head(5)"
      ],
      "metadata": {
        "colab": {
          "base_uri": "https://localhost:8080/",
          "height": 523
        },
        "outputId": "dab85ffa-748f-4b9f-e50c-d1e24e69fe9e",
        "id": "3bgch75zfwm3"
      },
      "execution_count": null,
      "outputs": [
        {
          "output_type": "execute_result",
          "data": {
            "text/plain": [
              "                                  circle_uuid  \\\n",
              "1606351  00005cab-6460-d551-c055-79a74f100002   \n",
              "7543820  00005a76-8e6c-d551-c00b-26f0063a0002   \n",
              "3786775  aca7da47-12af-4e5b-b467-5adc08aa351e   \n",
              "4275907  478a5047-f9b0-4048-9a51-f4ff68472cef   \n",
              "372227   a9ac2e38-dfff-45ef-a550-0024fb10e249   \n",
              "\n",
              "                                    user_uuid  media_added_count_x  \\\n",
              "1606351  00000000-5921-ee11-d551-c01e660c26f7                  603   \n",
              "7543820  00000000-57df-e3bc-d551-c018b10660a5                  434   \n",
              "3786775  00000000-5cd6-2355-9373-7468041e4042                  403   \n",
              "4275907  1c31da78-e4ea-4ec5-95f6-4e2b0550f3e2                  387   \n",
              "372227   00000000-5d6e-b937-f8d1-c13053256ada                  340   \n",
              "\n",
              "                                 title  media_count  has_greek_words  \\\n",
              "1606351                   capri-sun ⛵️        603.0            False   \n",
              "7543820           sun, moon, and skies        434.0            False   \n",
              "3786775            SC/NC off the grid         450.0            False   \n",
              "4275907               tridelt ig grid         609.0            False   \n",
              "372227   Sardinia with the girls power        560.0            False   \n",
              "\n",
              "        real_estate_keywords  is_real_estate solar_keywords  is_solar  \\\n",
              "1606351                   []           False        ['sun']      True   \n",
              "7543820                   []           False        ['sun']      True   \n",
              "3786775                   []           False       ['grid']      True   \n",
              "4275907                   []           False       ['grid']      True   \n",
              "372227                    []           False      ['power']      True   \n",
              "\n",
              "        event_keywords  is_event occupation_keywords  is_occupation  \\\n",
              "1606351             []     False                  []          False   \n",
              "7543820             []     False                  []          False   \n",
              "3786775             []     False                  []          False   \n",
              "4275907             []     False                  []          False   \n",
              "372227              []     False                  []          False   \n",
              "\n",
              "        animal_keywords  is_animal destination_names  is_travel  \\\n",
              "1606351              []      False             capri      False   \n",
              "7543820              []      False               sun      False   \n",
              "3786775              []      False               off      False   \n",
              "4275907              []      False           tridelt      False   \n",
              "372227               []      False          Sardinia      False   \n",
              "\n",
              "        location_names  is_location      display_name email_domain  \\\n",
              "1606351          capri        False     Sahar Yazdani    yahoo.com   \n",
              "7543820            sun        False  emily mclaughlin    yahoo.com   \n",
              "3786775            off        False     holly douglas   icloud.com   \n",
              "4275907        tridelt        False     Julia Panyard    yahoo.com   \n",
              "372227        Sardinia        False     Tiffany Bloch  hotmail.com   \n",
              "\n",
              "         active_count_in_last_30_days  media_added_count_y first_name  \\\n",
              "1606351                           0.0                  0.0      Sahar   \n",
              "7543820                           2.0                  0.0      emily   \n",
              "3786775                           0.0                  0.0      holly   \n",
              "4275907                          19.0                421.0      Julia   \n",
              "372227                            1.0                  0.0    Tiffany   \n",
              "\n",
              "         num_female  num_male  female_pct  is_student  \n",
              "1606351      2110.0      23.0       98.92       False  \n",
              "7543820         0.0       0.0       50.00       False  \n",
              "3786775         0.0       0.0       50.00       False  \n",
              "4275907    459021.0    1737.0       99.62       False  \n",
              "372227     336540.0    1191.0       99.65       False  "
            ],
            "text/html": [
              "\n",
              "  <div id=\"df-5762d9df-e783-443e-bb8e-986583869980\">\n",
              "    <div class=\"colab-df-container\">\n",
              "      <div>\n",
              "<style scoped>\n",
              "    .dataframe tbody tr th:only-of-type {\n",
              "        vertical-align: middle;\n",
              "    }\n",
              "\n",
              "    .dataframe tbody tr th {\n",
              "        vertical-align: top;\n",
              "    }\n",
              "\n",
              "    .dataframe thead th {\n",
              "        text-align: right;\n",
              "    }\n",
              "</style>\n",
              "<table border=\"1\" class=\"dataframe\">\n",
              "  <thead>\n",
              "    <tr style=\"text-align: right;\">\n",
              "      <th></th>\n",
              "      <th>circle_uuid</th>\n",
              "      <th>user_uuid</th>\n",
              "      <th>media_added_count_x</th>\n",
              "      <th>title</th>\n",
              "      <th>media_count</th>\n",
              "      <th>has_greek_words</th>\n",
              "      <th>real_estate_keywords</th>\n",
              "      <th>is_real_estate</th>\n",
              "      <th>solar_keywords</th>\n",
              "      <th>is_solar</th>\n",
              "      <th>event_keywords</th>\n",
              "      <th>is_event</th>\n",
              "      <th>occupation_keywords</th>\n",
              "      <th>is_occupation</th>\n",
              "      <th>animal_keywords</th>\n",
              "      <th>is_animal</th>\n",
              "      <th>destination_names</th>\n",
              "      <th>is_travel</th>\n",
              "      <th>location_names</th>\n",
              "      <th>is_location</th>\n",
              "      <th>display_name</th>\n",
              "      <th>email_domain</th>\n",
              "      <th>active_count_in_last_30_days</th>\n",
              "      <th>media_added_count_y</th>\n",
              "      <th>first_name</th>\n",
              "      <th>num_female</th>\n",
              "      <th>num_male</th>\n",
              "      <th>female_pct</th>\n",
              "      <th>is_student</th>\n",
              "    </tr>\n",
              "  </thead>\n",
              "  <tbody>\n",
              "    <tr>\n",
              "      <th>1606351</th>\n",
              "      <td>00005cab-6460-d551-c055-79a74f100002</td>\n",
              "      <td>00000000-5921-ee11-d551-c01e660c26f7</td>\n",
              "      <td>603</td>\n",
              "      <td>capri-sun ⛵️</td>\n",
              "      <td>603.0</td>\n",
              "      <td>False</td>\n",
              "      <td>[]</td>\n",
              "      <td>False</td>\n",
              "      <td>['sun']</td>\n",
              "      <td>True</td>\n",
              "      <td>[]</td>\n",
              "      <td>False</td>\n",
              "      <td>[]</td>\n",
              "      <td>False</td>\n",
              "      <td>[]</td>\n",
              "      <td>False</td>\n",
              "      <td>capri</td>\n",
              "      <td>False</td>\n",
              "      <td>capri</td>\n",
              "      <td>False</td>\n",
              "      <td>Sahar Yazdani</td>\n",
              "      <td>yahoo.com</td>\n",
              "      <td>0.0</td>\n",
              "      <td>0.0</td>\n",
              "      <td>Sahar</td>\n",
              "      <td>2110.0</td>\n",
              "      <td>23.0</td>\n",
              "      <td>98.92</td>\n",
              "      <td>False</td>\n",
              "    </tr>\n",
              "    <tr>\n",
              "      <th>7543820</th>\n",
              "      <td>00005a76-8e6c-d551-c00b-26f0063a0002</td>\n",
              "      <td>00000000-57df-e3bc-d551-c018b10660a5</td>\n",
              "      <td>434</td>\n",
              "      <td>sun, moon, and skies</td>\n",
              "      <td>434.0</td>\n",
              "      <td>False</td>\n",
              "      <td>[]</td>\n",
              "      <td>False</td>\n",
              "      <td>['sun']</td>\n",
              "      <td>True</td>\n",
              "      <td>[]</td>\n",
              "      <td>False</td>\n",
              "      <td>[]</td>\n",
              "      <td>False</td>\n",
              "      <td>[]</td>\n",
              "      <td>False</td>\n",
              "      <td>sun</td>\n",
              "      <td>False</td>\n",
              "      <td>sun</td>\n",
              "      <td>False</td>\n",
              "      <td>emily mclaughlin</td>\n",
              "      <td>yahoo.com</td>\n",
              "      <td>2.0</td>\n",
              "      <td>0.0</td>\n",
              "      <td>emily</td>\n",
              "      <td>0.0</td>\n",
              "      <td>0.0</td>\n",
              "      <td>50.00</td>\n",
              "      <td>False</td>\n",
              "    </tr>\n",
              "    <tr>\n",
              "      <th>3786775</th>\n",
              "      <td>aca7da47-12af-4e5b-b467-5adc08aa351e</td>\n",
              "      <td>00000000-5cd6-2355-9373-7468041e4042</td>\n",
              "      <td>403</td>\n",
              "      <td>SC/NC off the grid</td>\n",
              "      <td>450.0</td>\n",
              "      <td>False</td>\n",
              "      <td>[]</td>\n",
              "      <td>False</td>\n",
              "      <td>['grid']</td>\n",
              "      <td>True</td>\n",
              "      <td>[]</td>\n",
              "      <td>False</td>\n",
              "      <td>[]</td>\n",
              "      <td>False</td>\n",
              "      <td>[]</td>\n",
              "      <td>False</td>\n",
              "      <td>off</td>\n",
              "      <td>False</td>\n",
              "      <td>off</td>\n",
              "      <td>False</td>\n",
              "      <td>holly douglas</td>\n",
              "      <td>icloud.com</td>\n",
              "      <td>0.0</td>\n",
              "      <td>0.0</td>\n",
              "      <td>holly</td>\n",
              "      <td>0.0</td>\n",
              "      <td>0.0</td>\n",
              "      <td>50.00</td>\n",
              "      <td>False</td>\n",
              "    </tr>\n",
              "    <tr>\n",
              "      <th>4275907</th>\n",
              "      <td>478a5047-f9b0-4048-9a51-f4ff68472cef</td>\n",
              "      <td>1c31da78-e4ea-4ec5-95f6-4e2b0550f3e2</td>\n",
              "      <td>387</td>\n",
              "      <td>tridelt ig grid</td>\n",
              "      <td>609.0</td>\n",
              "      <td>False</td>\n",
              "      <td>[]</td>\n",
              "      <td>False</td>\n",
              "      <td>['grid']</td>\n",
              "      <td>True</td>\n",
              "      <td>[]</td>\n",
              "      <td>False</td>\n",
              "      <td>[]</td>\n",
              "      <td>False</td>\n",
              "      <td>[]</td>\n",
              "      <td>False</td>\n",
              "      <td>tridelt</td>\n",
              "      <td>False</td>\n",
              "      <td>tridelt</td>\n",
              "      <td>False</td>\n",
              "      <td>Julia Panyard</td>\n",
              "      <td>yahoo.com</td>\n",
              "      <td>19.0</td>\n",
              "      <td>421.0</td>\n",
              "      <td>Julia</td>\n",
              "      <td>459021.0</td>\n",
              "      <td>1737.0</td>\n",
              "      <td>99.62</td>\n",
              "      <td>False</td>\n",
              "    </tr>\n",
              "    <tr>\n",
              "      <th>372227</th>\n",
              "      <td>a9ac2e38-dfff-45ef-a550-0024fb10e249</td>\n",
              "      <td>00000000-5d6e-b937-f8d1-c13053256ada</td>\n",
              "      <td>340</td>\n",
              "      <td>Sardinia with the girls power</td>\n",
              "      <td>560.0</td>\n",
              "      <td>False</td>\n",
              "      <td>[]</td>\n",
              "      <td>False</td>\n",
              "      <td>['power']</td>\n",
              "      <td>True</td>\n",
              "      <td>[]</td>\n",
              "      <td>False</td>\n",
              "      <td>[]</td>\n",
              "      <td>False</td>\n",
              "      <td>[]</td>\n",
              "      <td>False</td>\n",
              "      <td>Sardinia</td>\n",
              "      <td>False</td>\n",
              "      <td>Sardinia</td>\n",
              "      <td>False</td>\n",
              "      <td>Tiffany Bloch</td>\n",
              "      <td>hotmail.com</td>\n",
              "      <td>1.0</td>\n",
              "      <td>0.0</td>\n",
              "      <td>Tiffany</td>\n",
              "      <td>336540.0</td>\n",
              "      <td>1191.0</td>\n",
              "      <td>99.65</td>\n",
              "      <td>False</td>\n",
              "    </tr>\n",
              "  </tbody>\n",
              "</table>\n",
              "</div>\n",
              "      <button class=\"colab-df-convert\" onclick=\"convertToInteractive('df-5762d9df-e783-443e-bb8e-986583869980')\"\n",
              "              title=\"Convert this dataframe to an interactive table.\"\n",
              "              style=\"display:none;\">\n",
              "        \n",
              "  <svg xmlns=\"http://www.w3.org/2000/svg\" height=\"24px\"viewBox=\"0 0 24 24\"\n",
              "       width=\"24px\">\n",
              "    <path d=\"M0 0h24v24H0V0z\" fill=\"none\"/>\n",
              "    <path d=\"M18.56 5.44l.94 2.06.94-2.06 2.06-.94-2.06-.94-.94-2.06-.94 2.06-2.06.94zm-11 1L8.5 8.5l.94-2.06 2.06-.94-2.06-.94L8.5 2.5l-.94 2.06-2.06.94zm10 10l.94 2.06.94-2.06 2.06-.94-2.06-.94-.94-2.06-.94 2.06-2.06.94z\"/><path d=\"M17.41 7.96l-1.37-1.37c-.4-.4-.92-.59-1.43-.59-.52 0-1.04.2-1.43.59L10.3 9.45l-7.72 7.72c-.78.78-.78 2.05 0 2.83L4 21.41c.39.39.9.59 1.41.59.51 0 1.02-.2 1.41-.59l7.78-7.78 2.81-2.81c.8-.78.8-2.07 0-2.86zM5.41 20L4 18.59l7.72-7.72 1.47 1.35L5.41 20z\"/>\n",
              "  </svg>\n",
              "      </button>\n",
              "      \n",
              "  <style>\n",
              "    .colab-df-container {\n",
              "      display:flex;\n",
              "      flex-wrap:wrap;\n",
              "      gap: 12px;\n",
              "    }\n",
              "\n",
              "    .colab-df-convert {\n",
              "      background-color: #E8F0FE;\n",
              "      border: none;\n",
              "      border-radius: 50%;\n",
              "      cursor: pointer;\n",
              "      display: none;\n",
              "      fill: #1967D2;\n",
              "      height: 32px;\n",
              "      padding: 0 0 0 0;\n",
              "      width: 32px;\n",
              "    }\n",
              "\n",
              "    .colab-df-convert:hover {\n",
              "      background-color: #E2EBFA;\n",
              "      box-shadow: 0px 1px 2px rgba(60, 64, 67, 0.3), 0px 1px 3px 1px rgba(60, 64, 67, 0.15);\n",
              "      fill: #174EA6;\n",
              "    }\n",
              "\n",
              "    [theme=dark] .colab-df-convert {\n",
              "      background-color: #3B4455;\n",
              "      fill: #D2E3FC;\n",
              "    }\n",
              "\n",
              "    [theme=dark] .colab-df-convert:hover {\n",
              "      background-color: #434B5C;\n",
              "      box-shadow: 0px 1px 3px 1px rgba(0, 0, 0, 0.15);\n",
              "      filter: drop-shadow(0px 1px 2px rgba(0, 0, 0, 0.3));\n",
              "      fill: #FFFFFF;\n",
              "    }\n",
              "  </style>\n",
              "\n",
              "      <script>\n",
              "        const buttonEl =\n",
              "          document.querySelector('#df-5762d9df-e783-443e-bb8e-986583869980 button.colab-df-convert');\n",
              "        buttonEl.style.display =\n",
              "          google.colab.kernel.accessAllowed ? 'block' : 'none';\n",
              "\n",
              "        async function convertToInteractive(key) {\n",
              "          const element = document.querySelector('#df-5762d9df-e783-443e-bb8e-986583869980');\n",
              "          const dataTable =\n",
              "            await google.colab.kernel.invokeFunction('convertToInteractive',\n",
              "                                                     [key], {});\n",
              "          if (!dataTable) return;\n",
              "\n",
              "          const docLinkHtml = 'Like what you see? Visit the ' +\n",
              "            '<a target=\"_blank\" href=https://colab.research.google.com/notebooks/data_table.ipynb>data table notebook</a>'\n",
              "            + ' to learn more about interactive tables.';\n",
              "          element.innerHTML = '';\n",
              "          dataTable['output_type'] = 'display_data';\n",
              "          await google.colab.output.renderOutput(dataTable, element);\n",
              "          const docLink = document.createElement('div');\n",
              "          docLink.innerHTML = docLinkHtml;\n",
              "          element.appendChild(docLink);\n",
              "        }\n",
              "      </script>\n",
              "    </div>\n",
              "  </div>\n",
              "  "
            ]
          },
          "metadata": {},
          "execution_count": 100
        }
      ]
    },
    {
      "cell_type": "markdown",
      "source": [
        "# **Travel words analysis**"
      ],
      "metadata": {
        "id": "6tNfdgVkq-U5"
      }
    },
    {
      "cell_type": "code",
      "source": [
        "pd.set_option('display.max_columns', None)"
      ],
      "metadata": {
        "id": "wcb-2jBDjiCo"
      },
      "execution_count": null,
      "outputs": []
    },
    {
      "cell_type": "code",
      "source": [
        "data.head(2)"
      ],
      "metadata": {
        "colab": {
          "base_uri": "https://localhost:8080/",
          "height": 277
        },
        "id": "cN3ggJijjCEd",
        "outputId": "2aadae37-811e-4709-f7bb-d09a72e0bcde"
      },
      "execution_count": null,
      "outputs": [
        {
          "output_type": "execute_result",
          "data": {
            "text/plain": [
              "                            circle_uuid                             user_uuid  \\\n",
              "0  00005962-836d-d551-c07b-5c2040500002  00000000-575c-c42a-d551-c018b1942652   \n",
              "1  00005bfc-e475-d551-c026-3d658eab0002  4d4f4f68-feff-4490-bd45-ae90ba4acdbf   \n",
              "\n",
              "   media_added_count_x                  title  media_count  has_greek_words  \\\n",
              "0                   96  Georgia Jean Williams        160.0            False   \n",
              "1                    6              Tri Delta      12235.0             True   \n",
              "\n",
              "  real_estate_keywords  is_real_estate solar_keywords  is_solar  \\\n",
              "0                   []           False             []     False   \n",
              "1                   []           False             []     False   \n",
              "\n",
              "  event_keywords  is_event occupation_keywords  is_occupation animal_keywords  \\\n",
              "0             []     False                  []          False              []   \n",
              "1             []     False                  []          False              []   \n",
              "\n",
              "   is_animal      destination_names  is_travel         location_names  \\\n",
              "0      False  Georgia Jean Williams      False  Georgia Jean Williams   \n",
              "1      False              Tri Delta      False              Tri Delta   \n",
              "\n",
              "   is_location     display_name  email_domain  active_count_in_last_30_days  \\\n",
              "0        False  Darwin Williams  stthomas.edu                           6.0   \n",
              "1        False    tara ghimenti     gmail.com                           0.0   \n",
              "\n",
              "   media_added_count_y first_name  num_female  num_male  female_pct  \\\n",
              "0                 15.0     Darwin        83.0   24680.0        0.34   \n",
              "1                  0.0       tara         0.0       0.0       50.00   \n",
              "\n",
              "   is_student  \n",
              "0        True  \n",
              "1       False  "
            ],
            "text/html": [
              "\n",
              "  <div id=\"df-280a61a5-ba00-4353-9198-94cbfa509945\">\n",
              "    <div class=\"colab-df-container\">\n",
              "      <div>\n",
              "<style scoped>\n",
              "    .dataframe tbody tr th:only-of-type {\n",
              "        vertical-align: middle;\n",
              "    }\n",
              "\n",
              "    .dataframe tbody tr th {\n",
              "        vertical-align: top;\n",
              "    }\n",
              "\n",
              "    .dataframe thead th {\n",
              "        text-align: right;\n",
              "    }\n",
              "</style>\n",
              "<table border=\"1\" class=\"dataframe\">\n",
              "  <thead>\n",
              "    <tr style=\"text-align: right;\">\n",
              "      <th></th>\n",
              "      <th>circle_uuid</th>\n",
              "      <th>user_uuid</th>\n",
              "      <th>media_added_count_x</th>\n",
              "      <th>title</th>\n",
              "      <th>media_count</th>\n",
              "      <th>has_greek_words</th>\n",
              "      <th>real_estate_keywords</th>\n",
              "      <th>is_real_estate</th>\n",
              "      <th>solar_keywords</th>\n",
              "      <th>is_solar</th>\n",
              "      <th>event_keywords</th>\n",
              "      <th>is_event</th>\n",
              "      <th>occupation_keywords</th>\n",
              "      <th>is_occupation</th>\n",
              "      <th>animal_keywords</th>\n",
              "      <th>is_animal</th>\n",
              "      <th>destination_names</th>\n",
              "      <th>is_travel</th>\n",
              "      <th>location_names</th>\n",
              "      <th>is_location</th>\n",
              "      <th>display_name</th>\n",
              "      <th>email_domain</th>\n",
              "      <th>active_count_in_last_30_days</th>\n",
              "      <th>media_added_count_y</th>\n",
              "      <th>first_name</th>\n",
              "      <th>num_female</th>\n",
              "      <th>num_male</th>\n",
              "      <th>female_pct</th>\n",
              "      <th>is_student</th>\n",
              "    </tr>\n",
              "  </thead>\n",
              "  <tbody>\n",
              "    <tr>\n",
              "      <th>0</th>\n",
              "      <td>00005962-836d-d551-c07b-5c2040500002</td>\n",
              "      <td>00000000-575c-c42a-d551-c018b1942652</td>\n",
              "      <td>96</td>\n",
              "      <td>Georgia Jean Williams</td>\n",
              "      <td>160.0</td>\n",
              "      <td>False</td>\n",
              "      <td>[]</td>\n",
              "      <td>False</td>\n",
              "      <td>[]</td>\n",
              "      <td>False</td>\n",
              "      <td>[]</td>\n",
              "      <td>False</td>\n",
              "      <td>[]</td>\n",
              "      <td>False</td>\n",
              "      <td>[]</td>\n",
              "      <td>False</td>\n",
              "      <td>Georgia Jean Williams</td>\n",
              "      <td>False</td>\n",
              "      <td>Georgia Jean Williams</td>\n",
              "      <td>False</td>\n",
              "      <td>Darwin Williams</td>\n",
              "      <td>stthomas.edu</td>\n",
              "      <td>6.0</td>\n",
              "      <td>15.0</td>\n",
              "      <td>Darwin</td>\n",
              "      <td>83.0</td>\n",
              "      <td>24680.0</td>\n",
              "      <td>0.34</td>\n",
              "      <td>True</td>\n",
              "    </tr>\n",
              "    <tr>\n",
              "      <th>1</th>\n",
              "      <td>00005bfc-e475-d551-c026-3d658eab0002</td>\n",
              "      <td>4d4f4f68-feff-4490-bd45-ae90ba4acdbf</td>\n",
              "      <td>6</td>\n",
              "      <td>Tri Delta</td>\n",
              "      <td>12235.0</td>\n",
              "      <td>True</td>\n",
              "      <td>[]</td>\n",
              "      <td>False</td>\n",
              "      <td>[]</td>\n",
              "      <td>False</td>\n",
              "      <td>[]</td>\n",
              "      <td>False</td>\n",
              "      <td>[]</td>\n",
              "      <td>False</td>\n",
              "      <td>[]</td>\n",
              "      <td>False</td>\n",
              "      <td>Tri Delta</td>\n",
              "      <td>False</td>\n",
              "      <td>Tri Delta</td>\n",
              "      <td>False</td>\n",
              "      <td>tara ghimenti</td>\n",
              "      <td>gmail.com</td>\n",
              "      <td>0.0</td>\n",
              "      <td>0.0</td>\n",
              "      <td>tara</td>\n",
              "      <td>0.0</td>\n",
              "      <td>0.0</td>\n",
              "      <td>50.00</td>\n",
              "      <td>False</td>\n",
              "    </tr>\n",
              "  </tbody>\n",
              "</table>\n",
              "</div>\n",
              "      <button class=\"colab-df-convert\" onclick=\"convertToInteractive('df-280a61a5-ba00-4353-9198-94cbfa509945')\"\n",
              "              title=\"Convert this dataframe to an interactive table.\"\n",
              "              style=\"display:none;\">\n",
              "        \n",
              "  <svg xmlns=\"http://www.w3.org/2000/svg\" height=\"24px\"viewBox=\"0 0 24 24\"\n",
              "       width=\"24px\">\n",
              "    <path d=\"M0 0h24v24H0V0z\" fill=\"none\"/>\n",
              "    <path d=\"M18.56 5.44l.94 2.06.94-2.06 2.06-.94-2.06-.94-.94-2.06-.94 2.06-2.06.94zm-11 1L8.5 8.5l.94-2.06 2.06-.94-2.06-.94L8.5 2.5l-.94 2.06-2.06.94zm10 10l.94 2.06.94-2.06 2.06-.94-2.06-.94-.94-2.06-.94 2.06-2.06.94z\"/><path d=\"M17.41 7.96l-1.37-1.37c-.4-.4-.92-.59-1.43-.59-.52 0-1.04.2-1.43.59L10.3 9.45l-7.72 7.72c-.78.78-.78 2.05 0 2.83L4 21.41c.39.39.9.59 1.41.59.51 0 1.02-.2 1.41-.59l7.78-7.78 2.81-2.81c.8-.78.8-2.07 0-2.86zM5.41 20L4 18.59l7.72-7.72 1.47 1.35L5.41 20z\"/>\n",
              "  </svg>\n",
              "      </button>\n",
              "      \n",
              "  <style>\n",
              "    .colab-df-container {\n",
              "      display:flex;\n",
              "      flex-wrap:wrap;\n",
              "      gap: 12px;\n",
              "    }\n",
              "\n",
              "    .colab-df-convert {\n",
              "      background-color: #E8F0FE;\n",
              "      border: none;\n",
              "      border-radius: 50%;\n",
              "      cursor: pointer;\n",
              "      display: none;\n",
              "      fill: #1967D2;\n",
              "      height: 32px;\n",
              "      padding: 0 0 0 0;\n",
              "      width: 32px;\n",
              "    }\n",
              "\n",
              "    .colab-df-convert:hover {\n",
              "      background-color: #E2EBFA;\n",
              "      box-shadow: 0px 1px 2px rgba(60, 64, 67, 0.3), 0px 1px 3px 1px rgba(60, 64, 67, 0.15);\n",
              "      fill: #174EA6;\n",
              "    }\n",
              "\n",
              "    [theme=dark] .colab-df-convert {\n",
              "      background-color: #3B4455;\n",
              "      fill: #D2E3FC;\n",
              "    }\n",
              "\n",
              "    [theme=dark] .colab-df-convert:hover {\n",
              "      background-color: #434B5C;\n",
              "      box-shadow: 0px 1px 3px 1px rgba(0, 0, 0, 0.15);\n",
              "      filter: drop-shadow(0px 1px 2px rgba(0, 0, 0, 0.3));\n",
              "      fill: #FFFFFF;\n",
              "    }\n",
              "  </style>\n",
              "\n",
              "      <script>\n",
              "        const buttonEl =\n",
              "          document.querySelector('#df-280a61a5-ba00-4353-9198-94cbfa509945 button.colab-df-convert');\n",
              "        buttonEl.style.display =\n",
              "          google.colab.kernel.accessAllowed ? 'block' : 'none';\n",
              "\n",
              "        async function convertToInteractive(key) {\n",
              "          const element = document.querySelector('#df-280a61a5-ba00-4353-9198-94cbfa509945');\n",
              "          const dataTable =\n",
              "            await google.colab.kernel.invokeFunction('convertToInteractive',\n",
              "                                                     [key], {});\n",
              "          if (!dataTable) return;\n",
              "\n",
              "          const docLinkHtml = 'Like what you see? Visit the ' +\n",
              "            '<a target=\"_blank\" href=https://colab.research.google.com/notebooks/data_table.ipynb>data table notebook</a>'\n",
              "            + ' to learn more about interactive tables.';\n",
              "          element.innerHTML = '';\n",
              "          dataTable['output_type'] = 'display_data';\n",
              "          await google.colab.output.renderOutput(dataTable, element);\n",
              "          const docLink = document.createElement('div');\n",
              "          docLink.innerHTML = docLinkHtml;\n",
              "          element.appendChild(docLink);\n",
              "        }\n",
              "      </script>\n",
              "    </div>\n",
              "  </div>\n",
              "  "
            ]
          },
          "metadata": {},
          "execution_count": 105
        }
      ]
    },
    {
      "cell_type": "code",
      "source": [
        "len(data[ (data['destination_names'].notna()) & (data['female_pct']>50)]['user_uuid'].unique()) # female travel users"
      ],
      "metadata": {
        "colab": {
          "base_uri": "https://localhost:8080/"
        },
        "outputId": "0db3e7b1-71ca-4b5a-c284-d6c427fb5990",
        "id": "FFt_kLp0jI_K"
      },
      "execution_count": null,
      "outputs": [
        {
          "output_type": "execute_result",
          "data": {
            "text/plain": [
              "2053836"
            ]
          },
          "metadata": {},
          "execution_count": 113
        }
      ]
    },
    {
      "cell_type": "code",
      "source": [
        "len(data[data['destination_names'].notna()]['user_uuid'].unique()) # total unique travel users"
      ],
      "metadata": {
        "colab": {
          "base_uri": "https://localhost:8080/"
        },
        "id": "TMproMqvk2CO",
        "outputId": "5fc37e88-88f6-4ebf-f680-3cc844f03cee"
      },
      "execution_count": null,
      "outputs": [
        {
          "output_type": "execute_result",
          "data": {
            "text/plain": [
              "3345312"
            ]
          },
          "metadata": {},
          "execution_count": 111
        }
      ]
    },
    {
      "cell_type": "code",
      "source": [
        "len(data[data['destination_names'].notna()]['circle_uuid'].unique()) # total unique travel circles"
      ],
      "metadata": {
        "colab": {
          "base_uri": "https://localhost:8080/"
        },
        "outputId": "da184363-3037-42bf-c43b-5033b5c12fcc",
        "id": "yNuu6hJqjI_T"
      },
      "execution_count": null,
      "outputs": [
        {
          "output_type": "execute_result",
          "data": {
            "text/plain": [
              "1681235"
            ]
          },
          "metadata": {},
          "execution_count": 114
        }
      ]
    },
    {
      "cell_type": "code",
      "source": [
        "len(data['circle_uuid'].unique()) # total unique circles"
      ],
      "metadata": {
        "colab": {
          "base_uri": "https://localhost:8080/"
        },
        "id": "6FkXlZIsqPbr",
        "outputId": "b845dad0-eec1-4257-fc65-e2973e432c3b"
      },
      "execution_count": null,
      "outputs": [
        {
          "output_type": "execute_result",
          "data": {
            "text/plain": [
              "2042587"
            ]
          },
          "metadata": {},
          "execution_count": 135
        }
      ]
    },
    {
      "cell_type": "code",
      "source": [
        "len(data['user_uuid'].unique()) # total unique users"
      ],
      "metadata": {
        "colab": {
          "base_uri": "https://localhost:8080/"
        },
        "outputId": "2bb9136e-7622-47d4-8360-42b9f95f5741",
        "id": "Ud-S0LdFjI_U"
      },
      "execution_count": null,
      "outputs": [
        {
          "output_type": "execute_result",
          "data": {
            "text/plain": [
              "3762492"
            ]
          },
          "metadata": {},
          "execution_count": 116
        }
      ]
    },
    {
      "cell_type": "code",
      "source": [
        "2042587-1681235 # non travel circles"
      ],
      "metadata": {
        "colab": {
          "base_uri": "https://localhost:8080/"
        },
        "id": "Nt8hhDYnqYOJ",
        "outputId": "35dc4d45-85cf-48c5-f319-709ce64e5013"
      },
      "execution_count": null,
      "outputs": [
        {
          "output_type": "execute_result",
          "data": {
            "text/plain": [
              "361352"
            ]
          },
          "metadata": {},
          "execution_count": 136
        }
      ]
    },
    {
      "cell_type": "code",
      "source": [
        "3762492-3345312 # total non travel users"
      ],
      "metadata": {
        "colab": {
          "base_uri": "https://localhost:8080/"
        },
        "outputId": "df08a654-d39d-4b7e-8ee0-a7d7e26eb68c",
        "id": "xFd9dwpTjI_V"
      },
      "execution_count": null,
      "outputs": [
        {
          "output_type": "execute_result",
          "data": {
            "text/plain": [
              "417180"
            ]
          },
          "metadata": {},
          "execution_count": 117
        }
      ]
    },
    {
      "cell_type": "code",
      "source": [
        "round(2053836/3345312*100,2) # % female travel users"
      ],
      "metadata": {
        "colab": {
          "base_uri": "https://localhost:8080/"
        },
        "outputId": "f7640e32-35b3-42fd-cea0-aa85a279f5ab",
        "id": "EtuNK0byjI_V"
      },
      "execution_count": null,
      "outputs": [
        {
          "output_type": "execute_result",
          "data": {
            "text/plain": [
              "61.39"
            ]
          },
          "metadata": {},
          "execution_count": 118
        }
      ]
    },
    {
      "cell_type": "code",
      "source": [
        "len(data[data['destination_names'].notna()]['user_uuid'].unique())/len(data['user_uuid'].unique())*100 # % travel users"
      ],
      "metadata": {
        "colab": {
          "base_uri": "https://localhost:8080/"
        },
        "outputId": "5122a079-5d46-4176-a34f-5b845d96eaef",
        "id": "E6c2e5gLjI_V"
      },
      "execution_count": null,
      "outputs": [
        {
          "output_type": "execute_result",
          "data": {
            "text/plain": [
              "88.91213589291353"
            ]
          },
          "metadata": {},
          "execution_count": 119
        }
      ]
    },
    {
      "cell_type": "code",
      "source": [
        "len(data[data['destination_names'].notna()]['circle_uuid'].unique())/len(data['circle_uuid'].unique())*100 # % travel circles"
      ],
      "metadata": {
        "colab": {
          "base_uri": "https://localhost:8080/"
        },
        "outputId": "316f1176-47ca-4737-f9fa-6b3a08df1ec5",
        "id": "DG_g-LHKjI_W"
      },
      "execution_count": null,
      "outputs": [
        {
          "output_type": "execute_result",
          "data": {
            "text/plain": [
              "82.30910115456527"
            ]
          },
          "metadata": {},
          "execution_count": 120
        }
      ]
    },
    {
      "cell_type": "code",
      "source": [
        "data[data['destination_names'].notna()]['media_added_count_x'].sum() # Total travel circles media contributions"
      ],
      "metadata": {
        "colab": {
          "base_uri": "https://localhost:8080/"
        },
        "outputId": "5af558ae-8f7d-49ae-8b87-fca623a69192",
        "id": "ZUOFdaJ-jI_W"
      },
      "execution_count": null,
      "outputs": [
        {
          "output_type": "execute_result",
          "data": {
            "text/plain": [
              "301739352"
            ]
          },
          "metadata": {},
          "execution_count": 121
        }
      ]
    },
    {
      "cell_type": "code",
      "source": [
        "data['media_added_count_x'].sum() # Total media contributions"
      ],
      "metadata": {
        "colab": {
          "base_uri": "https://localhost:8080/"
        },
        "outputId": "ea8a8ee4-7617-4746-cf45-dc9b9772ff28",
        "id": "flw1XshIjI_W"
      },
      "execution_count": null,
      "outputs": [
        {
          "output_type": "execute_result",
          "data": {
            "text/plain": [
              "341813280"
            ]
          },
          "metadata": {},
          "execution_count": 122
        }
      ]
    },
    {
      "cell_type": "code",
      "source": [
        "341813280-301739352 # Total non travel media contributions"
      ],
      "metadata": {
        "colab": {
          "base_uri": "https://localhost:8080/"
        },
        "outputId": "cf6a7ddb-781a-4517-d247-152aaa3aadce",
        "id": "Ms81He-vjI_X"
      },
      "execution_count": null,
      "outputs": [
        {
          "output_type": "execute_result",
          "data": {
            "text/plain": [
              "40073928"
            ]
          },
          "metadata": {},
          "execution_count": 123
        }
      ]
    },
    {
      "cell_type": "code",
      "source": [
        "round(301739352/341813280*100,2) # % total travel circles media contributions"
      ],
      "metadata": {
        "colab": {
          "base_uri": "https://localhost:8080/"
        },
        "outputId": "2deeba1f-3f08-4066-8d6e-af23c1bd8ca3",
        "id": "h5Ap6xJrjI_X"
      },
      "execution_count": null,
      "outputs": [
        {
          "output_type": "execute_result",
          "data": {
            "text/plain": [
              "88.28"
            ]
          },
          "metadata": {},
          "execution_count": 125
        }
      ]
    },
    {
      "cell_type": "code",
      "source": [
        "len(data.loc[data['destination_names'].notna()].sort_values(['active_count_in_last_30_days','media_added_count_y'], ascending=False))"
      ],
      "metadata": {
        "colab": {
          "base_uri": "https://localhost:8080/"
        },
        "outputId": "19dd1686-9dfe-4ea9-a5cb-baa8cc4f0b21",
        "id": "5Y7aA-dcjI_X"
      },
      "execution_count": null,
      "outputs": [
        {
          "output_type": "execute_result",
          "data": {
            "text/plain": [
              "8989391"
            ]
          },
          "metadata": {},
          "execution_count": 126
        }
      ]
    },
    {
      "cell_type": "code",
      "source": [
        "len(data[(data['destination_names'].notna()) & (data['active_count_in_last_30_days'] < 10)] \\\n",
        "    ['user_uuid'].unique())"
      ],
      "metadata": {
        "colab": {
          "base_uri": "https://localhost:8080/"
        },
        "outputId": "b5c99b71-dc8d-4e74-c1ae-1591a271587d",
        "id": "vQ96Af7vjI_X"
      },
      "execution_count": null,
      "outputs": [
        {
          "output_type": "execute_result",
          "data": {
            "text/plain": [
              "3255902"
            ]
          },
          "metadata": {},
          "execution_count": 128
        }
      ]
    },
    {
      "cell_type": "code",
      "source": [
        "len(data.loc[(data['destination_names'].notna()) & (data['active_count_in_last_30_days'].between(10,19))] \\\n",
        "    ['user_uuid'].unique())"
      ],
      "metadata": {
        "colab": {
          "base_uri": "https://localhost:8080/"
        },
        "outputId": "b5421323-af18-4ed6-d166-2d22936ecad7",
        "id": "Km_xsF8PjI_Y"
      },
      "execution_count": null,
      "outputs": [
        {
          "output_type": "execute_result",
          "data": {
            "text/plain": [
              "65924"
            ]
          },
          "metadata": {},
          "execution_count": 129
        }
      ]
    },
    {
      "cell_type": "code",
      "source": [
        "len(data.loc[(data['destination_names'].notna()) & (data['active_count_in_last_30_days'].between(20,29))] \\\n",
        "    ['user_uuid'].unique())"
      ],
      "metadata": {
        "colab": {
          "base_uri": "https://localhost:8080/"
        },
        "outputId": "02bbedde-4590-4682-828c-b199f6077c9f",
        "id": "wd1fVqlIjI_Y"
      },
      "execution_count": null,
      "outputs": [
        {
          "output_type": "execute_result",
          "data": {
            "text/plain": [
              "20491"
            ]
          },
          "metadata": {},
          "execution_count": 130
        }
      ]
    },
    {
      "cell_type": "code",
      "source": [
        "len(data.loc[(data['destination_names'].notna()) & (data['active_count_in_last_30_days']==30)] \\\n",
        "    ['user_uuid'].unique())"
      ],
      "metadata": {
        "colab": {
          "base_uri": "https://localhost:8080/"
        },
        "outputId": "ce35e489-f87f-4304-9449-80706cf8671d",
        "id": "6-_-7fLUjI_Y"
      },
      "execution_count": null,
      "outputs": [
        {
          "output_type": "execute_result",
          "data": {
            "text/plain": [
              "2993"
            ]
          },
          "metadata": {},
          "execution_count": 131
        }
      ]
    },
    {
      "cell_type": "code",
      "source": [
        "data.loc[data['destination_names'].notna()].sort_values('media_added_count_x', ascending=False).head(5)"
      ],
      "metadata": {
        "colab": {
          "base_uri": "https://localhost:8080/",
          "height": 523
        },
        "outputId": "a29eb712-8cc1-46f1-8f3a-de0cc820cc76",
        "id": "hkMjC2BZjI_Z"
      },
      "execution_count": null,
      "outputs": [
        {
          "output_type": "execute_result",
          "data": {
            "text/plain": [
              "                                  circle_uuid  \\\n",
              "4059898  0000520f-d8b2-a02c-7439-1f0788c10002   \n",
              "1800619  00005da2-a5f2-f8d1-c16b-4a7774e80002   \n",
              "3785555  000059af-910b-d551-c013-42cdb4480002   \n",
              "5294253  000056c6-b9c2-8cff-9668-ee937af80002   \n",
              "1897498  000057af-b679-d551-c018-b1832b9b0002   \n",
              "\n",
              "                                    user_uuid  media_added_count_x  \\\n",
              "4059898  00000000-51ec-4b44-a02c-740f685c75a4                42008   \n",
              "1800619  00000000-5da0-98e3-f8d1-c16b4a395142                37669   \n",
              "3785555  00000000-5529-4a94-3901-68373b74d007                36552   \n",
              "5294253  00000000-51fc-77ee-a02c-746ec84a3f9c                35973   \n",
              "1897498  00000000-571c-db9d-d551-c04cb204f94e                35494   \n",
              "\n",
              "                  title  media_count  has_greek_words real_estate_keywords  \\\n",
              "4059898     Photo Album      42237.0            False                   []   \n",
              "1800619  Lewiston Loads      43500.0            False                   []   \n",
              "3785555        Okinawa!      42161.0            False                   []   \n",
              "5294253  Austin Jameson      42898.0            False                   []   \n",
              "1897498    Avery Grace🎀      38685.0            False                   []   \n",
              "\n",
              "         is_real_estate solar_keywords  is_solar event_keywords  is_event  \\\n",
              "4059898           False             []     False             []     False   \n",
              "1800619           False             []     False             []     False   \n",
              "3785555           False             []     False             []     False   \n",
              "5294253           False             []     False             []     False   \n",
              "1897498           False             []     False             []     False   \n",
              "\n",
              "        occupation_keywords  is_occupation animal_keywords  is_animal  \\\n",
              "4059898                  []          False              []      False   \n",
              "1800619                  []          False              []      False   \n",
              "3785555                  []          False              []      False   \n",
              "5294253                  []          False              []      False   \n",
              "1897498                  []          False              []      False   \n",
              "\n",
              "        destination_names  is_travel  location_names  is_location  \\\n",
              "4059898       Photo Album      False     Photo Album        False   \n",
              "1800619    Lewiston Loads      False  Lewiston Loads        False   \n",
              "3785555           Okinawa      False         Okinawa        False   \n",
              "5294253    Austin Jameson      False  Austin Jameson        False   \n",
              "1897498       Avery Grace      False     Avery Grace        False   \n",
              "\n",
              "                     display_name email_domain  active_count_in_last_30_days  \\\n",
              "4059898         Brittney Dominick    gmail.com                           1.0   \n",
              "1800619  Reddick reddick.white@pe   perdue.com                           0.0   \n",
              "3785555               Yuki Wilson    gmail.com                           0.0   \n",
              "5294253                 Janet Lor    gmail.com                           0.0   \n",
              "1897498             Alicia Sigman      aol.com                          26.0   \n",
              "\n",
              "         media_added_count_y first_name  num_female  num_male  female_pct  \\\n",
              "4059898                  0.0   Brittney     81890.0     265.0       99.68   \n",
              "1800619                  0.0    Reddick         0.0      31.0        0.00   \n",
              "3785555                  0.0       Yuki       887.0     488.0       64.51   \n",
              "5294253                  0.0      Janet    556088.0    1517.0       99.73   \n",
              "1897498                384.0     Alicia    225616.0     707.0       99.69   \n",
              "\n",
              "         is_student  \n",
              "4059898       False  \n",
              "1800619       False  \n",
              "3785555       False  \n",
              "5294253       False  \n",
              "1897498       False  "
            ],
            "text/html": [
              "\n",
              "  <div id=\"df-1215a668-9383-4ccb-8f6c-f30454da7718\">\n",
              "    <div class=\"colab-df-container\">\n",
              "      <div>\n",
              "<style scoped>\n",
              "    .dataframe tbody tr th:only-of-type {\n",
              "        vertical-align: middle;\n",
              "    }\n",
              "\n",
              "    .dataframe tbody tr th {\n",
              "        vertical-align: top;\n",
              "    }\n",
              "\n",
              "    .dataframe thead th {\n",
              "        text-align: right;\n",
              "    }\n",
              "</style>\n",
              "<table border=\"1\" class=\"dataframe\">\n",
              "  <thead>\n",
              "    <tr style=\"text-align: right;\">\n",
              "      <th></th>\n",
              "      <th>circle_uuid</th>\n",
              "      <th>user_uuid</th>\n",
              "      <th>media_added_count_x</th>\n",
              "      <th>title</th>\n",
              "      <th>media_count</th>\n",
              "      <th>has_greek_words</th>\n",
              "      <th>real_estate_keywords</th>\n",
              "      <th>is_real_estate</th>\n",
              "      <th>solar_keywords</th>\n",
              "      <th>is_solar</th>\n",
              "      <th>event_keywords</th>\n",
              "      <th>is_event</th>\n",
              "      <th>occupation_keywords</th>\n",
              "      <th>is_occupation</th>\n",
              "      <th>animal_keywords</th>\n",
              "      <th>is_animal</th>\n",
              "      <th>destination_names</th>\n",
              "      <th>is_travel</th>\n",
              "      <th>location_names</th>\n",
              "      <th>is_location</th>\n",
              "      <th>display_name</th>\n",
              "      <th>email_domain</th>\n",
              "      <th>active_count_in_last_30_days</th>\n",
              "      <th>media_added_count_y</th>\n",
              "      <th>first_name</th>\n",
              "      <th>num_female</th>\n",
              "      <th>num_male</th>\n",
              "      <th>female_pct</th>\n",
              "      <th>is_student</th>\n",
              "    </tr>\n",
              "  </thead>\n",
              "  <tbody>\n",
              "    <tr>\n",
              "      <th>4059898</th>\n",
              "      <td>0000520f-d8b2-a02c-7439-1f0788c10002</td>\n",
              "      <td>00000000-51ec-4b44-a02c-740f685c75a4</td>\n",
              "      <td>42008</td>\n",
              "      <td>Photo Album</td>\n",
              "      <td>42237.0</td>\n",
              "      <td>False</td>\n",
              "      <td>[]</td>\n",
              "      <td>False</td>\n",
              "      <td>[]</td>\n",
              "      <td>False</td>\n",
              "      <td>[]</td>\n",
              "      <td>False</td>\n",
              "      <td>[]</td>\n",
              "      <td>False</td>\n",
              "      <td>[]</td>\n",
              "      <td>False</td>\n",
              "      <td>Photo Album</td>\n",
              "      <td>False</td>\n",
              "      <td>Photo Album</td>\n",
              "      <td>False</td>\n",
              "      <td>Brittney Dominick</td>\n",
              "      <td>gmail.com</td>\n",
              "      <td>1.0</td>\n",
              "      <td>0.0</td>\n",
              "      <td>Brittney</td>\n",
              "      <td>81890.0</td>\n",
              "      <td>265.0</td>\n",
              "      <td>99.68</td>\n",
              "      <td>False</td>\n",
              "    </tr>\n",
              "    <tr>\n",
              "      <th>1800619</th>\n",
              "      <td>00005da2-a5f2-f8d1-c16b-4a7774e80002</td>\n",
              "      <td>00000000-5da0-98e3-f8d1-c16b4a395142</td>\n",
              "      <td>37669</td>\n",
              "      <td>Lewiston Loads</td>\n",
              "      <td>43500.0</td>\n",
              "      <td>False</td>\n",
              "      <td>[]</td>\n",
              "      <td>False</td>\n",
              "      <td>[]</td>\n",
              "      <td>False</td>\n",
              "      <td>[]</td>\n",
              "      <td>False</td>\n",
              "      <td>[]</td>\n",
              "      <td>False</td>\n",
              "      <td>[]</td>\n",
              "      <td>False</td>\n",
              "      <td>Lewiston Loads</td>\n",
              "      <td>False</td>\n",
              "      <td>Lewiston Loads</td>\n",
              "      <td>False</td>\n",
              "      <td>Reddick reddick.white@pe</td>\n",
              "      <td>perdue.com</td>\n",
              "      <td>0.0</td>\n",
              "      <td>0.0</td>\n",
              "      <td>Reddick</td>\n",
              "      <td>0.0</td>\n",
              "      <td>31.0</td>\n",
              "      <td>0.00</td>\n",
              "      <td>False</td>\n",
              "    </tr>\n",
              "    <tr>\n",
              "      <th>3785555</th>\n",
              "      <td>000059af-910b-d551-c013-42cdb4480002</td>\n",
              "      <td>00000000-5529-4a94-3901-68373b74d007</td>\n",
              "      <td>36552</td>\n",
              "      <td>Okinawa!</td>\n",
              "      <td>42161.0</td>\n",
              "      <td>False</td>\n",
              "      <td>[]</td>\n",
              "      <td>False</td>\n",
              "      <td>[]</td>\n",
              "      <td>False</td>\n",
              "      <td>[]</td>\n",
              "      <td>False</td>\n",
              "      <td>[]</td>\n",
              "      <td>False</td>\n",
              "      <td>[]</td>\n",
              "      <td>False</td>\n",
              "      <td>Okinawa</td>\n",
              "      <td>False</td>\n",
              "      <td>Okinawa</td>\n",
              "      <td>False</td>\n",
              "      <td>Yuki Wilson</td>\n",
              "      <td>gmail.com</td>\n",
              "      <td>0.0</td>\n",
              "      <td>0.0</td>\n",
              "      <td>Yuki</td>\n",
              "      <td>887.0</td>\n",
              "      <td>488.0</td>\n",
              "      <td>64.51</td>\n",
              "      <td>False</td>\n",
              "    </tr>\n",
              "    <tr>\n",
              "      <th>5294253</th>\n",
              "      <td>000056c6-b9c2-8cff-9668-ee937af80002</td>\n",
              "      <td>00000000-51fc-77ee-a02c-746ec84a3f9c</td>\n",
              "      <td>35973</td>\n",
              "      <td>Austin Jameson</td>\n",
              "      <td>42898.0</td>\n",
              "      <td>False</td>\n",
              "      <td>[]</td>\n",
              "      <td>False</td>\n",
              "      <td>[]</td>\n",
              "      <td>False</td>\n",
              "      <td>[]</td>\n",
              "      <td>False</td>\n",
              "      <td>[]</td>\n",
              "      <td>False</td>\n",
              "      <td>[]</td>\n",
              "      <td>False</td>\n",
              "      <td>Austin Jameson</td>\n",
              "      <td>False</td>\n",
              "      <td>Austin Jameson</td>\n",
              "      <td>False</td>\n",
              "      <td>Janet Lor</td>\n",
              "      <td>gmail.com</td>\n",
              "      <td>0.0</td>\n",
              "      <td>0.0</td>\n",
              "      <td>Janet</td>\n",
              "      <td>556088.0</td>\n",
              "      <td>1517.0</td>\n",
              "      <td>99.73</td>\n",
              "      <td>False</td>\n",
              "    </tr>\n",
              "    <tr>\n",
              "      <th>1897498</th>\n",
              "      <td>000057af-b679-d551-c018-b1832b9b0002</td>\n",
              "      <td>00000000-571c-db9d-d551-c04cb204f94e</td>\n",
              "      <td>35494</td>\n",
              "      <td>Avery Grace🎀</td>\n",
              "      <td>38685.0</td>\n",
              "      <td>False</td>\n",
              "      <td>[]</td>\n",
              "      <td>False</td>\n",
              "      <td>[]</td>\n",
              "      <td>False</td>\n",
              "      <td>[]</td>\n",
              "      <td>False</td>\n",
              "      <td>[]</td>\n",
              "      <td>False</td>\n",
              "      <td>[]</td>\n",
              "      <td>False</td>\n",
              "      <td>Avery Grace</td>\n",
              "      <td>False</td>\n",
              "      <td>Avery Grace</td>\n",
              "      <td>False</td>\n",
              "      <td>Alicia Sigman</td>\n",
              "      <td>aol.com</td>\n",
              "      <td>26.0</td>\n",
              "      <td>384.0</td>\n",
              "      <td>Alicia</td>\n",
              "      <td>225616.0</td>\n",
              "      <td>707.0</td>\n",
              "      <td>99.69</td>\n",
              "      <td>False</td>\n",
              "    </tr>\n",
              "  </tbody>\n",
              "</table>\n",
              "</div>\n",
              "      <button class=\"colab-df-convert\" onclick=\"convertToInteractive('df-1215a668-9383-4ccb-8f6c-f30454da7718')\"\n",
              "              title=\"Convert this dataframe to an interactive table.\"\n",
              "              style=\"display:none;\">\n",
              "        \n",
              "  <svg xmlns=\"http://www.w3.org/2000/svg\" height=\"24px\"viewBox=\"0 0 24 24\"\n",
              "       width=\"24px\">\n",
              "    <path d=\"M0 0h24v24H0V0z\" fill=\"none\"/>\n",
              "    <path d=\"M18.56 5.44l.94 2.06.94-2.06 2.06-.94-2.06-.94-.94-2.06-.94 2.06-2.06.94zm-11 1L8.5 8.5l.94-2.06 2.06-.94-2.06-.94L8.5 2.5l-.94 2.06-2.06.94zm10 10l.94 2.06.94-2.06 2.06-.94-2.06-.94-.94-2.06-.94 2.06-2.06.94z\"/><path d=\"M17.41 7.96l-1.37-1.37c-.4-.4-.92-.59-1.43-.59-.52 0-1.04.2-1.43.59L10.3 9.45l-7.72 7.72c-.78.78-.78 2.05 0 2.83L4 21.41c.39.39.9.59 1.41.59.51 0 1.02-.2 1.41-.59l7.78-7.78 2.81-2.81c.8-.78.8-2.07 0-2.86zM5.41 20L4 18.59l7.72-7.72 1.47 1.35L5.41 20z\"/>\n",
              "  </svg>\n",
              "      </button>\n",
              "      \n",
              "  <style>\n",
              "    .colab-df-container {\n",
              "      display:flex;\n",
              "      flex-wrap:wrap;\n",
              "      gap: 12px;\n",
              "    }\n",
              "\n",
              "    .colab-df-convert {\n",
              "      background-color: #E8F0FE;\n",
              "      border: none;\n",
              "      border-radius: 50%;\n",
              "      cursor: pointer;\n",
              "      display: none;\n",
              "      fill: #1967D2;\n",
              "      height: 32px;\n",
              "      padding: 0 0 0 0;\n",
              "      width: 32px;\n",
              "    }\n",
              "\n",
              "    .colab-df-convert:hover {\n",
              "      background-color: #E2EBFA;\n",
              "      box-shadow: 0px 1px 2px rgba(60, 64, 67, 0.3), 0px 1px 3px 1px rgba(60, 64, 67, 0.15);\n",
              "      fill: #174EA6;\n",
              "    }\n",
              "\n",
              "    [theme=dark] .colab-df-convert {\n",
              "      background-color: #3B4455;\n",
              "      fill: #D2E3FC;\n",
              "    }\n",
              "\n",
              "    [theme=dark] .colab-df-convert:hover {\n",
              "      background-color: #434B5C;\n",
              "      box-shadow: 0px 1px 3px 1px rgba(0, 0, 0, 0.15);\n",
              "      filter: drop-shadow(0px 1px 2px rgba(0, 0, 0, 0.3));\n",
              "      fill: #FFFFFF;\n",
              "    }\n",
              "  </style>\n",
              "\n",
              "      <script>\n",
              "        const buttonEl =\n",
              "          document.querySelector('#df-1215a668-9383-4ccb-8f6c-f30454da7718 button.colab-df-convert');\n",
              "        buttonEl.style.display =\n",
              "          google.colab.kernel.accessAllowed ? 'block' : 'none';\n",
              "\n",
              "        async function convertToInteractive(key) {\n",
              "          const element = document.querySelector('#df-1215a668-9383-4ccb-8f6c-f30454da7718');\n",
              "          const dataTable =\n",
              "            await google.colab.kernel.invokeFunction('convertToInteractive',\n",
              "                                                     [key], {});\n",
              "          if (!dataTable) return;\n",
              "\n",
              "          const docLinkHtml = 'Like what you see? Visit the ' +\n",
              "            '<a target=\"_blank\" href=https://colab.research.google.com/notebooks/data_table.ipynb>data table notebook</a>'\n",
              "            + ' to learn more about interactive tables.';\n",
              "          element.innerHTML = '';\n",
              "          dataTable['output_type'] = 'display_data';\n",
              "          await google.colab.output.renderOutput(dataTable, element);\n",
              "          const docLink = document.createElement('div');\n",
              "          docLink.innerHTML = docLinkHtml;\n",
              "          element.appendChild(docLink);\n",
              "        }\n",
              "      </script>\n",
              "    </div>\n",
              "  </div>\n",
              "  "
            ]
          },
          "metadata": {},
          "execution_count": 132
        }
      ]
    },
    {
      "cell_type": "code",
      "source": [
        "data.loc[data['destination_names'].notna()] \\\n",
        "  [['first_name','media_added_count_x']] \\\n",
        "  .sort_values(by = 'media_added_count_x', ascending=False) \\\n",
        "  .head(10)"
      ],
      "metadata": {
        "colab": {
          "base_uri": "https://localhost:8080/",
          "height": 359
        },
        "outputId": "d711cfaa-5db8-4464-a06a-20511d6be584",
        "id": "FPtWwmC5odyy"
      },
      "execution_count": null,
      "outputs": [
        {
          "output_type": "execute_result",
          "data": {
            "text/plain": [
              "        first_name  media_added_count_x\n",
              "4059898   Brittney                42008\n",
              "1800619    Reddick                37669\n",
              "3785555       Yuki                36552\n",
              "5294253      Janet                35973\n",
              "1897498     Alicia                35494\n",
              "5731536    Brianne                33848\n",
              "6399207      Skiah                28368\n",
              "185241      Jordan                26395\n",
              "4640200      Casey                24746\n",
              "3851547    Clarice                24502"
            ],
            "text/html": [
              "\n",
              "  <div id=\"df-0fb4a3f3-7723-4cd8-b35d-ece8e7260705\">\n",
              "    <div class=\"colab-df-container\">\n",
              "      <div>\n",
              "<style scoped>\n",
              "    .dataframe tbody tr th:only-of-type {\n",
              "        vertical-align: middle;\n",
              "    }\n",
              "\n",
              "    .dataframe tbody tr th {\n",
              "        vertical-align: top;\n",
              "    }\n",
              "\n",
              "    .dataframe thead th {\n",
              "        text-align: right;\n",
              "    }\n",
              "</style>\n",
              "<table border=\"1\" class=\"dataframe\">\n",
              "  <thead>\n",
              "    <tr style=\"text-align: right;\">\n",
              "      <th></th>\n",
              "      <th>first_name</th>\n",
              "      <th>media_added_count_x</th>\n",
              "    </tr>\n",
              "  </thead>\n",
              "  <tbody>\n",
              "    <tr>\n",
              "      <th>4059898</th>\n",
              "      <td>Brittney</td>\n",
              "      <td>42008</td>\n",
              "    </tr>\n",
              "    <tr>\n",
              "      <th>1800619</th>\n",
              "      <td>Reddick</td>\n",
              "      <td>37669</td>\n",
              "    </tr>\n",
              "    <tr>\n",
              "      <th>3785555</th>\n",
              "      <td>Yuki</td>\n",
              "      <td>36552</td>\n",
              "    </tr>\n",
              "    <tr>\n",
              "      <th>5294253</th>\n",
              "      <td>Janet</td>\n",
              "      <td>35973</td>\n",
              "    </tr>\n",
              "    <tr>\n",
              "      <th>1897498</th>\n",
              "      <td>Alicia</td>\n",
              "      <td>35494</td>\n",
              "    </tr>\n",
              "    <tr>\n",
              "      <th>5731536</th>\n",
              "      <td>Brianne</td>\n",
              "      <td>33848</td>\n",
              "    </tr>\n",
              "    <tr>\n",
              "      <th>6399207</th>\n",
              "      <td>Skiah</td>\n",
              "      <td>28368</td>\n",
              "    </tr>\n",
              "    <tr>\n",
              "      <th>185241</th>\n",
              "      <td>Jordan</td>\n",
              "      <td>26395</td>\n",
              "    </tr>\n",
              "    <tr>\n",
              "      <th>4640200</th>\n",
              "      <td>Casey</td>\n",
              "      <td>24746</td>\n",
              "    </tr>\n",
              "    <tr>\n",
              "      <th>3851547</th>\n",
              "      <td>Clarice</td>\n",
              "      <td>24502</td>\n",
              "    </tr>\n",
              "  </tbody>\n",
              "</table>\n",
              "</div>\n",
              "      <button class=\"colab-df-convert\" onclick=\"convertToInteractive('df-0fb4a3f3-7723-4cd8-b35d-ece8e7260705')\"\n",
              "              title=\"Convert this dataframe to an interactive table.\"\n",
              "              style=\"display:none;\">\n",
              "        \n",
              "  <svg xmlns=\"http://www.w3.org/2000/svg\" height=\"24px\"viewBox=\"0 0 24 24\"\n",
              "       width=\"24px\">\n",
              "    <path d=\"M0 0h24v24H0V0z\" fill=\"none\"/>\n",
              "    <path d=\"M18.56 5.44l.94 2.06.94-2.06 2.06-.94-2.06-.94-.94-2.06-.94 2.06-2.06.94zm-11 1L8.5 8.5l.94-2.06 2.06-.94-2.06-.94L8.5 2.5l-.94 2.06-2.06.94zm10 10l.94 2.06.94-2.06 2.06-.94-2.06-.94-.94-2.06-.94 2.06-2.06.94z\"/><path d=\"M17.41 7.96l-1.37-1.37c-.4-.4-.92-.59-1.43-.59-.52 0-1.04.2-1.43.59L10.3 9.45l-7.72 7.72c-.78.78-.78 2.05 0 2.83L4 21.41c.39.39.9.59 1.41.59.51 0 1.02-.2 1.41-.59l7.78-7.78 2.81-2.81c.8-.78.8-2.07 0-2.86zM5.41 20L4 18.59l7.72-7.72 1.47 1.35L5.41 20z\"/>\n",
              "  </svg>\n",
              "      </button>\n",
              "      \n",
              "  <style>\n",
              "    .colab-df-container {\n",
              "      display:flex;\n",
              "      flex-wrap:wrap;\n",
              "      gap: 12px;\n",
              "    }\n",
              "\n",
              "    .colab-df-convert {\n",
              "      background-color: #E8F0FE;\n",
              "      border: none;\n",
              "      border-radius: 50%;\n",
              "      cursor: pointer;\n",
              "      display: none;\n",
              "      fill: #1967D2;\n",
              "      height: 32px;\n",
              "      padding: 0 0 0 0;\n",
              "      width: 32px;\n",
              "    }\n",
              "\n",
              "    .colab-df-convert:hover {\n",
              "      background-color: #E2EBFA;\n",
              "      box-shadow: 0px 1px 2px rgba(60, 64, 67, 0.3), 0px 1px 3px 1px rgba(60, 64, 67, 0.15);\n",
              "      fill: #174EA6;\n",
              "    }\n",
              "\n",
              "    [theme=dark] .colab-df-convert {\n",
              "      background-color: #3B4455;\n",
              "      fill: #D2E3FC;\n",
              "    }\n",
              "\n",
              "    [theme=dark] .colab-df-convert:hover {\n",
              "      background-color: #434B5C;\n",
              "      box-shadow: 0px 1px 3px 1px rgba(0, 0, 0, 0.15);\n",
              "      filter: drop-shadow(0px 1px 2px rgba(0, 0, 0, 0.3));\n",
              "      fill: #FFFFFF;\n",
              "    }\n",
              "  </style>\n",
              "\n",
              "      <script>\n",
              "        const buttonEl =\n",
              "          document.querySelector('#df-0fb4a3f3-7723-4cd8-b35d-ece8e7260705 button.colab-df-convert');\n",
              "        buttonEl.style.display =\n",
              "          google.colab.kernel.accessAllowed ? 'block' : 'none';\n",
              "\n",
              "        async function convertToInteractive(key) {\n",
              "          const element = document.querySelector('#df-0fb4a3f3-7723-4cd8-b35d-ece8e7260705');\n",
              "          const dataTable =\n",
              "            await google.colab.kernel.invokeFunction('convertToInteractive',\n",
              "                                                     [key], {});\n",
              "          if (!dataTable) return;\n",
              "\n",
              "          const docLinkHtml = 'Like what you see? Visit the ' +\n",
              "            '<a target=\"_blank\" href=https://colab.research.google.com/notebooks/data_table.ipynb>data table notebook</a>'\n",
              "            + ' to learn more about interactive tables.';\n",
              "          element.innerHTML = '';\n",
              "          dataTable['output_type'] = 'display_data';\n",
              "          await google.colab.output.renderOutput(dataTable, element);\n",
              "          const docLink = document.createElement('div');\n",
              "          docLink.innerHTML = docLinkHtml;\n",
              "          element.appendChild(docLink);\n",
              "        }\n",
              "      </script>\n",
              "    </div>\n",
              "  </div>\n",
              "  "
            ]
          },
          "metadata": {},
          "execution_count": 133
        }
      ]
    },
    {
      "cell_type": "code",
      "source": [
        "data.loc[data['destination_names'].notna()] \\\n",
        "  .groupby('title')['media_added_count_x'] \\\n",
        "  .agg('sum') \\\n",
        "  .sort_values(ascending=False) \\\n",
        "  .head(10)"
      ],
      "metadata": {
        "colab": {
          "base_uri": "https://localhost:8080/"
        },
        "outputId": "e42c89d0-44ce-4a0b-bc24-ce90b1cfbaea",
        "id": "ZBo3ewF3ody8"
      },
      "execution_count": null,
      "outputs": [
        {
          "output_type": "execute_result",
          "data": {
            "text/plain": [
              "title\n",
              "Family            1269268\n",
              "Hawaii             379631\n",
              "Photos             318354\n",
              "Italy              261901\n",
              "Me                 245182\n",
              "Honeymoon          244974\n",
              "My Photos          235374\n",
              "Family             224929\n",
              "Christmas 2022     219954\n",
              "Costa Rica         208924\n",
              "Name: media_added_count_x, dtype: int64"
            ]
          },
          "metadata": {},
          "execution_count": 134
        }
      ]
    },
    {
      "cell_type": "markdown",
      "source": [
        "#**Words Analysis for Year in Circle Titles**"
      ],
      "metadata": {
        "id": "L_iR0XfpDIU4"
      }
    },
    {
      "cell_type": "code",
      "source": [
        "!pip install spacy\n",
        "import nltk\n",
        "nltk.download('punkt')\n",
        "nltk.download('averaged_perceptron_tagger')\n",
        "nltk.download('omw')\n",
        "import re\n",
        "import regex\n",
        "import spacy\n",
        "from IPython.display import display\n",
        "from nltk.tokenize import word_tokenize\n",
        "from nltk.tag import pos_tag\n",
        "from nltk.chunk import ne_chunk"
      ],
      "metadata": {
        "id": "yI7PPs-6Eaa2"
      },
      "execution_count": null,
      "outputs": []
    },
    {
      "cell_type": "code",
      "source": [
        "my_list = ['2022', '2019', '2021', '2018', '2020', '2017', '2016', '2023', '2015', '2014', 'year', '22', 'years']\n",
        "title_matches = data[data['title'].notna() & data['title'].str.contains('|'.join(map(str, my_list)))][['title']].reset_index(drop=True)\n",
        "title_matches.head()"
      ],
      "metadata": {
        "colab": {
          "base_uri": "https://localhost:8080/",
          "height": 204
        },
        "id": "0UKw-6blBfZ5",
        "outputId": "f1ce10db-83c5-47e2-95de-aa53efb9d825"
      },
      "execution_count": null,
      "outputs": [
        {
          "output_type": "execute_result",
          "data": {
            "text/plain": [
              "                            title\n",
              "0                      Vegas 2022\n",
              "1                  NYC! Trip 2019\n",
              "2  First Week Of School 2022-2023\n",
              "3                Reniassance 2019\n",
              "4             Bahamas Cruise-2016"
            ],
            "text/html": [
              "\n",
              "  <div id=\"df-7d760fea-f4c6-49fe-98f8-8363296024e5\">\n",
              "    <div class=\"colab-df-container\">\n",
              "      <div>\n",
              "<style scoped>\n",
              "    .dataframe tbody tr th:only-of-type {\n",
              "        vertical-align: middle;\n",
              "    }\n",
              "\n",
              "    .dataframe tbody tr th {\n",
              "        vertical-align: top;\n",
              "    }\n",
              "\n",
              "    .dataframe thead th {\n",
              "        text-align: right;\n",
              "    }\n",
              "</style>\n",
              "<table border=\"1\" class=\"dataframe\">\n",
              "  <thead>\n",
              "    <tr style=\"text-align: right;\">\n",
              "      <th></th>\n",
              "      <th>title</th>\n",
              "    </tr>\n",
              "  </thead>\n",
              "  <tbody>\n",
              "    <tr>\n",
              "      <th>0</th>\n",
              "      <td>Vegas 2022</td>\n",
              "    </tr>\n",
              "    <tr>\n",
              "      <th>1</th>\n",
              "      <td>NYC! Trip 2019</td>\n",
              "    </tr>\n",
              "    <tr>\n",
              "      <th>2</th>\n",
              "      <td>First Week Of School 2022-2023</td>\n",
              "    </tr>\n",
              "    <tr>\n",
              "      <th>3</th>\n",
              "      <td>Reniassance 2019</td>\n",
              "    </tr>\n",
              "    <tr>\n",
              "      <th>4</th>\n",
              "      <td>Bahamas Cruise-2016</td>\n",
              "    </tr>\n",
              "  </tbody>\n",
              "</table>\n",
              "</div>\n",
              "      <button class=\"colab-df-convert\" onclick=\"convertToInteractive('df-7d760fea-f4c6-49fe-98f8-8363296024e5')\"\n",
              "              title=\"Convert this dataframe to an interactive table.\"\n",
              "              style=\"display:none;\">\n",
              "        \n",
              "  <svg xmlns=\"http://www.w3.org/2000/svg\" height=\"24px\"viewBox=\"0 0 24 24\"\n",
              "       width=\"24px\">\n",
              "    <path d=\"M0 0h24v24H0V0z\" fill=\"none\"/>\n",
              "    <path d=\"M18.56 5.44l.94 2.06.94-2.06 2.06-.94-2.06-.94-.94-2.06-.94 2.06-2.06.94zm-11 1L8.5 8.5l.94-2.06 2.06-.94-2.06-.94L8.5 2.5l-.94 2.06-2.06.94zm10 10l.94 2.06.94-2.06 2.06-.94-2.06-.94-.94-2.06-.94 2.06-2.06.94z\"/><path d=\"M17.41 7.96l-1.37-1.37c-.4-.4-.92-.59-1.43-.59-.52 0-1.04.2-1.43.59L10.3 9.45l-7.72 7.72c-.78.78-.78 2.05 0 2.83L4 21.41c.39.39.9.59 1.41.59.51 0 1.02-.2 1.41-.59l7.78-7.78 2.81-2.81c.8-.78.8-2.07 0-2.86zM5.41 20L4 18.59l7.72-7.72 1.47 1.35L5.41 20z\"/>\n",
              "  </svg>\n",
              "      </button>\n",
              "      \n",
              "  <style>\n",
              "    .colab-df-container {\n",
              "      display:flex;\n",
              "      flex-wrap:wrap;\n",
              "      gap: 12px;\n",
              "    }\n",
              "\n",
              "    .colab-df-convert {\n",
              "      background-color: #E8F0FE;\n",
              "      border: none;\n",
              "      border-radius: 50%;\n",
              "      cursor: pointer;\n",
              "      display: none;\n",
              "      fill: #1967D2;\n",
              "      height: 32px;\n",
              "      padding: 0 0 0 0;\n",
              "      width: 32px;\n",
              "    }\n",
              "\n",
              "    .colab-df-convert:hover {\n",
              "      background-color: #E2EBFA;\n",
              "      box-shadow: 0px 1px 2px rgba(60, 64, 67, 0.3), 0px 1px 3px 1px rgba(60, 64, 67, 0.15);\n",
              "      fill: #174EA6;\n",
              "    }\n",
              "\n",
              "    [theme=dark] .colab-df-convert {\n",
              "      background-color: #3B4455;\n",
              "      fill: #D2E3FC;\n",
              "    }\n",
              "\n",
              "    [theme=dark] .colab-df-convert:hover {\n",
              "      background-color: #434B5C;\n",
              "      box-shadow: 0px 1px 3px 1px rgba(0, 0, 0, 0.15);\n",
              "      filter: drop-shadow(0px 1px 2px rgba(0, 0, 0, 0.3));\n",
              "      fill: #FFFFFF;\n",
              "    }\n",
              "  </style>\n",
              "\n",
              "      <script>\n",
              "        const buttonEl =\n",
              "          document.querySelector('#df-7d760fea-f4c6-49fe-98f8-8363296024e5 button.colab-df-convert');\n",
              "        buttonEl.style.display =\n",
              "          google.colab.kernel.accessAllowed ? 'block' : 'none';\n",
              "\n",
              "        async function convertToInteractive(key) {\n",
              "          const element = document.querySelector('#df-7d760fea-f4c6-49fe-98f8-8363296024e5');\n",
              "          const dataTable =\n",
              "            await google.colab.kernel.invokeFunction('convertToInteractive',\n",
              "                                                     [key], {});\n",
              "          if (!dataTable) return;\n",
              "\n",
              "          const docLinkHtml = 'Like what you see? Visit the ' +\n",
              "            '<a target=\"_blank\" href=https://colab.research.google.com/notebooks/data_table.ipynb>data table notebook</a>'\n",
              "            + ' to learn more about interactive tables.';\n",
              "          element.innerHTML = '';\n",
              "          dataTable['output_type'] = 'display_data';\n",
              "          await google.colab.output.renderOutput(dataTable, element);\n",
              "          const docLink = document.createElement('div');\n",
              "          docLink.innerHTML = docLinkHtml;\n",
              "          element.appendChild(docLink);\n",
              "        }\n",
              "      </script>\n",
              "    </div>\n",
              "  </div>\n",
              "  "
            ]
          },
          "metadata": {},
          "execution_count": 35
        }
      ]
    },
    {
      "cell_type": "code",
      "source": [
        "travel_tags = ['NN', 'NNS', 'NNP', 'NNPS', 'JJ']\n",
        "\n",
        "travel_words = [\n",
        "    'travel', 'trip', 'tour', 'vacation', 'adventure',\n",
        "    'journey', 'expedition', 'cruise', 'getaway', 'holiday',\n",
        "    'exploration', 'pilgrimage', 'excursion', 'voyage', 'itinerary',\n",
        "    'destination', 'wanderlust', 'safari', 'trek', 'backpacking',\n",
        "    'camping', 'road trip', 'beach', 'mountains', 'island',\n",
        "    'city break', 'culture', 'history', 'architecture', 'food',\n",
        "    'wine', 'beer', 'festivals', 'music', 'art', 'nature', 'wildlife'\n",
        "]\n",
        "\n",
        "pattern = r'(\\b[A-Z][a-z]+(?:[ -][A-Z][a-z]+)*\\b|\\b[a-z]+(?:[ -][A-Z][a-z]+)*\\b)'\n",
        "\n",
        "title_matches['destination_names'] = title_matches['title'].str.extract(pattern, expand=False)\n",
        "\n",
        "def is_travel(title):\n",
        "    destination_names = re.findall(pattern, title)\n",
        "    for name in destination_names:\n",
        "        tokens = nltk.word_tokenize(name)\n",
        "        pos_tags = nltk.pos_tag(tokens)\n",
        "        if any(tag in travel_tags and (word in travel_words or 'travel' in word) for word, tag in pos_tags):\n",
        "            return True\n",
        "    return False\n",
        "\n",
        "title_matches['is_travel'] = title_matches['title'].apply(is_travel)"
      ],
      "metadata": {
        "id": "I2vVR20nBfcw"
      },
      "execution_count": null,
      "outputs": []
    },
    {
      "cell_type": "code",
      "source": [
        "len(title_matches[title_matches['destination_names'].notna()])/len(title_matches)"
      ],
      "metadata": {
        "colab": {
          "base_uri": "https://localhost:8080/"
        },
        "id": "pn2PyPBTBfem",
        "outputId": "b816c823-d717-4aaa-b86a-51bce0eb7bf8"
      },
      "execution_count": null,
      "outputs": [
        {
          "output_type": "execute_result",
          "data": {
            "text/plain": [
              "0.8536548532819757"
            ]
          },
          "metadata": {},
          "execution_count": 55
        }
      ]
    },
    {
      "cell_type": "code",
      "source": [
        "event_tags = ['NN', 'NNS', 'NNP', 'NNPS', 'JJ', 'VB', 'VBD', 'VBG', 'VBN', 'VBP', 'VBZ']\n",
        "\n",
        "event_words = ['event', 'concert', 'festival', 'performance', 'show', 'party', 'celebration', 'ceremony', 'gala', 'conference', 'holiday']\n",
        "\n",
        "pattern = r'\\b(?:%s)\\b' % '|'.join(event_words)\n",
        "\n",
        "title_matches['event_keywords'] = title_matches['title'].str.findall(pattern, flags=re.IGNORECASE)\n",
        "\n",
        "def is_event(title):\n",
        "    keywords = re.findall(pattern, title, flags=re.IGNORECASE)\n",
        "    tokens = nltk.word_tokenize(title)\n",
        "    pos_tags = nltk.pos_tag(tokens)\n",
        "    if any(tag in event_tags and (word in event_words) for word, tag in pos_tags):\n",
        "        return True\n",
        "    elif any(word in event_words for word in keywords):\n",
        "        return True\n",
        "    return False\n",
        "\n",
        "title_matches['is_event'] = title_matches['title'].apply(is_event)"
      ],
      "metadata": {
        "id": "a9OCeaLnBfid"
      },
      "execution_count": null,
      "outputs": []
    },
    {
      "cell_type": "code",
      "source": [
        "title_matches.head()"
      ],
      "metadata": {
        "colab": {
          "base_uri": "https://localhost:8080/",
          "height": 204
        },
        "id": "Kng2yzy9BfkQ",
        "outputId": "ab1e2f5e-c5af-490d-ebd5-4d517846571d"
      },
      "execution_count": null,
      "outputs": [
        {
          "output_type": "execute_result",
          "data": {
            "text/plain": [
              "                            title     destination_names  is_travel  \\\n",
              "0                      Vegas 2022                 Vegas      False   \n",
              "1                  NYC! Trip 2019                  Trip      False   \n",
              "2  First Week Of School 2022-2023  First Week Of School      False   \n",
              "3                Reniassance 2019           Reniassance      False   \n",
              "4             Bahamas Cruise-2016        Bahamas Cruise      False   \n",
              "\n",
              "  event_keywords  is_event  \n",
              "0             []     False  \n",
              "1             []     False  \n",
              "2             []     False  \n",
              "3             []     False  \n",
              "4             []     False  "
            ],
            "text/html": [
              "\n",
              "  <div id=\"df-d4763f85-9b01-4636-aa17-8ce26d05dd0e\">\n",
              "    <div class=\"colab-df-container\">\n",
              "      <div>\n",
              "<style scoped>\n",
              "    .dataframe tbody tr th:only-of-type {\n",
              "        vertical-align: middle;\n",
              "    }\n",
              "\n",
              "    .dataframe tbody tr th {\n",
              "        vertical-align: top;\n",
              "    }\n",
              "\n",
              "    .dataframe thead th {\n",
              "        text-align: right;\n",
              "    }\n",
              "</style>\n",
              "<table border=\"1\" class=\"dataframe\">\n",
              "  <thead>\n",
              "    <tr style=\"text-align: right;\">\n",
              "      <th></th>\n",
              "      <th>title</th>\n",
              "      <th>destination_names</th>\n",
              "      <th>is_travel</th>\n",
              "      <th>event_keywords</th>\n",
              "      <th>is_event</th>\n",
              "    </tr>\n",
              "  </thead>\n",
              "  <tbody>\n",
              "    <tr>\n",
              "      <th>0</th>\n",
              "      <td>Vegas 2022</td>\n",
              "      <td>Vegas</td>\n",
              "      <td>False</td>\n",
              "      <td>[]</td>\n",
              "      <td>False</td>\n",
              "    </tr>\n",
              "    <tr>\n",
              "      <th>1</th>\n",
              "      <td>NYC! Trip 2019</td>\n",
              "      <td>Trip</td>\n",
              "      <td>False</td>\n",
              "      <td>[]</td>\n",
              "      <td>False</td>\n",
              "    </tr>\n",
              "    <tr>\n",
              "      <th>2</th>\n",
              "      <td>First Week Of School 2022-2023</td>\n",
              "      <td>First Week Of School</td>\n",
              "      <td>False</td>\n",
              "      <td>[]</td>\n",
              "      <td>False</td>\n",
              "    </tr>\n",
              "    <tr>\n",
              "      <th>3</th>\n",
              "      <td>Reniassance 2019</td>\n",
              "      <td>Reniassance</td>\n",
              "      <td>False</td>\n",
              "      <td>[]</td>\n",
              "      <td>False</td>\n",
              "    </tr>\n",
              "    <tr>\n",
              "      <th>4</th>\n",
              "      <td>Bahamas Cruise-2016</td>\n",
              "      <td>Bahamas Cruise</td>\n",
              "      <td>False</td>\n",
              "      <td>[]</td>\n",
              "      <td>False</td>\n",
              "    </tr>\n",
              "  </tbody>\n",
              "</table>\n",
              "</div>\n",
              "      <button class=\"colab-df-convert\" onclick=\"convertToInteractive('df-d4763f85-9b01-4636-aa17-8ce26d05dd0e')\"\n",
              "              title=\"Convert this dataframe to an interactive table.\"\n",
              "              style=\"display:none;\">\n",
              "        \n",
              "  <svg xmlns=\"http://www.w3.org/2000/svg\" height=\"24px\"viewBox=\"0 0 24 24\"\n",
              "       width=\"24px\">\n",
              "    <path d=\"M0 0h24v24H0V0z\" fill=\"none\"/>\n",
              "    <path d=\"M18.56 5.44l.94 2.06.94-2.06 2.06-.94-2.06-.94-.94-2.06-.94 2.06-2.06.94zm-11 1L8.5 8.5l.94-2.06 2.06-.94-2.06-.94L8.5 2.5l-.94 2.06-2.06.94zm10 10l.94 2.06.94-2.06 2.06-.94-2.06-.94-.94-2.06-.94 2.06-2.06.94z\"/><path d=\"M17.41 7.96l-1.37-1.37c-.4-.4-.92-.59-1.43-.59-.52 0-1.04.2-1.43.59L10.3 9.45l-7.72 7.72c-.78.78-.78 2.05 0 2.83L4 21.41c.39.39.9.59 1.41.59.51 0 1.02-.2 1.41-.59l7.78-7.78 2.81-2.81c.8-.78.8-2.07 0-2.86zM5.41 20L4 18.59l7.72-7.72 1.47 1.35L5.41 20z\"/>\n",
              "  </svg>\n",
              "      </button>\n",
              "      \n",
              "  <style>\n",
              "    .colab-df-container {\n",
              "      display:flex;\n",
              "      flex-wrap:wrap;\n",
              "      gap: 12px;\n",
              "    }\n",
              "\n",
              "    .colab-df-convert {\n",
              "      background-color: #E8F0FE;\n",
              "      border: none;\n",
              "      border-radius: 50%;\n",
              "      cursor: pointer;\n",
              "      display: none;\n",
              "      fill: #1967D2;\n",
              "      height: 32px;\n",
              "      padding: 0 0 0 0;\n",
              "      width: 32px;\n",
              "    }\n",
              "\n",
              "    .colab-df-convert:hover {\n",
              "      background-color: #E2EBFA;\n",
              "      box-shadow: 0px 1px 2px rgba(60, 64, 67, 0.3), 0px 1px 3px 1px rgba(60, 64, 67, 0.15);\n",
              "      fill: #174EA6;\n",
              "    }\n",
              "\n",
              "    [theme=dark] .colab-df-convert {\n",
              "      background-color: #3B4455;\n",
              "      fill: #D2E3FC;\n",
              "    }\n",
              "\n",
              "    [theme=dark] .colab-df-convert:hover {\n",
              "      background-color: #434B5C;\n",
              "      box-shadow: 0px 1px 3px 1px rgba(0, 0, 0, 0.15);\n",
              "      filter: drop-shadow(0px 1px 2px rgba(0, 0, 0, 0.3));\n",
              "      fill: #FFFFFF;\n",
              "    }\n",
              "  </style>\n",
              "\n",
              "      <script>\n",
              "        const buttonEl =\n",
              "          document.querySelector('#df-d4763f85-9b01-4636-aa17-8ce26d05dd0e button.colab-df-convert');\n",
              "        buttonEl.style.display =\n",
              "          google.colab.kernel.accessAllowed ? 'block' : 'none';\n",
              "\n",
              "        async function convertToInteractive(key) {\n",
              "          const element = document.querySelector('#df-d4763f85-9b01-4636-aa17-8ce26d05dd0e');\n",
              "          const dataTable =\n",
              "            await google.colab.kernel.invokeFunction('convertToInteractive',\n",
              "                                                     [key], {});\n",
              "          if (!dataTable) return;\n",
              "\n",
              "          const docLinkHtml = 'Like what you see? Visit the ' +\n",
              "            '<a target=\"_blank\" href=https://colab.research.google.com/notebooks/data_table.ipynb>data table notebook</a>'\n",
              "            + ' to learn more about interactive tables.';\n",
              "          element.innerHTML = '';\n",
              "          dataTable['output_type'] = 'display_data';\n",
              "          await google.colab.output.renderOutput(dataTable, element);\n",
              "          const docLink = document.createElement('div');\n",
              "          docLink.innerHTML = docLinkHtml;\n",
              "          element.appendChild(docLink);\n",
              "        }\n",
              "      </script>\n",
              "    </div>\n",
              "  </div>\n",
              "  "
            ]
          },
          "metadata": {},
          "execution_count": 46
        }
      ]
    },
    {
      "cell_type": "code",
      "source": [
        "title_matches[title_matches['is_event']]"
      ],
      "metadata": {
        "colab": {
          "base_uri": "https://localhost:8080/",
          "height": 419
        },
        "id": "Rt1cXIJ-OVYF",
        "outputId": "978c5625-a18b-48ac-d00d-6d239a09e573"
      },
      "execution_count": null,
      "outputs": [
        {
          "output_type": "execute_result",
          "data": {
            "text/plain": [
              "                                            title    destination_names  \\\n",
              "1449     Once Upon a Time in Hollywood party 2021            Once Upon   \n",
              "2688               2022 December Lions Club party  December Lions Club   \n",
              "2793                            Summer party 2021               Summer   \n",
              "3417                            Summer party 2021               Summer   \n",
              "3858                One year wedding celebration!                  One   \n",
              "...                                           ...                  ...   \n",
              "3216454                       Cousin’s party 2021               Cousin   \n",
              "3216911                      Chap grad party 2022                 Chap   \n",
              "3217220             Faculty Dance concert 2019-20        Faculty Dance   \n",
              "3217795                 Mother son event 4-22-22                Mother   \n",
              "3218166              2017 Agnello Halloween party    Agnello Halloween   \n",
              "\n",
              "         is_travel event_keywords  is_event  \n",
              "1449         False        [party]      True  \n",
              "2688         False        [party]      True  \n",
              "2793         False        [party]      True  \n",
              "3417         False        [party]      True  \n",
              "3858         False  [celebration]      True  \n",
              "...            ...            ...       ...  \n",
              "3216454      False        [party]      True  \n",
              "3216911      False        [party]      True  \n",
              "3217220      False      [concert]      True  \n",
              "3217795      False        [event]      True  \n",
              "3218166      False        [party]      True  \n",
              "\n",
              "[5079 rows x 5 columns]"
            ],
            "text/html": [
              "\n",
              "  <div id=\"df-a5a102bf-d30f-45f2-97ae-6fbe28aeab49\">\n",
              "    <div class=\"colab-df-container\">\n",
              "      <div>\n",
              "<style scoped>\n",
              "    .dataframe tbody tr th:only-of-type {\n",
              "        vertical-align: middle;\n",
              "    }\n",
              "\n",
              "    .dataframe tbody tr th {\n",
              "        vertical-align: top;\n",
              "    }\n",
              "\n",
              "    .dataframe thead th {\n",
              "        text-align: right;\n",
              "    }\n",
              "</style>\n",
              "<table border=\"1\" class=\"dataframe\">\n",
              "  <thead>\n",
              "    <tr style=\"text-align: right;\">\n",
              "      <th></th>\n",
              "      <th>title</th>\n",
              "      <th>destination_names</th>\n",
              "      <th>is_travel</th>\n",
              "      <th>event_keywords</th>\n",
              "      <th>is_event</th>\n",
              "    </tr>\n",
              "  </thead>\n",
              "  <tbody>\n",
              "    <tr>\n",
              "      <th>1449</th>\n",
              "      <td>Once Upon a Time in Hollywood party 2021</td>\n",
              "      <td>Once Upon</td>\n",
              "      <td>False</td>\n",
              "      <td>[party]</td>\n",
              "      <td>True</td>\n",
              "    </tr>\n",
              "    <tr>\n",
              "      <th>2688</th>\n",
              "      <td>2022 December Lions Club party</td>\n",
              "      <td>December Lions Club</td>\n",
              "      <td>False</td>\n",
              "      <td>[party]</td>\n",
              "      <td>True</td>\n",
              "    </tr>\n",
              "    <tr>\n",
              "      <th>2793</th>\n",
              "      <td>Summer party 2021</td>\n",
              "      <td>Summer</td>\n",
              "      <td>False</td>\n",
              "      <td>[party]</td>\n",
              "      <td>True</td>\n",
              "    </tr>\n",
              "    <tr>\n",
              "      <th>3417</th>\n",
              "      <td>Summer party 2021</td>\n",
              "      <td>Summer</td>\n",
              "      <td>False</td>\n",
              "      <td>[party]</td>\n",
              "      <td>True</td>\n",
              "    </tr>\n",
              "    <tr>\n",
              "      <th>3858</th>\n",
              "      <td>One year wedding celebration!</td>\n",
              "      <td>One</td>\n",
              "      <td>False</td>\n",
              "      <td>[celebration]</td>\n",
              "      <td>True</td>\n",
              "    </tr>\n",
              "    <tr>\n",
              "      <th>...</th>\n",
              "      <td>...</td>\n",
              "      <td>...</td>\n",
              "      <td>...</td>\n",
              "      <td>...</td>\n",
              "      <td>...</td>\n",
              "    </tr>\n",
              "    <tr>\n",
              "      <th>3216454</th>\n",
              "      <td>Cousin’s party 2021</td>\n",
              "      <td>Cousin</td>\n",
              "      <td>False</td>\n",
              "      <td>[party]</td>\n",
              "      <td>True</td>\n",
              "    </tr>\n",
              "    <tr>\n",
              "      <th>3216911</th>\n",
              "      <td>Chap grad party 2022</td>\n",
              "      <td>Chap</td>\n",
              "      <td>False</td>\n",
              "      <td>[party]</td>\n",
              "      <td>True</td>\n",
              "    </tr>\n",
              "    <tr>\n",
              "      <th>3217220</th>\n",
              "      <td>Faculty Dance concert 2019-20</td>\n",
              "      <td>Faculty Dance</td>\n",
              "      <td>False</td>\n",
              "      <td>[concert]</td>\n",
              "      <td>True</td>\n",
              "    </tr>\n",
              "    <tr>\n",
              "      <th>3217795</th>\n",
              "      <td>Mother son event 4-22-22</td>\n",
              "      <td>Mother</td>\n",
              "      <td>False</td>\n",
              "      <td>[event]</td>\n",
              "      <td>True</td>\n",
              "    </tr>\n",
              "    <tr>\n",
              "      <th>3218166</th>\n",
              "      <td>2017 Agnello Halloween party</td>\n",
              "      <td>Agnello Halloween</td>\n",
              "      <td>False</td>\n",
              "      <td>[party]</td>\n",
              "      <td>True</td>\n",
              "    </tr>\n",
              "  </tbody>\n",
              "</table>\n",
              "<p>5079 rows × 5 columns</p>\n",
              "</div>\n",
              "      <button class=\"colab-df-convert\" onclick=\"convertToInteractive('df-a5a102bf-d30f-45f2-97ae-6fbe28aeab49')\"\n",
              "              title=\"Convert this dataframe to an interactive table.\"\n",
              "              style=\"display:none;\">\n",
              "        \n",
              "  <svg xmlns=\"http://www.w3.org/2000/svg\" height=\"24px\"viewBox=\"0 0 24 24\"\n",
              "       width=\"24px\">\n",
              "    <path d=\"M0 0h24v24H0V0z\" fill=\"none\"/>\n",
              "    <path d=\"M18.56 5.44l.94 2.06.94-2.06 2.06-.94-2.06-.94-.94-2.06-.94 2.06-2.06.94zm-11 1L8.5 8.5l.94-2.06 2.06-.94-2.06-.94L8.5 2.5l-.94 2.06-2.06.94zm10 10l.94 2.06.94-2.06 2.06-.94-2.06-.94-.94-2.06-.94 2.06-2.06.94z\"/><path d=\"M17.41 7.96l-1.37-1.37c-.4-.4-.92-.59-1.43-.59-.52 0-1.04.2-1.43.59L10.3 9.45l-7.72 7.72c-.78.78-.78 2.05 0 2.83L4 21.41c.39.39.9.59 1.41.59.51 0 1.02-.2 1.41-.59l7.78-7.78 2.81-2.81c.8-.78.8-2.07 0-2.86zM5.41 20L4 18.59l7.72-7.72 1.47 1.35L5.41 20z\"/>\n",
              "  </svg>\n",
              "      </button>\n",
              "      \n",
              "  <style>\n",
              "    .colab-df-container {\n",
              "      display:flex;\n",
              "      flex-wrap:wrap;\n",
              "      gap: 12px;\n",
              "    }\n",
              "\n",
              "    .colab-df-convert {\n",
              "      background-color: #E8F0FE;\n",
              "      border: none;\n",
              "      border-radius: 50%;\n",
              "      cursor: pointer;\n",
              "      display: none;\n",
              "      fill: #1967D2;\n",
              "      height: 32px;\n",
              "      padding: 0 0 0 0;\n",
              "      width: 32px;\n",
              "    }\n",
              "\n",
              "    .colab-df-convert:hover {\n",
              "      background-color: #E2EBFA;\n",
              "      box-shadow: 0px 1px 2px rgba(60, 64, 67, 0.3), 0px 1px 3px 1px rgba(60, 64, 67, 0.15);\n",
              "      fill: #174EA6;\n",
              "    }\n",
              "\n",
              "    [theme=dark] .colab-df-convert {\n",
              "      background-color: #3B4455;\n",
              "      fill: #D2E3FC;\n",
              "    }\n",
              "\n",
              "    [theme=dark] .colab-df-convert:hover {\n",
              "      background-color: #434B5C;\n",
              "      box-shadow: 0px 1px 3px 1px rgba(0, 0, 0, 0.15);\n",
              "      filter: drop-shadow(0px 1px 2px rgba(0, 0, 0, 0.3));\n",
              "      fill: #FFFFFF;\n",
              "    }\n",
              "  </style>\n",
              "\n",
              "      <script>\n",
              "        const buttonEl =\n",
              "          document.querySelector('#df-a5a102bf-d30f-45f2-97ae-6fbe28aeab49 button.colab-df-convert');\n",
              "        buttonEl.style.display =\n",
              "          google.colab.kernel.accessAllowed ? 'block' : 'none';\n",
              "\n",
              "        async function convertToInteractive(key) {\n",
              "          const element = document.querySelector('#df-a5a102bf-d30f-45f2-97ae-6fbe28aeab49');\n",
              "          const dataTable =\n",
              "            await google.colab.kernel.invokeFunction('convertToInteractive',\n",
              "                                                     [key], {});\n",
              "          if (!dataTable) return;\n",
              "\n",
              "          const docLinkHtml = 'Like what you see? Visit the ' +\n",
              "            '<a target=\"_blank\" href=https://colab.research.google.com/notebooks/data_table.ipynb>data table notebook</a>'\n",
              "            + ' to learn more about interactive tables.';\n",
              "          element.innerHTML = '';\n",
              "          dataTable['output_type'] = 'display_data';\n",
              "          await google.colab.output.renderOutput(dataTable, element);\n",
              "          const docLink = document.createElement('div');\n",
              "          docLink.innerHTML = docLinkHtml;\n",
              "          element.appendChild(docLink);\n",
              "        }\n",
              "      </script>\n",
              "    </div>\n",
              "  </div>\n",
              "  "
            ]
          },
          "metadata": {},
          "execution_count": 47
        }
      ]
    },
    {
      "cell_type": "code",
      "source": [
        "len(title_matches[title_matches['is_event']])/len(title_matches)"
      ],
      "metadata": {
        "colab": {
          "base_uri": "https://localhost:8080/"
        },
        "id": "4RVt2WjfVgRp",
        "outputId": "314e21aa-157c-423f-b4e1-4973d828e924"
      },
      "execution_count": null,
      "outputs": [
        {
          "output_type": "execute_result",
          "data": {
            "text/plain": [
              "0.0015782045569374815"
            ]
          },
          "metadata": {},
          "execution_count": 68
        }
      ]
    },
    {
      "cell_type": "code",
      "source": [
        "len(title_matches['event_keywords'].apply(tuple).notna())/len(title_matches)"
      ],
      "metadata": {
        "colab": {
          "base_uri": "https://localhost:8080/"
        },
        "id": "Lt0YCebVVNIf",
        "outputId": "ccaef436-4ab4-4f8d-f1e7-15912f35bb97"
      },
      "execution_count": null,
      "outputs": [
        {
          "output_type": "execute_result",
          "data": {
            "text/plain": [
              "1.0"
            ]
          },
          "metadata": {},
          "execution_count": 60
        }
      ]
    },
    {
      "cell_type": "code",
      "source": [
        "len(title_matches[title_matches['event_keywords'].notna()])/len(title_matches)"
      ],
      "metadata": {
        "colab": {
          "base_uri": "https://localhost:8080/"
        },
        "id": "8Y_v9RdDU6yi",
        "outputId": "3a694a24-05c0-4bd6-8d73-42ac3cb91df3"
      },
      "execution_count": null,
      "outputs": [
        {
          "output_type": "execute_result",
          "data": {
            "text/plain": [
              "1.0"
            ]
          },
          "metadata": {},
          "execution_count": 56
        }
      ]
    },
    {
      "cell_type": "code",
      "source": [
        "location_tags = ['NN', 'NNS', 'NNP', 'NNPS', 'JJ']\n",
        "\n",
        "location_words = ['city', 'county', 'state', 'country', 'province', 'territory', 'region', \n",
        "                  'town', 'village', 'hamlet', 'metropolis', 'municipality', 'district', 'zone', \n",
        "                  'neighborhood', 'suburb', 'countryside', 'coast', 'mountains', 'desert', 'island', \n",
        "                  'peninsula', 'valley', 'canyon', 'plateau', 'river', 'lake', 'ocean', 'sea', 'bay', \n",
        "                  'harbor', 'port', 'airport', 'station']\n",
        "\n",
        "pattern = r'(\\b[A-Z][a-z]+(?:[ -][A-Z][a-z]+)*\\b|\\b[a-z]+(?:[ -][A-Z][a-z]+)*\\b)'\n",
        "\n",
        "title_matches['location_names'] = title_matches['title'].str.extract(pattern, expand=False)\n",
        "\n",
        "def is_location(title):\n",
        "    location_names = re.findall(pattern, title)\n",
        "    for name in location_names:\n",
        "        tokens = nltk.word_tokenize(name)\n",
        "        pos_tags = nltk.pos_tag(tokens)\n",
        "        if any(tag in location_tags and (word in location_words or 'location' in word or 'place' in word) for word, tag in pos_tags):\n",
        "            return True\n",
        "    return False\n",
        "\n",
        "title_matches['is_location'] = title_matches['title'].apply(is_location)"
      ],
      "metadata": {
        "id": "qYJU4vksBfmW"
      },
      "execution_count": null,
      "outputs": []
    },
    {
      "cell_type": "code",
      "source": [
        "len(title_matches[title_matches['location_names'].notna()])/len(title_matches)"
      ],
      "metadata": {
        "colab": {
          "base_uri": "https://localhost:8080/"
        },
        "id": "1_o1E6yQBfoc",
        "outputId": "de8527de-2d73-48a7-fec5-684a1f76b240"
      },
      "execution_count": null,
      "outputs": [
        {
          "output_type": "execute_result",
          "data": {
            "text/plain": [
              "0.8536548532819757"
            ]
          },
          "metadata": {},
          "execution_count": 54
        }
      ]
    },
    {
      "cell_type": "code",
      "source": [
        "#title_matches.to_csv('/content/drive/MyDrive/data/year_in_title.csv')"
      ],
      "metadata": {
        "id": "I2upWJjfdp_P"
      },
      "execution_count": null,
      "outputs": []
    }
  ]
}