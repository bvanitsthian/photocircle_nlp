{
  "nbformat": 4,
  "nbformat_minor": 0,
  "metadata": {
    "colab": {
      "provenance": [],
      "machine_shape": "hm",
      "toc_visible": true,
      "mount_file_id": "1h2djO4QqWuPS20ca65KcTFzJWI1f8e-f",
      "authorship_tag": "ABX9TyPkmG0J84eKGJ6hzePtm2Ig",
      "include_colab_link": true
    },
    "kernelspec": {
      "name": "python3",
      "display_name": "Python 3"
    },
    "language_info": {
      "name": "python"
    },
    "accelerator": "GPU",
    "gpuClass": "standard"
  },
  "cells": [
    {
      "cell_type": "markdown",
      "metadata": {
        "id": "view-in-github",
        "colab_type": "text"
      },
      "source": [
        "<a href=\"https://colab.research.google.com/github/bvanitsthian/photocircle_nlp/blob/main/create_tags.ipynb\" target=\"_parent\"><img src=\"https://colab.research.google.com/assets/colab-badge.svg\" alt=\"Open In Colab\"/></a>"
      ]
    },
    {
      "cell_type": "markdown",
      "source": [
        "#**Project Objectives**\n",
        "\n",
        "1. Create tags for users who align with these types of products and services:\n",
        "Homeowner services & products\n",
        "Home improvement & remodeling\n",
        "Home and auto insurance\n",
        "Home goods/furniture\n",
        "Home warranty\n",
        "Solar panels\n",
        "Travel tours\n",
        "Sorority apparel\n",
        "\n",
        "2. Understand user base more.\n",
        "Who is most active?\n",
        "Who is our ideal user?\n",
        "With more data in the future, how can we figure out which segment is growing fastest?"
      ],
      "metadata": {
        "id": "_AaD18RQET4N"
      }
    },
    {
      "cell_type": "markdown",
      "source": [
        "# **Import Libraries and Download nltk Packages**"
      ],
      "metadata": {
        "id": "RzDaub5W_sUZ"
      }
    },
    {
      "cell_type": "code",
      "source": [
        "# Run this cell to keep the notebook active\n",
        "import time\n",
        "\n",
        "while True:\n",
        "    print(time.ctime())\n",
        "    time.sleep(60)"
      ],
      "metadata": {
        "id": "R-uILQANzlJ1"
      },
      "execution_count": null,
      "outputs": []
    },
    {
      "cell_type": "code",
      "source": [
        "!pip install emoji\n",
        "!pip install spacy\n",
        "import nltk\n",
        "nltk.download('punkt')\n",
        "nltk.download('averaged_perceptron_tagger')\n",
        "nltk.download('omw')"
      ],
      "metadata": {
        "id": "Fc-S-eEM_3oe"
      },
      "execution_count": null,
      "outputs": []
    },
    {
      "cell_type": "code",
      "execution_count": null,
      "metadata": {
        "id": "GzE4qfwvNPLu"
      },
      "outputs": [],
      "source": [
        "import pandas as pd\n",
        "import re\n",
        "import emoji\n",
        "import regex\n",
        "import spacy\n",
        "from IPython.display import display\n",
        "from nltk.tokenize import word_tokenize\n",
        "from nltk.tag import pos_tag\n",
        "from nltk.chunk import ne_chunk"
      ]
    },
    {
      "cell_type": "code",
      "source": [
        "nlp = spacy.load('en_core_web_sm')"
      ],
      "metadata": {
        "id": "5gUOUuo9E5y5"
      },
      "execution_count": null,
      "outputs": []
    },
    {
      "cell_type": "code",
      "source": [
        "pd.set_option('display.max_columns', 200)"
      ],
      "metadata": {
        "id": "yzyRiobqEqzG"
      },
      "execution_count": null,
      "outputs": []
    },
    {
      "cell_type": "markdown",
      "source": [
        "#**USERS**"
      ],
      "metadata": {
        "id": "6K6V2TtHFtjm"
      }
    },
    {
      "cell_type": "markdown",
      "source": [
        "#**Identify M/F in Users**"
      ],
      "metadata": {
        "id": "dfY_IR2HQyZI"
      }
    },
    {
      "cell_type": "code",
      "source": [
        "users = pd.read_csv('users.csv', usecols=range(7))"
      ],
      "metadata": {
        "colab": {
          "base_uri": "https://localhost:8080/"
        },
        "id": "5Aswm2mGR1vm",
        "outputId": "7b61b7d0-ecd6-444d-febb-d87908f7c42a"
      },
      "execution_count": null,
      "outputs": [
        {
          "output_type": "stream",
          "name": "stderr",
          "text": [
            "<ipython-input-5-294014fac6d9>:1: DtypeWarning: Columns (4) have mixed types. Specify dtype option on import or set low_memory=False.\n",
            "  users = pd.read_csv('users.csv', usecols=range(7))\n"
          ]
        }
      ]
    },
    {
      "cell_type": "code",
      "source": [
        "users.head(3)"
      ],
      "metadata": {
        "colab": {
          "base_uri": "https://localhost:8080/",
          "height": 305
        },
        "id": "BhKSjM1-SuRY",
        "outputId": "25add3fc-64f8-4683-d999-96b3497d5480"
      },
      "execution_count": null,
      "outputs": [
        {
          "output_type": "execute_result",
          "data": {
            "text/plain": [
              "   Unnamed: 0                             user_uuid   display_name  \\\n",
              "0         0.0  00000000-4f80-9c33-7b70-8c4f08000075  Andrew Lazuka   \n",
              "1         1.0  00000000-4f81-d43f-7b70-8c4f08001119     Ari Joseph   \n",
              "2         2.0  00000000-4f81-d7a5-7b70-8c4f08001185  Robert Morgan   \n",
              "\n",
              "   email_domain active_count_in_last_30_days  media_added_count first_name  \n",
              "0     gmail.com                            0                0.0     Andrew  \n",
              "1     gmail.com                            0                0.0        Ari  \n",
              "2  backbeat.net                            0                0.0     Robert  "
            ],
            "text/html": [
              "\n",
              "  <div id=\"df-a1716804-f0aa-43c3-9c71-b12ffdb2b1f7\">\n",
              "    <div class=\"colab-df-container\">\n",
              "      <div>\n",
              "<style scoped>\n",
              "    .dataframe tbody tr th:only-of-type {\n",
              "        vertical-align: middle;\n",
              "    }\n",
              "\n",
              "    .dataframe tbody tr th {\n",
              "        vertical-align: top;\n",
              "    }\n",
              "\n",
              "    .dataframe thead th {\n",
              "        text-align: right;\n",
              "    }\n",
              "</style>\n",
              "<table border=\"1\" class=\"dataframe\">\n",
              "  <thead>\n",
              "    <tr style=\"text-align: right;\">\n",
              "      <th></th>\n",
              "      <th>Unnamed: 0</th>\n",
              "      <th>user_uuid</th>\n",
              "      <th>display_name</th>\n",
              "      <th>email_domain</th>\n",
              "      <th>active_count_in_last_30_days</th>\n",
              "      <th>media_added_count</th>\n",
              "      <th>first_name</th>\n",
              "    </tr>\n",
              "  </thead>\n",
              "  <tbody>\n",
              "    <tr>\n",
              "      <th>0</th>\n",
              "      <td>0.0</td>\n",
              "      <td>00000000-4f80-9c33-7b70-8c4f08000075</td>\n",
              "      <td>Andrew Lazuka</td>\n",
              "      <td>gmail.com</td>\n",
              "      <td>0</td>\n",
              "      <td>0.0</td>\n",
              "      <td>Andrew</td>\n",
              "    </tr>\n",
              "    <tr>\n",
              "      <th>1</th>\n",
              "      <td>1.0</td>\n",
              "      <td>00000000-4f81-d43f-7b70-8c4f08001119</td>\n",
              "      <td>Ari Joseph</td>\n",
              "      <td>gmail.com</td>\n",
              "      <td>0</td>\n",
              "      <td>0.0</td>\n",
              "      <td>Ari</td>\n",
              "    </tr>\n",
              "    <tr>\n",
              "      <th>2</th>\n",
              "      <td>2.0</td>\n",
              "      <td>00000000-4f81-d7a5-7b70-8c4f08001185</td>\n",
              "      <td>Robert Morgan</td>\n",
              "      <td>backbeat.net</td>\n",
              "      <td>0</td>\n",
              "      <td>0.0</td>\n",
              "      <td>Robert</td>\n",
              "    </tr>\n",
              "  </tbody>\n",
              "</table>\n",
              "</div>\n",
              "      <button class=\"colab-df-convert\" onclick=\"convertToInteractive('df-a1716804-f0aa-43c3-9c71-b12ffdb2b1f7')\"\n",
              "              title=\"Convert this dataframe to an interactive table.\"\n",
              "              style=\"display:none;\">\n",
              "        \n",
              "  <svg xmlns=\"http://www.w3.org/2000/svg\" height=\"24px\"viewBox=\"0 0 24 24\"\n",
              "       width=\"24px\">\n",
              "    <path d=\"M0 0h24v24H0V0z\" fill=\"none\"/>\n",
              "    <path d=\"M18.56 5.44l.94 2.06.94-2.06 2.06-.94-2.06-.94-.94-2.06-.94 2.06-2.06.94zm-11 1L8.5 8.5l.94-2.06 2.06-.94-2.06-.94L8.5 2.5l-.94 2.06-2.06.94zm10 10l.94 2.06.94-2.06 2.06-.94-2.06-.94-.94-2.06-.94 2.06-2.06.94z\"/><path d=\"M17.41 7.96l-1.37-1.37c-.4-.4-.92-.59-1.43-.59-.52 0-1.04.2-1.43.59L10.3 9.45l-7.72 7.72c-.78.78-.78 2.05 0 2.83L4 21.41c.39.39.9.59 1.41.59.51 0 1.02-.2 1.41-.59l7.78-7.78 2.81-2.81c.8-.78.8-2.07 0-2.86zM5.41 20L4 18.59l7.72-7.72 1.47 1.35L5.41 20z\"/>\n",
              "  </svg>\n",
              "      </button>\n",
              "      \n",
              "  <style>\n",
              "    .colab-df-container {\n",
              "      display:flex;\n",
              "      flex-wrap:wrap;\n",
              "      gap: 12px;\n",
              "    }\n",
              "\n",
              "    .colab-df-convert {\n",
              "      background-color: #E8F0FE;\n",
              "      border: none;\n",
              "      border-radius: 50%;\n",
              "      cursor: pointer;\n",
              "      display: none;\n",
              "      fill: #1967D2;\n",
              "      height: 32px;\n",
              "      padding: 0 0 0 0;\n",
              "      width: 32px;\n",
              "    }\n",
              "\n",
              "    .colab-df-convert:hover {\n",
              "      background-color: #E2EBFA;\n",
              "      box-shadow: 0px 1px 2px rgba(60, 64, 67, 0.3), 0px 1px 3px 1px rgba(60, 64, 67, 0.15);\n",
              "      fill: #174EA6;\n",
              "    }\n",
              "\n",
              "    [theme=dark] .colab-df-convert {\n",
              "      background-color: #3B4455;\n",
              "      fill: #D2E3FC;\n",
              "    }\n",
              "\n",
              "    [theme=dark] .colab-df-convert:hover {\n",
              "      background-color: #434B5C;\n",
              "      box-shadow: 0px 1px 3px 1px rgba(0, 0, 0, 0.15);\n",
              "      filter: drop-shadow(0px 1px 2px rgba(0, 0, 0, 0.3));\n",
              "      fill: #FFFFFF;\n",
              "    }\n",
              "  </style>\n",
              "\n",
              "      <script>\n",
              "        const buttonEl =\n",
              "          document.querySelector('#df-a1716804-f0aa-43c3-9c71-b12ffdb2b1f7 button.colab-df-convert');\n",
              "        buttonEl.style.display =\n",
              "          google.colab.kernel.accessAllowed ? 'block' : 'none';\n",
              "\n",
              "        async function convertToInteractive(key) {\n",
              "          const element = document.querySelector('#df-a1716804-f0aa-43c3-9c71-b12ffdb2b1f7');\n",
              "          const dataTable =\n",
              "            await google.colab.kernel.invokeFunction('convertToInteractive',\n",
              "                                                     [key], {});\n",
              "          if (!dataTable) return;\n",
              "\n",
              "          const docLinkHtml = 'Like what you see? Visit the ' +\n",
              "            '<a target=\"_blank\" href=https://colab.research.google.com/notebooks/data_table.ipynb>data table notebook</a>'\n",
              "            + ' to learn more about interactive tables.';\n",
              "          element.innerHTML = '';\n",
              "          dataTable['output_type'] = 'display_data';\n",
              "          await google.colab.output.renderOutput(dataTable, element);\n",
              "          const docLink = document.createElement('div');\n",
              "          docLink.innerHTML = docLinkHtml;\n",
              "          element.appendChild(docLink);\n",
              "        }\n",
              "      </script>\n",
              "    </div>\n",
              "  </div>\n",
              "  "
            ]
          },
          "metadata": {},
          "execution_count": 6
        }
      ]
    },
    {
      "cell_type": "code",
      "source": [
        "# Open the csv file and read its contents\n",
        "names = pd.read_csv('usa_names.csv')\n",
        "names = names.rename(columns={'name': 'first_name'})"
      ],
      "metadata": {
        "id": "WuZPzSg3Q-gn"
      },
      "execution_count": null,
      "outputs": []
    },
    {
      "cell_type": "code",
      "source": [
        "names.shape"
      ],
      "metadata": {
        "colab": {
          "base_uri": "https://localhost:8080/"
        },
        "id": "k6ZR4_h6Q-jY",
        "outputId": "e6099403-7d27-4690-8254-2e602d28bf02"
      },
      "execution_count": null,
      "outputs": [
        {
          "output_type": "execute_result",
          "data": {
            "text/plain": [
              "(1957046, 4)"
            ]
          },
          "metadata": {},
          "execution_count": 8
        }
      ]
    },
    {
      "cell_type": "code",
      "source": [
        "names['genders'] = names[['first_name','gender']].groupby(['first_name'])['gender'].transform(lambda x: ','.join(sorted(set(x))))\n",
        "names[['first_name','genders']].drop_duplicates() #Uh oh some names are uni-sex"
      ],
      "metadata": {
        "colab": {
          "base_uri": "https://localhost:8080/",
          "height": 419
        },
        "id": "aDRkFWwSQ-mA",
        "outputId": "0c240124-1efb-49bd-cb56-fd4462b4052e"
      },
      "execution_count": null,
      "outputs": [
        {
          "output_type": "execute_result",
          "data": {
            "text/plain": [
              "        first_name genders\n",
              "0             Mary     F,M\n",
              "1          Shirley     F,M\n",
              "2          Barbara     F,M\n",
              "3            Betty     F,M\n",
              "4         Patricia     F,M\n",
              "...            ...     ...\n",
              "1956841    Predrag       M\n",
              "1956907    Sedwick       M\n",
              "1956961     Tarvin       M\n",
              "1956988   Torianno       M\n",
              "1957012   Vernando       M\n",
              "\n",
              "[98400 rows x 2 columns]"
            ],
            "text/html": [
              "\n",
              "  <div id=\"df-708534c1-2cb4-4b19-b023-948df57ecd9d\">\n",
              "    <div class=\"colab-df-container\">\n",
              "      <div>\n",
              "<style scoped>\n",
              "    .dataframe tbody tr th:only-of-type {\n",
              "        vertical-align: middle;\n",
              "    }\n",
              "\n",
              "    .dataframe tbody tr th {\n",
              "        vertical-align: top;\n",
              "    }\n",
              "\n",
              "    .dataframe thead th {\n",
              "        text-align: right;\n",
              "    }\n",
              "</style>\n",
              "<table border=\"1\" class=\"dataframe\">\n",
              "  <thead>\n",
              "    <tr style=\"text-align: right;\">\n",
              "      <th></th>\n",
              "      <th>first_name</th>\n",
              "      <th>genders</th>\n",
              "    </tr>\n",
              "  </thead>\n",
              "  <tbody>\n",
              "    <tr>\n",
              "      <th>0</th>\n",
              "      <td>Mary</td>\n",
              "      <td>F,M</td>\n",
              "    </tr>\n",
              "    <tr>\n",
              "      <th>1</th>\n",
              "      <td>Shirley</td>\n",
              "      <td>F,M</td>\n",
              "    </tr>\n",
              "    <tr>\n",
              "      <th>2</th>\n",
              "      <td>Barbara</td>\n",
              "      <td>F,M</td>\n",
              "    </tr>\n",
              "    <tr>\n",
              "      <th>3</th>\n",
              "      <td>Betty</td>\n",
              "      <td>F,M</td>\n",
              "    </tr>\n",
              "    <tr>\n",
              "      <th>4</th>\n",
              "      <td>Patricia</td>\n",
              "      <td>F,M</td>\n",
              "    </tr>\n",
              "    <tr>\n",
              "      <th>...</th>\n",
              "      <td>...</td>\n",
              "      <td>...</td>\n",
              "    </tr>\n",
              "    <tr>\n",
              "      <th>1956841</th>\n",
              "      <td>Predrag</td>\n",
              "      <td>M</td>\n",
              "    </tr>\n",
              "    <tr>\n",
              "      <th>1956907</th>\n",
              "      <td>Sedwick</td>\n",
              "      <td>M</td>\n",
              "    </tr>\n",
              "    <tr>\n",
              "      <th>1956961</th>\n",
              "      <td>Tarvin</td>\n",
              "      <td>M</td>\n",
              "    </tr>\n",
              "    <tr>\n",
              "      <th>1956988</th>\n",
              "      <td>Torianno</td>\n",
              "      <td>M</td>\n",
              "    </tr>\n",
              "    <tr>\n",
              "      <th>1957012</th>\n",
              "      <td>Vernando</td>\n",
              "      <td>M</td>\n",
              "    </tr>\n",
              "  </tbody>\n",
              "</table>\n",
              "<p>98400 rows × 2 columns</p>\n",
              "</div>\n",
              "      <button class=\"colab-df-convert\" onclick=\"convertToInteractive('df-708534c1-2cb4-4b19-b023-948df57ecd9d')\"\n",
              "              title=\"Convert this dataframe to an interactive table.\"\n",
              "              style=\"display:none;\">\n",
              "        \n",
              "  <svg xmlns=\"http://www.w3.org/2000/svg\" height=\"24px\"viewBox=\"0 0 24 24\"\n",
              "       width=\"24px\">\n",
              "    <path d=\"M0 0h24v24H0V0z\" fill=\"none\"/>\n",
              "    <path d=\"M18.56 5.44l.94 2.06.94-2.06 2.06-.94-2.06-.94-.94-2.06-.94 2.06-2.06.94zm-11 1L8.5 8.5l.94-2.06 2.06-.94-2.06-.94L8.5 2.5l-.94 2.06-2.06.94zm10 10l.94 2.06.94-2.06 2.06-.94-2.06-.94-.94-2.06-.94 2.06-2.06.94z\"/><path d=\"M17.41 7.96l-1.37-1.37c-.4-.4-.92-.59-1.43-.59-.52 0-1.04.2-1.43.59L10.3 9.45l-7.72 7.72c-.78.78-.78 2.05 0 2.83L4 21.41c.39.39.9.59 1.41.59.51 0 1.02-.2 1.41-.59l7.78-7.78 2.81-2.81c.8-.78.8-2.07 0-2.86zM5.41 20L4 18.59l7.72-7.72 1.47 1.35L5.41 20z\"/>\n",
              "  </svg>\n",
              "      </button>\n",
              "      \n",
              "  <style>\n",
              "    .colab-df-container {\n",
              "      display:flex;\n",
              "      flex-wrap:wrap;\n",
              "      gap: 12px;\n",
              "    }\n",
              "\n",
              "    .colab-df-convert {\n",
              "      background-color: #E8F0FE;\n",
              "      border: none;\n",
              "      border-radius: 50%;\n",
              "      cursor: pointer;\n",
              "      display: none;\n",
              "      fill: #1967D2;\n",
              "      height: 32px;\n",
              "      padding: 0 0 0 0;\n",
              "      width: 32px;\n",
              "    }\n",
              "\n",
              "    .colab-df-convert:hover {\n",
              "      background-color: #E2EBFA;\n",
              "      box-shadow: 0px 1px 2px rgba(60, 64, 67, 0.3), 0px 1px 3px 1px rgba(60, 64, 67, 0.15);\n",
              "      fill: #174EA6;\n",
              "    }\n",
              "\n",
              "    [theme=dark] .colab-df-convert {\n",
              "      background-color: #3B4455;\n",
              "      fill: #D2E3FC;\n",
              "    }\n",
              "\n",
              "    [theme=dark] .colab-df-convert:hover {\n",
              "      background-color: #434B5C;\n",
              "      box-shadow: 0px 1px 3px 1px rgba(0, 0, 0, 0.15);\n",
              "      filter: drop-shadow(0px 1px 2px rgba(0, 0, 0, 0.3));\n",
              "      fill: #FFFFFF;\n",
              "    }\n",
              "  </style>\n",
              "\n",
              "      <script>\n",
              "        const buttonEl =\n",
              "          document.querySelector('#df-708534c1-2cb4-4b19-b023-948df57ecd9d button.colab-df-convert');\n",
              "        buttonEl.style.display =\n",
              "          google.colab.kernel.accessAllowed ? 'block' : 'none';\n",
              "\n",
              "        async function convertToInteractive(key) {\n",
              "          const element = document.querySelector('#df-708534c1-2cb4-4b19-b023-948df57ecd9d');\n",
              "          const dataTable =\n",
              "            await google.colab.kernel.invokeFunction('convertToInteractive',\n",
              "                                                     [key], {});\n",
              "          if (!dataTable) return;\n",
              "\n",
              "          const docLinkHtml = 'Like what you see? Visit the ' +\n",
              "            '<a target=\"_blank\" href=https://colab.research.google.com/notebooks/data_table.ipynb>data table notebook</a>'\n",
              "            + ' to learn more about interactive tables.';\n",
              "          element.innerHTML = '';\n",
              "          dataTable['output_type'] = 'display_data';\n",
              "          await google.colab.output.renderOutput(dataTable, element);\n",
              "          const docLink = document.createElement('div');\n",
              "          docLink.innerHTML = docLinkHtml;\n",
              "          element.appendChild(docLink);\n",
              "        }\n",
              "      </script>\n",
              "    </div>\n",
              "  </div>\n",
              "  "
            ]
          },
          "metadata": {},
          "execution_count": 9
        }
      ]
    },
    {
      "cell_type": "code",
      "source": [
        "names.head()"
      ],
      "metadata": {
        "colab": {
          "base_uri": "https://localhost:8080/",
          "height": 204
        },
        "id": "8ShUIGZLQ-oO",
        "outputId": "5019686a-5a1b-49af-f842-e1856e343321"
      },
      "execution_count": null,
      "outputs": [
        {
          "output_type": "execute_result",
          "data": {
            "text/plain": [
              "  first_name gender  num_registered  year genders\n",
              "0       Mary      F           54372  1936     F,M\n",
              "1    Shirley      F           35161  1936     F,M\n",
              "2    Barbara      F           31682  1936     F,M\n",
              "3      Betty      F           25866  1936     F,M\n",
              "4   Patricia      F           23914  1936     F,M"
            ],
            "text/html": [
              "\n",
              "  <div id=\"df-fab5f0f7-1ae4-47c1-8b1e-d47b1cee4cea\">\n",
              "    <div class=\"colab-df-container\">\n",
              "      <div>\n",
              "<style scoped>\n",
              "    .dataframe tbody tr th:only-of-type {\n",
              "        vertical-align: middle;\n",
              "    }\n",
              "\n",
              "    .dataframe tbody tr th {\n",
              "        vertical-align: top;\n",
              "    }\n",
              "\n",
              "    .dataframe thead th {\n",
              "        text-align: right;\n",
              "    }\n",
              "</style>\n",
              "<table border=\"1\" class=\"dataframe\">\n",
              "  <thead>\n",
              "    <tr style=\"text-align: right;\">\n",
              "      <th></th>\n",
              "      <th>first_name</th>\n",
              "      <th>gender</th>\n",
              "      <th>num_registered</th>\n",
              "      <th>year</th>\n",
              "      <th>genders</th>\n",
              "    </tr>\n",
              "  </thead>\n",
              "  <tbody>\n",
              "    <tr>\n",
              "      <th>0</th>\n",
              "      <td>Mary</td>\n",
              "      <td>F</td>\n",
              "      <td>54372</td>\n",
              "      <td>1936</td>\n",
              "      <td>F,M</td>\n",
              "    </tr>\n",
              "    <tr>\n",
              "      <th>1</th>\n",
              "      <td>Shirley</td>\n",
              "      <td>F</td>\n",
              "      <td>35161</td>\n",
              "      <td>1936</td>\n",
              "      <td>F,M</td>\n",
              "    </tr>\n",
              "    <tr>\n",
              "      <th>2</th>\n",
              "      <td>Barbara</td>\n",
              "      <td>F</td>\n",
              "      <td>31682</td>\n",
              "      <td>1936</td>\n",
              "      <td>F,M</td>\n",
              "    </tr>\n",
              "    <tr>\n",
              "      <th>3</th>\n",
              "      <td>Betty</td>\n",
              "      <td>F</td>\n",
              "      <td>25866</td>\n",
              "      <td>1936</td>\n",
              "      <td>F,M</td>\n",
              "    </tr>\n",
              "    <tr>\n",
              "      <th>4</th>\n",
              "      <td>Patricia</td>\n",
              "      <td>F</td>\n",
              "      <td>23914</td>\n",
              "      <td>1936</td>\n",
              "      <td>F,M</td>\n",
              "    </tr>\n",
              "  </tbody>\n",
              "</table>\n",
              "</div>\n",
              "      <button class=\"colab-df-convert\" onclick=\"convertToInteractive('df-fab5f0f7-1ae4-47c1-8b1e-d47b1cee4cea')\"\n",
              "              title=\"Convert this dataframe to an interactive table.\"\n",
              "              style=\"display:none;\">\n",
              "        \n",
              "  <svg xmlns=\"http://www.w3.org/2000/svg\" height=\"24px\"viewBox=\"0 0 24 24\"\n",
              "       width=\"24px\">\n",
              "    <path d=\"M0 0h24v24H0V0z\" fill=\"none\"/>\n",
              "    <path d=\"M18.56 5.44l.94 2.06.94-2.06 2.06-.94-2.06-.94-.94-2.06-.94 2.06-2.06.94zm-11 1L8.5 8.5l.94-2.06 2.06-.94-2.06-.94L8.5 2.5l-.94 2.06-2.06.94zm10 10l.94 2.06.94-2.06 2.06-.94-2.06-.94-.94-2.06-.94 2.06-2.06.94z\"/><path d=\"M17.41 7.96l-1.37-1.37c-.4-.4-.92-.59-1.43-.59-.52 0-1.04.2-1.43.59L10.3 9.45l-7.72 7.72c-.78.78-.78 2.05 0 2.83L4 21.41c.39.39.9.59 1.41.59.51 0 1.02-.2 1.41-.59l7.78-7.78 2.81-2.81c.8-.78.8-2.07 0-2.86zM5.41 20L4 18.59l7.72-7.72 1.47 1.35L5.41 20z\"/>\n",
              "  </svg>\n",
              "      </button>\n",
              "      \n",
              "  <style>\n",
              "    .colab-df-container {\n",
              "      display:flex;\n",
              "      flex-wrap:wrap;\n",
              "      gap: 12px;\n",
              "    }\n",
              "\n",
              "    .colab-df-convert {\n",
              "      background-color: #E8F0FE;\n",
              "      border: none;\n",
              "      border-radius: 50%;\n",
              "      cursor: pointer;\n",
              "      display: none;\n",
              "      fill: #1967D2;\n",
              "      height: 32px;\n",
              "      padding: 0 0 0 0;\n",
              "      width: 32px;\n",
              "    }\n",
              "\n",
              "    .colab-df-convert:hover {\n",
              "      background-color: #E2EBFA;\n",
              "      box-shadow: 0px 1px 2px rgba(60, 64, 67, 0.3), 0px 1px 3px 1px rgba(60, 64, 67, 0.15);\n",
              "      fill: #174EA6;\n",
              "    }\n",
              "\n",
              "    [theme=dark] .colab-df-convert {\n",
              "      background-color: #3B4455;\n",
              "      fill: #D2E3FC;\n",
              "    }\n",
              "\n",
              "    [theme=dark] .colab-df-convert:hover {\n",
              "      background-color: #434B5C;\n",
              "      box-shadow: 0px 1px 3px 1px rgba(0, 0, 0, 0.15);\n",
              "      filter: drop-shadow(0px 1px 2px rgba(0, 0, 0, 0.3));\n",
              "      fill: #FFFFFF;\n",
              "    }\n",
              "  </style>\n",
              "\n",
              "      <script>\n",
              "        const buttonEl =\n",
              "          document.querySelector('#df-fab5f0f7-1ae4-47c1-8b1e-d47b1cee4cea button.colab-df-convert');\n",
              "        buttonEl.style.display =\n",
              "          google.colab.kernel.accessAllowed ? 'block' : 'none';\n",
              "\n",
              "        async function convertToInteractive(key) {\n",
              "          const element = document.querySelector('#df-fab5f0f7-1ae4-47c1-8b1e-d47b1cee4cea');\n",
              "          const dataTable =\n",
              "            await google.colab.kernel.invokeFunction('convertToInteractive',\n",
              "                                                     [key], {});\n",
              "          if (!dataTable) return;\n",
              "\n",
              "          const docLinkHtml = 'Like what you see? Visit the ' +\n",
              "            '<a target=\"_blank\" href=https://colab.research.google.com/notebooks/data_table.ipynb>data table notebook</a>'\n",
              "            + ' to learn more about interactive tables.';\n",
              "          element.innerHTML = '';\n",
              "          dataTable['output_type'] = 'display_data';\n",
              "          await google.colab.output.renderOutput(dataTable, element);\n",
              "          const docLink = document.createElement('div');\n",
              "          docLink.innerHTML = docLinkHtml;\n",
              "          element.appendChild(docLink);\n",
              "        }\n",
              "      </script>\n",
              "    </div>\n",
              "  </div>\n",
              "  "
            ]
          },
          "metadata": {},
          "execution_count": 10
        }
      ]
    },
    {
      "cell_type": "code",
      "source": [
        "names_gender_count = names[['first_name','gender','num_registered']].groupby(['first_name','gender']).sum()"
      ],
      "metadata": {
        "id": "TbALifpxQ-qu"
      },
      "execution_count": null,
      "outputs": []
    },
    {
      "cell_type": "code",
      "source": [
        "names_gender_count = names_gender_count.reset_index()"
      ],
      "metadata": {
        "id": "aGhLlrS1Rcr2"
      },
      "execution_count": null,
      "outputs": []
    },
    {
      "cell_type": "code",
      "source": [
        "names_f = names_gender_count[names_gender_count['gender'] == 'F']"
      ],
      "metadata": {
        "id": "hHEh5bb3Rc2v"
      },
      "execution_count": null,
      "outputs": []
    },
    {
      "cell_type": "code",
      "source": [
        "names_f = names_f[['first_name','num_registered']]\n",
        "names_f = names_f.rename(columns = {'num_registered':'num_female'})\n",
        "names_f.head()"
      ],
      "metadata": {
        "colab": {
          "base_uri": "https://localhost:8080/",
          "height": 204
        },
        "id": "AaxNylFIRc6K",
        "outputId": "3671d27e-cb34-45fe-deb1-f970cffa200d"
      },
      "execution_count": null,
      "outputs": [
        {
          "output_type": "execute_result",
          "data": {
            "text/plain": [
              "   first_name  num_female\n",
              "1       Aabha          35\n",
              "3     Aabidah           5\n",
              "5   Aabriella          38\n",
              "6        Aada          13\n",
              "10     Aadaya           8"
            ],
            "text/html": [
              "\n",
              "  <div id=\"df-7775e60e-0b21-44bb-9371-56efc0cb5d93\">\n",
              "    <div class=\"colab-df-container\">\n",
              "      <div>\n",
              "<style scoped>\n",
              "    .dataframe tbody tr th:only-of-type {\n",
              "        vertical-align: middle;\n",
              "    }\n",
              "\n",
              "    .dataframe tbody tr th {\n",
              "        vertical-align: top;\n",
              "    }\n",
              "\n",
              "    .dataframe thead th {\n",
              "        text-align: right;\n",
              "    }\n",
              "</style>\n",
              "<table border=\"1\" class=\"dataframe\">\n",
              "  <thead>\n",
              "    <tr style=\"text-align: right;\">\n",
              "      <th></th>\n",
              "      <th>first_name</th>\n",
              "      <th>num_female</th>\n",
              "    </tr>\n",
              "  </thead>\n",
              "  <tbody>\n",
              "    <tr>\n",
              "      <th>1</th>\n",
              "      <td>Aabha</td>\n",
              "      <td>35</td>\n",
              "    </tr>\n",
              "    <tr>\n",
              "      <th>3</th>\n",
              "      <td>Aabidah</td>\n",
              "      <td>5</td>\n",
              "    </tr>\n",
              "    <tr>\n",
              "      <th>5</th>\n",
              "      <td>Aabriella</td>\n",
              "      <td>38</td>\n",
              "    </tr>\n",
              "    <tr>\n",
              "      <th>6</th>\n",
              "      <td>Aada</td>\n",
              "      <td>13</td>\n",
              "    </tr>\n",
              "    <tr>\n",
              "      <th>10</th>\n",
              "      <td>Aadaya</td>\n",
              "      <td>8</td>\n",
              "    </tr>\n",
              "  </tbody>\n",
              "</table>\n",
              "</div>\n",
              "      <button class=\"colab-df-convert\" onclick=\"convertToInteractive('df-7775e60e-0b21-44bb-9371-56efc0cb5d93')\"\n",
              "              title=\"Convert this dataframe to an interactive table.\"\n",
              "              style=\"display:none;\">\n",
              "        \n",
              "  <svg xmlns=\"http://www.w3.org/2000/svg\" height=\"24px\"viewBox=\"0 0 24 24\"\n",
              "       width=\"24px\">\n",
              "    <path d=\"M0 0h24v24H0V0z\" fill=\"none\"/>\n",
              "    <path d=\"M18.56 5.44l.94 2.06.94-2.06 2.06-.94-2.06-.94-.94-2.06-.94 2.06-2.06.94zm-11 1L8.5 8.5l.94-2.06 2.06-.94-2.06-.94L8.5 2.5l-.94 2.06-2.06.94zm10 10l.94 2.06.94-2.06 2.06-.94-2.06-.94-.94-2.06-.94 2.06-2.06.94z\"/><path d=\"M17.41 7.96l-1.37-1.37c-.4-.4-.92-.59-1.43-.59-.52 0-1.04.2-1.43.59L10.3 9.45l-7.72 7.72c-.78.78-.78 2.05 0 2.83L4 21.41c.39.39.9.59 1.41.59.51 0 1.02-.2 1.41-.59l7.78-7.78 2.81-2.81c.8-.78.8-2.07 0-2.86zM5.41 20L4 18.59l7.72-7.72 1.47 1.35L5.41 20z\"/>\n",
              "  </svg>\n",
              "      </button>\n",
              "      \n",
              "  <style>\n",
              "    .colab-df-container {\n",
              "      display:flex;\n",
              "      flex-wrap:wrap;\n",
              "      gap: 12px;\n",
              "    }\n",
              "\n",
              "    .colab-df-convert {\n",
              "      background-color: #E8F0FE;\n",
              "      border: none;\n",
              "      border-radius: 50%;\n",
              "      cursor: pointer;\n",
              "      display: none;\n",
              "      fill: #1967D2;\n",
              "      height: 32px;\n",
              "      padding: 0 0 0 0;\n",
              "      width: 32px;\n",
              "    }\n",
              "\n",
              "    .colab-df-convert:hover {\n",
              "      background-color: #E2EBFA;\n",
              "      box-shadow: 0px 1px 2px rgba(60, 64, 67, 0.3), 0px 1px 3px 1px rgba(60, 64, 67, 0.15);\n",
              "      fill: #174EA6;\n",
              "    }\n",
              "\n",
              "    [theme=dark] .colab-df-convert {\n",
              "      background-color: #3B4455;\n",
              "      fill: #D2E3FC;\n",
              "    }\n",
              "\n",
              "    [theme=dark] .colab-df-convert:hover {\n",
              "      background-color: #434B5C;\n",
              "      box-shadow: 0px 1px 3px 1px rgba(0, 0, 0, 0.15);\n",
              "      filter: drop-shadow(0px 1px 2px rgba(0, 0, 0, 0.3));\n",
              "      fill: #FFFFFF;\n",
              "    }\n",
              "  </style>\n",
              "\n",
              "      <script>\n",
              "        const buttonEl =\n",
              "          document.querySelector('#df-7775e60e-0b21-44bb-9371-56efc0cb5d93 button.colab-df-convert');\n",
              "        buttonEl.style.display =\n",
              "          google.colab.kernel.accessAllowed ? 'block' : 'none';\n",
              "\n",
              "        async function convertToInteractive(key) {\n",
              "          const element = document.querySelector('#df-7775e60e-0b21-44bb-9371-56efc0cb5d93');\n",
              "          const dataTable =\n",
              "            await google.colab.kernel.invokeFunction('convertToInteractive',\n",
              "                                                     [key], {});\n",
              "          if (!dataTable) return;\n",
              "\n",
              "          const docLinkHtml = 'Like what you see? Visit the ' +\n",
              "            '<a target=\"_blank\" href=https://colab.research.google.com/notebooks/data_table.ipynb>data table notebook</a>'\n",
              "            + ' to learn more about interactive tables.';\n",
              "          element.innerHTML = '';\n",
              "          dataTable['output_type'] = 'display_data';\n",
              "          await google.colab.output.renderOutput(dataTable, element);\n",
              "          const docLink = document.createElement('div');\n",
              "          docLink.innerHTML = docLinkHtml;\n",
              "          element.appendChild(docLink);\n",
              "        }\n",
              "      </script>\n",
              "    </div>\n",
              "  </div>\n",
              "  "
            ]
          },
          "metadata": {},
          "execution_count": 14
        }
      ]
    },
    {
      "cell_type": "code",
      "source": [
        "names_m = names_gender_count[names_gender_count['gender'] == 'M']"
      ],
      "metadata": {
        "id": "pAU4dDpVRc-n"
      },
      "execution_count": null,
      "outputs": []
    },
    {
      "cell_type": "code",
      "source": [
        "names_m = names_m[['first_name','num_registered']]\n",
        "names_m = names_m.rename(columns = {'num_registered':'num_male'})\n",
        "names_m.head()"
      ],
      "metadata": {
        "colab": {
          "base_uri": "https://localhost:8080/",
          "height": 204
        },
        "id": "689e5621Q-vW",
        "outputId": "16186967-d35b-4c1c-9936-f14942766846"
      },
      "execution_count": null,
      "outputs": [
        {
          "output_type": "execute_result",
          "data": {
            "text/plain": [
              "  first_name  num_male\n",
              "0      Aaban       114\n",
              "2      Aabid        16\n",
              "4      Aabir        10\n",
              "7      Aadam       273\n",
              "8      Aadan       130"
            ],
            "text/html": [
              "\n",
              "  <div id=\"df-7bc17aa8-9ce0-499c-aea8-68c0471c1fc6\">\n",
              "    <div class=\"colab-df-container\">\n",
              "      <div>\n",
              "<style scoped>\n",
              "    .dataframe tbody tr th:only-of-type {\n",
              "        vertical-align: middle;\n",
              "    }\n",
              "\n",
              "    .dataframe tbody tr th {\n",
              "        vertical-align: top;\n",
              "    }\n",
              "\n",
              "    .dataframe thead th {\n",
              "        text-align: right;\n",
              "    }\n",
              "</style>\n",
              "<table border=\"1\" class=\"dataframe\">\n",
              "  <thead>\n",
              "    <tr style=\"text-align: right;\">\n",
              "      <th></th>\n",
              "      <th>first_name</th>\n",
              "      <th>num_male</th>\n",
              "    </tr>\n",
              "  </thead>\n",
              "  <tbody>\n",
              "    <tr>\n",
              "      <th>0</th>\n",
              "      <td>Aaban</td>\n",
              "      <td>114</td>\n",
              "    </tr>\n",
              "    <tr>\n",
              "      <th>2</th>\n",
              "      <td>Aabid</td>\n",
              "      <td>16</td>\n",
              "    </tr>\n",
              "    <tr>\n",
              "      <th>4</th>\n",
              "      <td>Aabir</td>\n",
              "      <td>10</td>\n",
              "    </tr>\n",
              "    <tr>\n",
              "      <th>7</th>\n",
              "      <td>Aadam</td>\n",
              "      <td>273</td>\n",
              "    </tr>\n",
              "    <tr>\n",
              "      <th>8</th>\n",
              "      <td>Aadan</td>\n",
              "      <td>130</td>\n",
              "    </tr>\n",
              "  </tbody>\n",
              "</table>\n",
              "</div>\n",
              "      <button class=\"colab-df-convert\" onclick=\"convertToInteractive('df-7bc17aa8-9ce0-499c-aea8-68c0471c1fc6')\"\n",
              "              title=\"Convert this dataframe to an interactive table.\"\n",
              "              style=\"display:none;\">\n",
              "        \n",
              "  <svg xmlns=\"http://www.w3.org/2000/svg\" height=\"24px\"viewBox=\"0 0 24 24\"\n",
              "       width=\"24px\">\n",
              "    <path d=\"M0 0h24v24H0V0z\" fill=\"none\"/>\n",
              "    <path d=\"M18.56 5.44l.94 2.06.94-2.06 2.06-.94-2.06-.94-.94-2.06-.94 2.06-2.06.94zm-11 1L8.5 8.5l.94-2.06 2.06-.94-2.06-.94L8.5 2.5l-.94 2.06-2.06.94zm10 10l.94 2.06.94-2.06 2.06-.94-2.06-.94-.94-2.06-.94 2.06-2.06.94z\"/><path d=\"M17.41 7.96l-1.37-1.37c-.4-.4-.92-.59-1.43-.59-.52 0-1.04.2-1.43.59L10.3 9.45l-7.72 7.72c-.78.78-.78 2.05 0 2.83L4 21.41c.39.39.9.59 1.41.59.51 0 1.02-.2 1.41-.59l7.78-7.78 2.81-2.81c.8-.78.8-2.07 0-2.86zM5.41 20L4 18.59l7.72-7.72 1.47 1.35L5.41 20z\"/>\n",
              "  </svg>\n",
              "      </button>\n",
              "      \n",
              "  <style>\n",
              "    .colab-df-container {\n",
              "      display:flex;\n",
              "      flex-wrap:wrap;\n",
              "      gap: 12px;\n",
              "    }\n",
              "\n",
              "    .colab-df-convert {\n",
              "      background-color: #E8F0FE;\n",
              "      border: none;\n",
              "      border-radius: 50%;\n",
              "      cursor: pointer;\n",
              "      display: none;\n",
              "      fill: #1967D2;\n",
              "      height: 32px;\n",
              "      padding: 0 0 0 0;\n",
              "      width: 32px;\n",
              "    }\n",
              "\n",
              "    .colab-df-convert:hover {\n",
              "      background-color: #E2EBFA;\n",
              "      box-shadow: 0px 1px 2px rgba(60, 64, 67, 0.3), 0px 1px 3px 1px rgba(60, 64, 67, 0.15);\n",
              "      fill: #174EA6;\n",
              "    }\n",
              "\n",
              "    [theme=dark] .colab-df-convert {\n",
              "      background-color: #3B4455;\n",
              "      fill: #D2E3FC;\n",
              "    }\n",
              "\n",
              "    [theme=dark] .colab-df-convert:hover {\n",
              "      background-color: #434B5C;\n",
              "      box-shadow: 0px 1px 3px 1px rgba(0, 0, 0, 0.15);\n",
              "      filter: drop-shadow(0px 1px 2px rgba(0, 0, 0, 0.3));\n",
              "      fill: #FFFFFF;\n",
              "    }\n",
              "  </style>\n",
              "\n",
              "      <script>\n",
              "        const buttonEl =\n",
              "          document.querySelector('#df-7bc17aa8-9ce0-499c-aea8-68c0471c1fc6 button.colab-df-convert');\n",
              "        buttonEl.style.display =\n",
              "          google.colab.kernel.accessAllowed ? 'block' : 'none';\n",
              "\n",
              "        async function convertToInteractive(key) {\n",
              "          const element = document.querySelector('#df-7bc17aa8-9ce0-499c-aea8-68c0471c1fc6');\n",
              "          const dataTable =\n",
              "            await google.colab.kernel.invokeFunction('convertToInteractive',\n",
              "                                                     [key], {});\n",
              "          if (!dataTable) return;\n",
              "\n",
              "          const docLinkHtml = 'Like what you see? Visit the ' +\n",
              "            '<a target=\"_blank\" href=https://colab.research.google.com/notebooks/data_table.ipynb>data table notebook</a>'\n",
              "            + ' to learn more about interactive tables.';\n",
              "          element.innerHTML = '';\n",
              "          dataTable['output_type'] = 'display_data';\n",
              "          await google.colab.output.renderOutput(dataTable, element);\n",
              "          const docLink = document.createElement('div');\n",
              "          docLink.innerHTML = docLinkHtml;\n",
              "          element.appendChild(docLink);\n",
              "        }\n",
              "      </script>\n",
              "    </div>\n",
              "  </div>\n",
              "  "
            ]
          },
          "metadata": {},
          "execution_count": 16
        }
      ]
    },
    {
      "cell_type": "code",
      "source": [
        "users_gender = pd.merge(users, names_f, on='first_name', how='left')\n",
        "users_gender = pd.merge(users_gender, names_m, on='first_name', how='left')"
      ],
      "metadata": {
        "id": "v4rqloCDQ-yA"
      },
      "execution_count": null,
      "outputs": []
    },
    {
      "cell_type": "code",
      "source": [
        "users_gender.head(3)"
      ],
      "metadata": {
        "colab": {
          "base_uri": "https://localhost:8080/",
          "height": 376
        },
        "id": "ULFVVBSkRp4q",
        "outputId": "39696a3b-c622-4ef6-8e3d-32103bb953bb"
      },
      "execution_count": null,
      "outputs": [
        {
          "output_type": "execute_result",
          "data": {
            "text/plain": [
              "   Unnamed: 0                             user_uuid   display_name  \\\n",
              "0         0.0  00000000-4f80-9c33-7b70-8c4f08000075  Andrew Lazuka   \n",
              "1         1.0  00000000-4f81-d43f-7b70-8c4f08001119     Ari Joseph   \n",
              "2         2.0  00000000-4f81-d7a5-7b70-8c4f08001185  Robert Morgan   \n",
              "\n",
              "   email_domain active_count_in_last_30_days  media_added_count first_name  \\\n",
              "0     gmail.com                            0                0.0     Andrew   \n",
              "1     gmail.com                            0                0.0        Ari   \n",
              "2  backbeat.net                            0                0.0     Robert   \n",
              "\n",
              "   num_female   num_male  \n",
              "0      4900.0  1291279.0  \n",
              "1      3419.0    14339.0  \n",
              "2     20099.0  4820129.0  "
            ],
            "text/html": [
              "\n",
              "  <div id=\"df-b8227364-b1e9-40bd-96db-aedba5fbd688\">\n",
              "    <div class=\"colab-df-container\">\n",
              "      <div>\n",
              "<style scoped>\n",
              "    .dataframe tbody tr th:only-of-type {\n",
              "        vertical-align: middle;\n",
              "    }\n",
              "\n",
              "    .dataframe tbody tr th {\n",
              "        vertical-align: top;\n",
              "    }\n",
              "\n",
              "    .dataframe thead th {\n",
              "        text-align: right;\n",
              "    }\n",
              "</style>\n",
              "<table border=\"1\" class=\"dataframe\">\n",
              "  <thead>\n",
              "    <tr style=\"text-align: right;\">\n",
              "      <th></th>\n",
              "      <th>Unnamed: 0</th>\n",
              "      <th>user_uuid</th>\n",
              "      <th>display_name</th>\n",
              "      <th>email_domain</th>\n",
              "      <th>active_count_in_last_30_days</th>\n",
              "      <th>media_added_count</th>\n",
              "      <th>first_name</th>\n",
              "      <th>num_female</th>\n",
              "      <th>num_male</th>\n",
              "    </tr>\n",
              "  </thead>\n",
              "  <tbody>\n",
              "    <tr>\n",
              "      <th>0</th>\n",
              "      <td>0.0</td>\n",
              "      <td>00000000-4f80-9c33-7b70-8c4f08000075</td>\n",
              "      <td>Andrew Lazuka</td>\n",
              "      <td>gmail.com</td>\n",
              "      <td>0</td>\n",
              "      <td>0.0</td>\n",
              "      <td>Andrew</td>\n",
              "      <td>4900.0</td>\n",
              "      <td>1291279.0</td>\n",
              "    </tr>\n",
              "    <tr>\n",
              "      <th>1</th>\n",
              "      <td>1.0</td>\n",
              "      <td>00000000-4f81-d43f-7b70-8c4f08001119</td>\n",
              "      <td>Ari Joseph</td>\n",
              "      <td>gmail.com</td>\n",
              "      <td>0</td>\n",
              "      <td>0.0</td>\n",
              "      <td>Ari</td>\n",
              "      <td>3419.0</td>\n",
              "      <td>14339.0</td>\n",
              "    </tr>\n",
              "    <tr>\n",
              "      <th>2</th>\n",
              "      <td>2.0</td>\n",
              "      <td>00000000-4f81-d7a5-7b70-8c4f08001185</td>\n",
              "      <td>Robert Morgan</td>\n",
              "      <td>backbeat.net</td>\n",
              "      <td>0</td>\n",
              "      <td>0.0</td>\n",
              "      <td>Robert</td>\n",
              "      <td>20099.0</td>\n",
              "      <td>4820129.0</td>\n",
              "    </tr>\n",
              "  </tbody>\n",
              "</table>\n",
              "</div>\n",
              "      <button class=\"colab-df-convert\" onclick=\"convertToInteractive('df-b8227364-b1e9-40bd-96db-aedba5fbd688')\"\n",
              "              title=\"Convert this dataframe to an interactive table.\"\n",
              "              style=\"display:none;\">\n",
              "        \n",
              "  <svg xmlns=\"http://www.w3.org/2000/svg\" height=\"24px\"viewBox=\"0 0 24 24\"\n",
              "       width=\"24px\">\n",
              "    <path d=\"M0 0h24v24H0V0z\" fill=\"none\"/>\n",
              "    <path d=\"M18.56 5.44l.94 2.06.94-2.06 2.06-.94-2.06-.94-.94-2.06-.94 2.06-2.06.94zm-11 1L8.5 8.5l.94-2.06 2.06-.94-2.06-.94L8.5 2.5l-.94 2.06-2.06.94zm10 10l.94 2.06.94-2.06 2.06-.94-2.06-.94-.94-2.06-.94 2.06-2.06.94z\"/><path d=\"M17.41 7.96l-1.37-1.37c-.4-.4-.92-.59-1.43-.59-.52 0-1.04.2-1.43.59L10.3 9.45l-7.72 7.72c-.78.78-.78 2.05 0 2.83L4 21.41c.39.39.9.59 1.41.59.51 0 1.02-.2 1.41-.59l7.78-7.78 2.81-2.81c.8-.78.8-2.07 0-2.86zM5.41 20L4 18.59l7.72-7.72 1.47 1.35L5.41 20z\"/>\n",
              "  </svg>\n",
              "      </button>\n",
              "      \n",
              "  <style>\n",
              "    .colab-df-container {\n",
              "      display:flex;\n",
              "      flex-wrap:wrap;\n",
              "      gap: 12px;\n",
              "    }\n",
              "\n",
              "    .colab-df-convert {\n",
              "      background-color: #E8F0FE;\n",
              "      border: none;\n",
              "      border-radius: 50%;\n",
              "      cursor: pointer;\n",
              "      display: none;\n",
              "      fill: #1967D2;\n",
              "      height: 32px;\n",
              "      padding: 0 0 0 0;\n",
              "      width: 32px;\n",
              "    }\n",
              "\n",
              "    .colab-df-convert:hover {\n",
              "      background-color: #E2EBFA;\n",
              "      box-shadow: 0px 1px 2px rgba(60, 64, 67, 0.3), 0px 1px 3px 1px rgba(60, 64, 67, 0.15);\n",
              "      fill: #174EA6;\n",
              "    }\n",
              "\n",
              "    [theme=dark] .colab-df-convert {\n",
              "      background-color: #3B4455;\n",
              "      fill: #D2E3FC;\n",
              "    }\n",
              "\n",
              "    [theme=dark] .colab-df-convert:hover {\n",
              "      background-color: #434B5C;\n",
              "      box-shadow: 0px 1px 3px 1px rgba(0, 0, 0, 0.15);\n",
              "      filter: drop-shadow(0px 1px 2px rgba(0, 0, 0, 0.3));\n",
              "      fill: #FFFFFF;\n",
              "    }\n",
              "  </style>\n",
              "\n",
              "      <script>\n",
              "        const buttonEl =\n",
              "          document.querySelector('#df-b8227364-b1e9-40bd-96db-aedba5fbd688 button.colab-df-convert');\n",
              "        buttonEl.style.display =\n",
              "          google.colab.kernel.accessAllowed ? 'block' : 'none';\n",
              "\n",
              "        async function convertToInteractive(key) {\n",
              "          const element = document.querySelector('#df-b8227364-b1e9-40bd-96db-aedba5fbd688');\n",
              "          const dataTable =\n",
              "            await google.colab.kernel.invokeFunction('convertToInteractive',\n",
              "                                                     [key], {});\n",
              "          if (!dataTable) return;\n",
              "\n",
              "          const docLinkHtml = 'Like what you see? Visit the ' +\n",
              "            '<a target=\"_blank\" href=https://colab.research.google.com/notebooks/data_table.ipynb>data table notebook</a>'\n",
              "            + ' to learn more about interactive tables.';\n",
              "          element.innerHTML = '';\n",
              "          dataTable['output_type'] = 'display_data';\n",
              "          await google.colab.output.renderOutput(dataTable, element);\n",
              "          const docLink = document.createElement('div');\n",
              "          docLink.innerHTML = docLinkHtml;\n",
              "          element.appendChild(docLink);\n",
              "        }\n",
              "      </script>\n",
              "    </div>\n",
              "  </div>\n",
              "  "
            ]
          },
          "metadata": {},
          "execution_count": 18
        }
      ]
    },
    {
      "cell_type": "markdown",
      "source": [
        "# **Fix Null Values in Users Name**"
      ],
      "metadata": {
        "id": "g51I5OzFS95l"
      }
    },
    {
      "cell_type": "code",
      "source": [
        "users_gender['num_female'] = users_gender['num_female'].fillna(0)\n",
        "users_gender['num_male'] = users_gender['num_male'].fillna(0)"
      ],
      "metadata": {
        "id": "lrYxNqR3Rp7b"
      },
      "execution_count": null,
      "outputs": []
    },
    {
      "cell_type": "markdown",
      "source": [
        "#**Get M / F pct**"
      ],
      "metadata": {
        "id": "FM7c5j11TYNG"
      }
    },
    {
      "cell_type": "code",
      "source": [
        "users_gender['female_pct'] = round(users_gender['num_female']/(users_gender['num_female'] + users_gender['num_male'])*100,2)"
      ],
      "metadata": {
        "id": "MF3sSx2iTa3o"
      },
      "execution_count": null,
      "outputs": []
    },
    {
      "cell_type": "code",
      "source": [
        "users_gender['female_pct'] = users_gender['female_pct'].fillna(50)"
      ],
      "metadata": {
        "id": "_e9lfGbATbBH"
      },
      "execution_count": null,
      "outputs": []
    },
    {
      "cell_type": "code",
      "source": [
        "users_gender.head(3)"
      ],
      "metadata": {
        "colab": {
          "base_uri": "https://localhost:8080/",
          "height": 376
        },
        "id": "66gbNFxbTbFp",
        "outputId": "683d7ba6-6bd2-4e36-b301-7c752d55095b"
      },
      "execution_count": null,
      "outputs": [
        {
          "output_type": "execute_result",
          "data": {
            "text/plain": [
              "   Unnamed: 0                             user_uuid   display_name  \\\n",
              "0         0.0  00000000-4f80-9c33-7b70-8c4f08000075  Andrew Lazuka   \n",
              "1         1.0  00000000-4f81-d43f-7b70-8c4f08001119     Ari Joseph   \n",
              "2         2.0  00000000-4f81-d7a5-7b70-8c4f08001185  Robert Morgan   \n",
              "\n",
              "   email_domain active_count_in_last_30_days  media_added_count first_name  \\\n",
              "0     gmail.com                            0                0.0     Andrew   \n",
              "1     gmail.com                            0                0.0        Ari   \n",
              "2  backbeat.net                            0                0.0     Robert   \n",
              "\n",
              "   num_female   num_male  female_pct  \n",
              "0      4900.0  1291279.0        0.38  \n",
              "1      3419.0    14339.0       19.25  \n",
              "2     20099.0  4820129.0        0.42  "
            ],
            "text/html": [
              "\n",
              "  <div id=\"df-f92d32e5-675b-4f89-9d60-469330e7055f\">\n",
              "    <div class=\"colab-df-container\">\n",
              "      <div>\n",
              "<style scoped>\n",
              "    .dataframe tbody tr th:only-of-type {\n",
              "        vertical-align: middle;\n",
              "    }\n",
              "\n",
              "    .dataframe tbody tr th {\n",
              "        vertical-align: top;\n",
              "    }\n",
              "\n",
              "    .dataframe thead th {\n",
              "        text-align: right;\n",
              "    }\n",
              "</style>\n",
              "<table border=\"1\" class=\"dataframe\">\n",
              "  <thead>\n",
              "    <tr style=\"text-align: right;\">\n",
              "      <th></th>\n",
              "      <th>Unnamed: 0</th>\n",
              "      <th>user_uuid</th>\n",
              "      <th>display_name</th>\n",
              "      <th>email_domain</th>\n",
              "      <th>active_count_in_last_30_days</th>\n",
              "      <th>media_added_count</th>\n",
              "      <th>first_name</th>\n",
              "      <th>num_female</th>\n",
              "      <th>num_male</th>\n",
              "      <th>female_pct</th>\n",
              "    </tr>\n",
              "  </thead>\n",
              "  <tbody>\n",
              "    <tr>\n",
              "      <th>0</th>\n",
              "      <td>0.0</td>\n",
              "      <td>00000000-4f80-9c33-7b70-8c4f08000075</td>\n",
              "      <td>Andrew Lazuka</td>\n",
              "      <td>gmail.com</td>\n",
              "      <td>0</td>\n",
              "      <td>0.0</td>\n",
              "      <td>Andrew</td>\n",
              "      <td>4900.0</td>\n",
              "      <td>1291279.0</td>\n",
              "      <td>0.38</td>\n",
              "    </tr>\n",
              "    <tr>\n",
              "      <th>1</th>\n",
              "      <td>1.0</td>\n",
              "      <td>00000000-4f81-d43f-7b70-8c4f08001119</td>\n",
              "      <td>Ari Joseph</td>\n",
              "      <td>gmail.com</td>\n",
              "      <td>0</td>\n",
              "      <td>0.0</td>\n",
              "      <td>Ari</td>\n",
              "      <td>3419.0</td>\n",
              "      <td>14339.0</td>\n",
              "      <td>19.25</td>\n",
              "    </tr>\n",
              "    <tr>\n",
              "      <th>2</th>\n",
              "      <td>2.0</td>\n",
              "      <td>00000000-4f81-d7a5-7b70-8c4f08001185</td>\n",
              "      <td>Robert Morgan</td>\n",
              "      <td>backbeat.net</td>\n",
              "      <td>0</td>\n",
              "      <td>0.0</td>\n",
              "      <td>Robert</td>\n",
              "      <td>20099.0</td>\n",
              "      <td>4820129.0</td>\n",
              "      <td>0.42</td>\n",
              "    </tr>\n",
              "  </tbody>\n",
              "</table>\n",
              "</div>\n",
              "      <button class=\"colab-df-convert\" onclick=\"convertToInteractive('df-f92d32e5-675b-4f89-9d60-469330e7055f')\"\n",
              "              title=\"Convert this dataframe to an interactive table.\"\n",
              "              style=\"display:none;\">\n",
              "        \n",
              "  <svg xmlns=\"http://www.w3.org/2000/svg\" height=\"24px\"viewBox=\"0 0 24 24\"\n",
              "       width=\"24px\">\n",
              "    <path d=\"M0 0h24v24H0V0z\" fill=\"none\"/>\n",
              "    <path d=\"M18.56 5.44l.94 2.06.94-2.06 2.06-.94-2.06-.94-.94-2.06-.94 2.06-2.06.94zm-11 1L8.5 8.5l.94-2.06 2.06-.94-2.06-.94L8.5 2.5l-.94 2.06-2.06.94zm10 10l.94 2.06.94-2.06 2.06-.94-2.06-.94-.94-2.06-.94 2.06-2.06.94z\"/><path d=\"M17.41 7.96l-1.37-1.37c-.4-.4-.92-.59-1.43-.59-.52 0-1.04.2-1.43.59L10.3 9.45l-7.72 7.72c-.78.78-.78 2.05 0 2.83L4 21.41c.39.39.9.59 1.41.59.51 0 1.02-.2 1.41-.59l7.78-7.78 2.81-2.81c.8-.78.8-2.07 0-2.86zM5.41 20L4 18.59l7.72-7.72 1.47 1.35L5.41 20z\"/>\n",
              "  </svg>\n",
              "      </button>\n",
              "      \n",
              "  <style>\n",
              "    .colab-df-container {\n",
              "      display:flex;\n",
              "      flex-wrap:wrap;\n",
              "      gap: 12px;\n",
              "    }\n",
              "\n",
              "    .colab-df-convert {\n",
              "      background-color: #E8F0FE;\n",
              "      border: none;\n",
              "      border-radius: 50%;\n",
              "      cursor: pointer;\n",
              "      display: none;\n",
              "      fill: #1967D2;\n",
              "      height: 32px;\n",
              "      padding: 0 0 0 0;\n",
              "      width: 32px;\n",
              "    }\n",
              "\n",
              "    .colab-df-convert:hover {\n",
              "      background-color: #E2EBFA;\n",
              "      box-shadow: 0px 1px 2px rgba(60, 64, 67, 0.3), 0px 1px 3px 1px rgba(60, 64, 67, 0.15);\n",
              "      fill: #174EA6;\n",
              "    }\n",
              "\n",
              "    [theme=dark] .colab-df-convert {\n",
              "      background-color: #3B4455;\n",
              "      fill: #D2E3FC;\n",
              "    }\n",
              "\n",
              "    [theme=dark] .colab-df-convert:hover {\n",
              "      background-color: #434B5C;\n",
              "      box-shadow: 0px 1px 3px 1px rgba(0, 0, 0, 0.15);\n",
              "      filter: drop-shadow(0px 1px 2px rgba(0, 0, 0, 0.3));\n",
              "      fill: #FFFFFF;\n",
              "    }\n",
              "  </style>\n",
              "\n",
              "      <script>\n",
              "        const buttonEl =\n",
              "          document.querySelector('#df-f92d32e5-675b-4f89-9d60-469330e7055f button.colab-df-convert');\n",
              "        buttonEl.style.display =\n",
              "          google.colab.kernel.accessAllowed ? 'block' : 'none';\n",
              "\n",
              "        async function convertToInteractive(key) {\n",
              "          const element = document.querySelector('#df-f92d32e5-675b-4f89-9d60-469330e7055f');\n",
              "          const dataTable =\n",
              "            await google.colab.kernel.invokeFunction('convertToInteractive',\n",
              "                                                     [key], {});\n",
              "          if (!dataTable) return;\n",
              "\n",
              "          const docLinkHtml = 'Like what you see? Visit the ' +\n",
              "            '<a target=\"_blank\" href=https://colab.research.google.com/notebooks/data_table.ipynb>data table notebook</a>'\n",
              "            + ' to learn more about interactive tables.';\n",
              "          element.innerHTML = '';\n",
              "          dataTable['output_type'] = 'display_data';\n",
              "          await google.colab.output.renderOutput(dataTable, element);\n",
              "          const docLink = document.createElement('div');\n",
              "          docLink.innerHTML = docLinkHtml;\n",
              "          element.appendChild(docLink);\n",
              "        }\n",
              "      </script>\n",
              "    </div>\n",
              "  </div>\n",
              "  "
            ]
          },
          "metadata": {},
          "execution_count": 22
        }
      ]
    },
    {
      "cell_type": "code",
      "source": [
        "round(len(users_gender[users_gender['female_pct']>50])/len(users_gender)*100,2) # F:M - 60/40"
      ],
      "metadata": {
        "colab": {
          "base_uri": "https://localhost:8080/"
        },
        "id": "MbQcTg59TbIS",
        "outputId": "ccda3778-c41a-4fc2-c0a6-17389b704e5e"
      },
      "execution_count": null,
      "outputs": [
        {
          "output_type": "execute_result",
          "data": {
            "text/plain": [
              "60.98"
            ]
          },
          "metadata": {},
          "execution_count": 23
        }
      ]
    },
    {
      "cell_type": "markdown",
      "source": [
        "# **Identify Students Vs Non-Students**"
      ],
      "metadata": {
        "id": "DeruhjBSUSzF"
      }
    },
    {
      "cell_type": "code",
      "source": [
        "# Define a function to create a new column\n",
        "def my_function(x):\n",
        "    try:\n",
        "        return x.split('.')[-1] == 'edu'\n",
        "    except: \n",
        "        return False\n",
        "\n",
        "# Apply the function to create a new column\n",
        "users_gender['is_student'] = users_gender['email_domain'].apply(lambda x: my_function(x))"
      ],
      "metadata": {
        "id": "rYsP_9mBTcJW"
      },
      "execution_count": null,
      "outputs": []
    },
    {
      "cell_type": "code",
      "source": [
        "users_gender[users_gender['is_student']].head(3)"
      ],
      "metadata": {
        "colab": {
          "base_uri": "https://localhost:8080/",
          "height": 376
        },
        "id": "SL4KMVdcTcMA",
        "outputId": "e913b2a2-ecb3-4b03-9bde-bc0683d2cfd3"
      },
      "execution_count": null,
      "outputs": [
        {
          "output_type": "execute_result",
          "data": {
            "text/plain": [
              "     Unnamed: 0                             user_uuid      display_name  \\\n",
              "125       125.0  00000000-4fa6-9d00-1953-bb0532003d43  Stephen Troutman   \n",
              "301       301.0  00000000-4faf-2e55-1953-bb67c900bb7a  Todd Nightingale   \n",
              "348       348.0  00000000-4fb7-2f44-1953-bb483e0011b9            P Witt   \n",
              "\n",
              "       email_domain active_count_in_last_30_days  media_added_count  \\\n",
              "125  alumni.usc.edu                            0                0.0   \n",
              "301    alum.mit.edu                            0                0.0   \n",
              "348       gmail.edu                            0                0.0   \n",
              "\n",
              "    first_name  num_female  num_male  female_pct  is_student  \n",
              "125    Stephen      2931.0  858041.0        0.34        True  \n",
              "301       Todd      1060.0  281548.0        0.38        True  \n",
              "348          P         0.0       0.0       50.00        True  "
            ],
            "text/html": [
              "\n",
              "  <div id=\"df-de92826d-4898-45e0-bb96-c393b26beee2\">\n",
              "    <div class=\"colab-df-container\">\n",
              "      <div>\n",
              "<style scoped>\n",
              "    .dataframe tbody tr th:only-of-type {\n",
              "        vertical-align: middle;\n",
              "    }\n",
              "\n",
              "    .dataframe tbody tr th {\n",
              "        vertical-align: top;\n",
              "    }\n",
              "\n",
              "    .dataframe thead th {\n",
              "        text-align: right;\n",
              "    }\n",
              "</style>\n",
              "<table border=\"1\" class=\"dataframe\">\n",
              "  <thead>\n",
              "    <tr style=\"text-align: right;\">\n",
              "      <th></th>\n",
              "      <th>Unnamed: 0</th>\n",
              "      <th>user_uuid</th>\n",
              "      <th>display_name</th>\n",
              "      <th>email_domain</th>\n",
              "      <th>active_count_in_last_30_days</th>\n",
              "      <th>media_added_count</th>\n",
              "      <th>first_name</th>\n",
              "      <th>num_female</th>\n",
              "      <th>num_male</th>\n",
              "      <th>female_pct</th>\n",
              "      <th>is_student</th>\n",
              "    </tr>\n",
              "  </thead>\n",
              "  <tbody>\n",
              "    <tr>\n",
              "      <th>125</th>\n",
              "      <td>125.0</td>\n",
              "      <td>00000000-4fa6-9d00-1953-bb0532003d43</td>\n",
              "      <td>Stephen Troutman</td>\n",
              "      <td>alumni.usc.edu</td>\n",
              "      <td>0</td>\n",
              "      <td>0.0</td>\n",
              "      <td>Stephen</td>\n",
              "      <td>2931.0</td>\n",
              "      <td>858041.0</td>\n",
              "      <td>0.34</td>\n",
              "      <td>True</td>\n",
              "    </tr>\n",
              "    <tr>\n",
              "      <th>301</th>\n",
              "      <td>301.0</td>\n",
              "      <td>00000000-4faf-2e55-1953-bb67c900bb7a</td>\n",
              "      <td>Todd Nightingale</td>\n",
              "      <td>alum.mit.edu</td>\n",
              "      <td>0</td>\n",
              "      <td>0.0</td>\n",
              "      <td>Todd</td>\n",
              "      <td>1060.0</td>\n",
              "      <td>281548.0</td>\n",
              "      <td>0.38</td>\n",
              "      <td>True</td>\n",
              "    </tr>\n",
              "    <tr>\n",
              "      <th>348</th>\n",
              "      <td>348.0</td>\n",
              "      <td>00000000-4fb7-2f44-1953-bb483e0011b9</td>\n",
              "      <td>P Witt</td>\n",
              "      <td>gmail.edu</td>\n",
              "      <td>0</td>\n",
              "      <td>0.0</td>\n",
              "      <td>P</td>\n",
              "      <td>0.0</td>\n",
              "      <td>0.0</td>\n",
              "      <td>50.00</td>\n",
              "      <td>True</td>\n",
              "    </tr>\n",
              "  </tbody>\n",
              "</table>\n",
              "</div>\n",
              "      <button class=\"colab-df-convert\" onclick=\"convertToInteractive('df-de92826d-4898-45e0-bb96-c393b26beee2')\"\n",
              "              title=\"Convert this dataframe to an interactive table.\"\n",
              "              style=\"display:none;\">\n",
              "        \n",
              "  <svg xmlns=\"http://www.w3.org/2000/svg\" height=\"24px\"viewBox=\"0 0 24 24\"\n",
              "       width=\"24px\">\n",
              "    <path d=\"M0 0h24v24H0V0z\" fill=\"none\"/>\n",
              "    <path d=\"M18.56 5.44l.94 2.06.94-2.06 2.06-.94-2.06-.94-.94-2.06-.94 2.06-2.06.94zm-11 1L8.5 8.5l.94-2.06 2.06-.94-2.06-.94L8.5 2.5l-.94 2.06-2.06.94zm10 10l.94 2.06.94-2.06 2.06-.94-2.06-.94-.94-2.06-.94 2.06-2.06.94z\"/><path d=\"M17.41 7.96l-1.37-1.37c-.4-.4-.92-.59-1.43-.59-.52 0-1.04.2-1.43.59L10.3 9.45l-7.72 7.72c-.78.78-.78 2.05 0 2.83L4 21.41c.39.39.9.59 1.41.59.51 0 1.02-.2 1.41-.59l7.78-7.78 2.81-2.81c.8-.78.8-2.07 0-2.86zM5.41 20L4 18.59l7.72-7.72 1.47 1.35L5.41 20z\"/>\n",
              "  </svg>\n",
              "      </button>\n",
              "      \n",
              "  <style>\n",
              "    .colab-df-container {\n",
              "      display:flex;\n",
              "      flex-wrap:wrap;\n",
              "      gap: 12px;\n",
              "    }\n",
              "\n",
              "    .colab-df-convert {\n",
              "      background-color: #E8F0FE;\n",
              "      border: none;\n",
              "      border-radius: 50%;\n",
              "      cursor: pointer;\n",
              "      display: none;\n",
              "      fill: #1967D2;\n",
              "      height: 32px;\n",
              "      padding: 0 0 0 0;\n",
              "      width: 32px;\n",
              "    }\n",
              "\n",
              "    .colab-df-convert:hover {\n",
              "      background-color: #E2EBFA;\n",
              "      box-shadow: 0px 1px 2px rgba(60, 64, 67, 0.3), 0px 1px 3px 1px rgba(60, 64, 67, 0.15);\n",
              "      fill: #174EA6;\n",
              "    }\n",
              "\n",
              "    [theme=dark] .colab-df-convert {\n",
              "      background-color: #3B4455;\n",
              "      fill: #D2E3FC;\n",
              "    }\n",
              "\n",
              "    [theme=dark] .colab-df-convert:hover {\n",
              "      background-color: #434B5C;\n",
              "      box-shadow: 0px 1px 3px 1px rgba(0, 0, 0, 0.15);\n",
              "      filter: drop-shadow(0px 1px 2px rgba(0, 0, 0, 0.3));\n",
              "      fill: #FFFFFF;\n",
              "    }\n",
              "  </style>\n",
              "\n",
              "      <script>\n",
              "        const buttonEl =\n",
              "          document.querySelector('#df-de92826d-4898-45e0-bb96-c393b26beee2 button.colab-df-convert');\n",
              "        buttonEl.style.display =\n",
              "          google.colab.kernel.accessAllowed ? 'block' : 'none';\n",
              "\n",
              "        async function convertToInteractive(key) {\n",
              "          const element = document.querySelector('#df-de92826d-4898-45e0-bb96-c393b26beee2');\n",
              "          const dataTable =\n",
              "            await google.colab.kernel.invokeFunction('convertToInteractive',\n",
              "                                                     [key], {});\n",
              "          if (!dataTable) return;\n",
              "\n",
              "          const docLinkHtml = 'Like what you see? Visit the ' +\n",
              "            '<a target=\"_blank\" href=https://colab.research.google.com/notebooks/data_table.ipynb>data table notebook</a>'\n",
              "            + ' to learn more about interactive tables.';\n",
              "          element.innerHTML = '';\n",
              "          dataTable['output_type'] = 'display_data';\n",
              "          await google.colab.output.renderOutput(dataTable, element);\n",
              "          const docLink = document.createElement('div');\n",
              "          docLink.innerHTML = docLinkHtml;\n",
              "          element.appendChild(docLink);\n",
              "        }\n",
              "      </script>\n",
              "    </div>\n",
              "  </div>\n",
              "  "
            ]
          },
          "metadata": {},
          "execution_count": 25
        }
      ]
    },
    {
      "cell_type": "code",
      "source": [
        "round(len(users_gender[users_gender['is_student']])/len(users_gender)*100,2) #only 4.55% registered with .edu email domain"
      ],
      "metadata": {
        "colab": {
          "base_uri": "https://localhost:8080/"
        },
        "id": "nUWB8ALeUajt",
        "outputId": "c3e399ea-57c0-4058-99a8-564f89238164"
      },
      "execution_count": null,
      "outputs": [
        {
          "output_type": "execute_result",
          "data": {
            "text/plain": [
              "4.55"
            ]
          },
          "metadata": {},
          "execution_count": 26
        }
      ]
    },
    {
      "cell_type": "code",
      "source": [
        "#users_gender.to_csv('/content/drive/MyDrive/PhotoCircle/users.csv', index=False)"
      ],
      "metadata": {
        "id": "mdgjMxGTD-l9"
      },
      "execution_count": null,
      "outputs": []
    },
    {
      "cell_type": "markdown",
      "source": [
        "#**CIRCLES**"
      ],
      "metadata": {
        "id": "wpqq9-WVU2MM"
      }
    },
    {
      "cell_type": "code",
      "source": [
        "# read the CSV file into a pandas DataFrame\n",
        "circles = pd.read_csv('circles_V0.csv')"
      ],
      "metadata": {
        "colab": {
          "base_uri": "https://localhost:8080/"
        },
        "id": "2E04Ha0yPSVM",
        "outputId": "75d510b3-4c31-4298-a88a-e27a60790bfb"
      },
      "execution_count": null,
      "outputs": [
        {
          "output_type": "stream",
          "name": "stderr",
          "text": [
            "<ipython-input-27-9b0e6bee0945>:2: DtypeWarning: Columns (0) have mixed types. Specify dtype option on import or set low_memory=False.\n",
            "  circles = pd.read_csv('circles_V0.csv')\n"
          ]
        }
      ]
    },
    {
      "cell_type": "code",
      "source": [
        "circles.head()"
      ],
      "metadata": {
        "colab": {
          "base_uri": "https://localhost:8080/",
          "height": 204
        },
        "id": "Gu5nr3qhOYeT",
        "outputId": "b2f496b4-44b2-45b2-8748-c8217f598bdf"
      },
      "execution_count": null,
      "outputs": [
        {
          "output_type": "execute_result",
          "data": {
            "text/plain": [
              "  Unnamed: 0                           circle_uuid  \\\n",
              "0          0  000059e5-7610-d551-c06b-b55e6eb70002   \n",
              "1          1  00005e63-10d0-78bb-8941-89f368410002   \n",
              "2          2  00005bb8-c655-d551-c04b-87d151c20002   \n",
              "3          3  8cc2946a-ea65-4604-a4f1-f905126655df   \n",
              "4          4  4a3a2063-c1da-46df-b45f-32c23ad8d39f   \n",
              "\n",
              "                               title  media_count  \n",
              "0  SC State Fair 2017, 10-16-17 Mon.        566.0  \n",
              "1                                New         12.0  \n",
              "2                              TABA💜        557.0  \n",
              "3                              ELVIS        264.0  \n",
              "4          BRANDON BAILO SR#01703957         28.0  "
            ],
            "text/html": [
              "\n",
              "  <div id=\"df-385df459-c940-403d-bb9e-8dfca1ac3524\">\n",
              "    <div class=\"colab-df-container\">\n",
              "      <div>\n",
              "<style scoped>\n",
              "    .dataframe tbody tr th:only-of-type {\n",
              "        vertical-align: middle;\n",
              "    }\n",
              "\n",
              "    .dataframe tbody tr th {\n",
              "        vertical-align: top;\n",
              "    }\n",
              "\n",
              "    .dataframe thead th {\n",
              "        text-align: right;\n",
              "    }\n",
              "</style>\n",
              "<table border=\"1\" class=\"dataframe\">\n",
              "  <thead>\n",
              "    <tr style=\"text-align: right;\">\n",
              "      <th></th>\n",
              "      <th>Unnamed: 0</th>\n",
              "      <th>circle_uuid</th>\n",
              "      <th>title</th>\n",
              "      <th>media_count</th>\n",
              "    </tr>\n",
              "  </thead>\n",
              "  <tbody>\n",
              "    <tr>\n",
              "      <th>0</th>\n",
              "      <td>0</td>\n",
              "      <td>000059e5-7610-d551-c06b-b55e6eb70002</td>\n",
              "      <td>SC State Fair 2017, 10-16-17 Mon.</td>\n",
              "      <td>566.0</td>\n",
              "    </tr>\n",
              "    <tr>\n",
              "      <th>1</th>\n",
              "      <td>1</td>\n",
              "      <td>00005e63-10d0-78bb-8941-89f368410002</td>\n",
              "      <td>New</td>\n",
              "      <td>12.0</td>\n",
              "    </tr>\n",
              "    <tr>\n",
              "      <th>2</th>\n",
              "      <td>2</td>\n",
              "      <td>00005bb8-c655-d551-c04b-87d151c20002</td>\n",
              "      <td>TABA💜</td>\n",
              "      <td>557.0</td>\n",
              "    </tr>\n",
              "    <tr>\n",
              "      <th>3</th>\n",
              "      <td>3</td>\n",
              "      <td>8cc2946a-ea65-4604-a4f1-f905126655df</td>\n",
              "      <td>ELVIS</td>\n",
              "      <td>264.0</td>\n",
              "    </tr>\n",
              "    <tr>\n",
              "      <th>4</th>\n",
              "      <td>4</td>\n",
              "      <td>4a3a2063-c1da-46df-b45f-32c23ad8d39f</td>\n",
              "      <td>BRANDON BAILO SR#01703957</td>\n",
              "      <td>28.0</td>\n",
              "    </tr>\n",
              "  </tbody>\n",
              "</table>\n",
              "</div>\n",
              "      <button class=\"colab-df-convert\" onclick=\"convertToInteractive('df-385df459-c940-403d-bb9e-8dfca1ac3524')\"\n",
              "              title=\"Convert this dataframe to an interactive table.\"\n",
              "              style=\"display:none;\">\n",
              "        \n",
              "  <svg xmlns=\"http://www.w3.org/2000/svg\" height=\"24px\"viewBox=\"0 0 24 24\"\n",
              "       width=\"24px\">\n",
              "    <path d=\"M0 0h24v24H0V0z\" fill=\"none\"/>\n",
              "    <path d=\"M18.56 5.44l.94 2.06.94-2.06 2.06-.94-2.06-.94-.94-2.06-.94 2.06-2.06.94zm-11 1L8.5 8.5l.94-2.06 2.06-.94-2.06-.94L8.5 2.5l-.94 2.06-2.06.94zm10 10l.94 2.06.94-2.06 2.06-.94-2.06-.94-.94-2.06-.94 2.06-2.06.94z\"/><path d=\"M17.41 7.96l-1.37-1.37c-.4-.4-.92-.59-1.43-.59-.52 0-1.04.2-1.43.59L10.3 9.45l-7.72 7.72c-.78.78-.78 2.05 0 2.83L4 21.41c.39.39.9.59 1.41.59.51 0 1.02-.2 1.41-.59l7.78-7.78 2.81-2.81c.8-.78.8-2.07 0-2.86zM5.41 20L4 18.59l7.72-7.72 1.47 1.35L5.41 20z\"/>\n",
              "  </svg>\n",
              "      </button>\n",
              "      \n",
              "  <style>\n",
              "    .colab-df-container {\n",
              "      display:flex;\n",
              "      flex-wrap:wrap;\n",
              "      gap: 12px;\n",
              "    }\n",
              "\n",
              "    .colab-df-convert {\n",
              "      background-color: #E8F0FE;\n",
              "      border: none;\n",
              "      border-radius: 50%;\n",
              "      cursor: pointer;\n",
              "      display: none;\n",
              "      fill: #1967D2;\n",
              "      height: 32px;\n",
              "      padding: 0 0 0 0;\n",
              "      width: 32px;\n",
              "    }\n",
              "\n",
              "    .colab-df-convert:hover {\n",
              "      background-color: #E2EBFA;\n",
              "      box-shadow: 0px 1px 2px rgba(60, 64, 67, 0.3), 0px 1px 3px 1px rgba(60, 64, 67, 0.15);\n",
              "      fill: #174EA6;\n",
              "    }\n",
              "\n",
              "    [theme=dark] .colab-df-convert {\n",
              "      background-color: #3B4455;\n",
              "      fill: #D2E3FC;\n",
              "    }\n",
              "\n",
              "    [theme=dark] .colab-df-convert:hover {\n",
              "      background-color: #434B5C;\n",
              "      box-shadow: 0px 1px 3px 1px rgba(0, 0, 0, 0.15);\n",
              "      filter: drop-shadow(0px 1px 2px rgba(0, 0, 0, 0.3));\n",
              "      fill: #FFFFFF;\n",
              "    }\n",
              "  </style>\n",
              "\n",
              "      <script>\n",
              "        const buttonEl =\n",
              "          document.querySelector('#df-385df459-c940-403d-bb9e-8dfca1ac3524 button.colab-df-convert');\n",
              "        buttonEl.style.display =\n",
              "          google.colab.kernel.accessAllowed ? 'block' : 'none';\n",
              "\n",
              "        async function convertToInteractive(key) {\n",
              "          const element = document.querySelector('#df-385df459-c940-403d-bb9e-8dfca1ac3524');\n",
              "          const dataTable =\n",
              "            await google.colab.kernel.invokeFunction('convertToInteractive',\n",
              "                                                     [key], {});\n",
              "          if (!dataTable) return;\n",
              "\n",
              "          const docLinkHtml = 'Like what you see? Visit the ' +\n",
              "            '<a target=\"_blank\" href=https://colab.research.google.com/notebooks/data_table.ipynb>data table notebook</a>'\n",
              "            + ' to learn more about interactive tables.';\n",
              "          element.innerHTML = '';\n",
              "          dataTable['output_type'] = 'display_data';\n",
              "          await google.colab.output.renderOutput(dataTable, element);\n",
              "          const docLink = document.createElement('div');\n",
              "          docLink.innerHTML = docLinkHtml;\n",
              "          element.appendChild(docLink);\n",
              "        }\n",
              "      </script>\n",
              "    </div>\n",
              "  </div>\n",
              "  "
            ]
          },
          "metadata": {},
          "execution_count": 28
        }
      ]
    },
    {
      "cell_type": "markdown",
      "source": [
        "#**Exploring Emojis in Circle Titles**\n"
      ],
      "metadata": {
        "id": "MRJKZEFTFJgm"
      }
    },
    {
      "cell_type": "code",
      "source": [
        "# Define a regular expression pattern to match emojis\n",
        "# Define a regular expression pattern to match emojis\n",
        "emoji_pattern = re.compile(\"[\"\n",
        "        u\"\\U0001F600-\\U0001F64F\"  # emoticons\n",
        "        u\"\\U0001F300-\\U0001F5FF\"  # symbols & pictographs\n",
        "        u\"\\U0001F680-\\U0001F6FF\"  # transport & map symbols\n",
        "        u\"\\U0001F1E0-\\U0001F1FF\"  # flags (iOS)\n",
        "                           \"]+\", flags=re.UNICODE)"
      ],
      "metadata": {
        "id": "WnvmOjzEocRF"
      },
      "execution_count": null,
      "outputs": []
    },
    {
      "cell_type": "code",
      "source": [
        "circles['title'] = circles['title'].astype(str)"
      ],
      "metadata": {
        "id": "VK91sMK2KCC1"
      },
      "execution_count": null,
      "outputs": []
    },
    {
      "cell_type": "code",
      "source": [
        "# Filter the DataFrame to only include rows with emojis in the 'title' column\n",
        "emojis_present = circles[circles['title'].apply(lambda x: bool(emoji_pattern.search(x)))]"
      ],
      "metadata": {
        "id": "HN7hrAEuoEBU"
      },
      "execution_count": null,
      "outputs": []
    },
    {
      "cell_type": "code",
      "source": [
        "len(emojis_present)"
      ],
      "metadata": {
        "colab": {
          "base_uri": "https://localhost:8080/"
        },
        "id": "28In3M-OaWeh",
        "outputId": "834080d0-3276-4388-8f30-5462147b560a"
      },
      "execution_count": null,
      "outputs": [
        {
          "output_type": "execute_result",
          "data": {
            "text/plain": [
              "65508"
            ]
          },
          "metadata": {},
          "execution_count": 32
        }
      ]
    },
    {
      "cell_type": "code",
      "source": [
        "emojis_present.head()"
      ],
      "metadata": {
        "colab": {
          "base_uri": "https://localhost:8080/",
          "height": 204
        },
        "id": "iqxbbjtNYIXv",
        "outputId": "bf6eff32-3ee2-477e-c104-e1e6ea99a316"
      },
      "execution_count": null,
      "outputs": [
        {
          "output_type": "execute_result",
          "data": {
            "text/plain": [
              "   Unnamed: 0                           circle_uuid  \\\n",
              "2           2  00005bb8-c655-d551-c04b-87d151c20002   \n",
              "16         16  6cefdd89-3704-414e-8ad0-1977e0dbe6d7   \n",
              "47         47  22ff3722-7d7d-4124-b058-2607f67e68e7   \n",
              "50         50  723a1f3b-7ccb-413c-b0f9-85a5a2524e21   \n",
              "57         57  000053b1-92fd-3dab-0506-e1dbb0400002   \n",
              "\n",
              "                           title  media_count  \n",
              "2                          TABA💜        557.0  \n",
              "16  It's FALL 🎃🎃 Picture Time 🎃🎃        138.0  \n",
              "47            Belgium 🇧🇪 MAY '21         45.0  \n",
              "50                     DELIGHT🫶🏼        358.0  \n",
              "57                   Beachin ☀️🌊         56.0  "
            ],
            "text/html": [
              "\n",
              "  <div id=\"df-0ed4004d-9241-4193-a56e-e7ba98d1b4dc\">\n",
              "    <div class=\"colab-df-container\">\n",
              "      <div>\n",
              "<style scoped>\n",
              "    .dataframe tbody tr th:only-of-type {\n",
              "        vertical-align: middle;\n",
              "    }\n",
              "\n",
              "    .dataframe tbody tr th {\n",
              "        vertical-align: top;\n",
              "    }\n",
              "\n",
              "    .dataframe thead th {\n",
              "        text-align: right;\n",
              "    }\n",
              "</style>\n",
              "<table border=\"1\" class=\"dataframe\">\n",
              "  <thead>\n",
              "    <tr style=\"text-align: right;\">\n",
              "      <th></th>\n",
              "      <th>Unnamed: 0</th>\n",
              "      <th>circle_uuid</th>\n",
              "      <th>title</th>\n",
              "      <th>media_count</th>\n",
              "    </tr>\n",
              "  </thead>\n",
              "  <tbody>\n",
              "    <tr>\n",
              "      <th>2</th>\n",
              "      <td>2</td>\n",
              "      <td>00005bb8-c655-d551-c04b-87d151c20002</td>\n",
              "      <td>TABA💜</td>\n",
              "      <td>557.0</td>\n",
              "    </tr>\n",
              "    <tr>\n",
              "      <th>16</th>\n",
              "      <td>16</td>\n",
              "      <td>6cefdd89-3704-414e-8ad0-1977e0dbe6d7</td>\n",
              "      <td>It's FALL 🎃🎃 Picture Time 🎃🎃</td>\n",
              "      <td>138.0</td>\n",
              "    </tr>\n",
              "    <tr>\n",
              "      <th>47</th>\n",
              "      <td>47</td>\n",
              "      <td>22ff3722-7d7d-4124-b058-2607f67e68e7</td>\n",
              "      <td>Belgium 🇧🇪 MAY '21</td>\n",
              "      <td>45.0</td>\n",
              "    </tr>\n",
              "    <tr>\n",
              "      <th>50</th>\n",
              "      <td>50</td>\n",
              "      <td>723a1f3b-7ccb-413c-b0f9-85a5a2524e21</td>\n",
              "      <td>DELIGHT🫶🏼</td>\n",
              "      <td>358.0</td>\n",
              "    </tr>\n",
              "    <tr>\n",
              "      <th>57</th>\n",
              "      <td>57</td>\n",
              "      <td>000053b1-92fd-3dab-0506-e1dbb0400002</td>\n",
              "      <td>Beachin ☀️🌊</td>\n",
              "      <td>56.0</td>\n",
              "    </tr>\n",
              "  </tbody>\n",
              "</table>\n",
              "</div>\n",
              "      <button class=\"colab-df-convert\" onclick=\"convertToInteractive('df-0ed4004d-9241-4193-a56e-e7ba98d1b4dc')\"\n",
              "              title=\"Convert this dataframe to an interactive table.\"\n",
              "              style=\"display:none;\">\n",
              "        \n",
              "  <svg xmlns=\"http://www.w3.org/2000/svg\" height=\"24px\"viewBox=\"0 0 24 24\"\n",
              "       width=\"24px\">\n",
              "    <path d=\"M0 0h24v24H0V0z\" fill=\"none\"/>\n",
              "    <path d=\"M18.56 5.44l.94 2.06.94-2.06 2.06-.94-2.06-.94-.94-2.06-.94 2.06-2.06.94zm-11 1L8.5 8.5l.94-2.06 2.06-.94-2.06-.94L8.5 2.5l-.94 2.06-2.06.94zm10 10l.94 2.06.94-2.06 2.06-.94-2.06-.94-.94-2.06-.94 2.06-2.06.94z\"/><path d=\"M17.41 7.96l-1.37-1.37c-.4-.4-.92-.59-1.43-.59-.52 0-1.04.2-1.43.59L10.3 9.45l-7.72 7.72c-.78.78-.78 2.05 0 2.83L4 21.41c.39.39.9.59 1.41.59.51 0 1.02-.2 1.41-.59l7.78-7.78 2.81-2.81c.8-.78.8-2.07 0-2.86zM5.41 20L4 18.59l7.72-7.72 1.47 1.35L5.41 20z\"/>\n",
              "  </svg>\n",
              "      </button>\n",
              "      \n",
              "  <style>\n",
              "    .colab-df-container {\n",
              "      display:flex;\n",
              "      flex-wrap:wrap;\n",
              "      gap: 12px;\n",
              "    }\n",
              "\n",
              "    .colab-df-convert {\n",
              "      background-color: #E8F0FE;\n",
              "      border: none;\n",
              "      border-radius: 50%;\n",
              "      cursor: pointer;\n",
              "      display: none;\n",
              "      fill: #1967D2;\n",
              "      height: 32px;\n",
              "      padding: 0 0 0 0;\n",
              "      width: 32px;\n",
              "    }\n",
              "\n",
              "    .colab-df-convert:hover {\n",
              "      background-color: #E2EBFA;\n",
              "      box-shadow: 0px 1px 2px rgba(60, 64, 67, 0.3), 0px 1px 3px 1px rgba(60, 64, 67, 0.15);\n",
              "      fill: #174EA6;\n",
              "    }\n",
              "\n",
              "    [theme=dark] .colab-df-convert {\n",
              "      background-color: #3B4455;\n",
              "      fill: #D2E3FC;\n",
              "    }\n",
              "\n",
              "    [theme=dark] .colab-df-convert:hover {\n",
              "      background-color: #434B5C;\n",
              "      box-shadow: 0px 1px 3px 1px rgba(0, 0, 0, 0.15);\n",
              "      filter: drop-shadow(0px 1px 2px rgba(0, 0, 0, 0.3));\n",
              "      fill: #FFFFFF;\n",
              "    }\n",
              "  </style>\n",
              "\n",
              "      <script>\n",
              "        const buttonEl =\n",
              "          document.querySelector('#df-0ed4004d-9241-4193-a56e-e7ba98d1b4dc button.colab-df-convert');\n",
              "        buttonEl.style.display =\n",
              "          google.colab.kernel.accessAllowed ? 'block' : 'none';\n",
              "\n",
              "        async function convertToInteractive(key) {\n",
              "          const element = document.querySelector('#df-0ed4004d-9241-4193-a56e-e7ba98d1b4dc');\n",
              "          const dataTable =\n",
              "            await google.colab.kernel.invokeFunction('convertToInteractive',\n",
              "                                                     [key], {});\n",
              "          if (!dataTable) return;\n",
              "\n",
              "          const docLinkHtml = 'Like what you see? Visit the ' +\n",
              "            '<a target=\"_blank\" href=https://colab.research.google.com/notebooks/data_table.ipynb>data table notebook</a>'\n",
              "            + ' to learn more about interactive tables.';\n",
              "          element.innerHTML = '';\n",
              "          dataTable['output_type'] = 'display_data';\n",
              "          await google.colab.output.renderOutput(dataTable, element);\n",
              "          const docLink = document.createElement('div');\n",
              "          docLink.innerHTML = docLinkHtml;\n",
              "          element.appendChild(docLink);\n",
              "        }\n",
              "      </script>\n",
              "    </div>\n",
              "  </div>\n",
              "  "
            ]
          },
          "metadata": {},
          "execution_count": 33
        }
      ]
    },
    {
      "cell_type": "code",
      "source": [
        "def extract_emojis(text):\n",
        "    return ''.join(c for c in text if c in emoji.UNICODE_EMOJI)"
      ],
      "metadata": {
        "id": "72xAu_HvW6aH"
      },
      "execution_count": null,
      "outputs": []
    },
    {
      "cell_type": "code",
      "source": [
        "# Apply the 'extract_emojis' function to the 'title' column and save the results to a new column\n",
        "emojis_present['emojis'] = emojis_present['title'].apply(extract_emojis)"
      ],
      "metadata": {
        "id": "KEbRjh5Y7kbR"
      },
      "execution_count": null,
      "outputs": []
    },
    {
      "cell_type": "code",
      "source": [
        "emojis_present.head()"
      ],
      "metadata": {
        "colab": {
          "base_uri": "https://localhost:8080/",
          "height": 248
        },
        "id": "BincK0h78NPt",
        "outputId": "9c8e8ea8-85fe-446c-fb4d-fefedc6b39a9"
      },
      "execution_count": null,
      "outputs": [
        {
          "output_type": "execute_result",
          "data": {
            "text/plain": [
              "                             circle_uuid                title media_count  \\\n",
              "6   000057af-b679-d551-c018-b1832b9b0002         Avery Grace🎀       38685   \n",
              "47  00005b53-edbf-d551-c02c-59e3229b0002       Grandbabies! 💜       25235   \n",
              "55  26345fe7-3120-4418-8725-5dc77c38481f     AOII Photo Dump📸       24504   \n",
              "64  0000552d-c439-3901-6837-3bb8d0d70002  Jane & Kathleen 🌼🌷🌻       23308   \n",
              "73  00005666-76c3-8cff-9671-cea13c410002       Cooper 💚 Mason       22209   \n",
              "\n",
              "   has_greek_words destination_names emojis  \n",
              "6            False       Avery Grace      🎀  \n",
              "47           False       Grandbabies      💜  \n",
              "55           False        Photo Dump      📸  \n",
              "64           False              Jane    🌼🌷🌻  \n",
              "73           False            Cooper      💚  "
            ],
            "text/html": [
              "\n",
              "  <div id=\"df-3bcbc9af-7f2c-40e0-96b8-2815aac8f438\">\n",
              "    <div class=\"colab-df-container\">\n",
              "      <div>\n",
              "<style scoped>\n",
              "    .dataframe tbody tr th:only-of-type {\n",
              "        vertical-align: middle;\n",
              "    }\n",
              "\n",
              "    .dataframe tbody tr th {\n",
              "        vertical-align: top;\n",
              "    }\n",
              "\n",
              "    .dataframe thead th {\n",
              "        text-align: right;\n",
              "    }\n",
              "</style>\n",
              "<table border=\"1\" class=\"dataframe\">\n",
              "  <thead>\n",
              "    <tr style=\"text-align: right;\">\n",
              "      <th></th>\n",
              "      <th>circle_uuid</th>\n",
              "      <th>title</th>\n",
              "      <th>media_count</th>\n",
              "      <th>has_greek_words</th>\n",
              "      <th>destination_names</th>\n",
              "      <th>emojis</th>\n",
              "    </tr>\n",
              "  </thead>\n",
              "  <tbody>\n",
              "    <tr>\n",
              "      <th>6</th>\n",
              "      <td>000057af-b679-d551-c018-b1832b9b0002</td>\n",
              "      <td>Avery Grace🎀</td>\n",
              "      <td>38685</td>\n",
              "      <td>False</td>\n",
              "      <td>Avery Grace</td>\n",
              "      <td>🎀</td>\n",
              "    </tr>\n",
              "    <tr>\n",
              "      <th>47</th>\n",
              "      <td>00005b53-edbf-d551-c02c-59e3229b0002</td>\n",
              "      <td>Grandbabies! 💜</td>\n",
              "      <td>25235</td>\n",
              "      <td>False</td>\n",
              "      <td>Grandbabies</td>\n",
              "      <td>💜</td>\n",
              "    </tr>\n",
              "    <tr>\n",
              "      <th>55</th>\n",
              "      <td>26345fe7-3120-4418-8725-5dc77c38481f</td>\n",
              "      <td>AOII Photo Dump📸</td>\n",
              "      <td>24504</td>\n",
              "      <td>False</td>\n",
              "      <td>Photo Dump</td>\n",
              "      <td>📸</td>\n",
              "    </tr>\n",
              "    <tr>\n",
              "      <th>64</th>\n",
              "      <td>0000552d-c439-3901-6837-3bb8d0d70002</td>\n",
              "      <td>Jane &amp; Kathleen 🌼🌷🌻</td>\n",
              "      <td>23308</td>\n",
              "      <td>False</td>\n",
              "      <td>Jane</td>\n",
              "      <td>🌼🌷🌻</td>\n",
              "    </tr>\n",
              "    <tr>\n",
              "      <th>73</th>\n",
              "      <td>00005666-76c3-8cff-9671-cea13c410002</td>\n",
              "      <td>Cooper 💚 Mason</td>\n",
              "      <td>22209</td>\n",
              "      <td>False</td>\n",
              "      <td>Cooper</td>\n",
              "      <td>💚</td>\n",
              "    </tr>\n",
              "  </tbody>\n",
              "</table>\n",
              "</div>\n",
              "      <button class=\"colab-df-convert\" onclick=\"convertToInteractive('df-3bcbc9af-7f2c-40e0-96b8-2815aac8f438')\"\n",
              "              title=\"Convert this dataframe to an interactive table.\"\n",
              "              style=\"display:none;\">\n",
              "        \n",
              "  <svg xmlns=\"http://www.w3.org/2000/svg\" height=\"24px\"viewBox=\"0 0 24 24\"\n",
              "       width=\"24px\">\n",
              "    <path d=\"M0 0h24v24H0V0z\" fill=\"none\"/>\n",
              "    <path d=\"M18.56 5.44l.94 2.06.94-2.06 2.06-.94-2.06-.94-.94-2.06-.94 2.06-2.06.94zm-11 1L8.5 8.5l.94-2.06 2.06-.94-2.06-.94L8.5 2.5l-.94 2.06-2.06.94zm10 10l.94 2.06.94-2.06 2.06-.94-2.06-.94-.94-2.06-.94 2.06-2.06.94z\"/><path d=\"M17.41 7.96l-1.37-1.37c-.4-.4-.92-.59-1.43-.59-.52 0-1.04.2-1.43.59L10.3 9.45l-7.72 7.72c-.78.78-.78 2.05 0 2.83L4 21.41c.39.39.9.59 1.41.59.51 0 1.02-.2 1.41-.59l7.78-7.78 2.81-2.81c.8-.78.8-2.07 0-2.86zM5.41 20L4 18.59l7.72-7.72 1.47 1.35L5.41 20z\"/>\n",
              "  </svg>\n",
              "      </button>\n",
              "      \n",
              "  <style>\n",
              "    .colab-df-container {\n",
              "      display:flex;\n",
              "      flex-wrap:wrap;\n",
              "      gap: 12px;\n",
              "    }\n",
              "\n",
              "    .colab-df-convert {\n",
              "      background-color: #E8F0FE;\n",
              "      border: none;\n",
              "      border-radius: 50%;\n",
              "      cursor: pointer;\n",
              "      display: none;\n",
              "      fill: #1967D2;\n",
              "      height: 32px;\n",
              "      padding: 0 0 0 0;\n",
              "      width: 32px;\n",
              "    }\n",
              "\n",
              "    .colab-df-convert:hover {\n",
              "      background-color: #E2EBFA;\n",
              "      box-shadow: 0px 1px 2px rgba(60, 64, 67, 0.3), 0px 1px 3px 1px rgba(60, 64, 67, 0.15);\n",
              "      fill: #174EA6;\n",
              "    }\n",
              "\n",
              "    [theme=dark] .colab-df-convert {\n",
              "      background-color: #3B4455;\n",
              "      fill: #D2E3FC;\n",
              "    }\n",
              "\n",
              "    [theme=dark] .colab-df-convert:hover {\n",
              "      background-color: #434B5C;\n",
              "      box-shadow: 0px 1px 3px 1px rgba(0, 0, 0, 0.15);\n",
              "      filter: drop-shadow(0px 1px 2px rgba(0, 0, 0, 0.3));\n",
              "      fill: #FFFFFF;\n",
              "    }\n",
              "  </style>\n",
              "\n",
              "      <script>\n",
              "        const buttonEl =\n",
              "          document.querySelector('#df-3bcbc9af-7f2c-40e0-96b8-2815aac8f438 button.colab-df-convert');\n",
              "        buttonEl.style.display =\n",
              "          google.colab.kernel.accessAllowed ? 'block' : 'none';\n",
              "\n",
              "        async function convertToInteractive(key) {\n",
              "          const element = document.querySelector('#df-3bcbc9af-7f2c-40e0-96b8-2815aac8f438');\n",
              "          const dataTable =\n",
              "            await google.colab.kernel.invokeFunction('convertToInteractive',\n",
              "                                                     [key], {});\n",
              "          if (!dataTable) return;\n",
              "\n",
              "          const docLinkHtml = 'Like what you see? Visit the ' +\n",
              "            '<a target=\"_blank\" href=https://colab.research.google.com/notebooks/data_table.ipynb>data table notebook</a>'\n",
              "            + ' to learn more about interactive tables.';\n",
              "          element.innerHTML = '';\n",
              "          dataTable['output_type'] = 'display_data';\n",
              "          await google.colab.output.renderOutput(dataTable, element);\n",
              "          const docLink = document.createElement('div');\n",
              "          docLink.innerHTML = docLinkHtml;\n",
              "          element.appendChild(docLink);\n",
              "        }\n",
              "      </script>\n",
              "    </div>\n",
              "  </div>\n",
              "  "
            ]
          },
          "metadata": {},
          "execution_count": 77
        }
      ]
    },
    {
      "cell_type": "markdown",
      "source": [
        "#**Add Greek Tags**"
      ],
      "metadata": {
        "id": "EkV8_n6lNfL2"
      }
    },
    {
      "cell_type": "code",
      "source": [
        "greek_words = {'alpha', 'beta', 'gamma', 'delta', 'epsilon', 'zeta', 'eta', 'theta', 'iota', 'kappa', \n",
        "               'lambda', 'mu', 'nu', 'xi', 'omicron', 'pi', 'rho', 'sigma', 'tau', 'upsilon', 'phi', \n",
        "               'chi', 'psi', 'omega'}\n",
        "\n",
        "# Split the 'title' column into words and convert them to lowercase\n",
        "words = circles['title'].str.lower().str.split()\n",
        "\n",
        "# Check if any of the words are in the set of Greek words\n",
        "mask = words.apply(lambda x: bool(set(x) & greek_words))\n",
        "\n",
        "# Create a new column to indicate whether any Greek words were found\n",
        "circles['has_greek_words'] = mask"
      ],
      "metadata": {
        "id": "K3xzc8RxNktY"
      },
      "execution_count": null,
      "outputs": []
    },
    {
      "cell_type": "code",
      "source": [
        "circles[circles['has_greek_words']].sort_values('media_count', ascending = False).head(10)"
      ],
      "metadata": {
        "colab": {
          "base_uri": "https://localhost:8080/",
          "height": 359
        },
        "id": "ITkFRg2dNw-Y",
        "outputId": "952b4e94-3702-4afb-9072-1ac14dfa2882"
      },
      "execution_count": null,
      "outputs": [
        {
          "output_type": "execute_result",
          "data": {
            "text/plain": [
              "        Unnamed: 0                           circle_uuid  \\\n",
              "1696372    1696370  00005c29-28fb-d551-c026-3dab0de00002   \n",
              "1615972    1615970  00005c14-2c98-d551-c026-3d86f0c70002   \n",
              "1019895    1019893  00005c01-58f2-d551-c026-3d90a87a0002   \n",
              "769089      769087  00005c60-c177-d551-c02a-05ec4cee0002   \n",
              "3803          3803  00005b4e-5251-d551-c060-c46821020002   \n",
              "792349      792347  00005de8-961b-f8d1-c13a-31fbf07e0002   \n",
              "828195      828193  00005c38-e12b-d551-c026-3d6e67ca0002   \n",
              "1514588    1514586  00005a75-eba2-d551-c00b-26e7604c0002   \n",
              "1141654    1141652  00005af2-65c8-d551-c065-bd38cbad0002   \n",
              "144634      144634  00005c3b-dcf4-d551-c026-3d9a266b0002   \n",
              "\n",
              "                         title  media_count  has_greek_words  \n",
              "1696372              TRI DELTA      40821.0             True  \n",
              "1615972              CHI OMEGA      35904.0             True  \n",
              "1019895       ZTA Nu 2018-2019      33652.0             True  \n",
              "769089             Delta Sigma      32716.0             True  \n",
              "3803                Alpha Phi       32709.0             True  \n",
              "792349          Asu Chi Omega       31261.0             True  \n",
              "828195               Alpha Gam      30146.0             True  \n",
              "1514588  Alpha Phi Eta Lambda       29224.0             True  \n",
              "1141654            KAPPA DELTA      29210.0             True  \n",
              "144634          Sigma Kappa PR      29113.0             True  "
            ],
            "text/html": [
              "\n",
              "  <div id=\"df-d41abd11-ac1d-45be-96a3-c1f8daec5edc\">\n",
              "    <div class=\"colab-df-container\">\n",
              "      <div>\n",
              "<style scoped>\n",
              "    .dataframe tbody tr th:only-of-type {\n",
              "        vertical-align: middle;\n",
              "    }\n",
              "\n",
              "    .dataframe tbody tr th {\n",
              "        vertical-align: top;\n",
              "    }\n",
              "\n",
              "    .dataframe thead th {\n",
              "        text-align: right;\n",
              "    }\n",
              "</style>\n",
              "<table border=\"1\" class=\"dataframe\">\n",
              "  <thead>\n",
              "    <tr style=\"text-align: right;\">\n",
              "      <th></th>\n",
              "      <th>Unnamed: 0</th>\n",
              "      <th>circle_uuid</th>\n",
              "      <th>title</th>\n",
              "      <th>media_count</th>\n",
              "      <th>has_greek_words</th>\n",
              "    </tr>\n",
              "  </thead>\n",
              "  <tbody>\n",
              "    <tr>\n",
              "      <th>1696372</th>\n",
              "      <td>1696370</td>\n",
              "      <td>00005c29-28fb-d551-c026-3dab0de00002</td>\n",
              "      <td>TRI DELTA</td>\n",
              "      <td>40821.0</td>\n",
              "      <td>True</td>\n",
              "    </tr>\n",
              "    <tr>\n",
              "      <th>1615972</th>\n",
              "      <td>1615970</td>\n",
              "      <td>00005c14-2c98-d551-c026-3d86f0c70002</td>\n",
              "      <td>CHI OMEGA</td>\n",
              "      <td>35904.0</td>\n",
              "      <td>True</td>\n",
              "    </tr>\n",
              "    <tr>\n",
              "      <th>1019895</th>\n",
              "      <td>1019893</td>\n",
              "      <td>00005c01-58f2-d551-c026-3d90a87a0002</td>\n",
              "      <td>ZTA Nu 2018-2019</td>\n",
              "      <td>33652.0</td>\n",
              "      <td>True</td>\n",
              "    </tr>\n",
              "    <tr>\n",
              "      <th>769089</th>\n",
              "      <td>769087</td>\n",
              "      <td>00005c60-c177-d551-c02a-05ec4cee0002</td>\n",
              "      <td>Delta Sigma</td>\n",
              "      <td>32716.0</td>\n",
              "      <td>True</td>\n",
              "    </tr>\n",
              "    <tr>\n",
              "      <th>3803</th>\n",
              "      <td>3803</td>\n",
              "      <td>00005b4e-5251-d551-c060-c46821020002</td>\n",
              "      <td>Alpha Phi</td>\n",
              "      <td>32709.0</td>\n",
              "      <td>True</td>\n",
              "    </tr>\n",
              "    <tr>\n",
              "      <th>792349</th>\n",
              "      <td>792347</td>\n",
              "      <td>00005de8-961b-f8d1-c13a-31fbf07e0002</td>\n",
              "      <td>Asu Chi Omega</td>\n",
              "      <td>31261.0</td>\n",
              "      <td>True</td>\n",
              "    </tr>\n",
              "    <tr>\n",
              "      <th>828195</th>\n",
              "      <td>828193</td>\n",
              "      <td>00005c38-e12b-d551-c026-3d6e67ca0002</td>\n",
              "      <td>Alpha Gam</td>\n",
              "      <td>30146.0</td>\n",
              "      <td>True</td>\n",
              "    </tr>\n",
              "    <tr>\n",
              "      <th>1514588</th>\n",
              "      <td>1514586</td>\n",
              "      <td>00005a75-eba2-d551-c00b-26e7604c0002</td>\n",
              "      <td>Alpha Phi Eta Lambda</td>\n",
              "      <td>29224.0</td>\n",
              "      <td>True</td>\n",
              "    </tr>\n",
              "    <tr>\n",
              "      <th>1141654</th>\n",
              "      <td>1141652</td>\n",
              "      <td>00005af2-65c8-d551-c065-bd38cbad0002</td>\n",
              "      <td>KAPPA DELTA</td>\n",
              "      <td>29210.0</td>\n",
              "      <td>True</td>\n",
              "    </tr>\n",
              "    <tr>\n",
              "      <th>144634</th>\n",
              "      <td>144634</td>\n",
              "      <td>00005c3b-dcf4-d551-c026-3d9a266b0002</td>\n",
              "      <td>Sigma Kappa PR</td>\n",
              "      <td>29113.0</td>\n",
              "      <td>True</td>\n",
              "    </tr>\n",
              "  </tbody>\n",
              "</table>\n",
              "</div>\n",
              "      <button class=\"colab-df-convert\" onclick=\"convertToInteractive('df-d41abd11-ac1d-45be-96a3-c1f8daec5edc')\"\n",
              "              title=\"Convert this dataframe to an interactive table.\"\n",
              "              style=\"display:none;\">\n",
              "        \n",
              "  <svg xmlns=\"http://www.w3.org/2000/svg\" height=\"24px\"viewBox=\"0 0 24 24\"\n",
              "       width=\"24px\">\n",
              "    <path d=\"M0 0h24v24H0V0z\" fill=\"none\"/>\n",
              "    <path d=\"M18.56 5.44l.94 2.06.94-2.06 2.06-.94-2.06-.94-.94-2.06-.94 2.06-2.06.94zm-11 1L8.5 8.5l.94-2.06 2.06-.94-2.06-.94L8.5 2.5l-.94 2.06-2.06.94zm10 10l.94 2.06.94-2.06 2.06-.94-2.06-.94-.94-2.06-.94 2.06-2.06.94z\"/><path d=\"M17.41 7.96l-1.37-1.37c-.4-.4-.92-.59-1.43-.59-.52 0-1.04.2-1.43.59L10.3 9.45l-7.72 7.72c-.78.78-.78 2.05 0 2.83L4 21.41c.39.39.9.59 1.41.59.51 0 1.02-.2 1.41-.59l7.78-7.78 2.81-2.81c.8-.78.8-2.07 0-2.86zM5.41 20L4 18.59l7.72-7.72 1.47 1.35L5.41 20z\"/>\n",
              "  </svg>\n",
              "      </button>\n",
              "      \n",
              "  <style>\n",
              "    .colab-df-container {\n",
              "      display:flex;\n",
              "      flex-wrap:wrap;\n",
              "      gap: 12px;\n",
              "    }\n",
              "\n",
              "    .colab-df-convert {\n",
              "      background-color: #E8F0FE;\n",
              "      border: none;\n",
              "      border-radius: 50%;\n",
              "      cursor: pointer;\n",
              "      display: none;\n",
              "      fill: #1967D2;\n",
              "      height: 32px;\n",
              "      padding: 0 0 0 0;\n",
              "      width: 32px;\n",
              "    }\n",
              "\n",
              "    .colab-df-convert:hover {\n",
              "      background-color: #E2EBFA;\n",
              "      box-shadow: 0px 1px 2px rgba(60, 64, 67, 0.3), 0px 1px 3px 1px rgba(60, 64, 67, 0.15);\n",
              "      fill: #174EA6;\n",
              "    }\n",
              "\n",
              "    [theme=dark] .colab-df-convert {\n",
              "      background-color: #3B4455;\n",
              "      fill: #D2E3FC;\n",
              "    }\n",
              "\n",
              "    [theme=dark] .colab-df-convert:hover {\n",
              "      background-color: #434B5C;\n",
              "      box-shadow: 0px 1px 3px 1px rgba(0, 0, 0, 0.15);\n",
              "      filter: drop-shadow(0px 1px 2px rgba(0, 0, 0, 0.3));\n",
              "      fill: #FFFFFF;\n",
              "    }\n",
              "  </style>\n",
              "\n",
              "      <script>\n",
              "        const buttonEl =\n",
              "          document.querySelector('#df-d41abd11-ac1d-45be-96a3-c1f8daec5edc button.colab-df-convert');\n",
              "        buttonEl.style.display =\n",
              "          google.colab.kernel.accessAllowed ? 'block' : 'none';\n",
              "\n",
              "        async function convertToInteractive(key) {\n",
              "          const element = document.querySelector('#df-d41abd11-ac1d-45be-96a3-c1f8daec5edc');\n",
              "          const dataTable =\n",
              "            await google.colab.kernel.invokeFunction('convertToInteractive',\n",
              "                                                     [key], {});\n",
              "          if (!dataTable) return;\n",
              "\n",
              "          const docLinkHtml = 'Like what you see? Visit the ' +\n",
              "            '<a target=\"_blank\" href=https://colab.research.google.com/notebooks/data_table.ipynb>data table notebook</a>'\n",
              "            + ' to learn more about interactive tables.';\n",
              "          element.innerHTML = '';\n",
              "          dataTable['output_type'] = 'display_data';\n",
              "          await google.colab.output.renderOutput(dataTable, element);\n",
              "          const docLink = document.createElement('div');\n",
              "          docLink.innerHTML = docLinkHtml;\n",
              "          element.appendChild(docLink);\n",
              "        }\n",
              "      </script>\n",
              "    </div>\n",
              "  </div>\n",
              "  "
            ]
          },
          "metadata": {},
          "execution_count": 39
        }
      ]
    },
    {
      "cell_type": "code",
      "source": [
        "len(circles[circles['has_greek_words']]['circle_uuid'].unique())"
      ],
      "metadata": {
        "colab": {
          "base_uri": "https://localhost:8080/"
        },
        "id": "4tZKwnmKNxIH",
        "outputId": "a76199e5-e5d3-4142-d6b1-71ad437cb96f"
      },
      "execution_count": null,
      "outputs": [
        {
          "output_type": "execute_result",
          "data": {
            "text/plain": [
              "9439"
            ]
          },
          "metadata": {},
          "execution_count": 40
        }
      ]
    },
    {
      "cell_type": "code",
      "source": [
        "round(len(circles[circles['has_greek_words']])/len(circles)*100,2)   #Only 0.50% of the total circles have greek words"
      ],
      "metadata": {
        "colab": {
          "base_uri": "https://localhost:8080/"
        },
        "id": "pm4SH49xNyNe",
        "outputId": "c53cbb75-e636-4a0b-ff1e-3c241fe7f921"
      },
      "execution_count": null,
      "outputs": [
        {
          "output_type": "execute_result",
          "data": {
            "text/plain": [
              "0.51"
            ]
          },
          "metadata": {},
          "execution_count": 41
        }
      ]
    },
    {
      "cell_type": "code",
      "source": [
        "round(circles[circles['has_greek_words']]['media_count'].sum()/circles['media_count'].sum()*100,2) #Total Greek circles media contributions as % total"
      ],
      "metadata": {
        "colab": {
          "base_uri": "https://localhost:8080/"
        },
        "id": "i5BpTBlsNkwX",
        "outputId": "51803be6-c842-42bc-f727-33bc6012cbf8"
      },
      "execution_count": null,
      "outputs": [
        {
          "output_type": "execute_result",
          "data": {
            "text/plain": [
              "3.58"
            ]
          },
          "metadata": {},
          "execution_count": 42
        }
      ]
    },
    {
      "cell_type": "code",
      "source": [
        "circles[circles['has_greek_words']]['media_count'].sum() #Total Greek circles media contributions"
      ],
      "metadata": {
        "colab": {
          "base_uri": "https://localhost:8080/"
        },
        "id": "QfokyD_dNk8p",
        "outputId": "0154d92e-848a-4c64-fbdc-79660eac789b"
      },
      "execution_count": null,
      "outputs": [
        {
          "output_type": "execute_result",
          "data": {
            "text/plain": [
              "12240969.0"
            ]
          },
          "metadata": {},
          "execution_count": 43
        }
      ]
    },
    {
      "cell_type": "code",
      "source": [
        "circles['media_count'].sum() #Total circles media contributions"
      ],
      "metadata": {
        "colab": {
          "base_uri": "https://localhost:8080/"
        },
        "id": "oOPmvFGBPxth",
        "outputId": "c2a64f62-5e2b-4776-efb4-b26149d498ff"
      },
      "execution_count": null,
      "outputs": [
        {
          "output_type": "execute_result",
          "data": {
            "text/plain": [
              "341813160.0"
            ]
          },
          "metadata": {},
          "execution_count": 44
        }
      ]
    },
    {
      "cell_type": "code",
      "source": [
        "round(circles[circles['has_greek_words']]['media_count'].sum()/circles['media_count'].sum()*100,2)"
      ],
      "metadata": {
        "colab": {
          "base_uri": "https://localhost:8080/"
        },
        "id": "MhgV34EHqxFP",
        "outputId": "3f505be3-9c46-4f3e-861c-285e9ef658a3"
      },
      "execution_count": null,
      "outputs": [
        {
          "output_type": "execute_result",
          "data": {
            "text/plain": [
              "3.58"
            ]
          },
          "metadata": {},
          "execution_count": 158
        }
      ]
    },
    {
      "cell_type": "markdown",
      "source": [
        "# **Add Real estate tags**"
      ],
      "metadata": {
        "id": "40A6JlwksUeB"
      }
    },
    {
      "cell_type": "code",
      "source": [
        "# Define a list of part-of-speech tags for real estate and home improvement-related words\n",
        "real_estate_tags = ['NN', 'NNS', 'NNP', 'NNPS', 'JJ', 'VB', 'VBD', 'VBG', 'VBN', 'VBP', 'VBZ']\n",
        "\n",
        "# Define a list of real estate and home improvement-related words\n",
        "real_estate_words = ['house', 'property', 'mortgage', 'market', 'rental', 'floor', 'wall', 'build', 'renovate', 'upgrade', 'remodel', 'refurbish']\n",
        "\n",
        "# Define the regular expression pattern to extract real estate and home improvement-related keywords\n",
        "pattern = r'\\b(?:%s)\\b' % '|'.join(real_estate_words)\n",
        "\n",
        "# Extract real estate and home improvement-related keywords from the 'title' column and save to a new column called 'real_estate_keywords'\n",
        "circles['real_estate_keywords'] = circles['title'].str.findall(pattern, flags=re.IGNORECASE)\n",
        "\n",
        "# Define a function to check if a string contains real estate and home improvement-related tags or keywords\n",
        "def is_real_estate(title):\n",
        "    # Extract real estate and home improvement-related keywords from the title\n",
        "    keywords = re.findall(pattern, title, flags=re.IGNORECASE)\n",
        "    # Tokenize the title and tag the parts of speech\n",
        "    tokens = nltk.word_tokenize(title)\n",
        "    pos_tags = nltk.pos_tag(tokens)\n",
        "    # Check if any real estate and home improvement-related tags or keywords are present in the title\n",
        "    if any(tag in real_estate_tags and (word in real_estate_words) for word, tag in pos_tags):\n",
        "        return True\n",
        "    elif any(word in real_estate_words for word in keywords):\n",
        "        return True\n",
        "    return False\n",
        "\n",
        "# Apply the 'is_real_estate' function to each value in the 'title' column and save the results to a new column called 'is_real_estate'\n",
        "circles['is_real_estate'] = circles['title'].apply(is_real_estate)"
      ],
      "metadata": {
        "id": "p5cSALkysT5R"
      },
      "execution_count": null,
      "outputs": []
    },
    {
      "cell_type": "code",
      "source": [
        "circles[circles['is_real_estate']].tail(10)"
      ],
      "metadata": {
        "id": "SvapRLFgsT7X",
        "colab": {
          "base_uri": "https://localhost:8080/",
          "height": 641
        },
        "outputId": "e752634e-4435-44aa-d9d9-d2ec5af21562"
      },
      "execution_count": null,
      "outputs": [
        {
          "output_type": "execute_result",
          "data": {
            "text/plain": [
              "        Unnamed: 0                           circle_uuid  \\\n",
              "1841609    1841606  80d4a671-ee51-44f2-81f4-a90ff5390de2   \n",
              "1841798    1841795  474ad5ca-e139-495b-b108-b394cb2f83a7   \n",
              "1844929    1844926  00005d2b-63c0-f8d1-c156-ba3475410002   \n",
              "1845623    1845620  1504ecc3-39ac-4509-b66e-ce8deb1f837a   \n",
              "1846054    1846051  94816b5f-be17-472b-aea9-0385e1dbd7d0   \n",
              "1846659    1846656  6c52bd96-2a96-445b-8a72-688fb828b78b   \n",
              "1849879    1849876  7c08dcc8-5ba2-4489-bd83-1166962b5fab   \n",
              "1850230    1850227  2b7aa475-6c7f-47ae-af09-4b1c80bac5af   \n",
              "1853404    1853401  00005675-b021-8cff-9671-cee798f50002   \n",
              "1858091    1858088  c87f3f65-5bf1-46e9-b491-e8246a4ca2f0   \n",
              "\n",
              "                                    title  media_count  has_greek_words  \\\n",
              "1841609  2022 - Friends at Nicole’s house         25.0            False   \n",
              "1841798           Station house. 05/20/22          5.0            False   \n",
              "1844929                    Lake house Fun         36.0            False   \n",
              "1845623           passed out on the floor         51.0            False   \n",
              "1846054           Grammie house inventory        259.0            False   \n",
              "1846659           Graciella’s lake house          99.0            False   \n",
              "1849879                     House remodel         16.0            False   \n",
              "1850230                   The whore house        101.0            False   \n",
              "1853404                     house of soul         33.0            False   \n",
              "1858091                   Log Cabin house          6.0            False   \n",
              "\n",
              "        real_estate_keywords  is_real_estate  \n",
              "1841609              [house]            True  \n",
              "1841798              [house]            True  \n",
              "1844929              [house]            True  \n",
              "1845623              [floor]            True  \n",
              "1846054              [house]            True  \n",
              "1846659              [house]            True  \n",
              "1849879     [House, remodel]            True  \n",
              "1850230              [house]            True  \n",
              "1853404              [house]            True  \n",
              "1858091              [house]            True  "
            ],
            "text/html": [
              "\n",
              "  <div id=\"df-6aa25f3d-48fa-4045-8424-e8178f66776c\">\n",
              "    <div class=\"colab-df-container\">\n",
              "      <div>\n",
              "<style scoped>\n",
              "    .dataframe tbody tr th:only-of-type {\n",
              "        vertical-align: middle;\n",
              "    }\n",
              "\n",
              "    .dataframe tbody tr th {\n",
              "        vertical-align: top;\n",
              "    }\n",
              "\n",
              "    .dataframe thead th {\n",
              "        text-align: right;\n",
              "    }\n",
              "</style>\n",
              "<table border=\"1\" class=\"dataframe\">\n",
              "  <thead>\n",
              "    <tr style=\"text-align: right;\">\n",
              "      <th></th>\n",
              "      <th>Unnamed: 0</th>\n",
              "      <th>circle_uuid</th>\n",
              "      <th>title</th>\n",
              "      <th>media_count</th>\n",
              "      <th>has_greek_words</th>\n",
              "      <th>real_estate_keywords</th>\n",
              "      <th>is_real_estate</th>\n",
              "    </tr>\n",
              "  </thead>\n",
              "  <tbody>\n",
              "    <tr>\n",
              "      <th>1841609</th>\n",
              "      <td>1841606</td>\n",
              "      <td>80d4a671-ee51-44f2-81f4-a90ff5390de2</td>\n",
              "      <td>2022 - Friends at Nicole’s house</td>\n",
              "      <td>25.0</td>\n",
              "      <td>False</td>\n",
              "      <td>[house]</td>\n",
              "      <td>True</td>\n",
              "    </tr>\n",
              "    <tr>\n",
              "      <th>1841798</th>\n",
              "      <td>1841795</td>\n",
              "      <td>474ad5ca-e139-495b-b108-b394cb2f83a7</td>\n",
              "      <td>Station house. 05/20/22</td>\n",
              "      <td>5.0</td>\n",
              "      <td>False</td>\n",
              "      <td>[house]</td>\n",
              "      <td>True</td>\n",
              "    </tr>\n",
              "    <tr>\n",
              "      <th>1844929</th>\n",
              "      <td>1844926</td>\n",
              "      <td>00005d2b-63c0-f8d1-c156-ba3475410002</td>\n",
              "      <td>Lake house Fun</td>\n",
              "      <td>36.0</td>\n",
              "      <td>False</td>\n",
              "      <td>[house]</td>\n",
              "      <td>True</td>\n",
              "    </tr>\n",
              "    <tr>\n",
              "      <th>1845623</th>\n",
              "      <td>1845620</td>\n",
              "      <td>1504ecc3-39ac-4509-b66e-ce8deb1f837a</td>\n",
              "      <td>passed out on the floor</td>\n",
              "      <td>51.0</td>\n",
              "      <td>False</td>\n",
              "      <td>[floor]</td>\n",
              "      <td>True</td>\n",
              "    </tr>\n",
              "    <tr>\n",
              "      <th>1846054</th>\n",
              "      <td>1846051</td>\n",
              "      <td>94816b5f-be17-472b-aea9-0385e1dbd7d0</td>\n",
              "      <td>Grammie house inventory</td>\n",
              "      <td>259.0</td>\n",
              "      <td>False</td>\n",
              "      <td>[house]</td>\n",
              "      <td>True</td>\n",
              "    </tr>\n",
              "    <tr>\n",
              "      <th>1846659</th>\n",
              "      <td>1846656</td>\n",
              "      <td>6c52bd96-2a96-445b-8a72-688fb828b78b</td>\n",
              "      <td>Graciella’s lake house</td>\n",
              "      <td>99.0</td>\n",
              "      <td>False</td>\n",
              "      <td>[house]</td>\n",
              "      <td>True</td>\n",
              "    </tr>\n",
              "    <tr>\n",
              "      <th>1849879</th>\n",
              "      <td>1849876</td>\n",
              "      <td>7c08dcc8-5ba2-4489-bd83-1166962b5fab</td>\n",
              "      <td>House remodel</td>\n",
              "      <td>16.0</td>\n",
              "      <td>False</td>\n",
              "      <td>[House, remodel]</td>\n",
              "      <td>True</td>\n",
              "    </tr>\n",
              "    <tr>\n",
              "      <th>1850230</th>\n",
              "      <td>1850227</td>\n",
              "      <td>2b7aa475-6c7f-47ae-af09-4b1c80bac5af</td>\n",
              "      <td>The whore house</td>\n",
              "      <td>101.0</td>\n",
              "      <td>False</td>\n",
              "      <td>[house]</td>\n",
              "      <td>True</td>\n",
              "    </tr>\n",
              "    <tr>\n",
              "      <th>1853404</th>\n",
              "      <td>1853401</td>\n",
              "      <td>00005675-b021-8cff-9671-cee798f50002</td>\n",
              "      <td>house of soul</td>\n",
              "      <td>33.0</td>\n",
              "      <td>False</td>\n",
              "      <td>[house]</td>\n",
              "      <td>True</td>\n",
              "    </tr>\n",
              "    <tr>\n",
              "      <th>1858091</th>\n",
              "      <td>1858088</td>\n",
              "      <td>c87f3f65-5bf1-46e9-b491-e8246a4ca2f0</td>\n",
              "      <td>Log Cabin house</td>\n",
              "      <td>6.0</td>\n",
              "      <td>False</td>\n",
              "      <td>[house]</td>\n",
              "      <td>True</td>\n",
              "    </tr>\n",
              "  </tbody>\n",
              "</table>\n",
              "</div>\n",
              "      <button class=\"colab-df-convert\" onclick=\"convertToInteractive('df-6aa25f3d-48fa-4045-8424-e8178f66776c')\"\n",
              "              title=\"Convert this dataframe to an interactive table.\"\n",
              "              style=\"display:none;\">\n",
              "        \n",
              "  <svg xmlns=\"http://www.w3.org/2000/svg\" height=\"24px\"viewBox=\"0 0 24 24\"\n",
              "       width=\"24px\">\n",
              "    <path d=\"M0 0h24v24H0V0z\" fill=\"none\"/>\n",
              "    <path d=\"M18.56 5.44l.94 2.06.94-2.06 2.06-.94-2.06-.94-.94-2.06-.94 2.06-2.06.94zm-11 1L8.5 8.5l.94-2.06 2.06-.94-2.06-.94L8.5 2.5l-.94 2.06-2.06.94zm10 10l.94 2.06.94-2.06 2.06-.94-2.06-.94-.94-2.06-.94 2.06-2.06.94z\"/><path d=\"M17.41 7.96l-1.37-1.37c-.4-.4-.92-.59-1.43-.59-.52 0-1.04.2-1.43.59L10.3 9.45l-7.72 7.72c-.78.78-.78 2.05 0 2.83L4 21.41c.39.39.9.59 1.41.59.51 0 1.02-.2 1.41-.59l7.78-7.78 2.81-2.81c.8-.78.8-2.07 0-2.86zM5.41 20L4 18.59l7.72-7.72 1.47 1.35L5.41 20z\"/>\n",
              "  </svg>\n",
              "      </button>\n",
              "      \n",
              "  <style>\n",
              "    .colab-df-container {\n",
              "      display:flex;\n",
              "      flex-wrap:wrap;\n",
              "      gap: 12px;\n",
              "    }\n",
              "\n",
              "    .colab-df-convert {\n",
              "      background-color: #E8F0FE;\n",
              "      border: none;\n",
              "      border-radius: 50%;\n",
              "      cursor: pointer;\n",
              "      display: none;\n",
              "      fill: #1967D2;\n",
              "      height: 32px;\n",
              "      padding: 0 0 0 0;\n",
              "      width: 32px;\n",
              "    }\n",
              "\n",
              "    .colab-df-convert:hover {\n",
              "      background-color: #E2EBFA;\n",
              "      box-shadow: 0px 1px 2px rgba(60, 64, 67, 0.3), 0px 1px 3px 1px rgba(60, 64, 67, 0.15);\n",
              "      fill: #174EA6;\n",
              "    }\n",
              "\n",
              "    [theme=dark] .colab-df-convert {\n",
              "      background-color: #3B4455;\n",
              "      fill: #D2E3FC;\n",
              "    }\n",
              "\n",
              "    [theme=dark] .colab-df-convert:hover {\n",
              "      background-color: #434B5C;\n",
              "      box-shadow: 0px 1px 3px 1px rgba(0, 0, 0, 0.15);\n",
              "      filter: drop-shadow(0px 1px 2px rgba(0, 0, 0, 0.3));\n",
              "      fill: #FFFFFF;\n",
              "    }\n",
              "  </style>\n",
              "\n",
              "      <script>\n",
              "        const buttonEl =\n",
              "          document.querySelector('#df-6aa25f3d-48fa-4045-8424-e8178f66776c button.colab-df-convert');\n",
              "        buttonEl.style.display =\n",
              "          google.colab.kernel.accessAllowed ? 'block' : 'none';\n",
              "\n",
              "        async function convertToInteractive(key) {\n",
              "          const element = document.querySelector('#df-6aa25f3d-48fa-4045-8424-e8178f66776c');\n",
              "          const dataTable =\n",
              "            await google.colab.kernel.invokeFunction('convertToInteractive',\n",
              "                                                     [key], {});\n",
              "          if (!dataTable) return;\n",
              "\n",
              "          const docLinkHtml = 'Like what you see? Visit the ' +\n",
              "            '<a target=\"_blank\" href=https://colab.research.google.com/notebooks/data_table.ipynb>data table notebook</a>'\n",
              "            + ' to learn more about interactive tables.';\n",
              "          element.innerHTML = '';\n",
              "          dataTable['output_type'] = 'display_data';\n",
              "          await google.colab.output.renderOutput(dataTable, element);\n",
              "          const docLink = document.createElement('div');\n",
              "          docLink.innerHTML = docLinkHtml;\n",
              "          element.appendChild(docLink);\n",
              "        }\n",
              "      </script>\n",
              "    </div>\n",
              "  </div>\n",
              "  "
            ]
          },
          "metadata": {},
          "execution_count": 47
        }
      ]
    },
    {
      "cell_type": "code",
      "source": [
        "circles['real_estate_keywords'].apply(tuple).unique()"
      ],
      "metadata": {
        "colab": {
          "base_uri": "https://localhost:8080/"
        },
        "id": "OaTIUdJbwOOD",
        "outputId": "d4cd2f90-7878-4448-f797-d08801706f70"
      },
      "execution_count": null,
      "outputs": [
        {
          "output_type": "execute_result",
          "data": {
            "text/plain": [
              "array([(), ('House',), ('house',), ('Wall',), ('Rental',), ('Market',),\n",
              "       ('HOUSE',), ('Remodel',), ('Rental', 'House'), ('wall',),\n",
              "       ('Build',), ('build',), ('Floor',), ('Property',), ('UPGRADE',),\n",
              "       ('MARKET',), ('remodel',), ('market',), ('floor',), ('upgrade',),\n",
              "       ('Upgrade',), ('BUILD',), ('build', 'wall'), ('WALL',),\n",
              "       ('House', 'build'), ('House', 'House'), ('House', 'Build'),\n",
              "       ('House', 'Remodel'), ('RENTAL',), ('Floor', 'floor'), ('rental',),\n",
              "       ('FLOOR',), ('Build', 'House'), ('property',), ('house', 'wall'),\n",
              "       ('Remodel', 'House'), ('house', 'house'), ('House', 'Wall'),\n",
              "       ('WalL',), ('remodel', 'house'), ('WAll',), ('Floor', 'Remodel'),\n",
              "       ('Floor', 'Market'), ('House', 'remodel'),\n",
              "       ('Floor', 'House', 'Remodel'), ('Mortgage',), ('REMODEL',),\n",
              "       ('House', 'Rental'), ('Wall', 'Build'), ('Rental', 'Property'),\n",
              "       ('Floor', 'Floor'), ('HouSe',), ('houSe',), ('MORTGAGE',),\n",
              "       ('Wall', 'Wall'), ('House', 'Remodel', 'House'),\n",
              "       ('House', 'rental'), ('WALL', 'HOUSE'), ('Market', 'Market'),\n",
              "       ('House', 'Property'), ('Refurbish',), ('house', 'build'),\n",
              "       ('Wall', 'House'), ('HOUSE', 'WALL'), ('Renovate',),\n",
              "       ('house', 'House'), ('Property', 'Remodel'), ('FLOOR', 'WALL'),\n",
              "       ('Floor', 'Wall'), ('Build', 'Wall'), ('House', 'Market'),\n",
              "       ('House', 'Upgrade'), ('Build', 'Build'), ('Rental', 'house')],\n",
              "      dtype=object)"
            ]
          },
          "metadata": {},
          "execution_count": 48
        }
      ]
    },
    {
      "cell_type": "code",
      "source": [
        "len(circles[circles['is_real_estate']]['circle_uuid'].unique())"
      ],
      "metadata": {
        "id": "Uz6igyLn8CaG",
        "colab": {
          "base_uri": "https://localhost:8080/"
        },
        "outputId": "f3b8f276-dedf-443c-a8dc-fb5d3abf3cdd"
      },
      "execution_count": null,
      "outputs": [
        {
          "output_type": "execute_result",
          "data": {
            "text/plain": [
              "1103"
            ]
          },
          "metadata": {},
          "execution_count": 159
        }
      ]
    },
    {
      "cell_type": "code",
      "source": [
        "round(len(circles[circles['is_real_estate']])/len(circles)*100,2)"
      ],
      "metadata": {
        "colab": {
          "base_uri": "https://localhost:8080/"
        },
        "id": "LQfHGTqpbUN_",
        "outputId": "eb8f1734-9ba4-4414-b2c2-9f25588bed36"
      },
      "execution_count": null,
      "outputs": [
        {
          "output_type": "execute_result",
          "data": {
            "text/plain": [
              "0.06"
            ]
          },
          "metadata": {},
          "execution_count": 50
        }
      ]
    },
    {
      "cell_type": "code",
      "source": [
        "circles[circles['is_real_estate']]['media_count'].sum()"
      ],
      "metadata": {
        "colab": {
          "base_uri": "https://localhost:8080/"
        },
        "id": "gqJDiwt_bcWR",
        "outputId": "26b1018f-3098-41e1-f379-da676a3aa5b8"
      },
      "execution_count": null,
      "outputs": [
        {
          "output_type": "execute_result",
          "data": {
            "text/plain": [
              "141542.0"
            ]
          },
          "metadata": {},
          "execution_count": 51
        }
      ]
    },
    {
      "cell_type": "code",
      "source": [
        "circles['media_count'].sum()"
      ],
      "metadata": {
        "colab": {
          "base_uri": "https://localhost:8080/"
        },
        "id": "Hq876mlsbmj3",
        "outputId": "2380320a-0398-4224-ce27-db149eacc3ef"
      },
      "execution_count": null,
      "outputs": [
        {
          "output_type": "execute_result",
          "data": {
            "text/plain": [
              "341813160.0"
            ]
          },
          "metadata": {},
          "execution_count": 52
        }
      ]
    },
    {
      "cell_type": "code",
      "source": [
        "round(circles[circles['is_real_estate']]['media_count'].sum()/circles['media_count'].sum()*100,2)"
      ],
      "metadata": {
        "colab": {
          "base_uri": "https://localhost:8080/"
        },
        "id": "UyN6Ksd9bsVN",
        "outputId": "79be71e4-faaa-481a-e0fb-6563736977d5"
      },
      "execution_count": null,
      "outputs": [
        {
          "output_type": "execute_result",
          "data": {
            "text/plain": [
              "0.04"
            ]
          },
          "metadata": {},
          "execution_count": 54
        }
      ]
    },
    {
      "cell_type": "markdown",
      "source": [
        "# **Add Solar Tags**"
      ],
      "metadata": {
        "id": "49-b0_XB8C2R"
      }
    },
    {
      "cell_type": "code",
      "source": [
        "# Define a list of part-of-speech tags for solar-related words\n",
        "solar_tags = ['NN', 'NNS', 'NNP', 'NNPS', 'JJ', 'VB', 'VBD', 'VBG', 'VBN', 'VBP', 'VBZ']\n",
        "\n",
        "# Define a list of solar-related words\n",
        "solar_words = ['solar', 'panel', 'photovoltaic', 'energy', 'power', 'sun', 'renewable', 'electricity', 'grid', 'system']\n",
        "\n",
        "# Define the regular expression pattern to extract solar-related keywords\n",
        "pattern = r'\\b(?:%s)\\b' % '|'.join(solar_words)\n",
        "\n",
        "# Extract solar-related keywords from the 'title' column and save to a new column called 'solar_keywords'\n",
        "circles['solar_keywords'] = circles['title'].str.findall(pattern, flags=re.IGNORECASE)\n",
        "\n",
        "# Define a function to check if a string contains solar-related tags or keywords\n",
        "def is_solar(title):\n",
        "    # Extract solar-related keywords from the title\n",
        "    keywords = re.findall(pattern, title, flags=re.IGNORECASE)\n",
        "    # Tokenize the title and tag the parts of speech\n",
        "    tokens = nltk.word_tokenize(title)\n",
        "    pos_tags = nltk.pos_tag(tokens)\n",
        "    # Check if any solar-related tags or keywords are present in the title\n",
        "    if any(tag in solar_tags and (word in solar_words) for word, tag in pos_tags):\n",
        "        return True\n",
        "    elif any(word in solar_words for word in keywords):\n",
        "        return True\n",
        "    return False\n",
        "\n",
        "# Apply the 'is_solar' function to each value in the 'title' column and save the results to a new column called 'is_solar'\n",
        "circles['is_solar'] = circles['title'].apply(is_solar)\n"
      ],
      "metadata": {
        "id": "TMP1KhFfwG6S"
      },
      "execution_count": null,
      "outputs": []
    },
    {
      "cell_type": "code",
      "source": [
        "circles[circles['is_solar']].head()"
      ],
      "metadata": {
        "id": "JGd--clPsT_x",
        "colab": {
          "base_uri": "https://localhost:8080/",
          "height": 540
        },
        "outputId": "597bc8fe-d925-40db-d52f-f6db5cc8d092"
      },
      "execution_count": null,
      "outputs": [
        {
          "output_type": "execute_result",
          "data": {
            "text/plain": [
              "      Unnamed: 0                           circle_uuid  \\\n",
              "48390      48390  2c9a6af6-3a90-44bb-bd63-ee1c45a528ae   \n",
              "50612      50612  89054214-2e71-4a86-b375-c3ab8a5a5f1b   \n",
              "63489      63489  00005504-dde1-3901-684c-63961c710002   \n",
              "68037      68037  000058d8-6003-d551-c07b-7c42f10a0002   \n",
              "70460      70460  0000592c-c453-d551-c01e-66791bfa0002   \n",
              "\n",
              "                            title  media_count  has_greek_words  \\\n",
              "48390        John Burko Sun power        114.0            False   \n",
              "50612                1801-sun 3rd         39.0            False   \n",
              "63489       March 14 - \"sun\" Day          31.0            False   \n",
              "68037  #La solar - Vicente Garcia         14.0            False   \n",
              "70460             Lucas.com/power          8.0            False   \n",
              "\n",
              "      real_estate_keywords  is_real_estate solar_keywords  is_solar  \n",
              "48390                   []           False   [Sun, power]      True  \n",
              "50612                   []           False          [sun]      True  \n",
              "63489                   []           False          [sun]      True  \n",
              "68037                   []           False        [solar]      True  \n",
              "70460                   []           False        [power]      True  "
            ],
            "text/html": [
              "\n",
              "  <div id=\"df-76931b90-be1b-433b-89d7-41c96786cb59\">\n",
              "    <div class=\"colab-df-container\">\n",
              "      <div>\n",
              "<style scoped>\n",
              "    .dataframe tbody tr th:only-of-type {\n",
              "        vertical-align: middle;\n",
              "    }\n",
              "\n",
              "    .dataframe tbody tr th {\n",
              "        vertical-align: top;\n",
              "    }\n",
              "\n",
              "    .dataframe thead th {\n",
              "        text-align: right;\n",
              "    }\n",
              "</style>\n",
              "<table border=\"1\" class=\"dataframe\">\n",
              "  <thead>\n",
              "    <tr style=\"text-align: right;\">\n",
              "      <th></th>\n",
              "      <th>Unnamed: 0</th>\n",
              "      <th>circle_uuid</th>\n",
              "      <th>title</th>\n",
              "      <th>media_count</th>\n",
              "      <th>has_greek_words</th>\n",
              "      <th>real_estate_keywords</th>\n",
              "      <th>is_real_estate</th>\n",
              "      <th>solar_keywords</th>\n",
              "      <th>is_solar</th>\n",
              "    </tr>\n",
              "  </thead>\n",
              "  <tbody>\n",
              "    <tr>\n",
              "      <th>48390</th>\n",
              "      <td>48390</td>\n",
              "      <td>2c9a6af6-3a90-44bb-bd63-ee1c45a528ae</td>\n",
              "      <td>John Burko Sun power</td>\n",
              "      <td>114.0</td>\n",
              "      <td>False</td>\n",
              "      <td>[]</td>\n",
              "      <td>False</td>\n",
              "      <td>[Sun, power]</td>\n",
              "      <td>True</td>\n",
              "    </tr>\n",
              "    <tr>\n",
              "      <th>50612</th>\n",
              "      <td>50612</td>\n",
              "      <td>89054214-2e71-4a86-b375-c3ab8a5a5f1b</td>\n",
              "      <td>1801-sun 3rd</td>\n",
              "      <td>39.0</td>\n",
              "      <td>False</td>\n",
              "      <td>[]</td>\n",
              "      <td>False</td>\n",
              "      <td>[sun]</td>\n",
              "      <td>True</td>\n",
              "    </tr>\n",
              "    <tr>\n",
              "      <th>63489</th>\n",
              "      <td>63489</td>\n",
              "      <td>00005504-dde1-3901-684c-63961c710002</td>\n",
              "      <td>March 14 - \"sun\" Day</td>\n",
              "      <td>31.0</td>\n",
              "      <td>False</td>\n",
              "      <td>[]</td>\n",
              "      <td>False</td>\n",
              "      <td>[sun]</td>\n",
              "      <td>True</td>\n",
              "    </tr>\n",
              "    <tr>\n",
              "      <th>68037</th>\n",
              "      <td>68037</td>\n",
              "      <td>000058d8-6003-d551-c07b-7c42f10a0002</td>\n",
              "      <td>#La solar - Vicente Garcia</td>\n",
              "      <td>14.0</td>\n",
              "      <td>False</td>\n",
              "      <td>[]</td>\n",
              "      <td>False</td>\n",
              "      <td>[solar]</td>\n",
              "      <td>True</td>\n",
              "    </tr>\n",
              "    <tr>\n",
              "      <th>70460</th>\n",
              "      <td>70460</td>\n",
              "      <td>0000592c-c453-d551-c01e-66791bfa0002</td>\n",
              "      <td>Lucas.com/power</td>\n",
              "      <td>8.0</td>\n",
              "      <td>False</td>\n",
              "      <td>[]</td>\n",
              "      <td>False</td>\n",
              "      <td>[power]</td>\n",
              "      <td>True</td>\n",
              "    </tr>\n",
              "  </tbody>\n",
              "</table>\n",
              "</div>\n",
              "      <button class=\"colab-df-convert\" onclick=\"convertToInteractive('df-76931b90-be1b-433b-89d7-41c96786cb59')\"\n",
              "              title=\"Convert this dataframe to an interactive table.\"\n",
              "              style=\"display:none;\">\n",
              "        \n",
              "  <svg xmlns=\"http://www.w3.org/2000/svg\" height=\"24px\"viewBox=\"0 0 24 24\"\n",
              "       width=\"24px\">\n",
              "    <path d=\"M0 0h24v24H0V0z\" fill=\"none\"/>\n",
              "    <path d=\"M18.56 5.44l.94 2.06.94-2.06 2.06-.94-2.06-.94-.94-2.06-.94 2.06-2.06.94zm-11 1L8.5 8.5l.94-2.06 2.06-.94-2.06-.94L8.5 2.5l-.94 2.06-2.06.94zm10 10l.94 2.06.94-2.06 2.06-.94-2.06-.94-.94-2.06-.94 2.06-2.06.94z\"/><path d=\"M17.41 7.96l-1.37-1.37c-.4-.4-.92-.59-1.43-.59-.52 0-1.04.2-1.43.59L10.3 9.45l-7.72 7.72c-.78.78-.78 2.05 0 2.83L4 21.41c.39.39.9.59 1.41.59.51 0 1.02-.2 1.41-.59l7.78-7.78 2.81-2.81c.8-.78.8-2.07 0-2.86zM5.41 20L4 18.59l7.72-7.72 1.47 1.35L5.41 20z\"/>\n",
              "  </svg>\n",
              "      </button>\n",
              "      \n",
              "  <style>\n",
              "    .colab-df-container {\n",
              "      display:flex;\n",
              "      flex-wrap:wrap;\n",
              "      gap: 12px;\n",
              "    }\n",
              "\n",
              "    .colab-df-convert {\n",
              "      background-color: #E8F0FE;\n",
              "      border: none;\n",
              "      border-radius: 50%;\n",
              "      cursor: pointer;\n",
              "      display: none;\n",
              "      fill: #1967D2;\n",
              "      height: 32px;\n",
              "      padding: 0 0 0 0;\n",
              "      width: 32px;\n",
              "    }\n",
              "\n",
              "    .colab-df-convert:hover {\n",
              "      background-color: #E2EBFA;\n",
              "      box-shadow: 0px 1px 2px rgba(60, 64, 67, 0.3), 0px 1px 3px 1px rgba(60, 64, 67, 0.15);\n",
              "      fill: #174EA6;\n",
              "    }\n",
              "\n",
              "    [theme=dark] .colab-df-convert {\n",
              "      background-color: #3B4455;\n",
              "      fill: #D2E3FC;\n",
              "    }\n",
              "\n",
              "    [theme=dark] .colab-df-convert:hover {\n",
              "      background-color: #434B5C;\n",
              "      box-shadow: 0px 1px 3px 1px rgba(0, 0, 0, 0.15);\n",
              "      filter: drop-shadow(0px 1px 2px rgba(0, 0, 0, 0.3));\n",
              "      fill: #FFFFFF;\n",
              "    }\n",
              "  </style>\n",
              "\n",
              "      <script>\n",
              "        const buttonEl =\n",
              "          document.querySelector('#df-76931b90-be1b-433b-89d7-41c96786cb59 button.colab-df-convert');\n",
              "        buttonEl.style.display =\n",
              "          google.colab.kernel.accessAllowed ? 'block' : 'none';\n",
              "\n",
              "        async function convertToInteractive(key) {\n",
              "          const element = document.querySelector('#df-76931b90-be1b-433b-89d7-41c96786cb59');\n",
              "          const dataTable =\n",
              "            await google.colab.kernel.invokeFunction('convertToInteractive',\n",
              "                                                     [key], {});\n",
              "          if (!dataTable) return;\n",
              "\n",
              "          const docLinkHtml = 'Like what you see? Visit the ' +\n",
              "            '<a target=\"_blank\" href=https://colab.research.google.com/notebooks/data_table.ipynb>data table notebook</a>'\n",
              "            + ' to learn more about interactive tables.';\n",
              "          element.innerHTML = '';\n",
              "          dataTable['output_type'] = 'display_data';\n",
              "          await google.colab.output.renderOutput(dataTable, element);\n",
              "          const docLink = document.createElement('div');\n",
              "          docLink.innerHTML = docLinkHtml;\n",
              "          element.appendChild(docLink);\n",
              "        }\n",
              "      </script>\n",
              "    </div>\n",
              "  </div>\n",
              "  "
            ]
          },
          "metadata": {},
          "execution_count": 56
        }
      ]
    },
    {
      "cell_type": "code",
      "source": [
        "circles['solar_keywords'].apply(tuple).unique()"
      ],
      "metadata": {
        "id": "Z7nPW0bWsUCL",
        "colab": {
          "base_uri": "https://localhost:8080/"
        },
        "outputId": "0408046a-0add-4f63-870d-7eb45bf93627"
      },
      "execution_count": null,
      "outputs": [
        {
          "output_type": "execute_result",
          "data": {
            "text/plain": [
              "array([(), ('Power',), ('Sun',), ('Panel',), ('System',), ('SOLAR',),\n",
              "       ('Energy',), ('POWER',), ('SUN',), ('GRID',), ('Solar',),\n",
              "       ('Sun', 'power'), ('sun',), ('Grid',), ('solar',), ('power',),\n",
              "       ('Electricity',), ('SYSTEM',), ('PANEL',), ('Solar', 'System'),\n",
              "       ('energy',), ('Sun', 'Power'), ('Sun', 'Energy'), ('panel',),\n",
              "       ('POWER', 'PANEL'), ('Renewable', 'Energy'), ('Solar', 'Panel'),\n",
              "       ('Sun', 'Sun'), ('GRID', 'PHOTOVOLTAIC'), ('system',), ('grid',),\n",
              "       ('eNeRgY',), ('ENERGY',), ('SUn',), ('Solar', 'Power'),\n",
              "       ('EnerGy',), ('Solar', 'Sun'), ('Renewable',), ('Solar', 'panel'),\n",
              "       ('solar', 'system'), ('Power', 'System')], dtype=object)"
            ]
          },
          "metadata": {},
          "execution_count": 57
        }
      ]
    },
    {
      "cell_type": "code",
      "source": [
        "len(circles[circles['is_solar']])"
      ],
      "metadata": {
        "colab": {
          "base_uri": "https://localhost:8080/"
        },
        "id": "KJTK4wrFh1Jj",
        "outputId": "64cdfc0e-251e-4596-f7ca-6adb5a870391"
      },
      "execution_count": null,
      "outputs": [
        {
          "output_type": "execute_result",
          "data": {
            "text/plain": [
              "114"
            ]
          },
          "metadata": {},
          "execution_count": 58
        }
      ]
    },
    {
      "cell_type": "code",
      "source": [
        "round(len(circles[circles['is_solar']])/len(circles)*100,2)"
      ],
      "metadata": {
        "colab": {
          "base_uri": "https://localhost:8080/"
        },
        "id": "3cap4EiiiCJ7",
        "outputId": "58378332-9532-4ec6-8756-986180079e60"
      },
      "execution_count": null,
      "outputs": [
        {
          "output_type": "execute_result",
          "data": {
            "text/plain": [
              "0.01"
            ]
          },
          "metadata": {},
          "execution_count": 59
        }
      ]
    },
    {
      "cell_type": "code",
      "source": [
        "circles[circles['is_solar']]['media_count'].sum()"
      ],
      "metadata": {
        "colab": {
          "base_uri": "https://localhost:8080/"
        },
        "id": "HneHIqmiiCTk",
        "outputId": "933db5b5-630a-439f-b5fe-8e30f2d47b17"
      },
      "execution_count": null,
      "outputs": [
        {
          "output_type": "execute_result",
          "data": {
            "text/plain": [
              "9462.0"
            ]
          },
          "metadata": {},
          "execution_count": 60
        }
      ]
    },
    {
      "cell_type": "code",
      "source": [
        "circles['media_count'].sum()"
      ],
      "metadata": {
        "colab": {
          "base_uri": "https://localhost:8080/"
        },
        "id": "PYUataRSiCad",
        "outputId": "9046ba7f-78e8-4863-ac11-f07b8e997132"
      },
      "execution_count": null,
      "outputs": [
        {
          "output_type": "execute_result",
          "data": {
            "text/plain": [
              "341813160.0"
            ]
          },
          "metadata": {},
          "execution_count": 61
        }
      ]
    },
    {
      "cell_type": "code",
      "source": [
        "round(circles[circles['is_solar']]['media_count'].sum()/circles['media_count'].sum()*100,2)"
      ],
      "metadata": {
        "colab": {
          "base_uri": "https://localhost:8080/"
        },
        "id": "7tD2uBuEh4Up",
        "outputId": "b5899d25-000e-47b9-b6d8-cd7043830b17"
      },
      "execution_count": null,
      "outputs": [
        {
          "output_type": "execute_result",
          "data": {
            "text/plain": [
              "0.0"
            ]
          },
          "metadata": {},
          "execution_count": 62
        }
      ]
    },
    {
      "cell_type": "markdown",
      "source": [
        "#**Add Event Tags**"
      ],
      "metadata": {
        "id": "-A6XuEFuiFvj"
      }
    },
    {
      "cell_type": "code",
      "source": [
        "# Define a list of part-of-speech tags for event-related words\n",
        "event_tags = ['NN', 'NNS', 'NNP', 'NNPS', 'JJ', 'VB', 'VBD', 'VBG', 'VBN', 'VBP', 'VBZ']\n",
        "\n",
        "# Define a list of event-related words\n",
        "event_words = ['event', 'concert', 'festival', 'performance', 'show', 'party', 'celebration', 'ceremony', 'gala', 'conference', 'holiday']\n",
        "\n",
        "# Define the regular expression pattern to extract event-related keywords\n",
        "pattern = r'\\b(?:%s)\\b' % '|'.join(event_words)\n",
        "\n",
        "# Extract event-related keywords from the 'title' column and save to a new column called 'event_keywords'\n",
        "circles['event_keywords'] = circles['title'].str.findall(pattern, flags=re.IGNORECASE)\n",
        "\n",
        "# Define a function to check if a string contains event-related tags or keywords\n",
        "def is_event(title):\n",
        "    # Extract event-related keywords from the title\n",
        "    keywords = re.findall(pattern, title, flags=re.IGNORECASE)\n",
        "    # Tokenize the title and tag the parts of speech\n",
        "    tokens = nltk.word_tokenize(title)\n",
        "    pos_tags = nltk.pos_tag(tokens)\n",
        "    # Check if any event-related tags or keywords are present in the title\n",
        "    if any(tag in event_tags and (word in event_words) for word, tag in pos_tags):\n",
        "        return True\n",
        "    elif any(word in event_words for word in keywords):\n",
        "        return True\n",
        "    return False\n",
        "\n",
        "# Apply the 'is_event' function to each value in the 'title' column and save the results to a new column called 'is_event'\n",
        "circles['is_event'] = circles['title'].apply(is_event)"
      ],
      "metadata": {
        "id": "zDCrip458LFJ"
      },
      "execution_count": null,
      "outputs": []
    },
    {
      "cell_type": "code",
      "source": [
        "len(circles[circles['is_event']])"
      ],
      "metadata": {
        "colab": {
          "base_uri": "https://localhost:8080/"
        },
        "id": "O0Ja6SIrnnni",
        "outputId": "0705d1e9-f4f1-4ae0-f49b-e168014ba06e"
      },
      "execution_count": null,
      "outputs": [
        {
          "output_type": "execute_result",
          "data": {
            "text/plain": [
              "3887"
            ]
          },
          "metadata": {},
          "execution_count": 68
        }
      ]
    },
    {
      "cell_type": "code",
      "source": [
        "round(len(circles[circles['is_event']])/len(circles)*100,2)"
      ],
      "metadata": {
        "colab": {
          "base_uri": "https://localhost:8080/"
        },
        "id": "n8tLuXQlnn37",
        "outputId": "604c97e0-b2d0-498d-9356-ac33360f1ff7"
      },
      "execution_count": null,
      "outputs": [
        {
          "output_type": "execute_result",
          "data": {
            "text/plain": [
              "0.21"
            ]
          },
          "metadata": {},
          "execution_count": 70
        }
      ]
    },
    {
      "cell_type": "code",
      "source": [
        "circles[circles['is_event']]['media_count'].sum()"
      ],
      "metadata": {
        "colab": {
          "base_uri": "https://localhost:8080/"
        },
        "id": "zDj-Zhamnn6A",
        "outputId": "50b4308b-faed-4c43-d197-2a8f1ca43b1e"
      },
      "execution_count": null,
      "outputs": [
        {
          "output_type": "execute_result",
          "data": {
            "text/plain": [
              "462208.0"
            ]
          },
          "metadata": {},
          "execution_count": 71
        }
      ]
    },
    {
      "cell_type": "code",
      "source": [
        "circles['media_count'].sum()"
      ],
      "metadata": {
        "colab": {
          "base_uri": "https://localhost:8080/"
        },
        "id": "5uZxUQbz0TIZ",
        "outputId": "c5fa0a9f-2ab0-49a3-c747-daa7ebb1f312"
      },
      "execution_count": null,
      "outputs": [
        {
          "output_type": "execute_result",
          "data": {
            "text/plain": [
              "341813160.0"
            ]
          },
          "metadata": {},
          "execution_count": 72
        }
      ]
    },
    {
      "cell_type": "code",
      "source": [
        "round(circles[circles['is_event']]['media_count'].sum()/circles['media_count'].sum()*100,2)"
      ],
      "metadata": {
        "colab": {
          "base_uri": "https://localhost:8080/"
        },
        "id": "shF9XUUg0TQX",
        "outputId": "26a348ff-1432-4cc0-91bb-2f7367b0eb6b"
      },
      "execution_count": null,
      "outputs": [
        {
          "output_type": "execute_result",
          "data": {
            "text/plain": [
              "0.14"
            ]
          },
          "metadata": {},
          "execution_count": 74
        }
      ]
    },
    {
      "cell_type": "code",
      "source": [
        "circles['event_keywords'].apply(tuple).unique()"
      ],
      "metadata": {
        "colab": {
          "base_uri": "https://localhost:8080/"
        },
        "id": "q_feMDtmnn8K",
        "outputId": "f8a3761f-72f2-461a-a18e-4799827eb75a"
      },
      "execution_count": null,
      "outputs": [
        {
          "output_type": "execute_result",
          "data": {
            "text/plain": [
              "array([(), ('Party',), ('celebration',), ('party',), ('Festival',),\n",
              "       ('Holiday',), ('GALA',), ('Celebration',), ('Ceremony',),\n",
              "       ('show',), ('Show',), ('Concert',), ('Party', 'Celebration'),\n",
              "       ('PARTY',), ('Conference',), ('Event',), ('Gala',),\n",
              "       ('Holiday', 'Party'), ('festival',), ('holiday',), ('concert',),\n",
              "       ('Holiday', 'Celebration'), ('event',), ('SHOW',),\n",
              "       ('Performance',), ('Holiday', 'Gala'), ('CONFERENCE',),\n",
              "       ('party', 'party'), ('conference',), ('HOLIDAY', 'PARTY'),\n",
              "       ('Party', 'Party'), ('FESTIVAL',), ('ceremony',),\n",
              "       ('Holiday', 'Show'), ('Holiday', 'party'), ('CELEBRATION',),\n",
              "       ('Show', 'Show'), ('Holiday', 'Concert'), ('performance',),\n",
              "       ('HOLIDAY',), ('Party', 'Show'), ('CONCERT',), ('Gala', 'Concert'),\n",
              "       ('Event', 'Event'), ('EVENT',), ('Celebration', 'Party'),\n",
              "       ('party', 'party', 'party'), ('Holiday', 'Event'),\n",
              "       ('holiday', 'Holiday'), ('gala',), ('holiday', 'show'),\n",
              "       ('celebration', 'Ceremony'), ('PARTy',), ('festival', 'concert'),\n",
              "       ('concert', 'concert'), ('Ceremony', 'CEREMONY'),\n",
              "       ('Concert', 'Show'), ('holiday', 'party'),\n",
              "       ('Holiday', 'Performance'), ('FestiVAL',), ('Show', 'Performance'),\n",
              "       ('PaRtY',), ('CEREMONY',), ('HOLIDAY', 'SHOW'), ('Show', 'Party'),\n",
              "       ('Festival', 'Party'), ('Festival', 'Show'),\n",
              "       ('PARTY', 'CELEBRATION'), ('holiday', 'Party'),\n",
              "       ('Celebration', 'Show'), ('HOLIDAY', 'Party'),\n",
              "       ('Show', 'Party', 'Event'), ('Gala', 'celebration'),\n",
              "       ('PARTY', 'PARTY'), ('Concert', 'Concert'),\n",
              "       ('Event', 'Celebration'), ('Ceremony', 'party'),\n",
              "       ('CONCERT', 'CONCERT'), ('PERFORMANCE',), ('Party', 'PARTY'),\n",
              "       ('PArTy',), ('celebration', 'event'), ('Celebration', 'Event'),\n",
              "       ('Holiday', 'Festival'), ('PartY',), ('Party', 'show'), ('PArty',),\n",
              "       ('pArty',), ('holiday', 'Festival'), ('Gala', 'Event'),\n",
              "       ('CONCERT', 'Conference'), ('show', 'show'), ('Party', 'party'),\n",
              "       ('Concert', 'Ceremony'), ('Party', 'Event'), ('HoliDAY', 'Party'),\n",
              "       ('PARty',), ('Conference', 'Event'), ('Gala', 'Gala'),\n",
              "       ('Festival', 'Holiday'), ('Holiday', 'GALA'), ('party', 'Party'),\n",
              "       ('concert', 'Concert'), ('Party', 'Holiday'), ('pArTy',),\n",
              "       ('PARTY', 'PARTY', 'PARTY'), ('Holiday', 'performance'),\n",
              "       ('HolidAy',), ('Gala', 'Party'), ('Ceremony', 'Celebration'),\n",
              "       ('HoLiDaY',), ('Concert', 'Party'), ('Performance', 'Party'),\n",
              "       ('HOLIDAY', 'CELEBRATION'), ('GalA',), ('Party', 'Concert'),\n",
              "       ('party', 'show')], dtype=object)"
            ]
          },
          "metadata": {},
          "execution_count": 75
        }
      ]
    },
    {
      "cell_type": "code",
      "source": [
        "circles[circles['is_event']].head(3)"
      ],
      "metadata": {
        "colab": {
          "base_uri": "https://localhost:8080/",
          "height": 376
        },
        "id": "JSwpNNpY8L5d",
        "outputId": "54ac5f91-7011-497b-b52c-6d1ce118daec"
      },
      "execution_count": null,
      "outputs": [
        {
          "output_type": "execute_result",
          "data": {
            "text/plain": [
              "    Unnamed: 0                           circle_uuid  \\\n",
              "93          93  00005c22-b096-d551-c026-3d4be4720002   \n",
              "199        199  32d3371c-bed8-413b-b1a7-510d7c370a51   \n",
              "582        582  00005deb-360b-f8d1-c166-866926b40002   \n",
              "\n",
              "                                       title  media_count  has_greek_words  \\\n",
              "93   Christmas Day 2018 - Enrile celebration         35.0            False   \n",
              "199                        Birthday party!!!        124.0            False   \n",
              "582           2019 Christmas party slideshow        197.0            False   \n",
              "\n",
              "    real_estate_keywords  is_real_estate solar_keywords  is_solar  \\\n",
              "93                    []           False             []     False   \n",
              "199                   []           False             []     False   \n",
              "582                   []           False             []     False   \n",
              "\n",
              "    event_keywords  is_event  \n",
              "93   [celebration]      True  \n",
              "199        [party]      True  \n",
              "582        [party]      True  "
            ],
            "text/html": [
              "\n",
              "  <div id=\"df-784cff1f-889e-4766-a9a5-d07e085a9b12\">\n",
              "    <div class=\"colab-df-container\">\n",
              "      <div>\n",
              "<style scoped>\n",
              "    .dataframe tbody tr th:only-of-type {\n",
              "        vertical-align: middle;\n",
              "    }\n",
              "\n",
              "    .dataframe tbody tr th {\n",
              "        vertical-align: top;\n",
              "    }\n",
              "\n",
              "    .dataframe thead th {\n",
              "        text-align: right;\n",
              "    }\n",
              "</style>\n",
              "<table border=\"1\" class=\"dataframe\">\n",
              "  <thead>\n",
              "    <tr style=\"text-align: right;\">\n",
              "      <th></th>\n",
              "      <th>Unnamed: 0</th>\n",
              "      <th>circle_uuid</th>\n",
              "      <th>title</th>\n",
              "      <th>media_count</th>\n",
              "      <th>has_greek_words</th>\n",
              "      <th>real_estate_keywords</th>\n",
              "      <th>is_real_estate</th>\n",
              "      <th>solar_keywords</th>\n",
              "      <th>is_solar</th>\n",
              "      <th>event_keywords</th>\n",
              "      <th>is_event</th>\n",
              "    </tr>\n",
              "  </thead>\n",
              "  <tbody>\n",
              "    <tr>\n",
              "      <th>93</th>\n",
              "      <td>93</td>\n",
              "      <td>00005c22-b096-d551-c026-3d4be4720002</td>\n",
              "      <td>Christmas Day 2018 - Enrile celebration</td>\n",
              "      <td>35.0</td>\n",
              "      <td>False</td>\n",
              "      <td>[]</td>\n",
              "      <td>False</td>\n",
              "      <td>[]</td>\n",
              "      <td>False</td>\n",
              "      <td>[celebration]</td>\n",
              "      <td>True</td>\n",
              "    </tr>\n",
              "    <tr>\n",
              "      <th>199</th>\n",
              "      <td>199</td>\n",
              "      <td>32d3371c-bed8-413b-b1a7-510d7c370a51</td>\n",
              "      <td>Birthday party!!!</td>\n",
              "      <td>124.0</td>\n",
              "      <td>False</td>\n",
              "      <td>[]</td>\n",
              "      <td>False</td>\n",
              "      <td>[]</td>\n",
              "      <td>False</td>\n",
              "      <td>[party]</td>\n",
              "      <td>True</td>\n",
              "    </tr>\n",
              "    <tr>\n",
              "      <th>582</th>\n",
              "      <td>582</td>\n",
              "      <td>00005deb-360b-f8d1-c166-866926b40002</td>\n",
              "      <td>2019 Christmas party slideshow</td>\n",
              "      <td>197.0</td>\n",
              "      <td>False</td>\n",
              "      <td>[]</td>\n",
              "      <td>False</td>\n",
              "      <td>[]</td>\n",
              "      <td>False</td>\n",
              "      <td>[party]</td>\n",
              "      <td>True</td>\n",
              "    </tr>\n",
              "  </tbody>\n",
              "</table>\n",
              "</div>\n",
              "      <button class=\"colab-df-convert\" onclick=\"convertToInteractive('df-784cff1f-889e-4766-a9a5-d07e085a9b12')\"\n",
              "              title=\"Convert this dataframe to an interactive table.\"\n",
              "              style=\"display:none;\">\n",
              "        \n",
              "  <svg xmlns=\"http://www.w3.org/2000/svg\" height=\"24px\"viewBox=\"0 0 24 24\"\n",
              "       width=\"24px\">\n",
              "    <path d=\"M0 0h24v24H0V0z\" fill=\"none\"/>\n",
              "    <path d=\"M18.56 5.44l.94 2.06.94-2.06 2.06-.94-2.06-.94-.94-2.06-.94 2.06-2.06.94zm-11 1L8.5 8.5l.94-2.06 2.06-.94-2.06-.94L8.5 2.5l-.94 2.06-2.06.94zm10 10l.94 2.06.94-2.06 2.06-.94-2.06-.94-.94-2.06-.94 2.06-2.06.94z\"/><path d=\"M17.41 7.96l-1.37-1.37c-.4-.4-.92-.59-1.43-.59-.52 0-1.04.2-1.43.59L10.3 9.45l-7.72 7.72c-.78.78-.78 2.05 0 2.83L4 21.41c.39.39.9.59 1.41.59.51 0 1.02-.2 1.41-.59l7.78-7.78 2.81-2.81c.8-.78.8-2.07 0-2.86zM5.41 20L4 18.59l7.72-7.72 1.47 1.35L5.41 20z\"/>\n",
              "  </svg>\n",
              "      </button>\n",
              "      \n",
              "  <style>\n",
              "    .colab-df-container {\n",
              "      display:flex;\n",
              "      flex-wrap:wrap;\n",
              "      gap: 12px;\n",
              "    }\n",
              "\n",
              "    .colab-df-convert {\n",
              "      background-color: #E8F0FE;\n",
              "      border: none;\n",
              "      border-radius: 50%;\n",
              "      cursor: pointer;\n",
              "      display: none;\n",
              "      fill: #1967D2;\n",
              "      height: 32px;\n",
              "      padding: 0 0 0 0;\n",
              "      width: 32px;\n",
              "    }\n",
              "\n",
              "    .colab-df-convert:hover {\n",
              "      background-color: #E2EBFA;\n",
              "      box-shadow: 0px 1px 2px rgba(60, 64, 67, 0.3), 0px 1px 3px 1px rgba(60, 64, 67, 0.15);\n",
              "      fill: #174EA6;\n",
              "    }\n",
              "\n",
              "    [theme=dark] .colab-df-convert {\n",
              "      background-color: #3B4455;\n",
              "      fill: #D2E3FC;\n",
              "    }\n",
              "\n",
              "    [theme=dark] .colab-df-convert:hover {\n",
              "      background-color: #434B5C;\n",
              "      box-shadow: 0px 1px 3px 1px rgba(0, 0, 0, 0.15);\n",
              "      filter: drop-shadow(0px 1px 2px rgba(0, 0, 0, 0.3));\n",
              "      fill: #FFFFFF;\n",
              "    }\n",
              "  </style>\n",
              "\n",
              "      <script>\n",
              "        const buttonEl =\n",
              "          document.querySelector('#df-784cff1f-889e-4766-a9a5-d07e085a9b12 button.colab-df-convert');\n",
              "        buttonEl.style.display =\n",
              "          google.colab.kernel.accessAllowed ? 'block' : 'none';\n",
              "\n",
              "        async function convertToInteractive(key) {\n",
              "          const element = document.querySelector('#df-784cff1f-889e-4766-a9a5-d07e085a9b12');\n",
              "          const dataTable =\n",
              "            await google.colab.kernel.invokeFunction('convertToInteractive',\n",
              "                                                     [key], {});\n",
              "          if (!dataTable) return;\n",
              "\n",
              "          const docLinkHtml = 'Like what you see? Visit the ' +\n",
              "            '<a target=\"_blank\" href=https://colab.research.google.com/notebooks/data_table.ipynb>data table notebook</a>'\n",
              "            + ' to learn more about interactive tables.';\n",
              "          element.innerHTML = '';\n",
              "          dataTable['output_type'] = 'display_data';\n",
              "          await google.colab.output.renderOutput(dataTable, element);\n",
              "          const docLink = document.createElement('div');\n",
              "          docLink.innerHTML = docLinkHtml;\n",
              "          element.appendChild(docLink);\n",
              "        }\n",
              "      </script>\n",
              "    </div>\n",
              "  </div>\n",
              "  "
            ]
          },
          "metadata": {},
          "execution_count": 76
        }
      ]
    },
    {
      "cell_type": "markdown",
      "source": [
        "# **Add Professional Career Tags**"
      ],
      "metadata": {
        "id": "CTZyKdPmBSlk"
      }
    },
    {
      "cell_type": "code",
      "source": [
        "# Define a list of part-of-speech tags for occupation-related words\n",
        "occupation_tags = ['NN', 'NNS', 'NNP', 'NNPS', 'JJ', 'VB', 'VBD', 'VBG', 'VBN', 'VBP', 'VBZ']\n",
        "\n",
        "# Define a list of occupation-related words\n",
        "occupation_words = ['job', 'work', 'career', 'profession', 'occupation', 'employment', 'position', 'vocation', 'trade', 'field']\n",
        "\n",
        "# Define the regular expression pattern to extract occupation-related keywords\n",
        "pattern = r'\\b(?:%s)\\b' % '|'.join(occupation_words)\n",
        "\n",
        "# Extract occupation-related keywords from the 'title' column and save to a new column called 'occupation_keywords'\n",
        "circles['occupation_keywords'] = circles['title'].str.findall(pattern, flags=re.IGNORECASE)\n",
        "\n",
        "# Define a function to check if a string contains occupation-related tags or keywords\n",
        "def is_occupation(title):\n",
        "    # Extract occupation-related keywords from the title\n",
        "    keywords = re.findall(pattern, title, flags=re.IGNORECASE)\n",
        "    # Tokenize the title and tag the parts of speech\n",
        "    tokens = nltk.word_tokenize(title)\n",
        "    pos_tags = nltk.pos_tag(tokens)\n",
        "    # Check if any occupation-related tags or keywords are present in the title\n",
        "    if any(tag in occupation_tags and (word in occupation_words) for word, tag in pos_tags):\n",
        "        return True\n",
        "    elif any(word in occupation_words for word in keywords):\n",
        "        return True\n",
        "    return False\n",
        "\n",
        "# Apply the 'is_occupation' function to each value in the 'title' column and save the results to a new column called 'is_occupation'\n",
        "circles['is_occupation'] = circles['title'].apply(is_occupation)\n"
      ],
      "metadata": {
        "id": "dUlC0kbeBd5p"
      },
      "execution_count": null,
      "outputs": []
    },
    {
      "cell_type": "code",
      "source": [
        "circles[circles['is_occupation']].head()"
      ],
      "metadata": {
        "colab": {
          "base_uri": "https://localhost:8080/",
          "height": 557
        },
        "id": "KSrweJ7gCntr",
        "outputId": "19817aba-38bc-4012-9d86-ca5c0d7a9d7d"
      },
      "execution_count": null,
      "outputs": [
        {
          "output_type": "execute_result",
          "data": {
            "text/plain": [
              "      Unnamed: 0                           circle_uuid  \\\n",
              "14812      14812  0bb0e7aa-5e1a-4c40-8ba9-ebc43319bf70   \n",
              "22045      22045  00005ac7-e242-d551-c01e-36e3cb720002   \n",
              "34443      34443  00005b1e-0625-d551-c01d-9f1fc65d0002   \n",
              "34925      34925  dd6c1b0d-193e-4e37-a19c-d937368f1b7f   \n",
              "40095      40095  9eac4fbe-11c5-4100-ad38-60d3ca68da7a   \n",
              "\n",
              "                                       title  media_count  has_greek_words  \\\n",
              "14812              Sunflower field 2021 0728         60.0            False   \n",
              "22045  Jillianne’s half day spent at work...          3.0            False   \n",
              "34443                   mcdonalds summer job         29.0            False   \n",
              "34925                        kappa work week       1141.0             True   \n",
              "40095     William Kramer job-99430 SR-837707         33.0            False   \n",
              "\n",
              "      real_estate_keywords  is_real_estate solar_keywords  is_solar  \\\n",
              "14812                   []           False             []     False   \n",
              "22045                   []           False             []     False   \n",
              "34443                   []           False             []     False   \n",
              "34925                   []           False             []     False   \n",
              "40095                   []           False             []     False   \n",
              "\n",
              "      event_keywords  is_event occupation_keywords  is_occupation  \n",
              "14812             []     False             [field]           True  \n",
              "22045             []     False              [work]           True  \n",
              "34443             []     False               [job]           True  \n",
              "34925             []     False              [work]           True  \n",
              "40095             []     False               [job]           True  "
            ],
            "text/html": [
              "\n",
              "  <div id=\"df-42df8ef4-43c2-4131-9d64-b883e8aab801\">\n",
              "    <div class=\"colab-df-container\">\n",
              "      <div>\n",
              "<style scoped>\n",
              "    .dataframe tbody tr th:only-of-type {\n",
              "        vertical-align: middle;\n",
              "    }\n",
              "\n",
              "    .dataframe tbody tr th {\n",
              "        vertical-align: top;\n",
              "    }\n",
              "\n",
              "    .dataframe thead th {\n",
              "        text-align: right;\n",
              "    }\n",
              "</style>\n",
              "<table border=\"1\" class=\"dataframe\">\n",
              "  <thead>\n",
              "    <tr style=\"text-align: right;\">\n",
              "      <th></th>\n",
              "      <th>Unnamed: 0</th>\n",
              "      <th>circle_uuid</th>\n",
              "      <th>title</th>\n",
              "      <th>media_count</th>\n",
              "      <th>has_greek_words</th>\n",
              "      <th>real_estate_keywords</th>\n",
              "      <th>is_real_estate</th>\n",
              "      <th>solar_keywords</th>\n",
              "      <th>is_solar</th>\n",
              "      <th>event_keywords</th>\n",
              "      <th>is_event</th>\n",
              "      <th>occupation_keywords</th>\n",
              "      <th>is_occupation</th>\n",
              "    </tr>\n",
              "  </thead>\n",
              "  <tbody>\n",
              "    <tr>\n",
              "      <th>14812</th>\n",
              "      <td>14812</td>\n",
              "      <td>0bb0e7aa-5e1a-4c40-8ba9-ebc43319bf70</td>\n",
              "      <td>Sunflower field 2021 0728</td>\n",
              "      <td>60.0</td>\n",
              "      <td>False</td>\n",
              "      <td>[]</td>\n",
              "      <td>False</td>\n",
              "      <td>[]</td>\n",
              "      <td>False</td>\n",
              "      <td>[]</td>\n",
              "      <td>False</td>\n",
              "      <td>[field]</td>\n",
              "      <td>True</td>\n",
              "    </tr>\n",
              "    <tr>\n",
              "      <th>22045</th>\n",
              "      <td>22045</td>\n",
              "      <td>00005ac7-e242-d551-c01e-36e3cb720002</td>\n",
              "      <td>Jillianne’s half day spent at work...</td>\n",
              "      <td>3.0</td>\n",
              "      <td>False</td>\n",
              "      <td>[]</td>\n",
              "      <td>False</td>\n",
              "      <td>[]</td>\n",
              "      <td>False</td>\n",
              "      <td>[]</td>\n",
              "      <td>False</td>\n",
              "      <td>[work]</td>\n",
              "      <td>True</td>\n",
              "    </tr>\n",
              "    <tr>\n",
              "      <th>34443</th>\n",
              "      <td>34443</td>\n",
              "      <td>00005b1e-0625-d551-c01d-9f1fc65d0002</td>\n",
              "      <td>mcdonalds summer job</td>\n",
              "      <td>29.0</td>\n",
              "      <td>False</td>\n",
              "      <td>[]</td>\n",
              "      <td>False</td>\n",
              "      <td>[]</td>\n",
              "      <td>False</td>\n",
              "      <td>[]</td>\n",
              "      <td>False</td>\n",
              "      <td>[job]</td>\n",
              "      <td>True</td>\n",
              "    </tr>\n",
              "    <tr>\n",
              "      <th>34925</th>\n",
              "      <td>34925</td>\n",
              "      <td>dd6c1b0d-193e-4e37-a19c-d937368f1b7f</td>\n",
              "      <td>kappa work week</td>\n",
              "      <td>1141.0</td>\n",
              "      <td>True</td>\n",
              "      <td>[]</td>\n",
              "      <td>False</td>\n",
              "      <td>[]</td>\n",
              "      <td>False</td>\n",
              "      <td>[]</td>\n",
              "      <td>False</td>\n",
              "      <td>[work]</td>\n",
              "      <td>True</td>\n",
              "    </tr>\n",
              "    <tr>\n",
              "      <th>40095</th>\n",
              "      <td>40095</td>\n",
              "      <td>9eac4fbe-11c5-4100-ad38-60d3ca68da7a</td>\n",
              "      <td>William Kramer job-99430 SR-837707</td>\n",
              "      <td>33.0</td>\n",
              "      <td>False</td>\n",
              "      <td>[]</td>\n",
              "      <td>False</td>\n",
              "      <td>[]</td>\n",
              "      <td>False</td>\n",
              "      <td>[]</td>\n",
              "      <td>False</td>\n",
              "      <td>[job]</td>\n",
              "      <td>True</td>\n",
              "    </tr>\n",
              "  </tbody>\n",
              "</table>\n",
              "</div>\n",
              "      <button class=\"colab-df-convert\" onclick=\"convertToInteractive('df-42df8ef4-43c2-4131-9d64-b883e8aab801')\"\n",
              "              title=\"Convert this dataframe to an interactive table.\"\n",
              "              style=\"display:none;\">\n",
              "        \n",
              "  <svg xmlns=\"http://www.w3.org/2000/svg\" height=\"24px\"viewBox=\"0 0 24 24\"\n",
              "       width=\"24px\">\n",
              "    <path d=\"M0 0h24v24H0V0z\" fill=\"none\"/>\n",
              "    <path d=\"M18.56 5.44l.94 2.06.94-2.06 2.06-.94-2.06-.94-.94-2.06-.94 2.06-2.06.94zm-11 1L8.5 8.5l.94-2.06 2.06-.94-2.06-.94L8.5 2.5l-.94 2.06-2.06.94zm10 10l.94 2.06.94-2.06 2.06-.94-2.06-.94-.94-2.06-.94 2.06-2.06.94z\"/><path d=\"M17.41 7.96l-1.37-1.37c-.4-.4-.92-.59-1.43-.59-.52 0-1.04.2-1.43.59L10.3 9.45l-7.72 7.72c-.78.78-.78 2.05 0 2.83L4 21.41c.39.39.9.59 1.41.59.51 0 1.02-.2 1.41-.59l7.78-7.78 2.81-2.81c.8-.78.8-2.07 0-2.86zM5.41 20L4 18.59l7.72-7.72 1.47 1.35L5.41 20z\"/>\n",
              "  </svg>\n",
              "      </button>\n",
              "      \n",
              "  <style>\n",
              "    .colab-df-container {\n",
              "      display:flex;\n",
              "      flex-wrap:wrap;\n",
              "      gap: 12px;\n",
              "    }\n",
              "\n",
              "    .colab-df-convert {\n",
              "      background-color: #E8F0FE;\n",
              "      border: none;\n",
              "      border-radius: 50%;\n",
              "      cursor: pointer;\n",
              "      display: none;\n",
              "      fill: #1967D2;\n",
              "      height: 32px;\n",
              "      padding: 0 0 0 0;\n",
              "      width: 32px;\n",
              "    }\n",
              "\n",
              "    .colab-df-convert:hover {\n",
              "      background-color: #E2EBFA;\n",
              "      box-shadow: 0px 1px 2px rgba(60, 64, 67, 0.3), 0px 1px 3px 1px rgba(60, 64, 67, 0.15);\n",
              "      fill: #174EA6;\n",
              "    }\n",
              "\n",
              "    [theme=dark] .colab-df-convert {\n",
              "      background-color: #3B4455;\n",
              "      fill: #D2E3FC;\n",
              "    }\n",
              "\n",
              "    [theme=dark] .colab-df-convert:hover {\n",
              "      background-color: #434B5C;\n",
              "      box-shadow: 0px 1px 3px 1px rgba(0, 0, 0, 0.15);\n",
              "      filter: drop-shadow(0px 1px 2px rgba(0, 0, 0, 0.3));\n",
              "      fill: #FFFFFF;\n",
              "    }\n",
              "  </style>\n",
              "\n",
              "      <script>\n",
              "        const buttonEl =\n",
              "          document.querySelector('#df-42df8ef4-43c2-4131-9d64-b883e8aab801 button.colab-df-convert');\n",
              "        buttonEl.style.display =\n",
              "          google.colab.kernel.accessAllowed ? 'block' : 'none';\n",
              "\n",
              "        async function convertToInteractive(key) {\n",
              "          const element = document.querySelector('#df-42df8ef4-43c2-4131-9d64-b883e8aab801');\n",
              "          const dataTable =\n",
              "            await google.colab.kernel.invokeFunction('convertToInteractive',\n",
              "                                                     [key], {});\n",
              "          if (!dataTable) return;\n",
              "\n",
              "          const docLinkHtml = 'Like what you see? Visit the ' +\n",
              "            '<a target=\"_blank\" href=https://colab.research.google.com/notebooks/data_table.ipynb>data table notebook</a>'\n",
              "            + ' to learn more about interactive tables.';\n",
              "          element.innerHTML = '';\n",
              "          dataTable['output_type'] = 'display_data';\n",
              "          await google.colab.output.renderOutput(dataTable, element);\n",
              "          const docLink = document.createElement('div');\n",
              "          docLink.innerHTML = docLinkHtml;\n",
              "          element.appendChild(docLink);\n",
              "        }\n",
              "      </script>\n",
              "    </div>\n",
              "  </div>\n",
              "  "
            ]
          },
          "metadata": {},
          "execution_count": 78
        }
      ]
    },
    {
      "cell_type": "code",
      "source": [
        "len(circles[circles['is_occupation']])"
      ],
      "metadata": {
        "colab": {
          "base_uri": "https://localhost:8080/"
        },
        "id": "UznNasma1QPY",
        "outputId": "2fdd8b1b-ba0f-429f-ce3c-04ee6812c823"
      },
      "execution_count": null,
      "outputs": [
        {
          "output_type": "execute_result",
          "data": {
            "text/plain": [
              "406"
            ]
          },
          "metadata": {},
          "execution_count": 79
        }
      ]
    },
    {
      "cell_type": "code",
      "source": [
        "round(len(circles[circles['is_occupation']])/len(circles)*100,2)"
      ],
      "metadata": {
        "colab": {
          "base_uri": "https://localhost:8080/"
        },
        "id": "seNBd2t71QeZ",
        "outputId": "398c71ce-692d-4778-b911-3eef0575f339"
      },
      "execution_count": null,
      "outputs": [
        {
          "output_type": "execute_result",
          "data": {
            "text/plain": [
              "0.02"
            ]
          },
          "metadata": {},
          "execution_count": 80
        }
      ]
    },
    {
      "cell_type": "code",
      "source": [
        "circles[circles['is_occupation']]['media_count'].sum()"
      ],
      "metadata": {
        "colab": {
          "base_uri": "https://localhost:8080/"
        },
        "id": "uBm6Da321Qm5",
        "outputId": "c146e1ec-f441-4398-eaa5-4c2aa777a2c3"
      },
      "execution_count": null,
      "outputs": [
        {
          "output_type": "execute_result",
          "data": {
            "text/plain": [
              "55678.0"
            ]
          },
          "metadata": {},
          "execution_count": 81
        }
      ]
    },
    {
      "cell_type": "code",
      "source": [
        "circles['media_count'].sum()"
      ],
      "metadata": {
        "colab": {
          "base_uri": "https://localhost:8080/"
        },
        "id": "7lONfcLb1QqE",
        "outputId": "598b074d-bcbe-43c0-be57-8fbc1811ae48"
      },
      "execution_count": null,
      "outputs": [
        {
          "output_type": "execute_result",
          "data": {
            "text/plain": [
              "341813160.0"
            ]
          },
          "metadata": {},
          "execution_count": 82
        }
      ]
    },
    {
      "cell_type": "code",
      "source": [
        "round(circles[circles['is_occupation']]['media_count'].sum()/circles['media_count'].sum()*100,2)"
      ],
      "metadata": {
        "colab": {
          "base_uri": "https://localhost:8080/"
        },
        "id": "dXkhtQ1h1Qtv",
        "outputId": "e698e9e1-7933-4857-dc9d-21f0d267df2d"
      },
      "execution_count": null,
      "outputs": [
        {
          "output_type": "execute_result",
          "data": {
            "text/plain": [
              "0.02"
            ]
          },
          "metadata": {},
          "execution_count": 83
        }
      ]
    },
    {
      "cell_type": "code",
      "source": [
        "circles['occupation_keywords'].apply(tuple).unique()"
      ],
      "metadata": {
        "colab": {
          "base_uri": "https://localhost:8080/"
        },
        "id": "UR-oh13m1QxW",
        "outputId": "1b310958-d6e1-4cf8-9603-19e671f04534"
      },
      "execution_count": null,
      "outputs": [
        {
          "output_type": "execute_result",
          "data": {
            "text/plain": [
              "array([(), ('Field',), ('Job',), ('Work',), ('JOB',), ('Trade',),\n",
              "       ('field',), ('Career',), ('work',), ('Position',), ('WORK',),\n",
              "       ('job',), ('Employment',), ('Work', 'Work'),\n",
              "       ('Work', 'Work', 'Work', 'Work', 'Work'), ('CAREER',), ('FIELD',),\n",
              "       ('Vocation',), ('work', 'work', 'work'), ('trade',),\n",
              "       ('Work', 'Work', 'Work'), ('Profession',), ('career',), ('JoB',),\n",
              "       ('Job', 'Job'), ('work', 'field'), ('Career', 'Field'),\n",
              "       ('Work', 'Job'), ('Field', 'Career'), ('Field', 'Work'),\n",
              "       ('Work', 'work'), ('work', 'Work', 'Work', 'Work', 'Work', 'Work'),\n",
              "       ('Work', 'Field'), ('Field', 'Field'), ('WORK', 'WORK'),\n",
              "       ('Job', 'JOB'), ('FIeld',), ('position',), ('JOB', 'JOB'),\n",
              "       ('Job', 'Field'), ('Occupation',), ('TRADE',)], dtype=object)"
            ]
          },
          "metadata": {},
          "execution_count": 84
        }
      ]
    },
    {
      "cell_type": "markdown",
      "source": [
        "#**Add Animals Tags**"
      ],
      "metadata": {
        "id": "sZ7PEpNNiio0"
      }
    },
    {
      "cell_type": "code",
      "source": [
        "# Define a list of part-of-speech tags for pet or animal-related words\n",
        "animal_tags = ['NN', 'NNS', 'NNP', 'NNPS', 'JJ']\n",
        "\n",
        "# Define a list of pet or animal-related words\n",
        "animal_words = ['pet', 'animal', 'dog', 'cat', 'fish', 'bird', 'hamster', 'turtle', 'snake', 'rabbit',\n",
        "                'mouse', 'guinea pig', 'ferret', 'chinchilla', 'hedgehog', 'parrot', 'canary', 'cockatiel', 'iguana',\n",
        "                'gecko', 'tarantula', 'scorpion', 'bee', 'butterfly', 'spider', 'ladybug', 'ant', 'grasshopper',\n",
        "                'cricket', 'dragonfly', 'snail', 'slug', 'worm', 'leech', 'octopus', 'squid', 'jellyfish', 'seahorse',\n",
        "                'shark', 'whale', 'dolphin', 'sea turtle', 'penguin', 'polar bear', 'elephant', 'giraffe', 'lion',\n",
        "                'tiger', 'bear', 'gorilla', 'monkey', 'zebra', 'horse', 'cow', 'pig', 'sheep', 'goat', 'chicken',\n",
        "                'duck', 'turkey', 'bee', 'insect', 'arachnid', 'crustacean', 'mollusk']\n",
        "\n",
        "# Define the regular expression pattern to extract pet or animal-related keywords\n",
        "pattern = r'\\b(?:%s)\\b' % '|'.join(animal_words)\n",
        "\n",
        "# Extract pet or animal-related keywords from the 'title' column and save to a new column called 'animal_keywords'\n",
        "circles['animal_keywords'] = circles['title'].str.findall(pattern, flags=re.IGNORECASE)\n",
        "\n",
        "# Define a function to check if a string contains pet or animal-related tags or keywords\n",
        "def is_animal(title):\n",
        "    # Extract pet or animal-related keywords from the title\n",
        "    keywords = re.findall(pattern, title, flags=re.IGNORECASE)\n",
        "    # Tokenize the title and tag the parts of speech\n",
        "    tokens = nltk.word_tokenize(title)\n",
        "    pos_tags = nltk.pos_tag(tokens)\n",
        "    # Check if any pet or animal-related tags or keywords are present in the title\n",
        "    if any(tag in animal_tags and (word in animal_words) for word, tag in pos_tags):\n",
        "        return True\n",
        "    elif any(word in animal_words for word in keywords):\n",
        "        return True\n",
        "    return False\n",
        "\n",
        "# Apply the 'is_animal' function to each value in the 'title' column and save the results to a new column called 'is_animal'\n",
        "circles['is_animal'] = circles['title'].apply(is_animal)\n"
      ],
      "metadata": {
        "id": "f71VP2PdEPkF"
      },
      "execution_count": null,
      "outputs": []
    },
    {
      "cell_type": "code",
      "source": [
        "circles[circles['is_animal']]"
      ],
      "metadata": {
        "colab": {
          "base_uri": "https://localhost:8080/",
          "height": 993
        },
        "id": "mCc04bMNGkvU",
        "outputId": "0123710d-d1ef-44cd-d820-0f554092cb7a"
      },
      "execution_count": null,
      "outputs": [
        {
          "output_type": "execute_result",
          "data": {
            "text/plain": [
              "                                  circle_uuid  \\\n",
              "1336     da0add50-3f74-4952-80c3-fd8e387d9ed7   \n",
              "9227     7233c9d1-069a-4a1d-99dd-5e9bdd2b4eaa   \n",
              "17836    109a270d-431c-405e-9619-93e17bb5b540   \n",
              "22670    00005711-32b8-d551-c04c-b2b73c190002   \n",
              "23130    cb4d2730-e110-49d9-a151-7df7f383c253   \n",
              "...                                       ...   \n",
              "1204496  000055f7-212a-d170-be37-97f114870002   \n",
              "1204735  58e9d4a5-3fd5-438e-bed0-75f983635aa9   \n",
              "1213851  00005dde-edd9-f8d1-c10d-108a5cd60002   \n",
              "1216874  db568840-9dad-4176-be8a-c9a1b7eaee20   \n",
              "1216976  0707f80b-ffc0-4037-8e7c-3f8181c0315c   \n",
              "\n",
              "                                        title media_count has_greek_words  \\\n",
              "1336                 alpha chi chicken thighs        7635            True   \n",
              "9227                             fuck go fish        2592           False   \n",
              "17836    Roadtrip and New york chicken strips        1746           False   \n",
              "22670                        lee animal farm         1514           False   \n",
              "23130                            penguin pals        1495           False   \n",
              "...                                       ...         ...             ...   \n",
              "1204496                                   dog          42           False   \n",
              "1204735  Dawson's 11th bday & goat visit 2022          42           False   \n",
              "1213851                            turkey day          41           False   \n",
              "1216874                 12b zebra celebration          41           False   \n",
              "1216976                2022.3.12 dog dog pics          41           False   \n",
              "\n",
              "        destination_names         people_names        places sports nature  \\\n",
              "1336                alpha                   []            []     []     []   \n",
              "9227                 fuck                   []            []     []     []   \n",
              "17836            Roadtrip                   []  ['New york']     []     []   \n",
              "22670                 lee  ['lee animal farm']            []     []     []   \n",
              "23130             penguin                   []            []     []     []   \n",
              "...                   ...                  ...           ...    ...    ...   \n",
              "1204496               dog                   []            []     []     []   \n",
              "1204735            Dawson                   []    ['Dawson']     []     []   \n",
              "1213851            turkey                   []            []     []     []   \n",
              "1216874             zebra                   []            []     []     []   \n",
              "1216976               dog                   []            []     []     []   \n",
              "\n",
              "            dates  ... real_estate_keywords is_real_estate solar_keywords  \\\n",
              "1336           []  ...                   []          False             []   \n",
              "9227           []  ...                   []          False             []   \n",
              "17836          []  ...                   []          False             []   \n",
              "22670          []  ...                   []          False             []   \n",
              "23130          []  ...                   []          False             []   \n",
              "...           ...  ...                  ...            ...            ...   \n",
              "1204496        []  ...                   []          False             []   \n",
              "1204735  ['2022']  ...                   []          False             []   \n",
              "1213851        []  ...                   []          False             []   \n",
              "1216874        []  ...                   []          False             []   \n",
              "1216976        []  ...                   []          False             []   \n",
              "\n",
              "        is_solar event_keywords is_event  occupation_keywords is_occupation  \\\n",
              "1336       False             []    False                   []         False   \n",
              "9227       False             []    False                   []         False   \n",
              "17836      False             []    False                   []         False   \n",
              "22670      False             []    False                   []         False   \n",
              "23130      False             []    False                   []         False   \n",
              "...          ...            ...      ...                  ...           ...   \n",
              "1204496    False             []    False                   []         False   \n",
              "1204735    False             []    False                   []         False   \n",
              "1213851    False             []    False                   []         False   \n",
              "1216874    False  [celebration]     True                   []         False   \n",
              "1216976    False             []    False                   []         False   \n",
              "\n",
              "         animal_keywords is_animal  \n",
              "1336           [chicken]      True  \n",
              "9227              [fish]      True  \n",
              "17836          [chicken]      True  \n",
              "22670           [animal]      True  \n",
              "23130          [penguin]      True  \n",
              "...                  ...       ...  \n",
              "1204496            [dog]      True  \n",
              "1204735           [goat]      True  \n",
              "1213851         [turkey]      True  \n",
              "1216874          [zebra]      True  \n",
              "1216976       [dog, dog]      True  \n",
              "\n",
              "[356 rows x 25 columns]"
            ],
            "text/html": [
              "\n",
              "  <div id=\"df-5bf7fa2a-1d67-491e-84d2-ba420847e395\">\n",
              "    <div class=\"colab-df-container\">\n",
              "      <div>\n",
              "<style scoped>\n",
              "    .dataframe tbody tr th:only-of-type {\n",
              "        vertical-align: middle;\n",
              "    }\n",
              "\n",
              "    .dataframe tbody tr th {\n",
              "        vertical-align: top;\n",
              "    }\n",
              "\n",
              "    .dataframe thead th {\n",
              "        text-align: right;\n",
              "    }\n",
              "</style>\n",
              "<table border=\"1\" class=\"dataframe\">\n",
              "  <thead>\n",
              "    <tr style=\"text-align: right;\">\n",
              "      <th></th>\n",
              "      <th>circle_uuid</th>\n",
              "      <th>title</th>\n",
              "      <th>media_count</th>\n",
              "      <th>has_greek_words</th>\n",
              "      <th>destination_names</th>\n",
              "      <th>people_names</th>\n",
              "      <th>places</th>\n",
              "      <th>sports</th>\n",
              "      <th>nature</th>\n",
              "      <th>dates</th>\n",
              "      <th>...</th>\n",
              "      <th>real_estate_keywords</th>\n",
              "      <th>is_real_estate</th>\n",
              "      <th>solar_keywords</th>\n",
              "      <th>is_solar</th>\n",
              "      <th>event_keywords</th>\n",
              "      <th>is_event</th>\n",
              "      <th>occupation_keywords</th>\n",
              "      <th>is_occupation</th>\n",
              "      <th>animal_keywords</th>\n",
              "      <th>is_animal</th>\n",
              "    </tr>\n",
              "  </thead>\n",
              "  <tbody>\n",
              "    <tr>\n",
              "      <th>1336</th>\n",
              "      <td>da0add50-3f74-4952-80c3-fd8e387d9ed7</td>\n",
              "      <td>alpha chi chicken thighs</td>\n",
              "      <td>7635</td>\n",
              "      <td>True</td>\n",
              "      <td>alpha</td>\n",
              "      <td>[]</td>\n",
              "      <td>[]</td>\n",
              "      <td>[]</td>\n",
              "      <td>[]</td>\n",
              "      <td>[]</td>\n",
              "      <td>...</td>\n",
              "      <td>[]</td>\n",
              "      <td>False</td>\n",
              "      <td>[]</td>\n",
              "      <td>False</td>\n",
              "      <td>[]</td>\n",
              "      <td>False</td>\n",
              "      <td>[]</td>\n",
              "      <td>False</td>\n",
              "      <td>[chicken]</td>\n",
              "      <td>True</td>\n",
              "    </tr>\n",
              "    <tr>\n",
              "      <th>9227</th>\n",
              "      <td>7233c9d1-069a-4a1d-99dd-5e9bdd2b4eaa</td>\n",
              "      <td>fuck go fish</td>\n",
              "      <td>2592</td>\n",
              "      <td>False</td>\n",
              "      <td>fuck</td>\n",
              "      <td>[]</td>\n",
              "      <td>[]</td>\n",
              "      <td>[]</td>\n",
              "      <td>[]</td>\n",
              "      <td>[]</td>\n",
              "      <td>...</td>\n",
              "      <td>[]</td>\n",
              "      <td>False</td>\n",
              "      <td>[]</td>\n",
              "      <td>False</td>\n",
              "      <td>[]</td>\n",
              "      <td>False</td>\n",
              "      <td>[]</td>\n",
              "      <td>False</td>\n",
              "      <td>[fish]</td>\n",
              "      <td>True</td>\n",
              "    </tr>\n",
              "    <tr>\n",
              "      <th>17836</th>\n",
              "      <td>109a270d-431c-405e-9619-93e17bb5b540</td>\n",
              "      <td>Roadtrip and New york chicken strips</td>\n",
              "      <td>1746</td>\n",
              "      <td>False</td>\n",
              "      <td>Roadtrip</td>\n",
              "      <td>[]</td>\n",
              "      <td>['New york']</td>\n",
              "      <td>[]</td>\n",
              "      <td>[]</td>\n",
              "      <td>[]</td>\n",
              "      <td>...</td>\n",
              "      <td>[]</td>\n",
              "      <td>False</td>\n",
              "      <td>[]</td>\n",
              "      <td>False</td>\n",
              "      <td>[]</td>\n",
              "      <td>False</td>\n",
              "      <td>[]</td>\n",
              "      <td>False</td>\n",
              "      <td>[chicken]</td>\n",
              "      <td>True</td>\n",
              "    </tr>\n",
              "    <tr>\n",
              "      <th>22670</th>\n",
              "      <td>00005711-32b8-d551-c04c-b2b73c190002</td>\n",
              "      <td>lee animal farm</td>\n",
              "      <td>1514</td>\n",
              "      <td>False</td>\n",
              "      <td>lee</td>\n",
              "      <td>['lee animal farm']</td>\n",
              "      <td>[]</td>\n",
              "      <td>[]</td>\n",
              "      <td>[]</td>\n",
              "      <td>[]</td>\n",
              "      <td>...</td>\n",
              "      <td>[]</td>\n",
              "      <td>False</td>\n",
              "      <td>[]</td>\n",
              "      <td>False</td>\n",
              "      <td>[]</td>\n",
              "      <td>False</td>\n",
              "      <td>[]</td>\n",
              "      <td>False</td>\n",
              "      <td>[animal]</td>\n",
              "      <td>True</td>\n",
              "    </tr>\n",
              "    <tr>\n",
              "      <th>23130</th>\n",
              "      <td>cb4d2730-e110-49d9-a151-7df7f383c253</td>\n",
              "      <td>penguin pals</td>\n",
              "      <td>1495</td>\n",
              "      <td>False</td>\n",
              "      <td>penguin</td>\n",
              "      <td>[]</td>\n",
              "      <td>[]</td>\n",
              "      <td>[]</td>\n",
              "      <td>[]</td>\n",
              "      <td>[]</td>\n",
              "      <td>...</td>\n",
              "      <td>[]</td>\n",
              "      <td>False</td>\n",
              "      <td>[]</td>\n",
              "      <td>False</td>\n",
              "      <td>[]</td>\n",
              "      <td>False</td>\n",
              "      <td>[]</td>\n",
              "      <td>False</td>\n",
              "      <td>[penguin]</td>\n",
              "      <td>True</td>\n",
              "    </tr>\n",
              "    <tr>\n",
              "      <th>...</th>\n",
              "      <td>...</td>\n",
              "      <td>...</td>\n",
              "      <td>...</td>\n",
              "      <td>...</td>\n",
              "      <td>...</td>\n",
              "      <td>...</td>\n",
              "      <td>...</td>\n",
              "      <td>...</td>\n",
              "      <td>...</td>\n",
              "      <td>...</td>\n",
              "      <td>...</td>\n",
              "      <td>...</td>\n",
              "      <td>...</td>\n",
              "      <td>...</td>\n",
              "      <td>...</td>\n",
              "      <td>...</td>\n",
              "      <td>...</td>\n",
              "      <td>...</td>\n",
              "      <td>...</td>\n",
              "      <td>...</td>\n",
              "      <td>...</td>\n",
              "    </tr>\n",
              "    <tr>\n",
              "      <th>1204496</th>\n",
              "      <td>000055f7-212a-d170-be37-97f114870002</td>\n",
              "      <td>dog</td>\n",
              "      <td>42</td>\n",
              "      <td>False</td>\n",
              "      <td>dog</td>\n",
              "      <td>[]</td>\n",
              "      <td>[]</td>\n",
              "      <td>[]</td>\n",
              "      <td>[]</td>\n",
              "      <td>[]</td>\n",
              "      <td>...</td>\n",
              "      <td>[]</td>\n",
              "      <td>False</td>\n",
              "      <td>[]</td>\n",
              "      <td>False</td>\n",
              "      <td>[]</td>\n",
              "      <td>False</td>\n",
              "      <td>[]</td>\n",
              "      <td>False</td>\n",
              "      <td>[dog]</td>\n",
              "      <td>True</td>\n",
              "    </tr>\n",
              "    <tr>\n",
              "      <th>1204735</th>\n",
              "      <td>58e9d4a5-3fd5-438e-bed0-75f983635aa9</td>\n",
              "      <td>Dawson's 11th bday &amp; goat visit 2022</td>\n",
              "      <td>42</td>\n",
              "      <td>False</td>\n",
              "      <td>Dawson</td>\n",
              "      <td>[]</td>\n",
              "      <td>['Dawson']</td>\n",
              "      <td>[]</td>\n",
              "      <td>[]</td>\n",
              "      <td>['2022']</td>\n",
              "      <td>...</td>\n",
              "      <td>[]</td>\n",
              "      <td>False</td>\n",
              "      <td>[]</td>\n",
              "      <td>False</td>\n",
              "      <td>[]</td>\n",
              "      <td>False</td>\n",
              "      <td>[]</td>\n",
              "      <td>False</td>\n",
              "      <td>[goat]</td>\n",
              "      <td>True</td>\n",
              "    </tr>\n",
              "    <tr>\n",
              "      <th>1213851</th>\n",
              "      <td>00005dde-edd9-f8d1-c10d-108a5cd60002</td>\n",
              "      <td>turkey day</td>\n",
              "      <td>41</td>\n",
              "      <td>False</td>\n",
              "      <td>turkey</td>\n",
              "      <td>[]</td>\n",
              "      <td>[]</td>\n",
              "      <td>[]</td>\n",
              "      <td>[]</td>\n",
              "      <td>[]</td>\n",
              "      <td>...</td>\n",
              "      <td>[]</td>\n",
              "      <td>False</td>\n",
              "      <td>[]</td>\n",
              "      <td>False</td>\n",
              "      <td>[]</td>\n",
              "      <td>False</td>\n",
              "      <td>[]</td>\n",
              "      <td>False</td>\n",
              "      <td>[turkey]</td>\n",
              "      <td>True</td>\n",
              "    </tr>\n",
              "    <tr>\n",
              "      <th>1216874</th>\n",
              "      <td>db568840-9dad-4176-be8a-c9a1b7eaee20</td>\n",
              "      <td>12b zebra celebration</td>\n",
              "      <td>41</td>\n",
              "      <td>False</td>\n",
              "      <td>zebra</td>\n",
              "      <td>[]</td>\n",
              "      <td>[]</td>\n",
              "      <td>[]</td>\n",
              "      <td>[]</td>\n",
              "      <td>[]</td>\n",
              "      <td>...</td>\n",
              "      <td>[]</td>\n",
              "      <td>False</td>\n",
              "      <td>[]</td>\n",
              "      <td>False</td>\n",
              "      <td>[celebration]</td>\n",
              "      <td>True</td>\n",
              "      <td>[]</td>\n",
              "      <td>False</td>\n",
              "      <td>[zebra]</td>\n",
              "      <td>True</td>\n",
              "    </tr>\n",
              "    <tr>\n",
              "      <th>1216976</th>\n",
              "      <td>0707f80b-ffc0-4037-8e7c-3f8181c0315c</td>\n",
              "      <td>2022.3.12 dog dog pics</td>\n",
              "      <td>41</td>\n",
              "      <td>False</td>\n",
              "      <td>dog</td>\n",
              "      <td>[]</td>\n",
              "      <td>[]</td>\n",
              "      <td>[]</td>\n",
              "      <td>[]</td>\n",
              "      <td>[]</td>\n",
              "      <td>...</td>\n",
              "      <td>[]</td>\n",
              "      <td>False</td>\n",
              "      <td>[]</td>\n",
              "      <td>False</td>\n",
              "      <td>[]</td>\n",
              "      <td>False</td>\n",
              "      <td>[]</td>\n",
              "      <td>False</td>\n",
              "      <td>[dog, dog]</td>\n",
              "      <td>True</td>\n",
              "    </tr>\n",
              "  </tbody>\n",
              "</table>\n",
              "<p>356 rows × 25 columns</p>\n",
              "</div>\n",
              "      <button class=\"colab-df-convert\" onclick=\"convertToInteractive('df-5bf7fa2a-1d67-491e-84d2-ba420847e395')\"\n",
              "              title=\"Convert this dataframe to an interactive table.\"\n",
              "              style=\"display:none;\">\n",
              "        \n",
              "  <svg xmlns=\"http://www.w3.org/2000/svg\" height=\"24px\"viewBox=\"0 0 24 24\"\n",
              "       width=\"24px\">\n",
              "    <path d=\"M0 0h24v24H0V0z\" fill=\"none\"/>\n",
              "    <path d=\"M18.56 5.44l.94 2.06.94-2.06 2.06-.94-2.06-.94-.94-2.06-.94 2.06-2.06.94zm-11 1L8.5 8.5l.94-2.06 2.06-.94-2.06-.94L8.5 2.5l-.94 2.06-2.06.94zm10 10l.94 2.06.94-2.06 2.06-.94-2.06-.94-.94-2.06-.94 2.06-2.06.94z\"/><path d=\"M17.41 7.96l-1.37-1.37c-.4-.4-.92-.59-1.43-.59-.52 0-1.04.2-1.43.59L10.3 9.45l-7.72 7.72c-.78.78-.78 2.05 0 2.83L4 21.41c.39.39.9.59 1.41.59.51 0 1.02-.2 1.41-.59l7.78-7.78 2.81-2.81c.8-.78.8-2.07 0-2.86zM5.41 20L4 18.59l7.72-7.72 1.47 1.35L5.41 20z\"/>\n",
              "  </svg>\n",
              "      </button>\n",
              "      \n",
              "  <style>\n",
              "    .colab-df-container {\n",
              "      display:flex;\n",
              "      flex-wrap:wrap;\n",
              "      gap: 12px;\n",
              "    }\n",
              "\n",
              "    .colab-df-convert {\n",
              "      background-color: #E8F0FE;\n",
              "      border: none;\n",
              "      border-radius: 50%;\n",
              "      cursor: pointer;\n",
              "      display: none;\n",
              "      fill: #1967D2;\n",
              "      height: 32px;\n",
              "      padding: 0 0 0 0;\n",
              "      width: 32px;\n",
              "    }\n",
              "\n",
              "    .colab-df-convert:hover {\n",
              "      background-color: #E2EBFA;\n",
              "      box-shadow: 0px 1px 2px rgba(60, 64, 67, 0.3), 0px 1px 3px 1px rgba(60, 64, 67, 0.15);\n",
              "      fill: #174EA6;\n",
              "    }\n",
              "\n",
              "    [theme=dark] .colab-df-convert {\n",
              "      background-color: #3B4455;\n",
              "      fill: #D2E3FC;\n",
              "    }\n",
              "\n",
              "    [theme=dark] .colab-df-convert:hover {\n",
              "      background-color: #434B5C;\n",
              "      box-shadow: 0px 1px 3px 1px rgba(0, 0, 0, 0.15);\n",
              "      filter: drop-shadow(0px 1px 2px rgba(0, 0, 0, 0.3));\n",
              "      fill: #FFFFFF;\n",
              "    }\n",
              "  </style>\n",
              "\n",
              "      <script>\n",
              "        const buttonEl =\n",
              "          document.querySelector('#df-5bf7fa2a-1d67-491e-84d2-ba420847e395 button.colab-df-convert');\n",
              "        buttonEl.style.display =\n",
              "          google.colab.kernel.accessAllowed ? 'block' : 'none';\n",
              "\n",
              "        async function convertToInteractive(key) {\n",
              "          const element = document.querySelector('#df-5bf7fa2a-1d67-491e-84d2-ba420847e395');\n",
              "          const dataTable =\n",
              "            await google.colab.kernel.invokeFunction('convertToInteractive',\n",
              "                                                     [key], {});\n",
              "          if (!dataTable) return;\n",
              "\n",
              "          const docLinkHtml = 'Like what you see? Visit the ' +\n",
              "            '<a target=\"_blank\" href=https://colab.research.google.com/notebooks/data_table.ipynb>data table notebook</a>'\n",
              "            + ' to learn more about interactive tables.';\n",
              "          element.innerHTML = '';\n",
              "          dataTable['output_type'] = 'display_data';\n",
              "          await google.colab.output.renderOutput(dataTable, element);\n",
              "          const docLink = document.createElement('div');\n",
              "          docLink.innerHTML = docLinkHtml;\n",
              "          element.appendChild(docLink);\n",
              "        }\n",
              "      </script>\n",
              "    </div>\n",
              "  </div>\n",
              "  "
            ]
          },
          "metadata": {},
          "execution_count": 35
        }
      ]
    },
    {
      "cell_type": "code",
      "source": [
        "len(circles[circles['is_animal']])"
      ],
      "metadata": {
        "colab": {
          "base_uri": "https://localhost:8080/"
        },
        "id": "VMJS-0Hy1yL3",
        "outputId": "cc2cce15-9d40-4e0b-9fbd-c8497ca65157"
      },
      "execution_count": null,
      "outputs": [
        {
          "output_type": "execute_result",
          "data": {
            "text/plain": [
              "570"
            ]
          },
          "metadata": {},
          "execution_count": 87
        }
      ]
    },
    {
      "cell_type": "code",
      "source": [
        "round(len(circles[circles['is_animal']])/len(circles)*100,2)"
      ],
      "metadata": {
        "colab": {
          "base_uri": "https://localhost:8080/"
        },
        "id": "TaRy5ka91yL4",
        "outputId": "f48a4d16-9ce8-48b3-ffcd-461dae491ac0"
      },
      "execution_count": null,
      "outputs": [
        {
          "output_type": "execute_result",
          "data": {
            "text/plain": [
              "0.03"
            ]
          },
          "metadata": {},
          "execution_count": 88
        }
      ]
    },
    {
      "cell_type": "code",
      "source": [
        "circles[circles['is_animal']]['media_count'].sum()"
      ],
      "metadata": {
        "colab": {
          "base_uri": "https://localhost:8080/"
        },
        "id": "k5rm2kvT1yL4",
        "outputId": "8817e1fa-cd2f-4084-91f3-67db225cdfe2"
      },
      "execution_count": null,
      "outputs": [
        {
          "output_type": "execute_result",
          "data": {
            "text/plain": [
              "84834.0"
            ]
          },
          "metadata": {},
          "execution_count": 89
        }
      ]
    },
    {
      "cell_type": "code",
      "source": [
        "circles['media_count'].sum()"
      ],
      "metadata": {
        "colab": {
          "base_uri": "https://localhost:8080/"
        },
        "id": "ABgcgnir1yL5",
        "outputId": "56d06be7-5223-4782-9823-4d694734b8d2"
      },
      "execution_count": null,
      "outputs": [
        {
          "output_type": "execute_result",
          "data": {
            "text/plain": [
              "341813160.0"
            ]
          },
          "metadata": {},
          "execution_count": 90
        }
      ]
    },
    {
      "cell_type": "code",
      "source": [
        "round(circles[circles['is_animal']]['media_count'].sum()/circles['media_count'].sum()*100,2)"
      ],
      "metadata": {
        "colab": {
          "base_uri": "https://localhost:8080/"
        },
        "id": "vpbtsMwN1yL5",
        "outputId": "eef74844-1dee-4428-f3cc-c1eb5449d1a6"
      },
      "execution_count": null,
      "outputs": [
        {
          "output_type": "execute_result",
          "data": {
            "text/plain": [
              "0.02"
            ]
          },
          "metadata": {},
          "execution_count": 91
        }
      ]
    },
    {
      "cell_type": "code",
      "source": [
        "circles['animal_keywords'].apply(tuple).unique()"
      ],
      "metadata": {
        "colab": {
          "base_uri": "https://localhost:8080/"
        },
        "id": "uKllkP6J1yL5",
        "outputId": "e8134243-6d07-4b10-f213-83249504b866"
      },
      "execution_count": null,
      "outputs": [
        {
          "output_type": "execute_result",
          "data": {
            "text/plain": [
              "array([(), ('Shark',), ('Fish',), ('CAT',), ('Animal',), ('Horse',),\n",
              "       ('Bear',), ('Bird',), ('Pig',), ('Ferret',), ('Turkey',),\n",
              "       ('bird',), ('Pet',), ('Goat',), ('Tiger',), ('Mouse',),\n",
              "       ('animal',), ('GOAT',), ('Ant',), ('Chicken',), ('Cat',), ('Dog',),\n",
              "       ('Jellyfish',), ('Polar Bear',), ('Monkey',), ('DOG',),\n",
              "       ('TURKEY',), ('Lion',), ('Hedgehog',), ('Duck', 'Duck'),\n",
              "       ('Snake',), ('Sheep',), ('Whale',), ('BUTTERFLY',), ('Bee',),\n",
              "       ('bear',), ('Duck',), ('PET',), ('CoW',), ('tiger',),\n",
              "       ('Elephant',), ('Rabbit',), ('SPIDER',), ('cow',),\n",
              "       ('Bear', 'Bear'), ('Bear', 'Mouse'), ('Cow',), ('duck',), ('dog',),\n",
              "       ('horse',), ('BEAR',), ('BEE',), ('chicken',), ('Penguin',),\n",
              "       ('Butterfly',), ('cat',), ('Worm',), ('Turtle',), ('lion',),\n",
              "       ('Octopus',), ('SNAKE',), ('Cricket',), ('Giraffe',), ('Dolphin',),\n",
              "       ('fish',), ('goat',), ('DOLPHIN',), ('snake',), ('Zebra',),\n",
              "       ('ELEPHANT',), ('pig',), ('Spider',), ('SHARK',), ('Ladybug',),\n",
              "       ('Scorpion',), ('Tiger', 'Cat'), ('Hamster',), ('turtle',),\n",
              "       ('turkey',), ('DRAGONFLY',), ('Iguana',), ('DOg',), ('Parrot',),\n",
              "       ('Grasshopper',), ('Canary',), ('Squid',), ('DUCK',), ('LION',),\n",
              "       ('Sheep', 'Sheep'), ('mouse',), ('chicken', 'chicken'), ('FISH',),\n",
              "       ('monkey',), ('Lion', 'Tiger'), ('Insect',), ('Dog', 'Spider'),\n",
              "       ('CANARY',), ('Cat', 'Cat'), ('PIG',), ('hamster',), ('Snail',),\n",
              "       ('PARROT',), ('pet',), ('jellyfish',), ('GECKO',), ('ANT',),\n",
              "       ('Slug',), ('Spider', 'Monkey'), ('bee',), ('BeE',), ('Seahorse',),\n",
              "       ('BIRD',), ('Dragonfly',), ('whale',), ('penguin',),\n",
              "       ('Duck', 'duck', 'duck'), ('rabbit',), ('Gorilla',),\n",
              "       ('POLAR BEAR',), ('butterfly',), ('dolphin',), ('cricket',),\n",
              "       ('LadyBug',), ('snail',), ('Lion', 'Fish'), ('elephant',),\n",
              "       ('spider',), ('shark',), ('Cat', 'Bear'), ('Mouse', 'Mouse'),\n",
              "       ('Pig', 'Pig'), ('Bear', 'dog'), ('Elephant', 'Giraffe'),\n",
              "       ('Pet', 'Penguin'), ('DUCk',), ('Polar bear',), ('CHICKEN',),\n",
              "       ('HORSE',), ('Animal', 'Horse'), ('Cat', 'Dog'), ('RABBIT',),\n",
              "       ('Tiger', 'Shark'), ('Pig', 'Parrot'), ('Bear', 'Bear', 'Bear'),\n",
              "       ('Whale', 'shark'), ('Butterfly', 'Bird'), ('Gecko',), ('ANIMAL',),\n",
              "       ('sheep',), ('Fish', 'Fish'), ('Dog', 'Dog'), ('BIRD', 'BEAR'),\n",
              "       ('Sea Turtle',), ('Pet', 'Turkey'), ('COW',), ('Leech',),\n",
              "       ('Turtle', 'Penguin'), ('TURTLE',), ('dog', 'dog'),\n",
              "       ('polar bear',), ('Whale', 'Monkey'), ('COW', 'COW', 'COW'),\n",
              "       ('Guinea Pig',), ('SEAHORSE',), ('canary',), ('guinea pig',),\n",
              "       ('DOG', 'dog'), ('giraffe',), ('Monkey', 'monkey'), ('MOUSE',),\n",
              "       ('bEar',), ('HAMSTER',), ('TIGER',), ('SQUID',), ('Cat', 'fish'),\n",
              "       ('Bird', 'Worm'), ('GOAT', 'Scorpion'), ('SHEEP',),\n",
              "       ('Bear', 'Bird'), ('Tiger', 'Tiger', 'Tiger'), ('Horse', 'Bear'),\n",
              "       ('Mollusk',), ('MONKEY',), ('PENGUIN',), ('ant',), ('Cow', 'Dog'),\n",
              "       ('Dog', 'Cat'), ('shark', 'dog'), ('Goat', 'sheep'),\n",
              "       ('Shark', 'Whale'), ('Pig', 'Turtle'), ('Bear', 'Pig'),\n",
              "       ('Sheep', 'Dog'), ('zebra',), ('Bear', 'Dog'), ('Bird', 'Dog'),\n",
              "       ('Mouse', 'Dog'), ('squid',), ('Bird', 'Bird'), ('Turkey', 'Bear'),\n",
              "       ('Bird', 'dog'), ('Turtle', 'Turtle', 'Turtle'), ('GIRAFFE',),\n",
              "       ('sheep', 'dog'), ('Cat', 'Lion'), ('Animal', 'Dog'), ('CRICKET',),\n",
              "       ('MONKEY', 'BIRD'), ('Shark', 'Dog')], dtype=object)"
            ]
          },
          "metadata": {},
          "execution_count": 92
        }
      ]
    },
    {
      "cell_type": "markdown",
      "source": [
        "# **Add Travel Tags**"
      ],
      "metadata": {
        "id": "7sA0J2gSKfC-"
      }
    },
    {
      "cell_type": "code",
      "source": [
        "# Define a list of part-of-speech tags for travel-related words\n",
        "travel_tags = ['NN', 'NNS', 'NNP', 'NNPS', 'JJ']\n",
        "\n",
        "# Define a list of travel-related words\n",
        "travel_words = [\n",
        "    'travel', 'trip', 'tour', 'vacation', 'adventure',\n",
        "    'journey', 'expedition', 'cruise', 'getaway', 'holiday',\n",
        "    'exploration', 'pilgrimage', 'excursion', 'voyage', 'itinerary',\n",
        "    'destination', 'wanderlust', 'safari', 'trek', 'backpacking',\n",
        "    'camping', 'road trip', 'beach', 'mountains', 'island',\n",
        "    'city break', 'culture', 'history', 'architecture', 'food',\n",
        "    'wine', 'beer', 'festivals', 'music', 'art', 'nature', 'wildlife'\n",
        "]\n",
        "\n",
        "# Define the regular expression pattern to extract destination names\n",
        "pattern = r'(\\b[A-Z][a-z]+(?:[ -][A-Z][a-z]+)*\\b|\\b[a-z]+(?:[ -][A-Z][a-z]+)*\\b)'\n",
        "\n",
        "# Extract destination names from the 'title' column and save to a new column called 'destination_names'\n",
        "circles['destination_names'] = circles['title'].str.extract(pattern, expand=False)\n",
        "\n",
        "# Define a function to check if a string contains travel-related tags or words\n",
        "def is_travel(title):\n",
        "    destination_names = re.findall(pattern, title)\n",
        "    for name in destination_names:\n",
        "        # Tokenize the destination name and tag the parts of speech\n",
        "        tokens = nltk.word_tokenize(name)\n",
        "        pos_tags = nltk.pos_tag(tokens)\n",
        "        # Check if any travel-related tags or words are present in the destination name\n",
        "        if any(tag in travel_tags and (word in travel_words or 'travel' in word) for word, tag in pos_tags):\n",
        "            return True\n",
        "    return False\n",
        "\n",
        "# Apply the 'is_travel' function to each value in the 'title' column and save the results to a new column called 'is_travel'\n",
        "circles['is_travel'] = circles['title'].apply(is_travel)"
      ],
      "metadata": {
        "id": "9UxIxkhYKhL7"
      },
      "execution_count": null,
      "outputs": []
    },
    {
      "cell_type": "code",
      "source": [
        "circles[circles['is_travel']].head()"
      ],
      "metadata": {
        "colab": {
          "base_uri": "https://localhost:8080/",
          "height": 523
        },
        "id": "_5vqubBTK-sj",
        "outputId": "40c4d9b0-a8a4-4730-a10a-e70460dabc6f"
      },
      "execution_count": null,
      "outputs": [
        {
          "output_type": "execute_result",
          "data": {
            "text/plain": [
              "    Unnamed: 0                           circle_uuid  \\\n",
              "151        151  0000538f-72b6-3dab-0506-e16318650002   \n",
              "560        560  00005bc1-4d97-d551-c03b-946e02410002   \n",
              "577        577  00005e3c-dcfa-78bb-8958-02f5a82c0002   \n",
              "604        604  87b088d5-ce76-4495-b727-a6a8f52e5e5c   \n",
              "844        844  4b206189-ff4f-4044-bf26-b99cea87414f   \n",
              "\n",
              "                             title  media_count  has_greek_words  \\\n",
              "151                Kauai trip 2014         45.0            False   \n",
              "560                Smoky mountains        186.0            False   \n",
              "577          Gatlinburg trip 2020          35.0            False   \n",
              "604  Kenzie's 21st birthday cruise        276.0            False   \n",
              "844           Napa girls trip 2022        726.0            False   \n",
              "\n",
              "    real_estate_keywords  is_real_estate solar_keywords  is_solar  \\\n",
              "151                   []           False             []     False   \n",
              "560                   []           False             []     False   \n",
              "577                   []           False             []     False   \n",
              "604                   []           False             []     False   \n",
              "844                   []           False             []     False   \n",
              "\n",
              "    event_keywords  is_event occupation_keywords  is_occupation  \\\n",
              "151             []     False                  []          False   \n",
              "560             []     False                  []          False   \n",
              "577             []     False                  []          False   \n",
              "604             []     False                  []          False   \n",
              "844             []     False                  []          False   \n",
              "\n",
              "    animal_keywords  is_animal destination_names  is_travel  \n",
              "151              []      False             Kauai       True  \n",
              "560              []      False             Smoky       True  \n",
              "577              []      False        Gatlinburg       True  \n",
              "604              []      False            Kenzie       True  \n",
              "844              []      False              Napa       True  "
            ],
            "text/html": [
              "\n",
              "  <div id=\"df-267a0e87-7484-436b-ba2d-ba1587f27641\">\n",
              "    <div class=\"colab-df-container\">\n",
              "      <div>\n",
              "<style scoped>\n",
              "    .dataframe tbody tr th:only-of-type {\n",
              "        vertical-align: middle;\n",
              "    }\n",
              "\n",
              "    .dataframe tbody tr th {\n",
              "        vertical-align: top;\n",
              "    }\n",
              "\n",
              "    .dataframe thead th {\n",
              "        text-align: right;\n",
              "    }\n",
              "</style>\n",
              "<table border=\"1\" class=\"dataframe\">\n",
              "  <thead>\n",
              "    <tr style=\"text-align: right;\">\n",
              "      <th></th>\n",
              "      <th>Unnamed: 0</th>\n",
              "      <th>circle_uuid</th>\n",
              "      <th>title</th>\n",
              "      <th>media_count</th>\n",
              "      <th>has_greek_words</th>\n",
              "      <th>real_estate_keywords</th>\n",
              "      <th>is_real_estate</th>\n",
              "      <th>solar_keywords</th>\n",
              "      <th>is_solar</th>\n",
              "      <th>event_keywords</th>\n",
              "      <th>is_event</th>\n",
              "      <th>occupation_keywords</th>\n",
              "      <th>is_occupation</th>\n",
              "      <th>animal_keywords</th>\n",
              "      <th>is_animal</th>\n",
              "      <th>destination_names</th>\n",
              "      <th>is_travel</th>\n",
              "    </tr>\n",
              "  </thead>\n",
              "  <tbody>\n",
              "    <tr>\n",
              "      <th>151</th>\n",
              "      <td>151</td>\n",
              "      <td>0000538f-72b6-3dab-0506-e16318650002</td>\n",
              "      <td>Kauai trip 2014</td>\n",
              "      <td>45.0</td>\n",
              "      <td>False</td>\n",
              "      <td>[]</td>\n",
              "      <td>False</td>\n",
              "      <td>[]</td>\n",
              "      <td>False</td>\n",
              "      <td>[]</td>\n",
              "      <td>False</td>\n",
              "      <td>[]</td>\n",
              "      <td>False</td>\n",
              "      <td>[]</td>\n",
              "      <td>False</td>\n",
              "      <td>Kauai</td>\n",
              "      <td>True</td>\n",
              "    </tr>\n",
              "    <tr>\n",
              "      <th>560</th>\n",
              "      <td>560</td>\n",
              "      <td>00005bc1-4d97-d551-c03b-946e02410002</td>\n",
              "      <td>Smoky mountains</td>\n",
              "      <td>186.0</td>\n",
              "      <td>False</td>\n",
              "      <td>[]</td>\n",
              "      <td>False</td>\n",
              "      <td>[]</td>\n",
              "      <td>False</td>\n",
              "      <td>[]</td>\n",
              "      <td>False</td>\n",
              "      <td>[]</td>\n",
              "      <td>False</td>\n",
              "      <td>[]</td>\n",
              "      <td>False</td>\n",
              "      <td>Smoky</td>\n",
              "      <td>True</td>\n",
              "    </tr>\n",
              "    <tr>\n",
              "      <th>577</th>\n",
              "      <td>577</td>\n",
              "      <td>00005e3c-dcfa-78bb-8958-02f5a82c0002</td>\n",
              "      <td>Gatlinburg trip 2020</td>\n",
              "      <td>35.0</td>\n",
              "      <td>False</td>\n",
              "      <td>[]</td>\n",
              "      <td>False</td>\n",
              "      <td>[]</td>\n",
              "      <td>False</td>\n",
              "      <td>[]</td>\n",
              "      <td>False</td>\n",
              "      <td>[]</td>\n",
              "      <td>False</td>\n",
              "      <td>[]</td>\n",
              "      <td>False</td>\n",
              "      <td>Gatlinburg</td>\n",
              "      <td>True</td>\n",
              "    </tr>\n",
              "    <tr>\n",
              "      <th>604</th>\n",
              "      <td>604</td>\n",
              "      <td>87b088d5-ce76-4495-b727-a6a8f52e5e5c</td>\n",
              "      <td>Kenzie's 21st birthday cruise</td>\n",
              "      <td>276.0</td>\n",
              "      <td>False</td>\n",
              "      <td>[]</td>\n",
              "      <td>False</td>\n",
              "      <td>[]</td>\n",
              "      <td>False</td>\n",
              "      <td>[]</td>\n",
              "      <td>False</td>\n",
              "      <td>[]</td>\n",
              "      <td>False</td>\n",
              "      <td>[]</td>\n",
              "      <td>False</td>\n",
              "      <td>Kenzie</td>\n",
              "      <td>True</td>\n",
              "    </tr>\n",
              "    <tr>\n",
              "      <th>844</th>\n",
              "      <td>844</td>\n",
              "      <td>4b206189-ff4f-4044-bf26-b99cea87414f</td>\n",
              "      <td>Napa girls trip 2022</td>\n",
              "      <td>726.0</td>\n",
              "      <td>False</td>\n",
              "      <td>[]</td>\n",
              "      <td>False</td>\n",
              "      <td>[]</td>\n",
              "      <td>False</td>\n",
              "      <td>[]</td>\n",
              "      <td>False</td>\n",
              "      <td>[]</td>\n",
              "      <td>False</td>\n",
              "      <td>[]</td>\n",
              "      <td>False</td>\n",
              "      <td>Napa</td>\n",
              "      <td>True</td>\n",
              "    </tr>\n",
              "  </tbody>\n",
              "</table>\n",
              "</div>\n",
              "      <button class=\"colab-df-convert\" onclick=\"convertToInteractive('df-267a0e87-7484-436b-ba2d-ba1587f27641')\"\n",
              "              title=\"Convert this dataframe to an interactive table.\"\n",
              "              style=\"display:none;\">\n",
              "        \n",
              "  <svg xmlns=\"http://www.w3.org/2000/svg\" height=\"24px\"viewBox=\"0 0 24 24\"\n",
              "       width=\"24px\">\n",
              "    <path d=\"M0 0h24v24H0V0z\" fill=\"none\"/>\n",
              "    <path d=\"M18.56 5.44l.94 2.06.94-2.06 2.06-.94-2.06-.94-.94-2.06-.94 2.06-2.06.94zm-11 1L8.5 8.5l.94-2.06 2.06-.94-2.06-.94L8.5 2.5l-.94 2.06-2.06.94zm10 10l.94 2.06.94-2.06 2.06-.94-2.06-.94-.94-2.06-.94 2.06-2.06.94z\"/><path d=\"M17.41 7.96l-1.37-1.37c-.4-.4-.92-.59-1.43-.59-.52 0-1.04.2-1.43.59L10.3 9.45l-7.72 7.72c-.78.78-.78 2.05 0 2.83L4 21.41c.39.39.9.59 1.41.59.51 0 1.02-.2 1.41-.59l7.78-7.78 2.81-2.81c.8-.78.8-2.07 0-2.86zM5.41 20L4 18.59l7.72-7.72 1.47 1.35L5.41 20z\"/>\n",
              "  </svg>\n",
              "      </button>\n",
              "      \n",
              "  <style>\n",
              "    .colab-df-container {\n",
              "      display:flex;\n",
              "      flex-wrap:wrap;\n",
              "      gap: 12px;\n",
              "    }\n",
              "\n",
              "    .colab-df-convert {\n",
              "      background-color: #E8F0FE;\n",
              "      border: none;\n",
              "      border-radius: 50%;\n",
              "      cursor: pointer;\n",
              "      display: none;\n",
              "      fill: #1967D2;\n",
              "      height: 32px;\n",
              "      padding: 0 0 0 0;\n",
              "      width: 32px;\n",
              "    }\n",
              "\n",
              "    .colab-df-convert:hover {\n",
              "      background-color: #E2EBFA;\n",
              "      box-shadow: 0px 1px 2px rgba(60, 64, 67, 0.3), 0px 1px 3px 1px rgba(60, 64, 67, 0.15);\n",
              "      fill: #174EA6;\n",
              "    }\n",
              "\n",
              "    [theme=dark] .colab-df-convert {\n",
              "      background-color: #3B4455;\n",
              "      fill: #D2E3FC;\n",
              "    }\n",
              "\n",
              "    [theme=dark] .colab-df-convert:hover {\n",
              "      background-color: #434B5C;\n",
              "      box-shadow: 0px 1px 3px 1px rgba(0, 0, 0, 0.15);\n",
              "      filter: drop-shadow(0px 1px 2px rgba(0, 0, 0, 0.3));\n",
              "      fill: #FFFFFF;\n",
              "    }\n",
              "  </style>\n",
              "\n",
              "      <script>\n",
              "        const buttonEl =\n",
              "          document.querySelector('#df-267a0e87-7484-436b-ba2d-ba1587f27641 button.colab-df-convert');\n",
              "        buttonEl.style.display =\n",
              "          google.colab.kernel.accessAllowed ? 'block' : 'none';\n",
              "\n",
              "        async function convertToInteractive(key) {\n",
              "          const element = document.querySelector('#df-267a0e87-7484-436b-ba2d-ba1587f27641');\n",
              "          const dataTable =\n",
              "            await google.colab.kernel.invokeFunction('convertToInteractive',\n",
              "                                                     [key], {});\n",
              "          if (!dataTable) return;\n",
              "\n",
              "          const docLinkHtml = 'Like what you see? Visit the ' +\n",
              "            '<a target=\"_blank\" href=https://colab.research.google.com/notebooks/data_table.ipynb>data table notebook</a>'\n",
              "            + ' to learn more about interactive tables.';\n",
              "          element.innerHTML = '';\n",
              "          dataTable['output_type'] = 'display_data';\n",
              "          await google.colab.output.renderOutput(dataTable, element);\n",
              "          const docLink = document.createElement('div');\n",
              "          docLink.innerHTML = docLinkHtml;\n",
              "          element.appendChild(docLink);\n",
              "        }\n",
              "      </script>\n",
              "    </div>\n",
              "  </div>\n",
              "  "
            ]
          },
          "metadata": {},
          "execution_count": 95
        }
      ]
    },
    {
      "cell_type": "code",
      "source": [
        "len(circles[circles['is_travel']])"
      ],
      "metadata": {
        "colab": {
          "base_uri": "https://localhost:8080/"
        },
        "id": "hMkdlj6N2G08",
        "outputId": "fc12af7a-aa5f-40d9-93c6-4f8d3eec34e2"
      },
      "execution_count": null,
      "outputs": [
        {
          "output_type": "execute_result",
          "data": {
            "text/plain": [
              "8195"
            ]
          },
          "metadata": {},
          "execution_count": 96
        }
      ]
    },
    {
      "cell_type": "code",
      "source": [
        "round(len(circles[circles['is_travel']])/len(circles)*100,2)"
      ],
      "metadata": {
        "colab": {
          "base_uri": "https://localhost:8080/"
        },
        "id": "YRPAjOOn2G09",
        "outputId": "6a89fb95-b2c0-4327-d724-dbb8692f776c"
      },
      "execution_count": null,
      "outputs": [
        {
          "output_type": "execute_result",
          "data": {
            "text/plain": [
              "0.44"
            ]
          },
          "metadata": {},
          "execution_count": 97
        }
      ]
    },
    {
      "cell_type": "code",
      "source": [
        "circles[circles['is_travel']]['media_count'].sum()"
      ],
      "metadata": {
        "colab": {
          "base_uri": "https://localhost:8080/"
        },
        "id": "WOhH-y3r2G0-",
        "outputId": "147d7f1d-1306-4645-e8e9-b835782e8f89"
      },
      "execution_count": null,
      "outputs": [
        {
          "output_type": "execute_result",
          "data": {
            "text/plain": [
              "1909054.0"
            ]
          },
          "metadata": {},
          "execution_count": 98
        }
      ]
    },
    {
      "cell_type": "code",
      "source": [
        "circles['media_count'].sum()"
      ],
      "metadata": {
        "colab": {
          "base_uri": "https://localhost:8080/"
        },
        "id": "0nNo4CGu2G0-",
        "outputId": "ea43a140-628c-4739-d5ec-54d6b4440110"
      },
      "execution_count": null,
      "outputs": [
        {
          "output_type": "execute_result",
          "data": {
            "text/plain": [
              "341813160.0"
            ]
          },
          "metadata": {},
          "execution_count": 99
        }
      ]
    },
    {
      "cell_type": "code",
      "source": [
        "round(circles[circles['is_travel']]['media_count'].sum()/circles['media_count'].sum()*100,2)"
      ],
      "metadata": {
        "colab": {
          "base_uri": "https://localhost:8080/"
        },
        "id": "iC_SaCmo2G0-",
        "outputId": "56721b86-c599-4121-8199-2a701761736f"
      },
      "execution_count": null,
      "outputs": [
        {
          "output_type": "execute_result",
          "data": {
            "text/plain": [
              "0.56"
            ]
          },
          "metadata": {},
          "execution_count": 100
        }
      ]
    },
    {
      "cell_type": "code",
      "source": [
        "circles_destination_names = list(circles['destination_names'].dropna().unique())\n",
        "circles_destination_names = pd.DataFrame(circles_destination_names, columns=['destination_names'])"
      ],
      "metadata": {
        "id": "wUtoqSDR_o02"
      },
      "execution_count": null,
      "outputs": []
    },
    {
      "cell_type": "code",
      "source": [
        "circles_destination_names.head()"
      ],
      "metadata": {
        "colab": {
          "base_uri": "https://localhost:8080/",
          "height": 204
        },
        "id": "syQDiLoEAVLi",
        "outputId": "e2249cda-5105-4d74-be7e-f20a918168ee"
      },
      "execution_count": null,
      "outputs": [
        {
          "output_type": "execute_result",
          "data": {
            "text/plain": [
              "  destination_names\n",
              "0        State Fair\n",
              "1               New\n",
              "2              Hemi\n",
              "3            Archer\n",
              "4            Hannah"
            ],
            "text/html": [
              "\n",
              "  <div id=\"df-de590799-3b90-4aa8-bffe-982343b9b812\">\n",
              "    <div class=\"colab-df-container\">\n",
              "      <div>\n",
              "<style scoped>\n",
              "    .dataframe tbody tr th:only-of-type {\n",
              "        vertical-align: middle;\n",
              "    }\n",
              "\n",
              "    .dataframe tbody tr th {\n",
              "        vertical-align: top;\n",
              "    }\n",
              "\n",
              "    .dataframe thead th {\n",
              "        text-align: right;\n",
              "    }\n",
              "</style>\n",
              "<table border=\"1\" class=\"dataframe\">\n",
              "  <thead>\n",
              "    <tr style=\"text-align: right;\">\n",
              "      <th></th>\n",
              "      <th>destination_names</th>\n",
              "    </tr>\n",
              "  </thead>\n",
              "  <tbody>\n",
              "    <tr>\n",
              "      <th>0</th>\n",
              "      <td>State Fair</td>\n",
              "    </tr>\n",
              "    <tr>\n",
              "      <th>1</th>\n",
              "      <td>New</td>\n",
              "    </tr>\n",
              "    <tr>\n",
              "      <th>2</th>\n",
              "      <td>Hemi</td>\n",
              "    </tr>\n",
              "    <tr>\n",
              "      <th>3</th>\n",
              "      <td>Archer</td>\n",
              "    </tr>\n",
              "    <tr>\n",
              "      <th>4</th>\n",
              "      <td>Hannah</td>\n",
              "    </tr>\n",
              "  </tbody>\n",
              "</table>\n",
              "</div>\n",
              "      <button class=\"colab-df-convert\" onclick=\"convertToInteractive('df-de590799-3b90-4aa8-bffe-982343b9b812')\"\n",
              "              title=\"Convert this dataframe to an interactive table.\"\n",
              "              style=\"display:none;\">\n",
              "        \n",
              "  <svg xmlns=\"http://www.w3.org/2000/svg\" height=\"24px\"viewBox=\"0 0 24 24\"\n",
              "       width=\"24px\">\n",
              "    <path d=\"M0 0h24v24H0V0z\" fill=\"none\"/>\n",
              "    <path d=\"M18.56 5.44l.94 2.06.94-2.06 2.06-.94-2.06-.94-.94-2.06-.94 2.06-2.06.94zm-11 1L8.5 8.5l.94-2.06 2.06-.94-2.06-.94L8.5 2.5l-.94 2.06-2.06.94zm10 10l.94 2.06.94-2.06 2.06-.94-2.06-.94-.94-2.06-.94 2.06-2.06.94z\"/><path d=\"M17.41 7.96l-1.37-1.37c-.4-.4-.92-.59-1.43-.59-.52 0-1.04.2-1.43.59L10.3 9.45l-7.72 7.72c-.78.78-.78 2.05 0 2.83L4 21.41c.39.39.9.59 1.41.59.51 0 1.02-.2 1.41-.59l7.78-7.78 2.81-2.81c.8-.78.8-2.07 0-2.86zM5.41 20L4 18.59l7.72-7.72 1.47 1.35L5.41 20z\"/>\n",
              "  </svg>\n",
              "      </button>\n",
              "      \n",
              "  <style>\n",
              "    .colab-df-container {\n",
              "      display:flex;\n",
              "      flex-wrap:wrap;\n",
              "      gap: 12px;\n",
              "    }\n",
              "\n",
              "    .colab-df-convert {\n",
              "      background-color: #E8F0FE;\n",
              "      border: none;\n",
              "      border-radius: 50%;\n",
              "      cursor: pointer;\n",
              "      display: none;\n",
              "      fill: #1967D2;\n",
              "      height: 32px;\n",
              "      padding: 0 0 0 0;\n",
              "      width: 32px;\n",
              "    }\n",
              "\n",
              "    .colab-df-convert:hover {\n",
              "      background-color: #E2EBFA;\n",
              "      box-shadow: 0px 1px 2px rgba(60, 64, 67, 0.3), 0px 1px 3px 1px rgba(60, 64, 67, 0.15);\n",
              "      fill: #174EA6;\n",
              "    }\n",
              "\n",
              "    [theme=dark] .colab-df-convert {\n",
              "      background-color: #3B4455;\n",
              "      fill: #D2E3FC;\n",
              "    }\n",
              "\n",
              "    [theme=dark] .colab-df-convert:hover {\n",
              "      background-color: #434B5C;\n",
              "      box-shadow: 0px 1px 3px 1px rgba(0, 0, 0, 0.15);\n",
              "      filter: drop-shadow(0px 1px 2px rgba(0, 0, 0, 0.3));\n",
              "      fill: #FFFFFF;\n",
              "    }\n",
              "  </style>\n",
              "\n",
              "      <script>\n",
              "        const buttonEl =\n",
              "          document.querySelector('#df-de590799-3b90-4aa8-bffe-982343b9b812 button.colab-df-convert');\n",
              "        buttonEl.style.display =\n",
              "          google.colab.kernel.accessAllowed ? 'block' : 'none';\n",
              "\n",
              "        async function convertToInteractive(key) {\n",
              "          const element = document.querySelector('#df-de590799-3b90-4aa8-bffe-982343b9b812');\n",
              "          const dataTable =\n",
              "            await google.colab.kernel.invokeFunction('convertToInteractive',\n",
              "                                                     [key], {});\n",
              "          if (!dataTable) return;\n",
              "\n",
              "          const docLinkHtml = 'Like what you see? Visit the ' +\n",
              "            '<a target=\"_blank\" href=https://colab.research.google.com/notebooks/data_table.ipynb>data table notebook</a>'\n",
              "            + ' to learn more about interactive tables.';\n",
              "          element.innerHTML = '';\n",
              "          dataTable['output_type'] = 'display_data';\n",
              "          await google.colab.output.renderOutput(dataTable, element);\n",
              "          const docLink = document.createElement('div');\n",
              "          docLink.innerHTML = docLinkHtml;\n",
              "          element.appendChild(docLink);\n",
              "        }\n",
              "      </script>\n",
              "    </div>\n",
              "  </div>\n",
              "  "
            ]
          },
          "metadata": {},
          "execution_count": 113
        }
      ]
    },
    {
      "cell_type": "code",
      "source": [
        "#circles_destination_names.to_csv('circles_destination_names.csv')"
      ],
      "metadata": {
        "id": "DMhnd2TUAYuT"
      },
      "execution_count": null,
      "outputs": []
    },
    {
      "cell_type": "code",
      "source": [
        "from google.colab import drive\n",
        "drive.mount('/content/drive')"
      ],
      "metadata": {
        "colab": {
          "base_uri": "https://localhost:8080/"
        },
        "id": "BGdNSgfNA30c",
        "outputId": "25337cb9-0c29-426f-9e7a-9f93718923f9"
      },
      "execution_count": null,
      "outputs": [
        {
          "output_type": "stream",
          "name": "stdout",
          "text": [
            "Mounted at /content/drive\n"
          ]
        }
      ]
    },
    {
      "cell_type": "code",
      "source": [
        "#circles_destination_names.to_csv('/content/drive/MyDrive/PhotoCircle/circles_destination_names.csv', index=False)"
      ],
      "metadata": {
        "id": "0mjV2Y73A4jl"
      },
      "execution_count": null,
      "outputs": []
    },
    {
      "cell_type": "markdown",
      "source": [
        "# **Add Locations Tags**"
      ],
      "metadata": {
        "id": "SZbD1Qc2Ndwu"
      }
    },
    {
      "cell_type": "code",
      "source": [
        "# Define a list of part-of-speech tags for location-related words\n",
        "location_tags = ['NN', 'NNS', 'NNP', 'NNPS', 'JJ']\n",
        "\n",
        "# Define a list of location-related words\n",
        "location_words = ['city', 'county', 'state', 'country', 'province', 'territory', 'region', \n",
        "                  'town', 'village', 'hamlet', 'metropolis', 'municipality', 'district', 'zone', \n",
        "                  'neighborhood', 'suburb', 'countryside', 'coast', 'mountains', 'desert', 'island', \n",
        "                  'peninsula', 'valley', 'canyon', 'plateau', 'river', 'lake', 'ocean', 'sea', 'bay', \n",
        "                  'harbor', 'port', 'airport', 'station']\n",
        "\n",
        "# Define the regular expression pattern to extract location names\n",
        "pattern = r'(\\b[A-Z][a-z]+(?:[ -][A-Z][a-z]+)*\\b|\\b[a-z]+(?:[ -][A-Z][a-z]+)*\\b)'\n",
        "\n",
        "# Extract location names from the 'title' column and save to a new column called 'location_names'\n",
        "circles['location_names'] = circles['title'].str.extract(pattern, expand=False)\n",
        "\n",
        "# Define a function to check if a string contains location-related tags or words\n",
        "def is_location(title):\n",
        "    location_names = re.findall(pattern, title)\n",
        "    for name in location_names:\n",
        "        # Tokenize the location name and tag the parts of speech\n",
        "        tokens = nltk.word_tokenize(name)\n",
        "        pos_tags = nltk.pos_tag(tokens)\n",
        "        # Check if any location-related tags or words are present in the location name\n",
        "        if any(tag in location_tags and (word in location_words or 'location' in word or 'place' in word) for word, tag in pos_tags):\n",
        "            return True\n",
        "    return False\n",
        "\n",
        "# Apply the 'is_location' function to each value in the 'title' column and save the results to a new column called 'is_location'\n",
        "circles['is_location'] = circles['title'].apply(is_location)"
      ],
      "metadata": {
        "id": "B8oysvZyNU5O"
      },
      "execution_count": null,
      "outputs": []
    },
    {
      "cell_type": "code",
      "source": [
        "circles[circles['is_location']].head()"
      ],
      "metadata": {
        "colab": {
          "base_uri": "https://localhost:8080/",
          "height": 574
        },
        "id": "TjBFBKitNVAe",
        "outputId": "02dd017a-b4bc-4f92-8fe7-b72ba6045694"
      },
      "execution_count": null,
      "outputs": [
        {
          "output_type": "execute_result",
          "data": {
            "text/plain": [
              "    Unnamed: 0                           circle_uuid  \\\n",
              "58          58  00005e35-9d7a-78bb-8958-02dbdad30002   \n",
              "138        138  1d6366ad-ec9f-4269-9ac6-8a62efcdefd2   \n",
              "255        255  5ee5f9f3-2483-4ab8-b9b0-b835f2195b2c   \n",
              "332        332  6878fcb6-d15c-4adc-8675-c39cf66bbdee   \n",
              "444        444  2a1c3668-0e4a-43e6-824d-16ff92c8c68a   \n",
              "\n",
              "                                           title  media_count  \\\n",
              "58                      Lost valley Tree Project        134.0   \n",
              "138  Aj And The Kids Visit To carson city 7/2021         40.0   \n",
              "255                  Bills lake Cottage Weekend         141.0   \n",
              "332                                Tennis state          24.0   \n",
              "444                       Christmas village 2022        387.0   \n",
              "\n",
              "     has_greek_words real_estate_keywords  is_real_estate solar_keywords  \\\n",
              "58             False                   []           False             []   \n",
              "138            False                   []           False             []   \n",
              "255            False                   []           False             []   \n",
              "332            False                   []           False             []   \n",
              "444            False                   []           False             []   \n",
              "\n",
              "     is_solar event_keywords  is_event occupation_keywords  is_occupation  \\\n",
              "58      False             []     False                  []          False   \n",
              "138     False             []     False                  []          False   \n",
              "255     False             []     False                  []          False   \n",
              "332     False             []     False                  []          False   \n",
              "444     False             []     False                  []          False   \n",
              "\n",
              "    animal_keywords  is_animal         destination_names  is_travel  \\\n",
              "58               []      False                      Lost      False   \n",
              "138              []      False  Aj And The Kids Visit To      False   \n",
              "255              []      False                     Bills      False   \n",
              "332              []      False                    Tennis      False   \n",
              "444              []      False                 Christmas      False   \n",
              "\n",
              "               location_names  is_location  \n",
              "58                       Lost         True  \n",
              "138  Aj And The Kids Visit To         True  \n",
              "255                     Bills         True  \n",
              "332                    Tennis         True  \n",
              "444                 Christmas         True  "
            ],
            "text/html": [
              "\n",
              "  <div id=\"df-46915017-417e-42f8-858b-8671b490ce38\">\n",
              "    <div class=\"colab-df-container\">\n",
              "      <div>\n",
              "<style scoped>\n",
              "    .dataframe tbody tr th:only-of-type {\n",
              "        vertical-align: middle;\n",
              "    }\n",
              "\n",
              "    .dataframe tbody tr th {\n",
              "        vertical-align: top;\n",
              "    }\n",
              "\n",
              "    .dataframe thead th {\n",
              "        text-align: right;\n",
              "    }\n",
              "</style>\n",
              "<table border=\"1\" class=\"dataframe\">\n",
              "  <thead>\n",
              "    <tr style=\"text-align: right;\">\n",
              "      <th></th>\n",
              "      <th>Unnamed: 0</th>\n",
              "      <th>circle_uuid</th>\n",
              "      <th>title</th>\n",
              "      <th>media_count</th>\n",
              "      <th>has_greek_words</th>\n",
              "      <th>real_estate_keywords</th>\n",
              "      <th>is_real_estate</th>\n",
              "      <th>solar_keywords</th>\n",
              "      <th>is_solar</th>\n",
              "      <th>event_keywords</th>\n",
              "      <th>is_event</th>\n",
              "      <th>occupation_keywords</th>\n",
              "      <th>is_occupation</th>\n",
              "      <th>animal_keywords</th>\n",
              "      <th>is_animal</th>\n",
              "      <th>destination_names</th>\n",
              "      <th>is_travel</th>\n",
              "      <th>location_names</th>\n",
              "      <th>is_location</th>\n",
              "    </tr>\n",
              "  </thead>\n",
              "  <tbody>\n",
              "    <tr>\n",
              "      <th>58</th>\n",
              "      <td>58</td>\n",
              "      <td>00005e35-9d7a-78bb-8958-02dbdad30002</td>\n",
              "      <td>Lost valley Tree Project</td>\n",
              "      <td>134.0</td>\n",
              "      <td>False</td>\n",
              "      <td>[]</td>\n",
              "      <td>False</td>\n",
              "      <td>[]</td>\n",
              "      <td>False</td>\n",
              "      <td>[]</td>\n",
              "      <td>False</td>\n",
              "      <td>[]</td>\n",
              "      <td>False</td>\n",
              "      <td>[]</td>\n",
              "      <td>False</td>\n",
              "      <td>Lost</td>\n",
              "      <td>False</td>\n",
              "      <td>Lost</td>\n",
              "      <td>True</td>\n",
              "    </tr>\n",
              "    <tr>\n",
              "      <th>138</th>\n",
              "      <td>138</td>\n",
              "      <td>1d6366ad-ec9f-4269-9ac6-8a62efcdefd2</td>\n",
              "      <td>Aj And The Kids Visit To carson city 7/2021</td>\n",
              "      <td>40.0</td>\n",
              "      <td>False</td>\n",
              "      <td>[]</td>\n",
              "      <td>False</td>\n",
              "      <td>[]</td>\n",
              "      <td>False</td>\n",
              "      <td>[]</td>\n",
              "      <td>False</td>\n",
              "      <td>[]</td>\n",
              "      <td>False</td>\n",
              "      <td>[]</td>\n",
              "      <td>False</td>\n",
              "      <td>Aj And The Kids Visit To</td>\n",
              "      <td>False</td>\n",
              "      <td>Aj And The Kids Visit To</td>\n",
              "      <td>True</td>\n",
              "    </tr>\n",
              "    <tr>\n",
              "      <th>255</th>\n",
              "      <td>255</td>\n",
              "      <td>5ee5f9f3-2483-4ab8-b9b0-b835f2195b2c</td>\n",
              "      <td>Bills lake Cottage Weekend</td>\n",
              "      <td>141.0</td>\n",
              "      <td>False</td>\n",
              "      <td>[]</td>\n",
              "      <td>False</td>\n",
              "      <td>[]</td>\n",
              "      <td>False</td>\n",
              "      <td>[]</td>\n",
              "      <td>False</td>\n",
              "      <td>[]</td>\n",
              "      <td>False</td>\n",
              "      <td>[]</td>\n",
              "      <td>False</td>\n",
              "      <td>Bills</td>\n",
              "      <td>False</td>\n",
              "      <td>Bills</td>\n",
              "      <td>True</td>\n",
              "    </tr>\n",
              "    <tr>\n",
              "      <th>332</th>\n",
              "      <td>332</td>\n",
              "      <td>6878fcb6-d15c-4adc-8675-c39cf66bbdee</td>\n",
              "      <td>Tennis state</td>\n",
              "      <td>24.0</td>\n",
              "      <td>False</td>\n",
              "      <td>[]</td>\n",
              "      <td>False</td>\n",
              "      <td>[]</td>\n",
              "      <td>False</td>\n",
              "      <td>[]</td>\n",
              "      <td>False</td>\n",
              "      <td>[]</td>\n",
              "      <td>False</td>\n",
              "      <td>[]</td>\n",
              "      <td>False</td>\n",
              "      <td>Tennis</td>\n",
              "      <td>False</td>\n",
              "      <td>Tennis</td>\n",
              "      <td>True</td>\n",
              "    </tr>\n",
              "    <tr>\n",
              "      <th>444</th>\n",
              "      <td>444</td>\n",
              "      <td>2a1c3668-0e4a-43e6-824d-16ff92c8c68a</td>\n",
              "      <td>Christmas village 2022</td>\n",
              "      <td>387.0</td>\n",
              "      <td>False</td>\n",
              "      <td>[]</td>\n",
              "      <td>False</td>\n",
              "      <td>[]</td>\n",
              "      <td>False</td>\n",
              "      <td>[]</td>\n",
              "      <td>False</td>\n",
              "      <td>[]</td>\n",
              "      <td>False</td>\n",
              "      <td>[]</td>\n",
              "      <td>False</td>\n",
              "      <td>Christmas</td>\n",
              "      <td>False</td>\n",
              "      <td>Christmas</td>\n",
              "      <td>True</td>\n",
              "    </tr>\n",
              "  </tbody>\n",
              "</table>\n",
              "</div>\n",
              "      <button class=\"colab-df-convert\" onclick=\"convertToInteractive('df-46915017-417e-42f8-858b-8671b490ce38')\"\n",
              "              title=\"Convert this dataframe to an interactive table.\"\n",
              "              style=\"display:none;\">\n",
              "        \n",
              "  <svg xmlns=\"http://www.w3.org/2000/svg\" height=\"24px\"viewBox=\"0 0 24 24\"\n",
              "       width=\"24px\">\n",
              "    <path d=\"M0 0h24v24H0V0z\" fill=\"none\"/>\n",
              "    <path d=\"M18.56 5.44l.94 2.06.94-2.06 2.06-.94-2.06-.94-.94-2.06-.94 2.06-2.06.94zm-11 1L8.5 8.5l.94-2.06 2.06-.94-2.06-.94L8.5 2.5l-.94 2.06-2.06.94zm10 10l.94 2.06.94-2.06 2.06-.94-2.06-.94-.94-2.06-.94 2.06-2.06.94z\"/><path d=\"M17.41 7.96l-1.37-1.37c-.4-.4-.92-.59-1.43-.59-.52 0-1.04.2-1.43.59L10.3 9.45l-7.72 7.72c-.78.78-.78 2.05 0 2.83L4 21.41c.39.39.9.59 1.41.59.51 0 1.02-.2 1.41-.59l7.78-7.78 2.81-2.81c.8-.78.8-2.07 0-2.86zM5.41 20L4 18.59l7.72-7.72 1.47 1.35L5.41 20z\"/>\n",
              "  </svg>\n",
              "      </button>\n",
              "      \n",
              "  <style>\n",
              "    .colab-df-container {\n",
              "      display:flex;\n",
              "      flex-wrap:wrap;\n",
              "      gap: 12px;\n",
              "    }\n",
              "\n",
              "    .colab-df-convert {\n",
              "      background-color: #E8F0FE;\n",
              "      border: none;\n",
              "      border-radius: 50%;\n",
              "      cursor: pointer;\n",
              "      display: none;\n",
              "      fill: #1967D2;\n",
              "      height: 32px;\n",
              "      padding: 0 0 0 0;\n",
              "      width: 32px;\n",
              "    }\n",
              "\n",
              "    .colab-df-convert:hover {\n",
              "      background-color: #E2EBFA;\n",
              "      box-shadow: 0px 1px 2px rgba(60, 64, 67, 0.3), 0px 1px 3px 1px rgba(60, 64, 67, 0.15);\n",
              "      fill: #174EA6;\n",
              "    }\n",
              "\n",
              "    [theme=dark] .colab-df-convert {\n",
              "      background-color: #3B4455;\n",
              "      fill: #D2E3FC;\n",
              "    }\n",
              "\n",
              "    [theme=dark] .colab-df-convert:hover {\n",
              "      background-color: #434B5C;\n",
              "      box-shadow: 0px 1px 3px 1px rgba(0, 0, 0, 0.15);\n",
              "      filter: drop-shadow(0px 1px 2px rgba(0, 0, 0, 0.3));\n",
              "      fill: #FFFFFF;\n",
              "    }\n",
              "  </style>\n",
              "\n",
              "      <script>\n",
              "        const buttonEl =\n",
              "          document.querySelector('#df-46915017-417e-42f8-858b-8671b490ce38 button.colab-df-convert');\n",
              "        buttonEl.style.display =\n",
              "          google.colab.kernel.accessAllowed ? 'block' : 'none';\n",
              "\n",
              "        async function convertToInteractive(key) {\n",
              "          const element = document.querySelector('#df-46915017-417e-42f8-858b-8671b490ce38');\n",
              "          const dataTable =\n",
              "            await google.colab.kernel.invokeFunction('convertToInteractive',\n",
              "                                                     [key], {});\n",
              "          if (!dataTable) return;\n",
              "\n",
              "          const docLinkHtml = 'Like what you see? Visit the ' +\n",
              "            '<a target=\"_blank\" href=https://colab.research.google.com/notebooks/data_table.ipynb>data table notebook</a>'\n",
              "            + ' to learn more about interactive tables.';\n",
              "          element.innerHTML = '';\n",
              "          dataTable['output_type'] = 'display_data';\n",
              "          await google.colab.output.renderOutput(dataTable, element);\n",
              "          const docLink = document.createElement('div');\n",
              "          docLink.innerHTML = docLinkHtml;\n",
              "          element.appendChild(docLink);\n",
              "        }\n",
              "      </script>\n",
              "    </div>\n",
              "  </div>\n",
              "  "
            ]
          },
          "metadata": {},
          "execution_count": 118
        }
      ]
    },
    {
      "cell_type": "code",
      "source": [
        "len(circles[circles['is_location']])"
      ],
      "metadata": {
        "colab": {
          "base_uri": "https://localhost:8080/"
        },
        "id": "5xZqtl8L2a00",
        "outputId": "c533cbb1-0e9c-43f5-fe5c-e8786039f5b1"
      },
      "execution_count": null,
      "outputs": [
        {
          "output_type": "execute_result",
          "data": {
            "text/plain": [
              "3200"
            ]
          },
          "metadata": {},
          "execution_count": 119
        }
      ]
    },
    {
      "cell_type": "code",
      "source": [
        "round(len(circles[circles['is_location']])/len(circles)*100,2)"
      ],
      "metadata": {
        "colab": {
          "base_uri": "https://localhost:8080/"
        },
        "id": "v7O9k0xW2a09",
        "outputId": "eda0cf93-afe2-4e8e-dd12-b3fb8a515a6d"
      },
      "execution_count": null,
      "outputs": [
        {
          "output_type": "execute_result",
          "data": {
            "text/plain": [
              "0.17"
            ]
          },
          "metadata": {},
          "execution_count": 120
        }
      ]
    },
    {
      "cell_type": "code",
      "source": [
        "circles[circles['is_location']]['media_count'].sum()"
      ],
      "metadata": {
        "colab": {
          "base_uri": "https://localhost:8080/"
        },
        "id": "vpEWeSVu2a0-",
        "outputId": "cfa1707e-b8a6-4e66-a3e1-53d8513cb20f"
      },
      "execution_count": null,
      "outputs": [
        {
          "output_type": "execute_result",
          "data": {
            "text/plain": [
              "479786.0"
            ]
          },
          "metadata": {},
          "execution_count": 121
        }
      ]
    },
    {
      "cell_type": "code",
      "source": [
        "circles['media_count'].sum()"
      ],
      "metadata": {
        "colab": {
          "base_uri": "https://localhost:8080/"
        },
        "id": "6oefWVEK2a0-",
        "outputId": "3897e6b2-a1b9-48be-ca13-c44b439cf55d"
      },
      "execution_count": null,
      "outputs": [
        {
          "output_type": "execute_result",
          "data": {
            "text/plain": [
              "341813160.0"
            ]
          },
          "metadata": {},
          "execution_count": 122
        }
      ]
    },
    {
      "cell_type": "code",
      "source": [
        "round(circles[circles['is_location']]['media_count'].sum()/circles['media_count'].sum()*100,2)"
      ],
      "metadata": {
        "colab": {
          "base_uri": "https://localhost:8080/"
        },
        "id": "6ksLdhPQ2a0_",
        "outputId": "c97eda28-7712-4e1b-85e9-efffa6fc86c3"
      },
      "execution_count": null,
      "outputs": [
        {
          "output_type": "execute_result",
          "data": {
            "text/plain": [
              "0.14"
            ]
          },
          "metadata": {},
          "execution_count": 123
        }
      ]
    },
    {
      "cell_type": "code",
      "source": [
        "circles_location_names = list(circles['location_names'].dropna().unique())\n",
        "circles_location_names = pd.DataFrame(circles_location_names, columns=['location_names'])"
      ],
      "metadata": {
        "id": "wBYVefaW2a0_"
      },
      "execution_count": null,
      "outputs": []
    },
    {
      "cell_type": "code",
      "source": [
        "#circles_location_names.to_csv('/content/drive/MyDrive/PhotoCircle/circles_location_names.csv', index=False)"
      ],
      "metadata": {
        "id": "l3S2q5I0DeiK"
      },
      "execution_count": null,
      "outputs": []
    },
    {
      "cell_type": "markdown",
      "source": [
        "# **Save Tags to csv**"
      ],
      "metadata": {
        "id": "etNCafbl2oIk"
      }
    },
    {
      "cell_type": "code",
      "source": [
        "circles.to_csv('circles_tags.csv')"
      ],
      "metadata": {
        "id": "4kppTjXONVGN"
      },
      "execution_count": null,
      "outputs": []
    },
    {
      "cell_type": "code",
      "source": [
        "#circles.to_csv('/content/drive/MyDrive/PhotoCircle/circles_with_tags.csv', index=False)"
      ],
      "metadata": {
        "id": "89dbvjCyDqp9"
      },
      "execution_count": null,
      "outputs": []
    },
    {
      "cell_type": "markdown",
      "source": [
        "#**Merge users and circles with circle_membership**"
      ],
      "metadata": {
        "id": "Yez67i39E_tI"
      }
    },
    {
      "cell_type": "code",
      "source": [
        "circle_membership = pd.read_csv('circle_membership.csv')"
      ],
      "metadata": {
        "id": "dpTvZ1foFc_Q"
      },
      "execution_count": null,
      "outputs": []
    },
    {
      "cell_type": "code",
      "source": [
        "circle_membership.shape"
      ],
      "metadata": {
        "colab": {
          "base_uri": "https://localhost:8080/"
        },
        "id": "oB1KOHB8IYrS",
        "outputId": "6bf5927f-7828-4e92-cae3-8f8c9abdcbaa"
      },
      "execution_count": null,
      "outputs": [
        {
          "output_type": "execute_result",
          "data": {
            "text/plain": [
              "(10578744, 4)"
            ]
          },
          "metadata": {},
          "execution_count": 132
        }
      ]
    },
    {
      "cell_type": "code",
      "source": [
        "# Left join circle_membership with circles on circle_uuid\n",
        "merged_circles = pd.merge(circle_membership, circles, on='circle_uuid', how='left')"
      ],
      "metadata": {
        "id": "UndHFMXfJhnw"
      },
      "execution_count": null,
      "outputs": []
    },
    {
      "cell_type": "code",
      "source": [
        "merged_circles.shape"
      ],
      "metadata": {
        "colab": {
          "base_uri": "https://localhost:8080/"
        },
        "id": "uiol6Qs-mpHn",
        "outputId": "507441df-77cc-4743-c63f-b36a198b66f2"
      },
      "execution_count": null,
      "outputs": [
        {
          "output_type": "execute_result",
          "data": {
            "text/plain": [
              "(10578744, 22)"
            ]
          },
          "metadata": {},
          "execution_count": 134
        }
      ]
    },
    {
      "cell_type": "code",
      "source": [
        "# Left join merged_circles with users on user_uuid\n",
        "merged_data = pd.merge(merged_circles, users_gender, on='user_uuid', how='left')"
      ],
      "metadata": {
        "id": "4nic1HA9Jhro"
      },
      "execution_count": null,
      "outputs": []
    },
    {
      "cell_type": "code",
      "source": [
        "merged_data.shape"
      ],
      "metadata": {
        "colab": {
          "base_uri": "https://localhost:8080/"
        },
        "id": "OcuzbBbboTiZ",
        "outputId": "01e17f4b-295d-496d-8187-7202a2a7ccf6"
      },
      "execution_count": null,
      "outputs": [
        {
          "output_type": "execute_result",
          "data": {
            "text/plain": [
              "(10578744, 32)"
            ]
          },
          "metadata": {},
          "execution_count": 136
        }
      ]
    },
    {
      "cell_type": "code",
      "source": [
        "merged_data.head(3)"
      ],
      "metadata": {
        "colab": {
          "base_uri": "https://localhost:8080/",
          "height": 376
        },
        "id": "guzIqqCxokwM",
        "outputId": "958599ea-2835-4945-ea06-47ca6b4278dc"
      },
      "execution_count": null,
      "outputs": [
        {
          "output_type": "execute_result",
          "data": {
            "text/plain": [
              "   Unnamed: 0_x                           circle_uuid  \\\n",
              "0             0  00005962-836d-d551-c07b-5c2040500002   \n",
              "1             1  00005bfc-e475-d551-c026-3d658eab0002   \n",
              "2             2  55a82813-15c0-4faf-897d-d04803036af0   \n",
              "\n",
              "                              user_uuid  media_added_count_x Unnamed: 0_y  \\\n",
              "0  00000000-575c-c42a-d551-c018b1942652                   96       213173   \n",
              "1  4d4f4f68-feff-4490-bd45-ae90ba4acdbf                    6      1270287   \n",
              "2  c31e9b29-bf13-4493-a017-54d531d51d7b                   31       390753   \n",
              "\n",
              "                   title  media_count has_greek_words real_estate_keywords  \\\n",
              "0  Georgia Jean Williams        160.0           False                   []   \n",
              "1              Tri Delta      12235.0            True                   []   \n",
              "2             Vegas 2022         31.0           False                   []   \n",
              "\n",
              "  is_real_estate solar_keywords is_solar event_keywords is_event  \\\n",
              "0          False             []    False             []    False   \n",
              "1          False             []    False             []    False   \n",
              "2          False             []    False             []    False   \n",
              "\n",
              "  occupation_keywords is_occupation animal_keywords is_animal  \\\n",
              "0                  []         False              []     False   \n",
              "1                  []         False              []     False   \n",
              "2                  []         False              []     False   \n",
              "\n",
              "       destination_names is_travel         location_names is_location  \\\n",
              "0  Georgia Jean Williams     False  Georgia Jean Williams       False   \n",
              "1              Tri Delta     False              Tri Delta       False   \n",
              "2                  Vegas     False                  Vegas       False   \n",
              "\n",
              "   Unnamed: 0     display_name              email_domain  \\\n",
              "0   3192531.0  Darwin Williams              stthomas.edu   \n",
              "1   1910893.0    tara ghimenti                 gmail.com   \n",
              "2   2607998.0     Brenda Yorks  privaterelay.appleid.com   \n",
              "\n",
              "  active_count_in_last_30_days  media_added_count_y first_name  num_female  \\\n",
              "0                            6                 15.0     Darwin        83.0   \n",
              "1                            0                  0.0       tara         0.0   \n",
              "2                            0                  0.0     Brenda    607096.0   \n",
              "\n",
              "   num_male  female_pct  is_student  \n",
              "0   24680.0        0.34        True  \n",
              "1       0.0       50.00       False  \n",
              "2    2121.0       99.65       False  "
            ],
            "text/html": [
              "\n",
              "  <div id=\"df-36029a70-d0b5-47c1-9104-9dd55ad3a204\">\n",
              "    <div class=\"colab-df-container\">\n",
              "      <div>\n",
              "<style scoped>\n",
              "    .dataframe tbody tr th:only-of-type {\n",
              "        vertical-align: middle;\n",
              "    }\n",
              "\n",
              "    .dataframe tbody tr th {\n",
              "        vertical-align: top;\n",
              "    }\n",
              "\n",
              "    .dataframe thead th {\n",
              "        text-align: right;\n",
              "    }\n",
              "</style>\n",
              "<table border=\"1\" class=\"dataframe\">\n",
              "  <thead>\n",
              "    <tr style=\"text-align: right;\">\n",
              "      <th></th>\n",
              "      <th>Unnamed: 0_x</th>\n",
              "      <th>circle_uuid</th>\n",
              "      <th>user_uuid</th>\n",
              "      <th>media_added_count_x</th>\n",
              "      <th>Unnamed: 0_y</th>\n",
              "      <th>title</th>\n",
              "      <th>media_count</th>\n",
              "      <th>has_greek_words</th>\n",
              "      <th>real_estate_keywords</th>\n",
              "      <th>is_real_estate</th>\n",
              "      <th>solar_keywords</th>\n",
              "      <th>is_solar</th>\n",
              "      <th>event_keywords</th>\n",
              "      <th>is_event</th>\n",
              "      <th>occupation_keywords</th>\n",
              "      <th>is_occupation</th>\n",
              "      <th>animal_keywords</th>\n",
              "      <th>is_animal</th>\n",
              "      <th>destination_names</th>\n",
              "      <th>is_travel</th>\n",
              "      <th>location_names</th>\n",
              "      <th>is_location</th>\n",
              "      <th>Unnamed: 0</th>\n",
              "      <th>display_name</th>\n",
              "      <th>email_domain</th>\n",
              "      <th>active_count_in_last_30_days</th>\n",
              "      <th>media_added_count_y</th>\n",
              "      <th>first_name</th>\n",
              "      <th>num_female</th>\n",
              "      <th>num_male</th>\n",
              "      <th>female_pct</th>\n",
              "      <th>is_student</th>\n",
              "    </tr>\n",
              "  </thead>\n",
              "  <tbody>\n",
              "    <tr>\n",
              "      <th>0</th>\n",
              "      <td>0</td>\n",
              "      <td>00005962-836d-d551-c07b-5c2040500002</td>\n",
              "      <td>00000000-575c-c42a-d551-c018b1942652</td>\n",
              "      <td>96</td>\n",
              "      <td>213173</td>\n",
              "      <td>Georgia Jean Williams</td>\n",
              "      <td>160.0</td>\n",
              "      <td>False</td>\n",
              "      <td>[]</td>\n",
              "      <td>False</td>\n",
              "      <td>[]</td>\n",
              "      <td>False</td>\n",
              "      <td>[]</td>\n",
              "      <td>False</td>\n",
              "      <td>[]</td>\n",
              "      <td>False</td>\n",
              "      <td>[]</td>\n",
              "      <td>False</td>\n",
              "      <td>Georgia Jean Williams</td>\n",
              "      <td>False</td>\n",
              "      <td>Georgia Jean Williams</td>\n",
              "      <td>False</td>\n",
              "      <td>3192531.0</td>\n",
              "      <td>Darwin Williams</td>\n",
              "      <td>stthomas.edu</td>\n",
              "      <td>6</td>\n",
              "      <td>15.0</td>\n",
              "      <td>Darwin</td>\n",
              "      <td>83.0</td>\n",
              "      <td>24680.0</td>\n",
              "      <td>0.34</td>\n",
              "      <td>True</td>\n",
              "    </tr>\n",
              "    <tr>\n",
              "      <th>1</th>\n",
              "      <td>1</td>\n",
              "      <td>00005bfc-e475-d551-c026-3d658eab0002</td>\n",
              "      <td>4d4f4f68-feff-4490-bd45-ae90ba4acdbf</td>\n",
              "      <td>6</td>\n",
              "      <td>1270287</td>\n",
              "      <td>Tri Delta</td>\n",
              "      <td>12235.0</td>\n",
              "      <td>True</td>\n",
              "      <td>[]</td>\n",
              "      <td>False</td>\n",
              "      <td>[]</td>\n",
              "      <td>False</td>\n",
              "      <td>[]</td>\n",
              "      <td>False</td>\n",
              "      <td>[]</td>\n",
              "      <td>False</td>\n",
              "      <td>[]</td>\n",
              "      <td>False</td>\n",
              "      <td>Tri Delta</td>\n",
              "      <td>False</td>\n",
              "      <td>Tri Delta</td>\n",
              "      <td>False</td>\n",
              "      <td>1910893.0</td>\n",
              "      <td>tara ghimenti</td>\n",
              "      <td>gmail.com</td>\n",
              "      <td>0</td>\n",
              "      <td>0.0</td>\n",
              "      <td>tara</td>\n",
              "      <td>0.0</td>\n",
              "      <td>0.0</td>\n",
              "      <td>50.00</td>\n",
              "      <td>False</td>\n",
              "    </tr>\n",
              "    <tr>\n",
              "      <th>2</th>\n",
              "      <td>2</td>\n",
              "      <td>55a82813-15c0-4faf-897d-d04803036af0</td>\n",
              "      <td>c31e9b29-bf13-4493-a017-54d531d51d7b</td>\n",
              "      <td>31</td>\n",
              "      <td>390753</td>\n",
              "      <td>Vegas 2022</td>\n",
              "      <td>31.0</td>\n",
              "      <td>False</td>\n",
              "      <td>[]</td>\n",
              "      <td>False</td>\n",
              "      <td>[]</td>\n",
              "      <td>False</td>\n",
              "      <td>[]</td>\n",
              "      <td>False</td>\n",
              "      <td>[]</td>\n",
              "      <td>False</td>\n",
              "      <td>[]</td>\n",
              "      <td>False</td>\n",
              "      <td>Vegas</td>\n",
              "      <td>False</td>\n",
              "      <td>Vegas</td>\n",
              "      <td>False</td>\n",
              "      <td>2607998.0</td>\n",
              "      <td>Brenda Yorks</td>\n",
              "      <td>privaterelay.appleid.com</td>\n",
              "      <td>0</td>\n",
              "      <td>0.0</td>\n",
              "      <td>Brenda</td>\n",
              "      <td>607096.0</td>\n",
              "      <td>2121.0</td>\n",
              "      <td>99.65</td>\n",
              "      <td>False</td>\n",
              "    </tr>\n",
              "  </tbody>\n",
              "</table>\n",
              "</div>\n",
              "      <button class=\"colab-df-convert\" onclick=\"convertToInteractive('df-36029a70-d0b5-47c1-9104-9dd55ad3a204')\"\n",
              "              title=\"Convert this dataframe to an interactive table.\"\n",
              "              style=\"display:none;\">\n",
              "        \n",
              "  <svg xmlns=\"http://www.w3.org/2000/svg\" height=\"24px\"viewBox=\"0 0 24 24\"\n",
              "       width=\"24px\">\n",
              "    <path d=\"M0 0h24v24H0V0z\" fill=\"none\"/>\n",
              "    <path d=\"M18.56 5.44l.94 2.06.94-2.06 2.06-.94-2.06-.94-.94-2.06-.94 2.06-2.06.94zm-11 1L8.5 8.5l.94-2.06 2.06-.94-2.06-.94L8.5 2.5l-.94 2.06-2.06.94zm10 10l.94 2.06.94-2.06 2.06-.94-2.06-.94-.94-2.06-.94 2.06-2.06.94z\"/><path d=\"M17.41 7.96l-1.37-1.37c-.4-.4-.92-.59-1.43-.59-.52 0-1.04.2-1.43.59L10.3 9.45l-7.72 7.72c-.78.78-.78 2.05 0 2.83L4 21.41c.39.39.9.59 1.41.59.51 0 1.02-.2 1.41-.59l7.78-7.78 2.81-2.81c.8-.78.8-2.07 0-2.86zM5.41 20L4 18.59l7.72-7.72 1.47 1.35L5.41 20z\"/>\n",
              "  </svg>\n",
              "      </button>\n",
              "      \n",
              "  <style>\n",
              "    .colab-df-container {\n",
              "      display:flex;\n",
              "      flex-wrap:wrap;\n",
              "      gap: 12px;\n",
              "    }\n",
              "\n",
              "    .colab-df-convert {\n",
              "      background-color: #E8F0FE;\n",
              "      border: none;\n",
              "      border-radius: 50%;\n",
              "      cursor: pointer;\n",
              "      display: none;\n",
              "      fill: #1967D2;\n",
              "      height: 32px;\n",
              "      padding: 0 0 0 0;\n",
              "      width: 32px;\n",
              "    }\n",
              "\n",
              "    .colab-df-convert:hover {\n",
              "      background-color: #E2EBFA;\n",
              "      box-shadow: 0px 1px 2px rgba(60, 64, 67, 0.3), 0px 1px 3px 1px rgba(60, 64, 67, 0.15);\n",
              "      fill: #174EA6;\n",
              "    }\n",
              "\n",
              "    [theme=dark] .colab-df-convert {\n",
              "      background-color: #3B4455;\n",
              "      fill: #D2E3FC;\n",
              "    }\n",
              "\n",
              "    [theme=dark] .colab-df-convert:hover {\n",
              "      background-color: #434B5C;\n",
              "      box-shadow: 0px 1px 3px 1px rgba(0, 0, 0, 0.15);\n",
              "      filter: drop-shadow(0px 1px 2px rgba(0, 0, 0, 0.3));\n",
              "      fill: #FFFFFF;\n",
              "    }\n",
              "  </style>\n",
              "\n",
              "      <script>\n",
              "        const buttonEl =\n",
              "          document.querySelector('#df-36029a70-d0b5-47c1-9104-9dd55ad3a204 button.colab-df-convert');\n",
              "        buttonEl.style.display =\n",
              "          google.colab.kernel.accessAllowed ? 'block' : 'none';\n",
              "\n",
              "        async function convertToInteractive(key) {\n",
              "          const element = document.querySelector('#df-36029a70-d0b5-47c1-9104-9dd55ad3a204');\n",
              "          const dataTable =\n",
              "            await google.colab.kernel.invokeFunction('convertToInteractive',\n",
              "                                                     [key], {});\n",
              "          if (!dataTable) return;\n",
              "\n",
              "          const docLinkHtml = 'Like what you see? Visit the ' +\n",
              "            '<a target=\"_blank\" href=https://colab.research.google.com/notebooks/data_table.ipynb>data table notebook</a>'\n",
              "            + ' to learn more about interactive tables.';\n",
              "          element.innerHTML = '';\n",
              "          dataTable['output_type'] = 'display_data';\n",
              "          await google.colab.output.renderOutput(dataTable, element);\n",
              "          const docLink = document.createElement('div');\n",
              "          docLink.innerHTML = docLinkHtml;\n",
              "          element.appendChild(docLink);\n",
              "        }\n",
              "      </script>\n",
              "    </div>\n",
              "  </div>\n",
              "  "
            ]
          },
          "metadata": {},
          "execution_count": 138
        }
      ]
    },
    {
      "cell_type": "code",
      "source": [
        "merged_data = merged_data.drop(['Unnamed: 0_x', 'Unnamed: 0_y', 'Unnamed: 0'], axis=1)"
      ],
      "metadata": {
        "id": "4BDNZ3S0LtO6"
      },
      "execution_count": null,
      "outputs": []
    },
    {
      "cell_type": "code",
      "source": [
        "merged_data.head(3)"
      ],
      "metadata": {
        "colab": {
          "base_uri": "https://localhost:8080/",
          "height": 359
        },
        "id": "QhboH0BNMSFh",
        "outputId": "08d0fc85-cacf-41bc-b0a7-157df2873c60"
      },
      "execution_count": null,
      "outputs": [
        {
          "output_type": "execute_result",
          "data": {
            "text/plain": [
              "                            circle_uuid                             user_uuid  \\\n",
              "0  00005962-836d-d551-c07b-5c2040500002  00000000-575c-c42a-d551-c018b1942652   \n",
              "1  00005bfc-e475-d551-c026-3d658eab0002  4d4f4f68-feff-4490-bd45-ae90ba4acdbf   \n",
              "2  55a82813-15c0-4faf-897d-d04803036af0  c31e9b29-bf13-4493-a017-54d531d51d7b   \n",
              "\n",
              "   media_added_count_x                  title  media_count has_greek_words  \\\n",
              "0                   96  Georgia Jean Williams        160.0           False   \n",
              "1                    6              Tri Delta      12235.0            True   \n",
              "2                   31             Vegas 2022         31.0           False   \n",
              "\n",
              "  real_estate_keywords is_real_estate solar_keywords is_solar event_keywords  \\\n",
              "0                   []          False             []    False             []   \n",
              "1                   []          False             []    False             []   \n",
              "2                   []          False             []    False             []   \n",
              "\n",
              "  is_event occupation_keywords is_occupation animal_keywords is_animal  \\\n",
              "0    False                  []         False              []     False   \n",
              "1    False                  []         False              []     False   \n",
              "2    False                  []         False              []     False   \n",
              "\n",
              "       destination_names is_travel         location_names is_location  \\\n",
              "0  Georgia Jean Williams     False  Georgia Jean Williams       False   \n",
              "1              Tri Delta     False              Tri Delta       False   \n",
              "2                  Vegas     False                  Vegas       False   \n",
              "\n",
              "      display_name              email_domain active_count_in_last_30_days  \\\n",
              "0  Darwin Williams              stthomas.edu                            6   \n",
              "1    tara ghimenti                 gmail.com                            0   \n",
              "2     Brenda Yorks  privaterelay.appleid.com                            0   \n",
              "\n",
              "   media_added_count_y first_name  num_female  num_male  female_pct  \\\n",
              "0                 15.0     Darwin        83.0   24680.0        0.34   \n",
              "1                  0.0       tara         0.0       0.0       50.00   \n",
              "2                  0.0     Brenda    607096.0    2121.0       99.65   \n",
              "\n",
              "   is_student  \n",
              "0        True  \n",
              "1       False  \n",
              "2       False  "
            ],
            "text/html": [
              "\n",
              "  <div id=\"df-bf4fc66a-6f63-4c80-a520-c93343697201\">\n",
              "    <div class=\"colab-df-container\">\n",
              "      <div>\n",
              "<style scoped>\n",
              "    .dataframe tbody tr th:only-of-type {\n",
              "        vertical-align: middle;\n",
              "    }\n",
              "\n",
              "    .dataframe tbody tr th {\n",
              "        vertical-align: top;\n",
              "    }\n",
              "\n",
              "    .dataframe thead th {\n",
              "        text-align: right;\n",
              "    }\n",
              "</style>\n",
              "<table border=\"1\" class=\"dataframe\">\n",
              "  <thead>\n",
              "    <tr style=\"text-align: right;\">\n",
              "      <th></th>\n",
              "      <th>circle_uuid</th>\n",
              "      <th>user_uuid</th>\n",
              "      <th>media_added_count_x</th>\n",
              "      <th>title</th>\n",
              "      <th>media_count</th>\n",
              "      <th>has_greek_words</th>\n",
              "      <th>real_estate_keywords</th>\n",
              "      <th>is_real_estate</th>\n",
              "      <th>solar_keywords</th>\n",
              "      <th>is_solar</th>\n",
              "      <th>event_keywords</th>\n",
              "      <th>is_event</th>\n",
              "      <th>occupation_keywords</th>\n",
              "      <th>is_occupation</th>\n",
              "      <th>animal_keywords</th>\n",
              "      <th>is_animal</th>\n",
              "      <th>destination_names</th>\n",
              "      <th>is_travel</th>\n",
              "      <th>location_names</th>\n",
              "      <th>is_location</th>\n",
              "      <th>display_name</th>\n",
              "      <th>email_domain</th>\n",
              "      <th>active_count_in_last_30_days</th>\n",
              "      <th>media_added_count_y</th>\n",
              "      <th>first_name</th>\n",
              "      <th>num_female</th>\n",
              "      <th>num_male</th>\n",
              "      <th>female_pct</th>\n",
              "      <th>is_student</th>\n",
              "    </tr>\n",
              "  </thead>\n",
              "  <tbody>\n",
              "    <tr>\n",
              "      <th>0</th>\n",
              "      <td>00005962-836d-d551-c07b-5c2040500002</td>\n",
              "      <td>00000000-575c-c42a-d551-c018b1942652</td>\n",
              "      <td>96</td>\n",
              "      <td>Georgia Jean Williams</td>\n",
              "      <td>160.0</td>\n",
              "      <td>False</td>\n",
              "      <td>[]</td>\n",
              "      <td>False</td>\n",
              "      <td>[]</td>\n",
              "      <td>False</td>\n",
              "      <td>[]</td>\n",
              "      <td>False</td>\n",
              "      <td>[]</td>\n",
              "      <td>False</td>\n",
              "      <td>[]</td>\n",
              "      <td>False</td>\n",
              "      <td>Georgia Jean Williams</td>\n",
              "      <td>False</td>\n",
              "      <td>Georgia Jean Williams</td>\n",
              "      <td>False</td>\n",
              "      <td>Darwin Williams</td>\n",
              "      <td>stthomas.edu</td>\n",
              "      <td>6</td>\n",
              "      <td>15.0</td>\n",
              "      <td>Darwin</td>\n",
              "      <td>83.0</td>\n",
              "      <td>24680.0</td>\n",
              "      <td>0.34</td>\n",
              "      <td>True</td>\n",
              "    </tr>\n",
              "    <tr>\n",
              "      <th>1</th>\n",
              "      <td>00005bfc-e475-d551-c026-3d658eab0002</td>\n",
              "      <td>4d4f4f68-feff-4490-bd45-ae90ba4acdbf</td>\n",
              "      <td>6</td>\n",
              "      <td>Tri Delta</td>\n",
              "      <td>12235.0</td>\n",
              "      <td>True</td>\n",
              "      <td>[]</td>\n",
              "      <td>False</td>\n",
              "      <td>[]</td>\n",
              "      <td>False</td>\n",
              "      <td>[]</td>\n",
              "      <td>False</td>\n",
              "      <td>[]</td>\n",
              "      <td>False</td>\n",
              "      <td>[]</td>\n",
              "      <td>False</td>\n",
              "      <td>Tri Delta</td>\n",
              "      <td>False</td>\n",
              "      <td>Tri Delta</td>\n",
              "      <td>False</td>\n",
              "      <td>tara ghimenti</td>\n",
              "      <td>gmail.com</td>\n",
              "      <td>0</td>\n",
              "      <td>0.0</td>\n",
              "      <td>tara</td>\n",
              "      <td>0.0</td>\n",
              "      <td>0.0</td>\n",
              "      <td>50.00</td>\n",
              "      <td>False</td>\n",
              "    </tr>\n",
              "    <tr>\n",
              "      <th>2</th>\n",
              "      <td>55a82813-15c0-4faf-897d-d04803036af0</td>\n",
              "      <td>c31e9b29-bf13-4493-a017-54d531d51d7b</td>\n",
              "      <td>31</td>\n",
              "      <td>Vegas 2022</td>\n",
              "      <td>31.0</td>\n",
              "      <td>False</td>\n",
              "      <td>[]</td>\n",
              "      <td>False</td>\n",
              "      <td>[]</td>\n",
              "      <td>False</td>\n",
              "      <td>[]</td>\n",
              "      <td>False</td>\n",
              "      <td>[]</td>\n",
              "      <td>False</td>\n",
              "      <td>[]</td>\n",
              "      <td>False</td>\n",
              "      <td>Vegas</td>\n",
              "      <td>False</td>\n",
              "      <td>Vegas</td>\n",
              "      <td>False</td>\n",
              "      <td>Brenda Yorks</td>\n",
              "      <td>privaterelay.appleid.com</td>\n",
              "      <td>0</td>\n",
              "      <td>0.0</td>\n",
              "      <td>Brenda</td>\n",
              "      <td>607096.0</td>\n",
              "      <td>2121.0</td>\n",
              "      <td>99.65</td>\n",
              "      <td>False</td>\n",
              "    </tr>\n",
              "  </tbody>\n",
              "</table>\n",
              "</div>\n",
              "      <button class=\"colab-df-convert\" onclick=\"convertToInteractive('df-bf4fc66a-6f63-4c80-a520-c93343697201')\"\n",
              "              title=\"Convert this dataframe to an interactive table.\"\n",
              "              style=\"display:none;\">\n",
              "        \n",
              "  <svg xmlns=\"http://www.w3.org/2000/svg\" height=\"24px\"viewBox=\"0 0 24 24\"\n",
              "       width=\"24px\">\n",
              "    <path d=\"M0 0h24v24H0V0z\" fill=\"none\"/>\n",
              "    <path d=\"M18.56 5.44l.94 2.06.94-2.06 2.06-.94-2.06-.94-.94-2.06-.94 2.06-2.06.94zm-11 1L8.5 8.5l.94-2.06 2.06-.94-2.06-.94L8.5 2.5l-.94 2.06-2.06.94zm10 10l.94 2.06.94-2.06 2.06-.94-2.06-.94-.94-2.06-.94 2.06-2.06.94z\"/><path d=\"M17.41 7.96l-1.37-1.37c-.4-.4-.92-.59-1.43-.59-.52 0-1.04.2-1.43.59L10.3 9.45l-7.72 7.72c-.78.78-.78 2.05 0 2.83L4 21.41c.39.39.9.59 1.41.59.51 0 1.02-.2 1.41-.59l7.78-7.78 2.81-2.81c.8-.78.8-2.07 0-2.86zM5.41 20L4 18.59l7.72-7.72 1.47 1.35L5.41 20z\"/>\n",
              "  </svg>\n",
              "      </button>\n",
              "      \n",
              "  <style>\n",
              "    .colab-df-container {\n",
              "      display:flex;\n",
              "      flex-wrap:wrap;\n",
              "      gap: 12px;\n",
              "    }\n",
              "\n",
              "    .colab-df-convert {\n",
              "      background-color: #E8F0FE;\n",
              "      border: none;\n",
              "      border-radius: 50%;\n",
              "      cursor: pointer;\n",
              "      display: none;\n",
              "      fill: #1967D2;\n",
              "      height: 32px;\n",
              "      padding: 0 0 0 0;\n",
              "      width: 32px;\n",
              "    }\n",
              "\n",
              "    .colab-df-convert:hover {\n",
              "      background-color: #E2EBFA;\n",
              "      box-shadow: 0px 1px 2px rgba(60, 64, 67, 0.3), 0px 1px 3px 1px rgba(60, 64, 67, 0.15);\n",
              "      fill: #174EA6;\n",
              "    }\n",
              "\n",
              "    [theme=dark] .colab-df-convert {\n",
              "      background-color: #3B4455;\n",
              "      fill: #D2E3FC;\n",
              "    }\n",
              "\n",
              "    [theme=dark] .colab-df-convert:hover {\n",
              "      background-color: #434B5C;\n",
              "      box-shadow: 0px 1px 3px 1px rgba(0, 0, 0, 0.15);\n",
              "      filter: drop-shadow(0px 1px 2px rgba(0, 0, 0, 0.3));\n",
              "      fill: #FFFFFF;\n",
              "    }\n",
              "  </style>\n",
              "\n",
              "      <script>\n",
              "        const buttonEl =\n",
              "          document.querySelector('#df-bf4fc66a-6f63-4c80-a520-c93343697201 button.colab-df-convert');\n",
              "        buttonEl.style.display =\n",
              "          google.colab.kernel.accessAllowed ? 'block' : 'none';\n",
              "\n",
              "        async function convertToInteractive(key) {\n",
              "          const element = document.querySelector('#df-bf4fc66a-6f63-4c80-a520-c93343697201');\n",
              "          const dataTable =\n",
              "            await google.colab.kernel.invokeFunction('convertToInteractive',\n",
              "                                                     [key], {});\n",
              "          if (!dataTable) return;\n",
              "\n",
              "          const docLinkHtml = 'Like what you see? Visit the ' +\n",
              "            '<a target=\"_blank\" href=https://colab.research.google.com/notebooks/data_table.ipynb>data table notebook</a>'\n",
              "            + ' to learn more about interactive tables.';\n",
              "          element.innerHTML = '';\n",
              "          dataTable['output_type'] = 'display_data';\n",
              "          await google.colab.output.renderOutput(dataTable, element);\n",
              "          const docLink = document.createElement('div');\n",
              "          docLink.innerHTML = docLinkHtml;\n",
              "          element.appendChild(docLink);\n",
              "        }\n",
              "      </script>\n",
              "    </div>\n",
              "  </div>\n",
              "  "
            ]
          },
          "metadata": {},
          "execution_count": 141
        }
      ]
    },
    {
      "cell_type": "code",
      "source": [
        "merged_data.to_csv('/content/drive/MyDrive/PhotoCircle/photocircle.csv', index=False)"
      ],
      "metadata": {
        "id": "E98uam8gK8Sj"
      },
      "execution_count": null,
      "outputs": []
    },
    {
      "cell_type": "code",
      "source": [
        "len(circle_membership['circle_uuid'].unique())"
      ],
      "metadata": {
        "colab": {
          "base_uri": "https://localhost:8080/"
        },
        "id": "2PfTlXjwl42P",
        "outputId": "778c9a2f-d35f-4fa6-dcb7-c0619504bf8f"
      },
      "execution_count": null,
      "outputs": [
        {
          "output_type": "execute_result",
          "data": {
            "text/plain": [
              "2042587"
            ]
          },
          "metadata": {},
          "execution_count": 153
        }
      ]
    },
    {
      "cell_type": "code",
      "source": [
        "len(circles['circle_uuid'].unique())"
      ],
      "metadata": {
        "colab": {
          "base_uri": "https://localhost:8080/"
        },
        "id": "B0IGZ7Owl5JW",
        "outputId": "36636936-b800-4ad4-aa15-6bb571128f78"
      },
      "execution_count": null,
      "outputs": [
        {
          "output_type": "execute_result",
          "data": {
            "text/plain": [
              "1861528"
            ]
          },
          "metadata": {},
          "execution_count": 154
        }
      ]
    },
    {
      "cell_type": "code",
      "source": [
        "# Get the circle_uuid and user_uuid from circles and users that are not in circle_membership\n",
        "circles_not_in_membership = circles[~circles['circle_uuid'].isin(merged_data['circle_uuid'])]['circle_uuid']\n",
        "users_not_in_membership = users[~users['user_uuid'].isin(merged_data['user_uuid'])]['user_uuid']"
      ],
      "metadata": {
        "id": "dMk3JK3oMetD"
      },
      "execution_count": null,
      "outputs": []
    },
    {
      "cell_type": "code",
      "source": [
        "circles_not_in_membership"
      ],
      "metadata": {
        "colab": {
          "base_uri": "https://localhost:8080/"
        },
        "id": "oplgYjgAhZhN",
        "outputId": "8025a7d7-f252-4998-b573-dfcb185ee535"
      },
      "execution_count": null,
      "outputs": [
        {
          "output_type": "execute_result",
          "data": {
            "text/plain": [
              "237973     21\n",
              "458642      8\n",
              "1724576    91\n",
              "Name: circle_uuid, dtype: object"
            ]
          },
          "metadata": {},
          "execution_count": 155
        }
      ]
    },
    {
      "cell_type": "code",
      "source": [
        "users_not_in_membership.shape"
      ],
      "metadata": {
        "colab": {
          "base_uri": "https://localhost:8080/"
        },
        "id": "F2jb-iFYhd8t",
        "outputId": "32b3cc90-40f6-4d58-ff95-044f25402960"
      },
      "execution_count": null,
      "outputs": [
        {
          "output_type": "execute_result",
          "data": {
            "text/plain": [
              "(112705,)"
            ]
          },
          "metadata": {},
          "execution_count": 147
        }
      ]
    }
  ]
}