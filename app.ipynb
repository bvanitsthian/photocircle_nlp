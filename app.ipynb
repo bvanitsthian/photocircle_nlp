{
  "nbformat": 4,
  "nbformat_minor": 0,
  "metadata": {
    "colab": {
      "provenance": [],
      "authorship_tag": "ABX9TyMbKaKWtD9TCPag9XLpfySv",
      "include_colab_link": true
    },
    "kernelspec": {
      "name": "python3",
      "display_name": "Python 3"
    },
    "language_info": {
      "name": "python"
    }
  },
  "cells": [
    {
      "cell_type": "markdown",
      "metadata": {
        "id": "view-in-github",
        "colab_type": "text"
      },
      "source": [
        "<a href=\"https://colab.research.google.com/github/bvanitsthian/photocircle_nlp/blob/main/app.ipynb\" target=\"_parent\"><img src=\"https://colab.research.google.com/assets/colab-badge.svg\" alt=\"Open In Colab\"/></a>"
      ]
    },
    {
      "cell_type": "code",
      "source": [
        "!pip install jupyter-dash\n",
        "!pip install markupsafe==1.1.1\n",
        "!pip install dash pandas"
      ],
      "metadata": {
        "id": "ObAxT1E7TgFN"
      },
      "execution_count": null,
      "outputs": []
    },
    {
      "cell_type": "code",
      "source": [
        "import dash\n",
        "import dash_html_components as html\n",
        "import dash_core_components as dcc\n",
        "from jupyter_dash import JupyterDash\n",
        "from dash.dependencies import Input, Output\n",
        "\n",
        "app = JupyterDash(__name__)\n",
        "\n",
        "app.layout = html.Div(\n",
        "    children=[\n",
        "        html.H1('Topic Modeling from Circle Titles'),\n",
        "\n",
        "        html.Div(\n",
        "            children=[\n",
        "                html.Img(id='image1', src='https://drive.google.com/uc?export=view&id=1f4AOiYxkJork4TD6nYoWpq9AvpblRBg1', style={'width': '90%', 'margin': '10px'})\n",
        "            ],\n",
        "            style={'display': 'inline-block', 'width': '45%', 'padding': '10px'}\n",
        "        ),\n",
        "        \n",
        "        html.Div(\n",
        "            children=[\n",
        "                html.Img(id='image2', src='https://drive.google.com/uc?export=view&id=1C5CHTYssSF1jAuYJmNKwM6x4e-P1BtGL', style={'width': '90%', 'margin': '10px'})\n",
        "            ],\n",
        "            style={'display': 'inline-block', 'width': '45%', 'padding': '10px'}\n",
        "        ),\n",
        "        \n",
        "        html.Div(\n",
        "            children=[\n",
        "                html.H2('Select Topic'),\n",
        "                dcc.Dropdown(\n",
        "                    id='topic-dropdown',\n",
        "                    options=[\n",
        "                        {'label': 'Topic 0 Keywords', 'value': 'https://drive.google.com/uc?export=view&id=1Jx9EqBtaNux6SY9f6WqdpzC9bnBZ_jtD'},\n",
        "                        {'label': 'Topic 1 Keywords', 'value': 'https://drive.google.com/uc?export=view&id=1Q1TS7Xm7d0U8V-ZByELoKQCPtUPrxSTT'},\n",
        "                        {'label': 'Topic 2 Keywords', 'value': 'https://drive.google.com/uc?export=view&id=1YPAYjfSnXyzjsuhq3Dj2tJTSRhMkWuVW'},\n",
        "                        {'label': 'Topic 3 Keywords', 'value': 'https://drive.google.com/uc?export=view&id=1E0RKGxQ2hO64vXcN6ByhwoZTQVg0VsR9'},\n",
        "                        {'label': 'Topic 4 Keywords', 'value': 'https://drive.google.com/uc?export=view&id=16YO-QxuaMatnvEFf_yzce2eQZiakq2-A'},\n",
        "                        {'label': 'Topic 5 Keywords', 'value': 'https://drive.google.com/uc?export=view&id=1fRdWRDrRnuSJiQrYxKpvwC_zn08nCM2n'},\n",
        "                        {'label': 'Topic 6 Keywords', 'value': 'https://drive.google.com/uc?export=view&id=1U9sI1_11Zg0YtJTbm1y6nLeTUdZMidve'},\n",
        "                        {'label': 'Topic 7 Keywords', 'value': 'https://drive.google.com/uc?export=view&id=1NxwlBaMlk_WhiqMTCVCPAJuZ7UOOX-kf'},\n",
        "                        {'label': 'Topic 8 Keywords', 'value': 'https://drive.google.com/uc?export=view&id=1Ph-xEZy-naXQjdquk_YBIRUqMy9YbLyB'},\n",
        "                        {'label': 'Topic 9 Keywords', 'value': 'https://drive.google.com/uc?export=view&id=1hFUYOfaqx2G8sMM4mZlEdoe4JZotRTYN'}\n",
        "                    ],\n",
        "                    value='https://drive.google.com/uc?export=view&id=1Jx9EqBtaNux6SY9f6WqdpzC9bnBZ_jtD'\n",
        "                )\n",
        "            ],\n",
        "            style={'text-align': 'center'}\n",
        "        ),\n",
        "        \n",
        "        html.Div(\n",
        "            id='image3-container',\n",
        "            style={'text-align': 'center'}\n",
        "        )\n",
        "    ],\n",
        "    style={'text-align': 'center'}\n",
        ")\n",
        "\n",
        "@app.callback(\n",
        "    Output('image3-container', 'children'),\n",
        "    Input('topic-dropdown', 'value')\n",
        ")\n",
        "def update_image3(selected_topic):\n",
        "    return html.Img(src=selected_topic, style={'width': '95%', 'margin': '10px'})\n",
        "\n",
        "if __name__ == '__main__':\n",
        "    app.run_server(mode='inline')\n"
      ],
      "metadata": {
        "id": "9Vjd4BEFPnG2"
      },
      "execution_count": null,
      "outputs": []
    }
  ]
}